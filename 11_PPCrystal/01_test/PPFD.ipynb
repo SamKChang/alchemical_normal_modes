{
 "cells": [
  {
   "cell_type": "code",
   "execution_count": 1,
   "metadata": {},
   "outputs": [
    {
     "name": "stderr",
     "output_type": "stream",
     "text": [
      "/home/samio/local/miniconda2/lib/python2.7/site-packages/h5py/__init__.py:36: FutureWarning: Conversion of the second argument of issubdtype from `float` to `np.floating` is deprecated. In future, it will be treated as `np.float64 == np.dtype(float).type`.\n",
      "  from ._conv import register_converters as _register_converters\n"
     ]
    }
   ],
   "source": [
    "import qctoolkit as qtk\n",
    "import numpy as np"
   ]
  },
  {
   "cell_type": "code",
   "execution_count": 2,
   "metadata": {
    "collapsed": true
   },
   "outputs": [],
   "source": [
    "    Zs = [13, 14, 15, 31, 32, 33, 49, 50, 51]\n",
    "#Zs = [32]"
   ]
  },
  {
   "cell_type": "code",
   "execution_count": 3,
   "metadata": {},
   "outputs": [
    {
     "name": "stdout",
     "output_type": "stream",
     "text": [
      "Al\n",
      "Si\n",
      "P\n",
      "Ga\n",
      "Ge\n",
      "As\n",
      "In\n",
      "Sn\n",
      "Sb\n"
     ]
    }
   ],
   "source": [
    "for Z in Zs:\n",
    "    mol = qtk.Molecule()\n",
    "    mol.build([Z, 0, 0, 0])\n",
    "    mol.setChargeMultiplicity(0, Z % 2 + 1)\n",
    "    print mol\n",
    "    inp = qtk.QMInp(mol, program='cpmd')\n",
    "    inp.write('tmp', overwrite=True)"
   ]
  },
  {
   "cell_type": "code",
   "execution_count": 4,
   "metadata": {},
   "outputs": [
    {
     "name": "stdout",
     "output_type": "stream",
     "text": [
      "{'l_max': 2, 'Cn': 1, 'xc': 'pbe', 'Ci': [-7.554761264], 'r_nl': [0.48743529, 0.56218949], 'r_loc': 0.45, 'ZV': 3.0, 'Z': 13.0, 'h_ij': [array([[ 6.95993832, -1.88883584],\n",
      "       [-1.88883584,  2.43847659]]), array([[1.86529857]])]}\n",
      "{'l_max': 2, 'Cn': 1, 'xc': 'pbe', 'Ci': [-6.269288327], 'r_nl': [0.435633828, 0.497942179], 'r_loc': 0.44, 'ZV': 4.0, 'Z': 14.0, 'h_ij': [array([[ 8.9517415 , -2.70627082],\n",
      "       [-2.70627082,  3.4937806 ]]), array([[2.43127673]])]}\n",
      "{'l_max': 2, 'Cn': 1, 'xc': 'pbe', 'Ci': [-5.875943266], 'r_nl': [0.396377422, 0.448298381], 'r_loc': 0.43, 'ZV': 5.0, 'Z': 15.0, 'h_ij': [array([[11.00886207, -3.47035607],\n",
      "       [-3.47035607,  4.48021042]]), array([[3.05606416]])]}\n",
      "{'l_max': 3, 'Cn': 0, 'xc': 'pbe', 'Ci': [], 'r_nl': [0.565866445, 0.646716135, 0.999424836], 'r_loc': 0.56, 'ZV': 3.0, 'Z': 31.0, 'h_ij': [array([[ 2.21575051,  1.03244793, -0.76062946],\n",
      "       [ 1.03244793, -2.57004845,  1.96393682],\n",
      "       [-0.76062946,  1.96393682, -1.55882652]]), array([[ 0.31122394,  0.61341605],\n",
      "       [ 0.61341605, -0.72580366]]), array([[0.08951951]])]}\n",
      "{'l_max': 3, 'Cn': 0, 'xc': 'pbe', 'Ci': [], 'r_nl': [0.421865178, 0.567528874, 0.813913943], 'r_loc': 0.54, 'ZV': 4.0, 'Z': 32.0, 'h_ij': [array([[ 7.51024121, -0.58810836, -1.4479758 ],\n",
      "       [-0.58810836, -1.59588819,  3.73865744],\n",
      "       [-1.4479758 ,  3.73865744, -2.96746735]]), array([[ 0.91385969,  0.54687534],\n",
      "       [ 0.54687534, -0.64707163]]), array([[0.19717731]])]}\n",
      "{'l_max': 3, 'Cn': 0, 'xc': 'pbe', 'Ci': [], 'r_nl': [0.455549569, 0.554605572, 0.703688724], 'r_loc': 0.52, 'ZV': 5.0, 'Z': 33.0, 'h_ij': [array([[ 5.52067327,  0.0351222 , -1.06108239],\n",
      "       [ 0.0351222 , -1.7711932 ,  2.73970295],\n",
      "       [-1.06108239,  2.73970295, -2.1745718 ]]), array([[ 1.02179156,  0.62920826],\n",
      "       [ 0.62920826, -0.74448925]]), array([[0.31479504]])]}\n",
      "{'l_max': 3, 'Cn': 1, 'xc': 'pbe', 'Ci': [5.086228488], 'r_nl': [0.688883177, 0.763709735, 1.143911922], 'r_loc': 0.61, 'ZV': 3.0, 'Z': 49.0, 'h_ij': [array([[ 0.56228376,  0.99900413, -0.48093816],\n",
      "       [ 0.99900413, -2.07195476,  1.24177699],\n",
      "       [-0.48093816,  1.24177699, -0.98562993]]), array([[ 0.10892299,  0.42327835],\n",
      "       [ 0.42327835, -0.5008297 ]]), array([[0.11683948]])]}\n",
      "{'l_max': 3, 'Cn': 1, 'xc': 'pbe', 'Ci': [6.266782303], 'r_nl': [0.566437319, 0.641849592, 0.990873021], 'r_loc': 0.605, 'ZV': 4.0, 'Z': 50.0, 'h_ij': [array([[ 1.57118124,  1.47004118, -1.17857669],\n",
      "       [ 1.47004118, -3.81477013,  3.04307193],\n",
      "       [-1.17857669,  3.04307193, -2.41536347]]), array([[ 0.52689769,  0.40325781],\n",
      "       [ 0.40325781, -0.47714107]]), array([[0.1987664]])]}\n",
      "{'l_max': 3, 'Cn': 1, 'xc': 'pbe', 'Ci': [7.928520839], 'r_nl': [0.556136357, 0.622755068, 0.889485759], 'r_loc': 0.59, 'ZV': 5.0, 'Z': 51.0, 'h_ij': [array([[ 1.4304779 ,  1.26142599, -0.92323353],\n",
      "       [ 1.26142599, -3.1301334 ,  2.38377872],\n",
      "       [-0.92323353,  2.38377872, -1.8920657 ]]), array([[ 0.56147233,  0.30484522],\n",
      "       [ 0.30484522, -0.36069773]]), array([[0.27086864]])]}\n"
     ]
    }
   ],
   "source": [
    "PPs = []\n",
    "for Z in Zs:\n",
    "    PPs.append(qtk.PP(qtk.Z2n(Z)))\n",
    "for p in PPs:\n",
    "    print p.param"
   ]
  },
  {
   "cell_type": "code",
   "execution_count": 5,
   "metadata": {
    "collapsed": true
   },
   "outputs": [],
   "source": [
    "pp = PPs[-1]"
   ]
  },
  {
   "cell_type": "code",
   "execution_count": 6,
   "metadata": {},
   "outputs": [
    {
     "data": {
      "text/plain": [
       "{'Ci': [7.928520839],\n",
       " 'Cn': 1,\n",
       " 'Z': 51.0,\n",
       " 'ZV': 5.0,\n",
       " 'h_ij': [array([[ 1.4304779 ,  1.26142599, -0.92323353],\n",
       "         [ 1.26142599, -3.1301334 ,  2.38377872],\n",
       "         [-0.92323353,  2.38377872, -1.8920657 ]]),\n",
       "  array([[ 0.56147233,  0.30484522],\n",
       "         [ 0.30484522, -0.36069773]]),\n",
       "  array([[0.27086864]])],\n",
       " 'l_max': 3,\n",
       " 'r_loc': 0.59,\n",
       " 'r_nl': [0.556136357, 0.622755068, 0.889485759],\n",
       " 'xc': 'pbe'}"
      ]
     },
     "execution_count": 6,
     "metadata": {},
     "output_type": "execute_result"
    }
   ],
   "source": [
    "pp.param"
   ]
  },
  {
   "cell_type": "code",
   "execution_count": 8,
   "metadata": {},
   "outputs": [
    {
     "data": {
      "text/plain": [
       "Cn=1, l_max=3, parameters=15"
      ]
     },
     "execution_count": 8,
     "metadata": {},
     "output_type": "execute_result"
    }
   ],
   "source": [
    "pp_test = qtk.PP(size=[1, 3])\n",
    "pp_test"
   ]
  },
  {
   "cell_type": "code",
   "execution_count": 11,
   "metadata": {},
   "outputs": [
    {
     "data": {
      "text/plain": [
       "{'Ci': array([0.]), 'Cn': 1, 'Z': 0, 'ZV': 0, 'h_ij': [array([[0., 0., 0.],\n",
       "         [0., 0., 0.],\n",
       "         [0., 0., 0.]]), array([[0., 0.],\n",
       "         [0., 0.]]), array([[0.]])], 'l_max': 3, 'r_loc': 0, 'r_nl': array([0., 0., 0.]), 'xc': 'pbe'}"
      ]
     },
     "execution_count": 11,
     "metadata": {},
     "output_type": "execute_result"
    }
   ],
   "source": [
    "pp_test.param"
   ]
  },
  {
   "cell_type": "code",
   "execution_count": 12,
   "metadata": {},
   "outputs": [
    {
     "data": {
      "text/plain": [
       "[Cn=1, l_max=3, parameters=15,\n",
       " Cn=1, l_max=3, parameters=15,\n",
       " Cn=1, l_max=3, parameters=15,\n",
       " Cn=1, l_max=3, parameters=15,\n",
       " Cn=1, l_max=3, parameters=15,\n",
       " Cn=1, l_max=3, parameters=15,\n",
       " Cn=1, l_max=3, parameters=15,\n",
       " Cn=1, l_max=3, parameters=15,\n",
       " Cn=1, l_max=3, parameters=15,\n",
       " Cn=1, l_max=3, parameters=15,\n",
       " Cn=1, l_max=3, parameters=15,\n",
       " Cn=1, l_max=3, parameters=15,\n",
       " Cn=1, l_max=3, parameters=15,\n",
       " Cn=1, l_max=3, parameters=15,\n",
       " Cn=1, l_max=3, parameters=15]"
      ]
     },
     "execution_count": 12,
     "metadata": {},
     "output_type": "execute_result"
    }
   ],
   "source": [
    "PPs[-1].FDVect()"
   ]
  }
 ],
 "metadata": {
  "kernelspec": {
   "display_name": "Python 2",
   "language": "python",
   "name": "python2"
  },
  "language_info": {
   "codemirror_mode": {
    "name": "ipython",
    "version": 2
   },
   "file_extension": ".py",
   "mimetype": "text/x-python",
   "name": "python",
   "nbconvert_exporter": "python",
   "pygments_lexer": "ipython2",
   "version": "2.7.14"
  }
 },
 "nbformat": 4,
 "nbformat_minor": 2
}
