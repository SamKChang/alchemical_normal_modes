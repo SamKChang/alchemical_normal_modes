{
 "cells": [
  {
   "cell_type": "code",
   "execution_count": 2,
   "metadata": {},
   "outputs": [
    {
     "name": "stderr",
     "output_type": "stream",
     "text": [
      "/home/samio/local/miniconda2/lib/python2.7/site-packages/h5py/__init__.py:36: FutureWarning: Conversion of the second argument of issubdtype from `float` to `np.floating` is deprecated. In future, it will be treated as `np.float64 == np.dtype(float).type`.\n",
      "  from ._conv import register_converters as _register_converters\n"
     ]
    }
   ],
   "source": [
    "import qctoolkit as qtk\n",
    "import numpy as np\n",
    "import glob\n",
    "import os, re\n",
    "import copy"
   ]
  },
  {
   "cell_type": "code",
   "execution_count": 3,
   "metadata": {},
   "outputs": [
    {
     "name": "stdout",
     "output_type": "stream",
     "text": [
      "15\n"
     ]
    }
   ],
   "source": [
    "cyl_map = [\n",
    "        ['si', 5.431, [14, 14]],\n",
    "#        ['c', 3.566, [6, 6]],\n",
    "#        ['sic', 4.3596, [14, 6]],\n",
    "#        ['cge', 5.574, [6, 32]],\n",
    "        ['ge', 5.658, [32, 32]],\n",
    "        ['sige', 5.432, [14, 32]],\n",
    "        ['sn', 6.4892, [50, 50]],\n",
    "        ['snsi', 5.961, [14, 50]],\n",
    "        ['gesn', 6.0758, [32, 50]],\n",
    "        ['gaas', 5.6535, [31, 33]],\n",
    "        ['alp', 5.4635, [13, 15]],\n",
    "        ['alas', 5.660, [13, 33]],\n",
    "        ['alsb', 6.1355, [13, 51]],\n",
    "        ['gap', 5.451, [31, 15]],\n",
    "        ['gasb', 6.09, [31, 51]],\n",
    "        ['inp', 5.86, [49, 15]],\n",
    "        ['inas', 6.05, [49, 33]],\n",
    "        ['insb', 6.47, [49, 51]],\n",
    "# II-VI has different number of valence electrons\n",
    "#         ['cdse', 6.08, [48, 34]],\n",
    "#         ['zns', 5.41, [30, 16]],\n",
    "#         ['znse', 5.67, [30, 34]],\n",
    "#         ['znte', 6.1, [30, 52]],\n",
    "#         ['cds', 5.82, [48,16]],\n",
    "#         ['cdte', 6.48, [48, 52]],\n",
    "#         ['hgs', 5.8517, [80, 16]],\n",
    "#         ['hgse', 6.085, [80, 34]],\n",
    "#         ['hgte', 6.453, [80, 52]],\n",
    "]\n",
    "print len(cyl_map)"
   ]
  },
  {
   "cell_type": "markdown",
   "metadata": {},
   "source": [
    "# plain GGA, where insuite restart is possible"
   ]
  },
  {
   "cell_type": "code",
   "execution_count": 4,
   "metadata": {
    "collapsed": true
   },
   "outputs": [],
   "source": [
    "# # single setting dict for insuit restart calculations\n",
    "# qmsetting = {\n",
    "#     'program': 'abinit',\n",
    "#     'kmesh': [6,6,6],\n",
    "#     'ks_states': 10,\n",
    "#     'band_scan': [\n",
    "#      [17, 17, 8, 10, 15],\n",
    "#      [[0.25, 0.75, 0.5], # W\n",
    "#       [0.0, 0.0, 0.0],   # Gamma\n",
    "#       [0.0, 0.5, 0.5],   # X\n",
    "#       [0.25, 0.75, 0.5], # L\n",
    "#       [0.5, 0.5, 0.5],   # W\n",
    "#       [0.0, 0.0, 0.0],   # Gamma\n",
    "#      ]],\n",
    "#     'save_restart': True,\n",
    "#     'save_density': True,\n",
    "#     'link_dep': True,\n",
    "#     'threads': 1,\n",
    "#     'dos_mesh': [12, 12, 12],\n",
    "#     'smearing': 'gaussian',\n",
    "# }\n",
    "\n",
    "qmsetting = {\n",
    "    'program': 'cpmd',\n",
    "    'kmesh': [1,1,1],\n",
    "    'link_dep': True,\n",
    "}"
   ]
  },
  {
   "cell_type": "code",
   "execution_count": 5,
   "metadata": {
    "collapsed": true
   },
   "outputs": [],
   "source": [
    "# construct crystals based on cyl_map and si, gaas, cdse crystals\n",
    "\n",
    "mol_base = qtk.Molecule('xyz/gaas.xyz')"
   ]
  },
  {
   "cell_type": "code",
   "execution_count": 17,
   "metadata": {},
   "outputs": [
    {
     "name": "stdout",
     "output_type": "stream",
     "text": [
      "si\n",
      "ge\n",
      "sige\n",
      "sn\n",
      "snsi\n",
      "gesn\n",
      "gaas\n",
      "alp\n",
      "alas\n",
      "alsb\n",
      "gap\n",
      "gasb\n",
      "inp\n",
      "inas\n",
      "insb\n",
      "15\n",
      "225\n",
      "ge_a-gesn: cpmd\n"
     ]
    }
   ],
   "source": [
    "mols = []\n",
    "count = 0\n",
    "for info_mol in cyl_map:\n",
    "    print info_mol[0]\n",
    "    count += 1\n",
    "    for info_a in cyl_map:\n",
    "        new = mol_base.copy()\n",
    "        new.name = info_mol[0] + '_a-' + info_a[0]\n",
    "        new.setCelldm([info_a[1], info_a[1], info_a[1], 0, 0, 0])\n",
    "        for i in range(new.N):\n",
    "            if new.Z[i] != info_mol[2][i]:\n",
    "                new.setAtoms(i, Z=info_mol[2][i])\n",
    "        mols.append(new)\n",
    "print count\n",
    "#mols_all = list(qtk.flatten(mols_grp))\n",
    "inps_ref = [qtk.QMInp(mol, **qmsetting) for mol in mols]\n",
    "print len(inps_ref)\n",
    "print inps_ref[20]"
   ]
  },
  {
   "cell_type": "code",
   "execution_count": 14,
   "metadata": {},
   "outputs": [
    {
     "name": "stdout",
     "output_type": "stream",
     "text": [
      "Al Cn=1, l_max=3, parameters=15\n",
      " Si Cn=1, l_max=3, parameters=15\n",
      " P Cn=1, l_max=3, parameters=15\n",
      " Ga Cn=1, l_max=3, parameters=15\n",
      " Ge Cn=1, l_max=3, parameters=15\n",
      " As Cn=1, l_max=3, parameters=15\n",
      " In Cn=1, l_max=3, parameters=15\n",
      " Sn Cn=1, l_max=3, parameters=15\n",
      " Sb Cn=1, l_max=3, parameters=15\n",
      "\n"
     ]
    }
   ],
   "source": [
    "# # uniform PP space\n",
    "# Zs = [13, 14, 15, 31, 32, 33, 49, 50, 51]\n",
    "# for Z in Zs:\n",
    "#     elem = qtk.Z2n(Z)\n",
    "#     pp = qtk.PP(elem).resize(1, [3,2,1])\n",
    "#     print elem, pp,"
   ]
  },
  {
   "cell_type": "code",
   "execution_count": null,
   "metadata": {
    "collapsed": true
   },
   "outputs": [],
   "source": []
  }
 ],
 "metadata": {
  "kernelspec": {
   "display_name": "Python 2",
   "language": "python",
   "name": "python2"
  },
  "language_info": {
   "codemirror_mode": {
    "name": "ipython",
    "version": 2
   },
   "file_extension": ".py",
   "mimetype": "text/x-python",
   "name": "python",
   "nbconvert_exporter": "python",
   "pygments_lexer": "ipython2",
   "version": "2.7.14"
  }
 },
 "nbformat": 4,
 "nbformat_minor": 2
}
