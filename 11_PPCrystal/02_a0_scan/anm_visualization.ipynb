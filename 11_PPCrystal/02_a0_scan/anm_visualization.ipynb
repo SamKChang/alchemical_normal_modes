{
 "cells": [
  {
   "cell_type": "markdown",
   "metadata": {},
   "source": [
    "# Attempt to visualize ANM in reduced horizontal/vertical coordinate"
   ]
  },
  {
   "cell_type": "markdown",
   "metadata": {},
   "source": [
    "### Definition of horizontal/vertical coordinate\n",
    "The total energy is expanded by PP parameters $\\{\\sigma_I\\}$. For the case of two atoms fcc cell (15 parameters per atom), $1\\leq I\\leq 30$. The collection of the values of all 15 parameters describs where a PP is located on the periodic table. If we only want to describe PP using two parameters of horizontal and vertical displacements from the reference atom, we reduce the dimension of the space from 15 to 2 per atom. That is we need to consider the change of variable from $\\{\\sigma_I\\}_{I=1}^{15}\\mapsto\\{\\lambda_i\\}_{i=1}^{2}$, where each of the parameter is a function of horizontal and vertical displacement $\\{\\lambda_1, \\lambda_2\\}$ on the peridic table.\n",
    "\n",
    "For example, if Ge is used as reference atom, the near by atoms are\n",
    "* Al: (-1, -1) = (one step left, one step up)\n",
    "* Si: (0, -1)\n",
    "* P: (+1, 0)\n",
    "* Ga: (-1, 0)\n",
    "* As: (+1, 0)\n",
    "* In: (-1, +1)\n",
    "* Sn: (0, +1)\n",
    "* Sb: (+1, +1)\n",
    "\n",
    "Also for the case of two atom fcc crystal using Ge as reference crystal, we have\n",
    "* IV-IV crystals\n",
    "    * Si: (0, -1, 0, -1) \n",
    "    * Sn: (0, +1, 0, +1)\n",
    "    * SiGe: (0, -1, 0, 0)\n",
    "    * SiSn: (0, -1, 0, +1)\n",
    "    * GeSn: (0, 0, 0, +1)\n",
    "* III-V crystals:\n",
    "    * AlP: (-1, -1, +1, -1)\n",
    "    * AlAs: (-1, -1, +1, 0)\n",
    "    * AlSb: (-1, -1, +1, +1)\n",
    "    * GaP: (-1, 0, +1, -1)\n",
    "    * GaAs: (-1, 0, +1, 0)\n",
    "    * GaSb: (-1, 0, +1, +1)\n",
    "    * InP: (-1, +1, +1, -1)\n",
    "    * InAs: (-1, +1, +1, 0)\n",
    "    * INSb: (-1, +1, +1, +1)\n",
    "\n",
    "### Chain rule derivation\n",
    "[Forum reference](https://math.stackexchange.com/questions/172324/chain-rule-for-hessian-matrix).\n",
    "\n",
    "The change of variable gives \n",
    "$$\\frac{\\partial}{\\partial\\lambda_i} = \\sum_{I=1}^{15}\\frac{\\partial\\sigma_I}{\\partial\\lambda_i}\\frac{\\partial}{\\partial\\sigma_I}.$$\n",
    "The first order derivative in terms of reduced coordinates is therefore\n",
    "$$\\frac{\\partial E}{\\partial\\lambda_i} = \\sum_{I=1}^{15}\\frac{\\partial\\sigma_I}{\\partial\\lambda_i}\\frac{\\partial E}{\\partial\\sigma_I}.$$\n",
    "And the second order derivative is\n",
    "$$\n",
    "\\begin{array}{rcl}\n",
    "\\displaystyle\\frac{\\partial^2 E}{\\partial\\lambda_i\\partial\\lambda_j} &=& \\displaystyle\n",
    "\\displaystyle\\Big(\\sum_{I=1}^{15}\\frac{\\partial\\sigma_I}{\\partial\\lambda_i}\\frac{\\partial}{\\partial\\sigma_I}\\Big)\n",
    "\\Big(\\sum_{J=1}^{15}\\frac{\\partial\\sigma_J}{\\partial\\lambda_j}\\frac{\\partial}{\\partial\\sigma_j}\\Big)E\\\\\n",
    "&=&\\displaystyle\n",
    "\\sum_{IJ}\n",
    "\\Big(\\frac{\\partial\\sigma_I}{\\partial\\lambda_i}\\Big)\n",
    "\\Big(\\frac{\\partial\\sigma_J}{\\partial\\lambda_j}\\Big)\n",
    "\\Big(\\frac{\\partial^2 E}{\\partial\\sigma_i\\partial\\sigma_j}\\Big).\n",
    "\\end{array}\n",
    "$$\n",
    "Note that the parameters are independent from each other which gives $\\frac{\\partial^2 \\sigma_I}{\\partial\\sigma_J\\partial\\lambda_i} = 0$.\n",
    "\n",
    "If the Hessian matrix, $\\mathrm{H}=[\\frac{\\partial^2 E}{\\partial\\sigma_I\\partial\\sigma_J}]_{IJ}$, is available, the only information required to perform the above tranfromation is the first order derivatives$\\{\\frac{\\partial\\sigma_I}{\\partial\\lambda_i}\\}_{Ii}$"
   ]
  },
  {
   "cell_type": "code",
   "execution_count": 25,
   "metadata": {},
   "outputs": [],
   "source": [
    "import qctoolkit as qtk\n",
    "import numpy as np\n",
    "from matplotlib import pyplot as plt\n",
    "from glob import glob\n",
    "%matplotlib inline"
   ]
  },
  {
   "cell_type": "markdown",
   "metadata": {},
   "source": [
    "# Construct PP up-down/left-right vector"
   ]
  },
  {
   "cell_type": "code",
   "execution_count": 2,
   "metadata": {
    "collapsed": true
   },
   "outputs": [],
   "source": [
    "Zs_base = [13, 31, 49]\n",
    "Zs = []\n",
    "for Z in Zs_base: Zs.extend(range(Z, Z+3))"
   ]
  },
  {
   "cell_type": "code",
   "execution_count": 3,
   "metadata": {
    "collapsed": true
   },
   "outputs": [],
   "source": [
    "pps = [qtk.PP(qtk.Z2n(Z), size=[1,3]) for Z in Zs]"
   ]
  },
  {
   "cell_type": "code",
   "execution_count": 4,
   "metadata": {
    "collapsed": true
   },
   "outputs": [],
   "source": [
    "pps = {}\n",
    "pps[(-1, 0)] = qtk.PP('Al', size=[1,3])\n",
    "pps[(1, 0)] = qtk.PP('As', size=[1,3])\n",
    "pps[(0, -1)] = qtk.PP('Si', size=[1,3])\n",
    "pps[(0, 1)] = qtk.PP('Sn', size=[1,3])"
   ]
  },
  {
   "cell_type": "code",
   "execution_count": 14,
   "metadata": {},
   "outputs": [
    {
     "data": {
      "text/plain": [
       "[array([ 0.035     ,  3.77738063, -0.01594286, -0.71963253,  0.96197902,\n",
       "        -0.53054119, -2.1048349 ,  1.36985147, -1.0872859 , -0.00379196,\n",
       "        -0.4217535 ,  0.31460413, -0.37224462,  0.35184436,  0.15739752]),\n",
       " array([ 0.0825    ,  6.26803532,  0.06540175, -3.69028013,  2.088156  ,\n",
       "        -0.58928835, -3.65427537,  1.52153597, -1.20768173,  0.07195371,\n",
       "        -0.95218952,  0.2016289 , -0.23857054,  0.49543651,  0.0993832 ])]"
      ]
     },
     "execution_count": 14,
     "metadata": {},
     "output_type": "execute_result"
    }
   ],
   "source": [
    "dpp = []\n",
    "dpp.append(((pps[(1, 0)] + (-1 * pps[(-1, 0)])) / 2).vectorize()[0][1:]) # first left-right\n",
    "dpp.append(((pps[(0, 1)] + (-1 * pps[(0, -1)])) / 2).vectorize()[0][1:]) # second up-down\n",
    "dpp"
   ]
  },
  {
   "cell_type": "code",
   "execution_count": 53,
   "metadata": {},
   "outputs": [
    {
     "data": {
      "text/plain": [
       "(4, 30)"
      ]
     },
     "execution_count": 53,
     "metadata": {},
     "output_type": "execute_result"
    }
   ],
   "source": [
    "dlambda = []\n",
    "# loop over all atoms\n",
    "for i in range(len(cyl_map[0][2])):\n",
    "    # loop over all dpp\n",
    "    for j in range(len(dpp)):\n",
    "        vec = []\n",
    "        # loop over atom position\n",
    "        for k in range(len(cyl_map[0][2])):\n",
    "            if i == k:\n",
    "                vec.append(dpp[j])\n",
    "            else:\n",
    "                vec.append(np.zeros_like(dpp[j]))\n",
    "        dlambda.append(np.hstack(vec))\n",
    "dlambda = np.vstack(dlambda)"
   ]
  },
  {
   "cell_type": "code",
   "execution_count": 62,
   "metadata": {},
   "outputs": [
    {
     "data": {
      "text/plain": [
       "array([[ 3.50000000e-02,  3.77738063e+00, -1.59428605e-02,\n",
       "        -7.19632527e-01,  9.61979023e-01, -5.30541195e-01,\n",
       "        -2.10483490e+00,  1.36985147e+00, -1.08728590e+00,\n",
       "        -3.79195900e-03, -4.21753501e-01,  3.14604128e-01,\n",
       "        -3.72244624e-01,  3.51844362e-01,  1.57397518e-01,\n",
       "         0.00000000e+00,  0.00000000e+00,  0.00000000e+00,\n",
       "         0.00000000e+00,  0.00000000e+00,  0.00000000e+00,\n",
       "         0.00000000e+00,  0.00000000e+00,  0.00000000e+00,\n",
       "         0.00000000e+00,  0.00000000e+00,  0.00000000e+00,\n",
       "         0.00000000e+00,  0.00000000e+00,  0.00000000e+00],\n",
       "       [ 8.25000000e-02,  6.26803532e+00,  6.54017455e-02,\n",
       "        -3.69028013e+00,  2.08815600e+00, -5.89288346e-01,\n",
       "        -3.65427537e+00,  1.52153597e+00, -1.20768173e+00,\n",
       "         7.19537065e-02, -9.52189520e-01,  2.01628904e-01,\n",
       "        -2.38570537e-01,  4.95436510e-01,  9.93831975e-02,\n",
       "         0.00000000e+00,  0.00000000e+00,  0.00000000e+00,\n",
       "         0.00000000e+00,  0.00000000e+00,  0.00000000e+00,\n",
       "         0.00000000e+00,  0.00000000e+00,  0.00000000e+00,\n",
       "         0.00000000e+00,  0.00000000e+00,  0.00000000e+00,\n",
       "         0.00000000e+00,  0.00000000e+00,  0.00000000e+00],\n",
       "       [ 0.00000000e+00,  0.00000000e+00,  0.00000000e+00,\n",
       "         0.00000000e+00,  0.00000000e+00,  0.00000000e+00,\n",
       "         0.00000000e+00,  0.00000000e+00,  0.00000000e+00,\n",
       "         0.00000000e+00,  0.00000000e+00,  0.00000000e+00,\n",
       "         0.00000000e+00,  0.00000000e+00,  0.00000000e+00,\n",
       "         3.50000000e-02,  3.77738063e+00, -1.59428605e-02,\n",
       "        -7.19632527e-01,  9.61979023e-01, -5.30541195e-01,\n",
       "        -2.10483490e+00,  1.36985147e+00, -1.08728590e+00,\n",
       "        -3.79195900e-03, -4.21753501e-01,  3.14604128e-01,\n",
       "        -3.72244624e-01,  3.51844362e-01,  1.57397518e-01],\n",
       "       [ 0.00000000e+00,  0.00000000e+00,  0.00000000e+00,\n",
       "         0.00000000e+00,  0.00000000e+00,  0.00000000e+00,\n",
       "         0.00000000e+00,  0.00000000e+00,  0.00000000e+00,\n",
       "         0.00000000e+00,  0.00000000e+00,  0.00000000e+00,\n",
       "         0.00000000e+00,  0.00000000e+00,  0.00000000e+00,\n",
       "         8.25000000e-02,  6.26803532e+00,  6.54017455e-02,\n",
       "        -3.69028013e+00,  2.08815600e+00, -5.89288346e-01,\n",
       "        -3.65427537e+00,  1.52153597e+00, -1.20768173e+00,\n",
       "         7.19537065e-02, -9.52189520e-01,  2.01628904e-01,\n",
       "        -2.38570537e-01,  4.95436510e-01,  9.93831975e-02]])"
      ]
     },
     "execution_count": 62,
     "metadata": {},
     "output_type": "execute_result"
    }
   ],
   "source": [
    "dlambda"
   ]
  },
  {
   "cell_type": "code",
   "execution_count": 54,
   "metadata": {
    "collapsed": true
   },
   "outputs": [],
   "source": [
    "data = np.load('HG_data.npz')\n",
    "H_dict = data['H_dict'][()]\n",
    "H_list = H_dict['ge']"
   ]
  },
  {
   "cell_type": "code",
   "execution_count": 61,
   "metadata": {},
   "outputs": [
    {
     "data": {
      "text/plain": [
       "array([[ 0.51154148,  0.53465797,  0.48924226, -0.46163641],\n",
       "       [-0.4816451 , -0.46952764,  0.51935944, -0.5270935 ],\n",
       "       [-0.51813086,  0.5287322 , -0.480118  , -0.47060533],\n",
       "       [ 0.48773325, -0.46273849, -0.51028863, -0.53627874]])"
      ]
     },
     "execution_count": 61,
     "metadata": {},
     "output_type": "execute_result"
    }
   ],
   "source": [
    "H = H_list[0]\n",
    "H_red = dlambda.dot(H).dot(dlambda.T)\n",
    "w, v = np.linalg.eigh(H_red)\n",
    "v"
   ]
  },
  {
   "cell_type": "markdown",
   "metadata": {},
   "source": [
    "# Construct periodic table displacement vector"
   ]
  },
  {
   "cell_type": "code",
   "execution_count": 26,
   "metadata": {
    "collapsed": true
   },
   "outputs": [],
   "source": [
    "cyl_map = [\n",
    "        ['si', 5.431, [14, 14]],\n",
    "        ['ge', 5.658, [32, 32]],\n",
    "        ['sige', 5.432, [14, 32]],\n",
    "        ['sn', 6.4892, [50, 50]],\n",
    "        ['snsi', 5.961, [14, 50]],\n",
    "        ['gesn', 6.0758, [32, 50]],\n",
    "        ['gaas', 5.6535, [31, 33]],\n",
    "        ['alp', 5.4635, [13, 15]],\n",
    "        ['alas', 5.660, [13, 33]],\n",
    "        ['alsb', 6.1355, [13, 51]],\n",
    "        ['gap', 5.451, [31, 15]],\n",
    "        ['gasb', 6.09, [31, 51]],\n",
    "        ['inp', 5.86, [49, 15]],\n",
    "        ['inas', 6.05, [49, 33]],\n",
    "        ['insb', 6.47, [49, 51]],\n",
    "]"
   ]
  },
  {
   "cell_type": "code",
   "execution_count": 42,
   "metadata": {},
   "outputs": [
    {
     "name": "stdout",
     "output_type": "stream",
     "text": [
      "{'gaas': array([-0.035     , -3.77738063,  0.01594286,  0.71963253, -0.96197902,\n",
      "        0.53054119,  2.1048349 , -1.36985147,  1.0872859 ,  0.00379196,\n",
      "        0.4217535 , -0.31460413,  0.37224462, -0.35184436, -0.15739752,\n",
      "        0.035     ,  3.77738063, -0.01594286, -0.71963253,  0.96197902,\n",
      "       -0.53054119, -2.1048349 ,  1.36985147, -1.0872859 , -0.00379196,\n",
      "       -0.4217535 ,  0.31460413, -0.37224462,  0.35184436,  0.15739752]), 'insb': array([ 0.0475    ,  2.49065468,  0.08134461, -2.97064761,  1.12617697,\n",
      "       -0.05874715, -1.54944047,  0.15168449, -0.12039583,  0.07574567,\n",
      "       -0.53043602, -0.11297522,  0.13367409,  0.14359215, -0.05801432,\n",
      "        0.1175    , 10.04541595,  0.04945889, -4.40991266,  3.05013502,\n",
      "       -1.11982954, -5.75911026,  2.89138744, -2.29496763,  0.06816175,\n",
      "       -1.37394302,  0.51623303, -0.61081516,  0.84728087,  0.25678072]), 'gesn': array([ 0.        ,  0.        ,  0.        , -0.        ,  0.        ,\n",
      "       -0.        , -0.        ,  0.        , -0.        ,  0.        ,\n",
      "       -0.        ,  0.        , -0.        ,  0.        ,  0.        ,\n",
      "        0.0825    ,  6.26803532,  0.06540175, -3.69028013,  2.088156  ,\n",
      "       -0.58928835, -3.65427537,  1.52153597, -1.20768173,  0.07195371,\n",
      "       -0.95218952,  0.2016289 , -0.23857054,  0.49543651,  0.0993832 ]), 'sige': array([-0.0825    , -6.26803532, -0.06540175,  3.69028013, -2.088156  ,\n",
      "        0.58928835,  3.65427537, -1.52153597,  1.20768173, -0.07195371,\n",
      "        0.95218952, -0.2016289 ,  0.23857054, -0.49543651, -0.0993832 ,\n",
      "        0.        ,  0.        ,  0.        , -0.        ,  0.        ,\n",
      "       -0.        , -0.        ,  0.        , -0.        ,  0.        ,\n",
      "       -0.        ,  0.        , -0.        ,  0.        ,  0.        ]), 'gasb': array([-3.50000000e-02, -3.77738063e+00,  1.59428605e-02,  7.19632527e-01,\n",
      "       -9.61979023e-01,  5.30541195e-01,  2.10483490e+00, -1.36985147e+00,\n",
      "        1.08728590e+00,  3.79195900e-03,  4.21753501e-01, -3.14604128e-01,\n",
      "        3.72244624e-01, -3.51844362e-01, -1.57397518e-01,  1.17500000e-01,\n",
      "        1.00454159e+01,  4.94588850e-02, -4.40991266e+00,  3.05013502e+00,\n",
      "       -1.11982954e+00, -5.75911026e+00,  2.89138744e+00, -2.29496763e+00,\n",
      "        6.81617475e-02, -1.37394302e+00,  5.16233032e-01, -6.10815161e-01,\n",
      "        8.47280873e-01,  2.56780716e-01]), 'inp': array([ 0.0475    ,  2.49065468,  0.08134461, -2.97064761,  1.12617697,\n",
      "       -0.05874715, -1.54944047,  0.15168449, -0.12039583,  0.07574567,\n",
      "       -0.53043602, -0.11297522,  0.13367409,  0.14359215, -0.05801432,\n",
      "       -0.0475    , -2.49065468, -0.08134461,  2.97064761, -1.12617697,\n",
      "        0.05874715,  1.54944047, -0.15168449,  0.12039583, -0.07574567,\n",
      "        0.53043602,  0.11297522, -0.13367409, -0.14359215,  0.05801432]), 'ge': array([ 0.,  0.,  0., -0.,  0., -0., -0.,  0., -0.,  0., -0.,  0., -0.,\n",
      "        0.,  0.,  0.,  0.,  0., -0.,  0., -0., -0.,  0., -0.,  0., -0.,\n",
      "        0., -0.,  0.,  0.]), 'snsi': array([-0.0825    , -6.26803532, -0.06540175,  3.69028013, -2.088156  ,\n",
      "        0.58928835,  3.65427537, -1.52153597,  1.20768173, -0.07195371,\n",
      "        0.95218952, -0.2016289 ,  0.23857054, -0.49543651, -0.0993832 ,\n",
      "        0.0825    ,  6.26803532,  0.06540175, -3.69028013,  2.088156  ,\n",
      "       -0.58928835, -3.65427537,  1.52153597, -1.20768173,  0.07195371,\n",
      "       -0.95218952,  0.2016289 , -0.23857054,  0.49543651,  0.0993832 ]), 'si': array([-0.0825    , -6.26803532, -0.06540175,  3.69028013, -2.088156  ,\n",
      "        0.58928835,  3.65427537, -1.52153597,  1.20768173, -0.07195371,\n",
      "        0.95218952, -0.2016289 ,  0.23857054, -0.49543651, -0.0993832 ,\n",
      "       -0.0825    , -6.26803532, -0.06540175,  3.69028013, -2.088156  ,\n",
      "        0.58928835,  3.65427537, -1.52153597,  1.20768173, -0.07195371,\n",
      "        0.95218952, -0.2016289 ,  0.23857054, -0.49543651, -0.0993832 ]), 'alas': array([-1.17500000e-01, -1.00454159e+01, -4.94588850e-02,  4.40991266e+00,\n",
      "       -3.05013502e+00,  1.11982954e+00,  5.75911026e+00, -2.89138744e+00,\n",
      "        2.29496763e+00, -6.81617475e-02,  1.37394302e+00, -5.16233032e-01,\n",
      "        6.10815161e-01, -8.47280873e-01, -2.56780716e-01,  3.50000000e-02,\n",
      "        3.77738063e+00, -1.59428605e-02, -7.19632527e-01,  9.61979023e-01,\n",
      "       -5.30541195e-01, -2.10483490e+00,  1.36985147e+00, -1.08728590e+00,\n",
      "       -3.79195900e-03, -4.21753501e-01,  3.14604128e-01, -3.72244624e-01,\n",
      "        3.51844362e-01,  1.57397518e-01]), 'sn': array([ 0.0825    ,  6.26803532,  0.06540175, -3.69028013,  2.088156  ,\n",
      "       -0.58928835, -3.65427537,  1.52153597, -1.20768173,  0.07195371,\n",
      "       -0.95218952,  0.2016289 , -0.23857054,  0.49543651,  0.0993832 ,\n",
      "        0.0825    ,  6.26803532,  0.06540175, -3.69028013,  2.088156  ,\n",
      "       -0.58928835, -3.65427537,  1.52153597, -1.20768173,  0.07195371,\n",
      "       -0.95218952,  0.2016289 , -0.23857054,  0.49543651,  0.0993832 ]), 'gap': array([-0.035     , -3.77738063,  0.01594286,  0.71963253, -0.96197902,\n",
      "        0.53054119,  2.1048349 , -1.36985147,  1.0872859 ,  0.00379196,\n",
      "        0.4217535 , -0.31460413,  0.37224462, -0.35184436, -0.15739752,\n",
      "       -0.0475    , -2.49065468, -0.08134461,  2.97064761, -1.12617697,\n",
      "        0.05874715,  1.54944047, -0.15168449,  0.12039583, -0.07574567,\n",
      "        0.53043602,  0.11297522, -0.13367409, -0.14359215,  0.05801432]), 'alsb': array([ -0.1175    , -10.04541595,  -0.04945889,   4.40991266,\n",
      "        -3.05013502,   1.11982954,   5.75911026,  -2.89138744,\n",
      "         2.29496763,  -0.06816175,   1.37394302,  -0.51623303,\n",
      "         0.61081516,  -0.84728087,  -0.25678072,   0.1175    ,\n",
      "        10.04541595,   0.04945889,  -4.40991266,   3.05013502,\n",
      "        -1.11982954,  -5.75911026,   2.89138744,  -2.29496763,\n",
      "         0.06816175,  -1.37394302,   0.51623303,  -0.61081516,\n",
      "         0.84728087,   0.25678072]), 'inas': array([ 0.0475    ,  2.49065468,  0.08134461, -2.97064761,  1.12617697,\n",
      "       -0.05874715, -1.54944047,  0.15168449, -0.12039583,  0.07574567,\n",
      "       -0.53043602, -0.11297522,  0.13367409,  0.14359215, -0.05801432,\n",
      "        0.035     ,  3.77738063, -0.01594286, -0.71963253,  0.96197902,\n",
      "       -0.53054119, -2.1048349 ,  1.36985147, -1.0872859 , -0.00379196,\n",
      "       -0.4217535 ,  0.31460413, -0.37224462,  0.35184436,  0.15739752]), 'alp': array([ -0.1175    , -10.04541595,  -0.04945889,   4.40991266,\n",
      "        -3.05013502,   1.11982954,   5.75911026,  -2.89138744,\n",
      "         2.29496763,  -0.06816175,   1.37394302,  -0.51623303,\n",
      "         0.61081516,  -0.84728087,  -0.25678072,  -0.0475    ,\n",
      "        -2.49065468,  -0.08134461,   2.97064761,  -1.12617697,\n",
      "         0.05874715,   1.54944047,  -0.15168449,   0.12039583,\n",
      "        -0.07574567,   0.53043602,   0.11297522,  -0.13367409,\n",
      "        -0.14359215,   0.05801432])}\n"
     ]
    }
   ],
   "source": [
    "ref_base = cyl_map[1]\n",
    "A_ref = [qtk.element[qtk.Z2n(Z)] for Z in ref_base[2]]\n",
    "#print Z_ref[0].period, Z_ref[0].group\n",
    "\n",
    "vec_dict = {}\n",
    "for info_cyl in cyl_map:\n",
    "    A_list = [qtk.element[qtk.Z2n(Z)] for Z in info_cyl[2]]\n",
    "    dAs = [[A_list[i].group - Z_ref[i].group, A_list[i].period - Z_ref[i].period] for i in range(len(A_list))]\n",
    "    vec = []\n",
    "    for dA in dAs:\n",
    "        vec.append(dA[0] * dpp[0] + dA[1] * dpp[1])\n",
    "    vec_dict[info_cyl[0]] = np.hstack(vec)\n",
    "print vec_dict"
   ]
  },
  {
   "cell_type": "code",
   "execution_count": 27,
   "metadata": {},
   "outputs": [],
   "source": [
    "ref_dir = 'ref'\n",
    "outs_all = []\n",
    "for info_a in cyl_map:\n",
    "    outs = [info_a[0], []]\n",
    "    outs_all.append(outs)\n",
    "    for info_cyl in cyl_map:\n",
    "        cyl = info_cyl[0]\n",
    "        tar = info_a[0]\n",
    "        out_file = glob('%s/%s_a-%s/*.out' % (ref_dir, cyl, tar))[0]\n",
    "        out = qtk.QMOut(out_file, program='cpmd')\n",
    "        #outs[1].append([out.name.split('.')[0], out])\n",
    "        outs[1].append(out)"
   ]
  },
  {
   "cell_type": "markdown",
   "metadata": {},
   "source": [
    "# Crystal inset"
   ]
  },
  {
   "cell_type": "code",
   "execution_count": 69,
   "metadata": {},
   "outputs": [
    {
     "data": {
      "image/png": "[encoded data removed]",
      "text/plain": [
       "<matplotlib.figure.Figure at 0x145f4d7dcbd0>"
      ]
     },
     "metadata": {},
     "output_type": "display_data"
    }
   ],
   "source": [
    "import numpy as np\n",
    "import matplotlib\n",
    "from matplotlib.patches import Circle, Wedge, Polygon\n",
    "from matplotlib.collections import PatchCollection\n",
    "import matplotlib.pyplot as plt\n",
    "\n",
    "# Fixing random state for reproducibility\n",
    "np.random.seed(19680801)\n",
    "\n",
    "\n",
    "fig, ax = plt.subplots()\n",
    "\n",
    "resolution = 50  # the number of vertices\n",
    "N = 3\n",
    "x = np.random.rand(N)\n",
    "y = np.random.rand(N)\n",
    "radii = 0.1*np.random.rand(N)\n",
    "patches = []\n",
    "for x1, y1, r in zip(x, y, radii):\n",
    "    circle = Circle((x1, y1), r)\n",
    "    patches.append(circle)\n",
    "\n",
    "x = np.random.rand(N)\n",
    "y = np.random.rand(N)\n",
    "radii = 0.1*np.random.rand(N)\n",
    "theta1 = 360.0*np.random.rand(N)\n",
    "theta2 = 360.0*np.random.rand(N)\n",
    "for x1, y1, r, t1, t2 in zip(x, y, radii, theta1, theta2):\n",
    "    wedge = Wedge((x1, y1), r, t1, t2)\n",
    "    patches.append(wedge)\n",
    "\n",
    "# Some limiting conditions on Wedge\n",
    "patches += [\n",
    "    Wedge((.3, .7), .1, 0, 360),             # Full circle\n",
    "    Wedge((.7, .8), .2, 0, 360, width=0.05),  # Full ring\n",
    "    Wedge((.8, .3), .2, 0, 45),              # Full sector\n",
    "    Wedge((.8, .3), .2, 45, 90, width=0.10),  # Ring sector\n",
    "]\n",
    "\n",
    "for i in range(N):\n",
    "    polygon = Polygon(np.random.rand(N, 2), True)\n",
    "    patches.append(polygon)\n",
    "\n",
    "colors = 100*np.random.rand(len(patches))\n",
    "p = PatchCollection(patches, alpha=0.4)\n",
    "p.set_array(np.array(colors))\n",
    "ax.add_collection(p)\n",
    "fig.colorbar(p, ax=ax)\n",
    "ax.add_patch(Polygon([[0, 0], [.3, .4], [.8, .6], [.5, .2]], closed=True,\n",
    "                      fill=False, hatch=''))\n",
    "\n",
    "plt.show()"
   ]
  },
  {
   "cell_type": "code",
   "execution_count": 140,
   "metadata": {},
   "outputs": [
    {
     "data": {
      "image/png": "[encoded data removed]",
      "text/plain": [
       "<matplotlib.figure.Figure at 0x145f4d320150>"
      ]
     },
     "metadata": {},
     "output_type": "display_data"
    }
   ],
   "source": [
    "def crystal_plot(Zs, crd=(0.2,0.2), width=.8, depth=.2, size=.5, radius=.22, fraction=0.55, ax=None):\n",
    "    if ax is None:\n",
    "        fig, ax = plt.subplots()\n",
    "    signs = [1, -1]\n",
    "    ax.set_aspect('equal')\n",
    "        \n",
    "    A = crd\n",
    "    C = tuple(a + size for a in A)\n",
    "    F = tuple(c + size * depth for c in C)\n",
    "    B = tuple((C[i] + A[i]) / 2. - signs[i] * width / 2. * size for i in range(2))\n",
    "    D = tuple((C[i] + A[i]) / 2. + signs[i] * width / 2. * size for i in range(2))\n",
    "    E = tuple(b + size * depth for b in B)\n",
    "    G = tuple(d + size * depth for d in D)\n",
    "    H = tuple((C[i] + A[i]) * fraction for i in range(2))\n",
    "    ax.add_patch(Polygon([A, B, C, D], closed=True, fill=False, hatch=''))\n",
    "    ax.add_patch(Polygon([B, E, F, C], closed=True, fill=False, hatch=''))\n",
    "    ax.add_patch(Polygon([D, G, F, C], closed=True, fill=False, hatch=''))\n",
    "    ax.add_patch(Circle(A, radius * size))\n",
    "    ax.add_patch(Circle(H, radius * size, color='k'))\n",
    "    ax.axis('off')\n",
    "    ax.set_xlim(0, 5)\n",
    "    ax.set_ylim(0, 1)\n",
    "    \n",
    "crystal_plot(1, 2, 3)"
   ]
  },
  {
   "cell_type": "code",
   "execution_count": 139,
   "metadata": {},
   "outputs": [
    {
     "data": {
      "image/png": "[encoded data removed]",
      "text/plain": [
       "<matplotlib.figure.Figure at 0x145f4d8f3b90>"
      ]
     },
     "metadata": {},
     "output_type": "display_data"
    }
   ],
   "source": [
    "fig, ax = plt.subplots()\n",
    "ax0 = fig.add_axes([0.9,0.7,0.3,0.3])\n",
    "crystal_plot(1, 2, ax=ax0)"
   ]
  },
  {
   "cell_type": "code",
   "execution_count": 80,
   "metadata": {},
   "outputs": [
    {
     "data": {
      "image/png": "[encoded data removed]",
      "text/plain": [
       "<matplotlib.figure.Figure at 0x145f4d5618d0>"
      ]
     },
     "metadata": {},
     "output_type": "display_data"
    }
   ],
   "source": []
  },
  {
   "cell_type": "code",
   "execution_count": 72,
   "metadata": {},
   "outputs": [
    {
     "data": {
      "text/plain": [
       "(0, 1, 2, 3, 4, 5, 6, 7, 8, 9)"
      ]
     },
     "execution_count": 72,
     "metadata": {},
     "output_type": "execute_result"
    }
   ],
   "source": [
    "tuple(i for i in tuple(range(10)))"
   ]
  }
 ],
 "metadata": {
  "kernelspec": {
   "display_name": "Python 2",
   "language": "python",
   "name": "python2"
  },
  "language_info": {
   "codemirror_mode": {
    "name": "ipython",
    "version": 2
   },
   "file_extension": ".py",
   "mimetype": "text/x-python",
   "name": "python",
   "nbconvert_exporter": "python",
   "pygments_lexer": "ipython2",
   "version": "2.7.14"
  }
 },
 "nbformat": 4,
 "nbformat_minor": 2
}
