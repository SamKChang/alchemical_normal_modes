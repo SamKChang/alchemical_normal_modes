{
 "cells": [
  {
   "cell_type": "markdown",
   "metadata": {},
   "source": [
    "# Construct of general ANM matrix using PP\n",
    "using PP for ANM is quite a lot more complicated and tedious than all-electron systems.\n",
    "This note book attempt to create a readable/reusable script to construct PP ANM matrix"
   ]
  },
  {
   "cell_type": "code",
   "execution_count": 3,
   "metadata": {},
   "outputs": [],
   "source": [
    "import qctoolkit as qtk\n",
    "import numpy as np"
   ]
  },
  {
   "cell_type": "code",
   "execution_count": 4,
   "metadata": {},
   "outputs": [
    {
     "name": "stdout",
     "output_type": "stream",
     "text": [
      "15\n"
     ]
    }
   ],
   "source": [
    "# reuse code from PRM paper\n",
    "cyl_map = [\n",
    "        ['si', 5.431, [14, 14]],\n",
    "        ['ge', 5.658, [32, 32]],\n",
    "        ['sige', 5.432, [14, 32]],\n",
    "        ['sn', 6.4892, [50, 50]],\n",
    "        ['snsi', 5.961, [14, 50]],\n",
    "        ['gesn', 6.0758, [32, 50]],\n",
    "        ['gaas', 5.6535, [31, 33]],\n",
    "        ['alp', 5.4635, [13, 15]],\n",
    "        ['alas', 5.660, [13, 33]],\n",
    "        ['alsb', 6.1355, [13, 51]],\n",
    "        ['gap', 5.451, [31, 15]],\n",
    "        ['gasb', 6.09, [31, 51]],\n",
    "        ['inp', 5.86, [49, 15]],\n",
    "        ['inas', 6.05, [49, 33]],\n",
    "        ['insb', 6.47, [49, 51]],\n",
    "\n",
    "]\n",
    "print len(cyl_map)"
   ]
  },
  {
   "cell_type": "code",
   "execution_count": 10,
   "metadata": {
    "collapsed": true
   },
   "outputs": [],
   "source": [
    "# only CPMD PP interface is ready at the moment\n",
    "# only Gamma-point calculations are required\n",
    "qmsetting = {\n",
    "    'program': 'cpmd',\n",
    "    'kmesh': [1,1,1],\n",
    "    'link_dep': False,\n",
    "}"
   ]
  },
  {
   "cell_type": "code",
   "execution_count": 8,
   "metadata": {},
   "outputs": [],
   "source": [
    "mol_base = qtk.Molecule('xyz/ge.xyz')\n",
    "# mol_base.extend([2,2,2])\n",
    "# mol_base.sort(order='xyz')"
   ]
  },
  {
   "cell_type": "markdown",
   "metadata": {},
   "source": [
    "# ANM space and finite difference matrix\n",
    "ANM space is spanned by the PP parameters. For FCC primitive cell of two atoms, there are 30 parameters (15 per atoms).\n",
    "\n",
    "The goal is the construct matrix elements \n",
    "$$\n",
    "\\begin{array}{rcl}\n",
    "\\mathbf{H}_{ij}&=&\\frac{\\partial^2 E}{\\partial\\sigma_i\\partial\\sigma_j}\\\\\n",
    "&=&\\frac{\\partial}{\\partial\\sigma_i}\\Big(\\frac{\\partial E}{\\partial\\sigma_j}\\Big)\\\\\n",
    "&\\approx&\n",
    "\\frac{\\partial}{\\partial\\sigma_i}\\Big(\\frac{E(\\sigma_i, \\sigma_j+\\Delta\\sigma_j) - E(\\sigma_i, \\sigma_j)}{\\Delta\\sigma_j}\\Big)\\\\\n",
    "&\\approx&\n",
    "\\frac{1}{\\Delta\\sigma_i}\\Bigg(\\frac{E(\\sigma_i+\\Delta\\sigma_i, \\sigma_j+\\Delta\\sigma_j) - E(\\sigma_i+\\Delta\\sigma_i, \\sigma_j)}{\\Delta\\sigma_j}\n",
    "- \\frac{E(\\sigma_i, \\sigma_j+\\Delta\\sigma_j) - E(\\sigma_i, \\sigma_j)}{\\Delta\\sigma_j}\\Bigg).\n",
    "\\end{array}\n",
    "$$\n",
    "\n",
    "That is, there are four finite difference calculations required for each of the matrix elements:\n",
    "$E(\\sigma_i+\\Delta\\sigma_i, \\sigma_j+\\Delta\\sigma_j)$, \n",
    "$E(\\sigma_i+\\Delta\\sigma_i, \\sigma_j)$, \n",
    "$E(\\sigma_i, \\sigma_j+\\Delta\\sigma_j)$, \n",
    "$E(\\sigma_i, \\sigma_j)$, \n",
    "where only the first term is unique for each element.\n",
    "\n",
    "Note that the finite difference formula is different for diagonal terms $\\mathbf{H}_{ii} = \\frac{E(\\sigma_i+\\Delta\\sigma_i) - 2E(\\sigma_i) + E(\\sigma_i-\\Delta\\sigma_i)}{\\Delta\\sigma_i^2}$.\n",
    "\n",
    "The required finite difference calculations are\n",
    "* $E(\\sigma_i+\\Delta\\sigma_i, \\sigma_j+\\Delta\\sigma_j)$: $N(N-1)/2$ calculations for $i\\neq j$\n",
    "* $E(\\sigma_i+\\Delta\\sigma_i)$: $N$ calculations\n",
    "* $E(\\sigma_i-\\Delta\\sigma_i)$: $N$ calculations\n",
    "* $E(\\sigma_i, \\sigma_j)$: 1 calculation\n",
    "\n",
    "which added up to $\\frac{N^2}{2}+\\frac{3}{2}N+1$ calculations, where $N$ is the number of parameters in the system."
   ]
  },
  {
   "cell_type": "markdown",
   "metadata": {},
   "source": [
    "# Function interface\n",
    "The following functions are required for reusable/extensive code\n",
    "\n",
    "## _crystal to parameter space map_: cyl2par\n",
    "input: crystal object\n",
    "\n",
    "output: parameter space coordinate\n",
    "\n",
    "## _parameter spsce to crystal map_: par2cyl\n",
    "input: parameter space coordinate\n",
    "\n",
    "output: crystal object\n",
    "\n",
    "## _finite difference crystal construction_: FDcyl\n",
    "input: finite difference indices, step size\n",
    "\n",
    "output: QMInp calculation object\n",
    "\n",
    "__NOTE__: for the construction of FD matrix, the index information will be written on the file name for lazy processing\n",
    "\n",
    "## _finite difference matrix construction_: H_FD\n",
    "input: finite difference calculation folder path __with fomated index file name__\n",
    "\n",
    "output: finite difference matrix as 2D numpy array\n",
    "\n",
    "### TODO:\n",
    "implement CPMD interface to take PP object as input and write PP file on the fly __DONE__"
   ]
  },
  {
   "cell_type": "code",
   "execution_count": 11,
   "metadata": {},
   "outputs": [
    {
     "name": "stdout",
     "output_type": "stream",
     "text": [
      "&INFO\n",
      " ge\n",
      "&END\n",
      "\n",
      "&CPMD\n",
      " MIRROR\n",
      " BENCHMARK\n",
      "  1 0 0 0 0 0 0 0 0 0\n",
      " OPTIMIZE WAVEFUNCTION\n",
      " CONVERGENCE ORBITAL\n",
      "  1.00E-05\n",
      " MAXITER\n",
      "  1000\n",
      " CENTER MOLECULE OFF\n",
      " MEMORY BIG\n",
      "&END\n",
      "\n",
      "&DFT\n",
      " FUNCTIONAL PBE\n",
      "&END\n",
      "\n",
      "&SYSTEM\n",
      " CELL VECTORS\n",
      "     0.000000    2.715500    2.715500\n",
      "     2.715500    0.000000    2.715500\n",
      "     2.715500    2.715500    0.000000\n",
      " ANGSTROM\n",
      " CUTOFF\n",
      "  100.0\n",
      " KPOINTS MONKHORST-PACK\n",
      "  1 1 1\n",
      "&END\n",
      "\n",
      "&ATOMS\n",
      "*Ge01.psp\n",
      " LMAX=F\n",
      "   1\n",
      "     3.8411   3.8411   3.8411\n",
      "*Ge00.psp\n",
      " LMAX=F\n",
      "   1\n",
      "     0.0000   0.0000   0.0000\n",
      "&END\n"
     ]
    },
    {
     "data": {
      "text/plain": [
       "<qctoolkit.QM.general_io.InpContent at 0x14709c2d8410>"
      ]
     },
     "execution_count": 11,
     "metadata": {},
     "output_type": "execute_result"
    }
   ],
   "source": [
    "def cyl2par(mol, size=[1, 3]):\n",
    "    par = []\n",
    "    for a in mol.type_list:\n",
    "        crd = qtk.PP(a, size=size)\n",
    "        vec = crd.vectorize()\n",
    "        par.append([vec[0][1:], a, vec[0][0]])\n",
    "    return par\n",
    "\n",
    "def par2cyl(par, mol_base=mol_base, size=[1, 3]):\n",
    "    mol = mol_base.copy()\n",
    "    mol.sort(order='xyz')\n",
    "    for i, crd in enumerate(par):\n",
    "        pp = qtk.PP(crd[1], size=size)\n",
    "        vec = [crd[2]]\n",
    "        vec.extend(crd[0])\n",
    "        pp.unvectorize(vec, size[0], range(size[1], 0, -1))\n",
    "        pp.name = crd[1] + '%02d' % i\n",
    "        mol.setAtoms(i, string=pp)\n",
    "    return mol\n",
    "\n",
    "mol = par2cyl(cyl2par(mol_base))\n",
    "inp = qtk.QMInp(mol, **qmsetting)\n",
    "inp.write()"
   ]
  },
  {
   "cell_type": "code",
   "execution_count": 13,
   "metadata": {
    "collapsed": true
   },
   "outputs": [],
   "source": [
    "def FDcyl(mol, i, j, step, size=[1,3], dim=15):\n",
    "    \"\"\"\n",
    "    input:  molecule object: where the FD perturbation will be introduced\n",
    "            i, j: integer indices for the perturbation matrix row and column number\n",
    "            step: absolute step size for finite difference perturbation\n",
    "            size: PP configuration space\n",
    "    output: molecule object with appropreate PP and file names attached\n",
    "    \"\"\"\n",
    "    def get_pp(I, ip, font, mode='+'):\n",
    "        if type(mol.string[I]) is type(qtk.PP()):\n",
    "            pp = mol.string[I]\n",
    "        else:\n",
    "            pp = qtk.PP(mol.type_list[I], size=size)\n",
    "            pp.name = mol.type_list[I]\n",
    "        vec = pp.vectorize()[0]\n",
    "        new_pp = pp.copy()\n",
    "        if mode == '+':\n",
    "            vec[1+ip] += step\n",
    "        elif mode == '-':\n",
    "            vec[1+ip] -= step\n",
    "        new_pp.unvectorize(vec, size[0], range(size[1], 0, -1))\n",
    "        new_pp.name += '_%s%03dp%03d' % (font, I, ip)\n",
    "        return new_pp\n",
    "    \n",
    "    # first order\n",
    "    if i == j:\n",
    "        I, ip = divmod(i, dim)\n",
    "        modes = [['p', '+'], ['m', '-']]\n",
    "        mols = []\n",
    "        for m in modes:\n",
    "            mol_new = mol.copy()\n",
    "            pp = get_pp(I, ip, 'I', mode=m[1])\n",
    "            mol_new.setAtoms(I, string=pp)\n",
    "            mol_new.name += '_i%03d%s-I%02dp%02d' % (i, m[0], I, ip)\n",
    "            mols.append(mol_new)\n",
    "        return mols\n",
    "    # second order\n",
    "    else:\n",
    "        mol = mol.copy()\n",
    "        inds = [i, j]\n",
    "        ind_font = ['I', 'J']\n",
    "        for t, s in enumerate([i, j]):\n",
    "            I, ip = divmod(s, dim)\n",
    "            inds.append(I)\n",
    "            inds.append(ip)\n",
    "            pp = get_pp(I, ip, ind_font[t])\n",
    "            mol.setAtoms(I, string=pp)\n",
    "        mol.name += \"_i%03dj%03d-I%02dp%02d-J%02dp%02d\" % tuple(inds)\n",
    "    return [mol]\n",
    "\n",
    "# mol_test = FDcyl(mol_base, 5, 28, 100)[0]\n",
    "# inp = qtk.QMInp(mol_test, **qmsetting)\n",
    "# inp.write('PPTest', overwrite=True)"
   ]
  },
  {
   "cell_type": "markdown",
   "metadata": {},
   "source": [
    "## Construct FD crystal for calculations"
   ]
  },
  {
   "cell_type": "code",
   "execution_count": null,
   "metadata": {},
   "outputs": [],
   "source": [
    "mols_fd = []\n",
    "mols_ref = []\n",
    "par = cyl2par(mol_base)\n",
    "\n",
    "# get dimension of PP space\n",
    "# single atom PP space * number of atoms\n",
    "N = len(par[0][0]) * len(par)\n",
    "\n",
    "for info_cyl in cyl_map:\n",
    "    mol = mol_base.copy()\n",
    "    for i in range(mol.N):\n",
    "        mol.setAtoms(i, Z=info_cyl[2][i])\n",
    "        mol.name = info_cyl[0]\n",
    "        for info_a in cyl_map:\n",
    "            if info_a != info_cyl:\n",
    "                mol_a = mol.copy()\n",
    "                mol_a.name += '_a-' + info_a[0]\n",
    "                mol_a.setCelldm([info_a[1], info_a[1], info_a[1], 0, 0, 0])\n",
    "                mols_fd.append(mol_a)\n",
    "                mols_ref.append(mol_a)\n",
    "                # get off-diagonal terms\n",
    "                for i in range(N):\n",
    "                    for j in range(i, N):\n",
    "                        mols = FDcyl(mol_a, i, j, step=0.01)\n",
    "                        mols_fd.extend(mols)\n",
    "        \n",
    "inps_fd = [qtk.QMInp(mol_base, **qmsetting)]\n",
    "for m in mols_fd:\n",
    "    inps_fd.append(qtk.QMInp(m, **qmsetting))"
   ]
  },
  {
   "cell_type": "code",
   "execution_count": 9,
   "metadata": {},
   "outputs": [
    {
     "data": {
      "text/plain": [
       "[ge_a-si,\n",
       " ge_a-ge,\n",
       " ge_a-sige,\n",
       " ge_a-sn,\n",
       " ge_a-snsi,\n",
       " ge_a-gesn,\n",
       " ge_a-gaas,\n",
       " ge_a-alp,\n",
       " ge_a-alas,\n",
       " ge_a-alsb,\n",
       " ge_a-gap,\n",
       " ge_a-gasb,\n",
       " ge_a-inp,\n",
       " ge_a-inas,\n",
       " ge_a-insb]"
      ]
     },
     "execution_count": 9,
     "metadata": {},
     "output_type": "execute_result"
    }
   ],
   "source": [
    "mols_ref"
   ]
  },
  {
   "cell_type": "code",
   "execution_count": 10,
   "metadata": {
    "collapsed": true
   },
   "outputs": [],
   "source": [
    "inps_ref = []\n",
    "for mol in mols_ref:\n",
    "    inp = qtk.QMInp(mol, **qmsetting)\n",
    "    inps_ref.append(inp)"
   ]
  },
  {
   "cell_type": "code",
   "execution_count": 12,
   "metadata": {},
   "outputs": [
    {
     "name": "stdout",
     "output_type": "stream",
     "text": [
      "\u001b[96m\u001b[1mqmRunJob:\u001b[0m runing qmjob:'ge_a-si: cpmd' with name: ge_a-si \n",
      "\u001b[96m\u001b[1mqmRunJob:\u001b[0m runing qmjob:'ge_a-sige: cpmd' with name: ge_a-sige \n",
      "\u001b[96m\u001b[1mQMInp.run:\u001b[0m running job with command: cpmd.x ge_a-si.inp\n",
      "\u001b[96m\u001b[1mQMInp.run:\u001b[0m running job with command: cpmd.x ge_a-sige.inp\n",
      "\n",
      "\u001b[96m\u001b[1mqmRunJob:\u001b[0m runing qmjob:'ge_a-sn: cpmd' with name: ge_a-sn \n",
      "\u001b[96m\u001b[1mqmRunJob:\u001b[0m runing qmjob:'ge_a-ge: cpmd' with name: ge_a-ge \n",
      "\u001b[96m\u001b[1mQMInp.run:\u001b[0m running job with command: cpmd.x ge_a-sn.inp\n",
      "\n",
      "\u001b[96m\u001b[1mQMInp.run:\u001b[0m running job with command: cpmd.x ge_a-ge.inp\n",
      "\n",
      "\n",
      "\u001b[96m\u001b[1mqmRunJob:\u001b[0m runing qmjob:'ge_a-snsi: cpmd' with name: ge_a-snsi \n",
      "\u001b[96m\u001b[1mQMInp.run:\u001b[0m running job with command: cpmd.x ge_a-snsi.inp\n",
      "\n",
      "\u001b[96m\u001b[1mqmRunJob:\u001b[0m runing qmjob:'ge_a-gesn: cpmd' with name: ge_a-gesn \n",
      "\u001b[96m\u001b[1mQMInp.run:\u001b[0m running job with command: cpmd.x ge_a-gesn.inp\n",
      "\n",
      "\u001b[96m\u001b[1mqmRunJob:\u001b[0m runing qmjob:'ge_a-gaas: cpmd' with name: ge_a-gaas \n",
      "\u001b[96m\u001b[1mQMInp.run:\u001b[0m running job with command: cpmd.x ge_a-gaas.inp\n",
      "\n",
      "\u001b[96m\u001b[1mqmRunJob:\u001b[0m runing qmjob:'ge_a-alp: cpmd' with name: ge_a-alp \n",
      "\u001b[96m\u001b[1mQMInp.run:\u001b[0m running job with command: cpmd.x ge_a-alp.inp\n",
      "\n",
      "\u001b[96m\u001b[1mqmRunJob:\u001b[0m runing qmjob:'ge_a-alas: cpmd' with name: ge_a-alas \n",
      "\u001b[96m\u001b[1mQMInp.run:\u001b[0m running job with command: cpmd.x ge_a-alas.inp\n",
      "\n",
      "\u001b[96m\u001b[1mqmRunJob:\u001b[0m runing qmjob:'ge_a-alsb: cpmd' with name: ge_a-alsb \n",
      "\u001b[96m\u001b[1mQMInp.run:\u001b[0m running job with command: cpmd.x ge_a-alsb.inp\n",
      "\n",
      "\u001b[96m\u001b[1mqmRunJob:\u001b[0m runing qmjob:'ge_a-gap: cpmd' with name: ge_a-gap \n",
      "\u001b[96m\u001b[1mQMInp.run:\u001b[0m running job with command: cpmd.x ge_a-gap.inp\n",
      "\n",
      "\u001b[96m\u001b[1mqmRunJob:\u001b[0m runing qmjob:'ge_a-gasb: cpmd' with name: ge_a-gasb \n",
      "\u001b[96m\u001b[1mQMInp.run:\u001b[0m running job with command: cpmd.x ge_a-gasb.inp\n",
      "\n",
      "\u001b[96m\u001b[1mqmRunJob:\u001b[0m runing qmjob:'ge_a-inp: cpmd' with name: ge_a-inp \n",
      "\u001b[96m\u001b[1mQMInp.run:\u001b[0m running job with command: cpmd.x ge_a-inp.inp\n",
      "\n",
      "\u001b[96m\u001b[1mqmRunJob:\u001b[0m runing qmjob:'ge_a-inas: cpmd' with name: ge_a-inas \n",
      "\u001b[96m\u001b[1mQMInp.run:\u001b[0m running job with command: cpmd.x ge_a-inas.inp\n",
      "\n",
      "\u001b[96m\u001b[1mqmRunJob:\u001b[0m runing qmjob:'ge_a-insb: cpmd' with name: ge_a-insb \n",
      "\u001b[96m\u001b[1mQMInp.run:\u001b[0m running job with command: cpmd.x ge_a-insb.inp\n",
      "\n"
     ]
    }
   ],
   "source": [
    "qtk.qmRunAll(inps_ref, \"ge_ref\")"
   ]
  },
  {
   "cell_type": "code",
   "execution_count": 78,
   "metadata": {},
   "outputs": [
    {
     "name": "stdout",
     "output_type": "stream",
     "text": [
      "\u001b[93mOverwrite existing folder ge\u001b[0m\n",
      "\u001b[96m\u001b[1mQMInp.run:\u001b[0m running job with command: cpmd.x ge.inp\n",
      "\n",
      "\u001b[93mge.out failed with message: list index out of range\u001b[0m\n"
     ]
    },
    {
     "data": {
      "text/plain": [
       "nan"
      ]
     },
     "execution_count": 78,
     "metadata": {},
     "output_type": "execute_result"
    }
   ],
   "source": [
    "inp = qtk.QMInp(mol_base, debug=True, **qmsetting)\n",
    "inp.run('ge', overwrite=True, debug=True)"
   ]
  },
  {
   "cell_type": "code",
   "execution_count": 73,
   "metadata": {},
   "outputs": [
    {
     "data": {
      "text/plain": [
       "['', '']"
      ]
     },
     "execution_count": 73,
     "metadata": {},
     "output_type": "execute_result"
    }
   ],
   "source": [
    "mol_base.string"
   ]
  },
  {
   "cell_type": "code",
   "execution_count": 70,
   "metadata": {
    "collapsed": true
   },
   "outputs": [],
   "source": [
    "qtk.pdump(inps_fd, 'ge_H_scan_inps')"
   ]
  },
  {
   "cell_type": "code",
   "execution_count": 71,
   "metadata": {
    "collapsed": true
   },
   "outputs": [],
   "source": [
    "qtk.setting.quiet = True\n",
    "#qtk.qmWriteAll(inps_fd, 'ge_H_scan')\n",
    "qtk.setting.quiet = False"
   ]
  },
  {
   "cell_type": "markdown",
   "metadata": {},
   "source": [
    "## Test of PP interface"
   ]
  },
  {
   "cell_type": "code",
   "execution_count": 68,
   "metadata": {
    "collapsed": true
   },
   "outputs": [],
   "source": [
    "# pp = qtk.PP('Ge', size=[1,3])\n",
    "# print pp\n",
    "# print pp.param\n",
    "# v = pp.vectorize()[0]\n",
    "# for i in range(2, 7):\n",
    "#     v[i] = 10\n",
    "# new = pp.copy().unvectorize(v, 1, [3,2,1])\n",
    "\n",
    "# print pp.param\n",
    "# print new.param"
   ]
  },
  {
   "cell_type": "code",
   "execution_count": null,
   "metadata": {
    "collapsed": true
   },
   "outputs": [],
   "source": []
  }
 ],
 "metadata": {
  "kernelspec": {
   "display_name": "Python 2",
   "language": "python",
   "name": "python2"
  },
  "language_info": {
   "codemirror_mode": {
    "name": "ipython",
    "version": 2
   },
   "file_extension": ".py",
   "mimetype": "text/x-python",
   "name": "python",
   "nbconvert_exporter": "python",
   "pygments_lexer": "ipython2",
   "version": "2.7.14"
  }
 },
 "nbformat": 4,
 "nbformat_minor": 2
}
