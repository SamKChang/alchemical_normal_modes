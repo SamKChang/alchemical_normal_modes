{
 "cells": [
  {
   "cell_type": "markdown",
   "metadata": {},
   "source": [
    "# Construct of general ANM matrix using PP\n",
    "using PP for ANM is quite a lot more complicated and tedious than all-electron systems.\n",
    "This note book attempt to create a readable/reusable script to construct PP ANM matrix"
   ]
  },
  {
   "cell_type": "code",
   "execution_count": 1,
   "metadata": {},
   "outputs": [
    {
     "name": "stderr",
     "output_type": "stream",
     "text": [
      "/home/samio/local/miniconda2/lib/python2.7/site-packages/h5py/__init__.py:36: FutureWarning: Conversion of the second argument of issubdtype from `float` to `np.floating` is deprecated. In future, it will be treated as `np.float64 == np.dtype(float).type`.\n",
      "  from ._conv import register_converters as _register_converters\n"
     ]
    }
   ],
   "source": [
    "import qctoolkit as qtk\n",
    "import numpy as np"
   ]
  },
  {
   "cell_type": "code",
   "execution_count": 2,
   "metadata": {},
   "outputs": [
    {
     "name": "stdout",
     "output_type": "stream",
     "text": [
      "15\n"
     ]
    }
   ],
   "source": [
    "# reuse code from PRM paper\n",
    "cyl_map = [\n",
    "        ['si', 5.431, [14, 14]],\n",
    "        ['ge', 5.658, [32, 32]],\n",
    "        ['sige', 5.432, [14, 32]],\n",
    "        ['sn', 6.4892, [50, 50]],\n",
    "        ['snsi', 5.961, [14, 50]],\n",
    "        ['gesn', 6.0758, [32, 50]],\n",
    "        ['gaas', 5.6535, [31, 33]],\n",
    "        ['alp', 5.4635, [13, 15]],\n",
    "        ['alas', 5.660, [13, 33]],\n",
    "        ['alsb', 6.1355, [13, 51]],\n",
    "        ['gap', 5.451, [31, 15]],\n",
    "        ['gasb', 6.09, [31, 51]],\n",
    "        ['inp', 5.86, [49, 15]],\n",
    "        ['inas', 6.05, [49, 33]],\n",
    "        ['insb', 6.47, [49, 51]],\n",
    "\n",
    "]\n",
    "print len(cyl_map)"
   ]
  },
  {
   "cell_type": "code",
   "execution_count": 69,
   "metadata": {
    "collapsed": true
   },
   "outputs": [],
   "source": [
    "# only CPMD PP interface is ready at the moment\n",
    "# only Gamma-point calculations are required\n",
    "qmsetting = {\n",
    "    'program': 'cpmd',\n",
    "    'kmesh': [1,1,1],\n",
    "    'link_dep': False,\n",
    "}"
   ]
  },
  {
   "cell_type": "code",
   "execution_count": 4,
   "metadata": {
    "collapsed": true
   },
   "outputs": [],
   "source": [
    "mol_base = qtk.Molecule('xyz/ge.xyz')"
   ]
  },
  {
   "cell_type": "markdown",
   "metadata": {},
   "source": [
    "# ANM space and finite difference matrix\n",
    "ANM space is spanned by the PP parameters. For FCC primitive cell of two atoms, there are 30 parameters (15 per atoms).\n",
    "\n",
    "The goal is the construct matrix elements \n",
    "$$\n",
    "\\begin{array}{rcl}\n",
    "\\mathbf{H}_{ij}&=&\\frac{\\partial^2 E}{\\partial\\sigma_i\\partial\\sigma_j}\\\\\n",
    "&=&\\frac{\\partial}{\\partial\\sigma_i}\\Big(\\frac{\\partial E}{\\partial\\sigma_j}\\Big)\\\\\n",
    "&\\approx&\n",
    "\\frac{\\partial}{\\partial\\sigma_i}\\Big(\\frac{E(\\sigma_i, \\sigma_j+\\Delta\\sigma_j) - E(\\sigma_i, \\sigma_j)}{\\Delta\\sigma_j}\\Big)\\\\\n",
    "&\\approx&\n",
    "\\frac{1}{\\Delta\\sigma_i}\\Bigg(\\frac{E(\\sigma_i+\\Delta\\sigma_i, \\sigma_j+\\Delta\\sigma_j) - E(\\sigma_i+\\Delta\\sigma_i, \\sigma_j)}{\\Delta\\sigma_j}\n",
    "- \\frac{E(\\sigma_i, \\sigma_j+\\Delta\\sigma_j) - E(\\sigma_i, \\sigma_j)}{\\Delta\\sigma_j}\\Bigg).\n",
    "\\end{array}\n",
    "$$\n",
    "\n",
    "That is, there are four finite difference calculations required for each of the matrix elements:\n",
    "$E(\\sigma_i+\\Delta\\sigma_i, \\sigma_j+\\Delta\\sigma_j)$, \n",
    "$E(\\sigma_i+\\Delta\\sigma_i, \\sigma_j)$, \n",
    "$E(\\sigma_i, \\sigma_j+\\Delta\\sigma_j)$, \n",
    "$E(\\sigma_i, \\sigma_j)$, \n",
    "where only the first term is unique for each element.\n",
    "\n",
    "Note that the finite difference formula is different for diagonal terms $\\mathbf{H}_{ii} = \\frac{E(\\sigma_i+\\Delta\\sigma_i) - 2E(\\sigma_i) + E(\\sigma_i-\\Delta\\sigma_i)}{\\Delta\\sigma_i^2}$.\n",
    "\n",
    "The required finite difference calculations are\n",
    "* $E(\\sigma_i+\\Delta\\sigma_i, \\sigma_j+\\Delta\\sigma_j)$: $N(N-1)/2$ calculations for $i\\neq j$\n",
    "* $E(\\sigma_i+\\Delta\\sigma_i)$: $N$ calculations\n",
    "* $E(\\sigma_i-\\Delta\\sigma_i)$: $N$ calculations\n",
    "* $E(\\sigma_i, \\sigma_j)$: 1 calculation\n",
    "\n",
    "which added up to $\\frac{N^2}{2}+\\frac{3}{2}N+1$ calculations, where $N$ is the number of parameters in the system."
   ]
  },
  {
   "cell_type": "markdown",
   "metadata": {},
   "source": [
    "# Function interface\n",
    "The following functions are required for reusable/extensive code\n",
    "\n",
    "## _crystal to parameter space map_: cyl2par\n",
    "input: crystal object\n",
    "\n",
    "output: parameter space coordinate\n",
    "\n",
    "## _parameter spsce to crystal map_: par2cyl\n",
    "input: parameter space coordinate\n",
    "\n",
    "output: crystal object\n",
    "\n",
    "## _finite difference crystal construction_: FDcyl\n",
    "input: finite difference indices, step size\n",
    "\n",
    "output: QMInp calculation object\n",
    "\n",
    "__NOTE__: for the construction of FD matrix, the index information will be written on the file name for lazy processing\n",
    "\n",
    "## _finite difference matrix construction_: H_FD\n",
    "input: finite difference calculation folder path __with fomated index file name__\n",
    "\n",
    "output: finite difference matrix as 2D numpy array\n",
    "\n",
    "### TODO:\n",
    "implement CPMD interface to take PP object as input and write PP file on the fly __DONE__"
   ]
  },
  {
   "cell_type": "code",
   "execution_count": 66,
   "metadata": {},
   "outputs": [],
   "source": [
    "def cyl2par(mol, size=[1, 3]):\n",
    "    par = []\n",
    "    for a in mol.type_list:\n",
    "        crd = qtk.PP(a, size=size)\n",
    "        vec = crd.vectorize()\n",
    "        par.append([vec[0][1:], a, vec[0][0]])\n",
    "    return par\n",
    "\n",
    "def par2cyl(par, mol_base=mol_base, size=[1, 3]):\n",
    "    mol = mol_base.copy()\n",
    "    mol.sort(order='xyz')\n",
    "    for i, crd in enumerate(par):\n",
    "        print crd\n",
    "        pp = qtk.PP(crd[1], size=size)\n",
    "        vec = [crd[2]]\n",
    "        vec.extend(crd[0])\n",
    "        pp.unvectorize(vec, size[0], range(size[1], 0, -1))\n",
    "        pp.name = crd[1] + '%02d' % i\n",
    "        mol.setAtoms(i, string=pp)\n",
    "    return mol\n",
    "\n",
    "# mol = par2cyl(cyl2par(mol_base))\n",
    "# inp = qtk.QMInp(mol, **qmsetting)\n",
    "# inp.write()"
   ]
  },
  {
   "cell_type": "code",
   "execution_count": 67,
   "metadata": {},
   "outputs": [],
   "source": [
    "def FDcyl(mol, i, j, step, size=[1,3], dim=15):\n",
    "    \"\"\"\n",
    "    input:  molecule object: where the FD perturbation will be introduced\n",
    "            i, j: integer indices for the perturbation matrix row and column number\n",
    "            step: absolute step size for finite difference perturbation\n",
    "            size: PP configuration space\n",
    "    output: molecule object with appropreate PP and file names attached\n",
    "    \"\"\"\n",
    "    def get_pp(I, ip, font, mode='+'):\n",
    "        if type(mol.string[I]) is type(qtk.PP()):\n",
    "            pp = mol.string[I]\n",
    "        else:\n",
    "            pp = qtk.PP(mol.type_list[I], size=size)\n",
    "            pp.name = mol.type_list[I]\n",
    "        vec = pp.vectorize()[0]\n",
    "        new_pp = pp.copy()\n",
    "        if mode == '+':\n",
    "            vec[1+ip] += step\n",
    "        elif mode == '-':\n",
    "            vec[1+ip] -= step\n",
    "        new_pp.unvectorize(vec, size[0], range(size[1], 0, -1))\n",
    "        new_pp.name += '_%s%02dp%02d' % (font, I, ip)\n",
    "        return new_pp\n",
    "    \n",
    "    # first order\n",
    "    if i == j:\n",
    "        I, ip = divmod(i, dim)\n",
    "        modes = [['p', '+'], ['m', '-']]\n",
    "        mols = []\n",
    "        for m in modes:\n",
    "            mol_new = mol.copy()\n",
    "            pp = get_pp(I, ip, 'I', mode=m[1])\n",
    "            mol_new.setAtoms(I, string=pp)\n",
    "            mol_new.name += '_i%02d%s-I%02dp%02d' % (i, m[0], I, ip)\n",
    "            mols.append(mol_new)\n",
    "        return mols\n",
    "    # second order\n",
    "    else:\n",
    "        mol = mol.copy()\n",
    "        inds = [i, j]\n",
    "        ind_font = ['I', 'J']\n",
    "        for t, s in enumerate([i, j]):\n",
    "            I, ip = divmod(s, dim)\n",
    "            inds.append(I)\n",
    "            inds.append(ip)\n",
    "            pp = get_pp(I, ip, ind_font[t])\n",
    "            mol.setAtoms(I, string=pp)\n",
    "        mol.name += \"_i%02dj%02d-I%02dp%02d-J%02dp%02d\" % tuple(inds)\n",
    "    return [mol]\n",
    "\n",
    "# mol_test = FDcyl(mol_base, 5, 28, 100)[0]\n",
    "# inp = qtk.QMInp(mol_test, **qmsetting)\n",
    "# inp.write('PPTest', overwrite=True)"
   ]
  },
  {
   "cell_type": "markdown",
   "metadata": {},
   "source": [
    "## Construct FD crystal for calculations"
   ]
  },
  {
   "cell_type": "code",
   "execution_count": 63,
   "metadata": {},
   "outputs": [],
   "source": [
    "mols_fd = []\n",
    "par = cyl2par(mol_base)\n",
    "\n",
    "# get dimension of PP space\n",
    "# single atom PP space * number of atoms\n",
    "N = len(par[0][0]) * len(par)\n",
    "\n",
    "\n",
    "for info_a in cyl_map:\n",
    "    mol_a = mol_base.copy()\n",
    "    mol_a.name += '_a-' + info_a[0]\n",
    "    mol_a.setCelldm([info_a[1], info_a[1], info_a[1], 0, 0, 0])\n",
    "    # get off-diagonal terms\n",
    "    for i in range(N):\n",
    "        for j in range(i, N):\n",
    "            mols = FDcyl(mol_a, i, j, step=0.01)\n",
    "            mols_fd.extend(mols)\n",
    "        \n",
    "inps_fd = []\n",
    "for m in mols_fd:\n",
    "    inps_fd.append(qtk.QMInp(m, **qmsetting))"
   ]
  },
  {
   "cell_type": "code",
   "execution_count": 70,
   "metadata": {
    "collapsed": true
   },
   "outputs": [],
   "source": [
    "qtk.pdump(inps_fd, 'ge_H_scan_inps')"
   ]
  },
  {
   "cell_type": "code",
   "execution_count": 71,
   "metadata": {},
   "outputs": [],
   "source": [
    "qtk.setting.quiet = True\n",
    "#qtk.qmWriteAll(inps_fd, 'ge_H_scan')\n",
    "qtk.setting.quiet = False"
   ]
  },
  {
   "cell_type": "markdown",
   "metadata": {},
   "source": [
    "## Test of PP interface"
   ]
  },
  {
   "cell_type": "code",
   "execution_count": 68,
   "metadata": {},
   "outputs": [],
   "source": [
    "# pp = qtk.PP('Ge', size=[1,3])\n",
    "# print pp\n",
    "# print pp.param\n",
    "# v = pp.vectorize()[0]\n",
    "# for i in range(2, 7):\n",
    "#     v[i] = 10\n",
    "# new = pp.copy().unvectorize(v, 1, [3,2,1])\n",
    "\n",
    "# print pp.param\n",
    "# print new.param"
   ]
  },
  {
   "cell_type": "code",
   "execution_count": null,
   "metadata": {
    "collapsed": true
   },
   "outputs": [],
   "source": []
  }
 ],
 "metadata": {
  "kernelspec": {
   "display_name": "Python 2",
   "language": "python",
   "name": "python2"
  },
  "language_info": {
   "codemirror_mode": {
    "name": "ipython",
    "version": 2
   },
   "file_extension": ".py",
   "mimetype": "text/x-python",
   "name": "python",
   "nbconvert_exporter": "python",
   "pygments_lexer": "ipython2",
   "version": "2.7.14"
  }
 },
 "nbformat": 4,
 "nbformat_minor": 2
}
