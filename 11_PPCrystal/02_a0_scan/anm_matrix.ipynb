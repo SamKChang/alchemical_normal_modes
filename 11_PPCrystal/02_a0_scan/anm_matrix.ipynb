{
 "cells": [
  {
   "cell_type": "markdown",
   "metadata": {},
   "source": [
    "# Construct of general ANM matrix using PP\n",
    "using PP for ANM is quite a lot more complicated and tedious than all-electron systems.\n",
    "This note book attempt to create a readable/reusable script to construct PP ANM matrix"
   ]
  },
  {
   "cell_type": "code",
   "execution_count": 1,
   "metadata": {},
   "outputs": [
    {
     "name": "stderr",
     "output_type": "stream",
     "text": [
      "/home/samio/local/miniconda2/lib/python2.7/site-packages/h5py/__init__.py:36: FutureWarning: Conversion of the second argument of issubdtype from `float` to `np.floating` is deprecated. In future, it will be treated as `np.float64 == np.dtype(float).type`.\n",
      "  from ._conv import register_converters as _register_converters\n"
     ]
    }
   ],
   "source": [
    "import qctoolkit as qtk\n",
    "import numpy as np"
   ]
  },
  {
   "cell_type": "code",
   "execution_count": 2,
   "metadata": {},
   "outputs": [
    {
     "name": "stdout",
     "output_type": "stream",
     "text": [
      "15\n"
     ]
    }
   ],
   "source": [
    "# reuse code from PRM paper\n",
    "cyl_map = [\n",
    "        ['si', 5.431, [14, 14]],\n",
    "        ['ge', 5.658, [32, 32]],\n",
    "        ['sige', 5.432, [14, 32]],\n",
    "        ['sn', 6.4892, [50, 50]],\n",
    "        ['snsi', 5.961, [14, 50]],\n",
    "        ['gesn', 6.0758, [32, 50]],\n",
    "        ['gaas', 5.6535, [31, 33]],\n",
    "        ['alp', 5.4635, [13, 15]],\n",
    "        ['alas', 5.660, [13, 33]],\n",
    "        ['alsb', 6.1355, [13, 51]],\n",
    "        ['gap', 5.451, [31, 15]],\n",
    "        ['gasb', 6.09, [31, 51]],\n",
    "        ['inp', 5.86, [49, 15]],\n",
    "        ['inas', 6.05, [49, 33]],\n",
    "        ['insb', 6.47, [49, 51]],\n",
    "\n",
    "]\n",
    "print len(cyl_map)"
   ]
  },
  {
   "cell_type": "code",
   "execution_count": 3,
   "metadata": {
    "collapsed": true
   },
   "outputs": [],
   "source": [
    "# only CPMD PP interface is ready at the moment\n",
    "# only Gamma-point calculations are required\n",
    "qmsetting = {\n",
    "    'program': 'cpmd',\n",
    "    'kmesh': [1,1,1],\n",
    "    'link_dep': True,\n",
    "}"
   ]
  },
  {
   "cell_type": "code",
   "execution_count": 4,
   "metadata": {
    "collapsed": true
   },
   "outputs": [],
   "source": [
    "mol_base = qtk.Molecule('xyz/ge.xyz')"
   ]
  },
  {
   "cell_type": "code",
   "execution_count": 5,
   "metadata": {},
   "outputs": [
    {
     "name": "stdout",
     "output_type": "stream",
     "text": [
      "15\n",
      "225\n",
      "ge_a-gesn: cpmd\n"
     ]
    }
   ],
   "source": [
    "# reference calculations with lattice constant scan\n",
    "mols = []\n",
    "count = 0\n",
    "for info_mol in cyl_map:\n",
    "    count += 1\n",
    "    for info_a in cyl_map:\n",
    "        new = mol_base.copy()\n",
    "        new.name = info_mol[0] + '_a-' + info_a[0]\n",
    "        new.setCelldm([info_a[1], info_a[1], info_a[1], 0, 0, 0])\n",
    "        for i in range(new.N):\n",
    "            if new.Z[i] != info_mol[2][i]:\n",
    "                new.setAtoms(i, Z=info_mol[2][i])\n",
    "        mols.append(new)\n",
    "print count\n",
    "inps_ref = [qtk.QMInp(mol, **qmsetting) for mol in mols]\n",
    "print len(inps_ref)\n",
    "print inps_ref[20]"
   ]
  },
  {
   "cell_type": "markdown",
   "metadata": {},
   "source": [
    "# ANM space and finite difference matrix\n",
    "ANM space is spanned by the PP parameters. For FCC primitive cell of two atoms, there are 30 parameters (15 per atoms).\n",
    "\n",
    "The goal is the construct matrix elements \n",
    "$$\n",
    "\\begin{array}{rcl}\n",
    "\\mathbf{H}_{ij}&=&\\frac{\\partial^2 E}{\\partial\\sigma_i\\partial\\sigma_j}\\\\\n",
    "&=&\\frac{\\partial}{\\partial\\sigma_i}\\Big(\\frac{\\partial E}{\\partial\\sigma_j}\\Big)\\\\\n",
    "&\\approx&\n",
    "\\frac{\\partial}{\\partial\\sigma_i}\\Big(\\frac{E(\\sigma_i, \\sigma_j+\\Delta\\sigma_j) - E(\\sigma_i, \\sigma_j)}{\\Delta\\sigma_j}\\Big)\\\\\n",
    "&\\approx&\n",
    "\\frac{1}{\\Delta\\sigma_i}\\Bigg(\\frac{E(\\sigma_i+\\Delta\\sigma_i, \\sigma_j+\\Delta\\sigma_j) - E(\\sigma_i+\\Delta\\sigma_i, \\sigma_j)}{\\Delta\\sigma_j}\n",
    "- \\frac{E(\\sigma_i, \\sigma_j+\\Delta\\sigma_j) - E(\\sigma_i, \\sigma_j)}{\\Delta\\sigma_j}\\Bigg).\n",
    "\\end{array}\n",
    "$$\n",
    "\n",
    "That is, there are four finite difference calculations required for each of the matrix elements:\n",
    "$E(\\sigma_i+\\Delta\\sigma_i, \\sigma_j+\\Delta\\sigma_j)$, \n",
    "$E(\\sigma_i+\\Delta\\sigma_i, \\sigma_j)$, \n",
    "$E(\\sigma_i, \\sigma_j+\\Delta\\sigma_j)$, \n",
    "$E(\\sigma_i, \\sigma_j)$, \n",
    "where only the first term is unique for each element.\n",
    "\n",
    "Note that the finite difference formula is different for diagonal terms $\\mathbf{H}_{ii} = \\frac{E(\\sigma_i+\\Delta\\sigma_i) - 2E(\\sigma_i) + E(\\sigma_i-\\Delta\\sigma_i)}{\\Delta\\sigma_i^2}$.\n",
    "\n",
    "The required finite difference calculations are\n",
    "* $E(\\sigma_i+\\Delta\\sigma_i, \\sigma_j+\\Delta\\sigma_j)$: $N^2$ calculations\n",
    "* $E(\\sigma_i+\\Delta\\sigma_i)$: $N$ calculations\n",
    "* $E(\\sigma_i-\\Delta\\sigma_i)$: $N$ calculations\n",
    "* $E(\\sigma_i, \\sigma_j)$: 1 calculation\n",
    "\n",
    "which added up to $N^2+2N+1$ calculations, where $N$ is the number of parameters in the system."
   ]
  },
  {
   "cell_type": "markdown",
   "metadata": {},
   "source": [
    "# Function interface\n",
    "The following functions are required for reusable/extensive code\n",
    "\n",
    "## _crystal to parameter space map_: cyl2par\n",
    "input: crystal object\n",
    "\n",
    "output: parameter space coordinate\n",
    "\n",
    "## _parameter spsce to crystal map_: par2cyl\n",
    "input: parameter space coordinate\n",
    "\n",
    "output: crystal object\n",
    "\n",
    "## _finite difference crystal construction_: FDcyl\n",
    "input: finite difference indices, step size\n",
    "\n",
    "output: QMInp calculation object\n",
    "\n",
    "__NOTE__: for the construction of FD matrix, the index information will be written on the file name for lazy processing\n",
    "\n",
    "## _finite difference matrix construction_: H_FD\n",
    "input: finite difference calculation folder path __with fomated index file name__\n",
    "\n",
    "output: finite difference matrix as 2D numpy array\n",
    "\n",
    "### TODO:\n",
    "implement CPMD interface to take PP object as input and write PP file on the fly __DONE__"
   ]
  },
  {
   "cell_type": "code",
   "execution_count": 7,
   "metadata": {},
   "outputs": [
    {
     "name": "stdout",
     "output_type": "stream",
     "text": [
      "[array([ 0.54      ,  0.        ,  0.42186518,  7.51024121, -0.58810836,\n",
      "       -1.4479758 , -1.59588819,  3.73865744, -2.96746735,  0.56752887,\n",
      "        0.91385969,  0.54687534, -0.64707163,  0.81391394,  0.19717731]), 'Ge', 4.0]\n",
      "[array([ 0.54      ,  0.        ,  0.42186518,  7.51024121, -0.58810836,\n",
      "       -1.4479758 , -1.59588819,  3.73865744, -2.96746735,  0.56752887,\n",
      "        0.91385969,  0.54687534, -0.64707163,  0.81391394,  0.19717731]), 'Ge', 4.0]\n",
      "&INFO\n",
      " ge\n",
      "&END\n",
      "\n",
      "&CPMD\n",
      " MIRROR\n",
      " BENCHMARK\n",
      "  1 0 0 0 0 0 0 0 0 0\n",
      " OPTIMIZE WAVEFUNCTION\n",
      " CONVERGENCE ORBITAL\n",
      "  1.00E-05\n",
      " MAXITER\n",
      "  1000\n",
      " CENTER MOLECULE OFF\n",
      " MEMORY BIG\n",
      "&END\n",
      "\n",
      "&DFT\n",
      " FUNCTIONAL PBE\n",
      "&END\n",
      "\n",
      "&SYSTEM\n",
      " CELL VECTORS\n",
      "     0.000000    2.829000    2.829000\n",
      "     2.829000    0.000000    2.829000\n",
      "     2.829000    2.829000    0.000000\n",
      " ANGSTROM\n",
      " CUTOFF\n",
      "  100.0\n",
      " KPOINTS MONKHORST-PACK\n",
      "  1 1 1\n",
      "&END\n",
      "\n",
      "&ATOMS\n",
      "*Ge01.psp\n",
      " LMAX=F\n",
      "   1\n",
      "     1.4145   1.4145   1.4145\n",
      "*Ge00.psp\n",
      " LMAX=F\n",
      "   1\n",
      "     0.0000   0.0000   0.0000\n",
      "&END\n"
     ]
    },
    {
     "data": {
      "text/plain": [
       "<qctoolkit.QM.general_io.InpContent at 0x150b044362d0>"
      ]
     },
     "execution_count": 7,
     "metadata": {},
     "output_type": "execute_result"
    }
   ],
   "source": [
    "def cyl2par(mol, size=[1, 3]):\n",
    "    par = []\n",
    "    for a in mol.type_list:\n",
    "        crd = qtk.PP(a, size=size)\n",
    "        vec = crd.vectorize()\n",
    "        par.append([vec[0][1:], a, vec[0][0]])\n",
    "    return par\n",
    "\n",
    "def par2cyl(par, mol_base=mol_base, size=[1, 3]):\n",
    "    mol = mol_base.copy()\n",
    "    mol.sort(order='xyz')\n",
    "    for i, crd in enumerate(par):\n",
    "        print crd\n",
    "        pp = qtk.PP(crd[1], size=size)\n",
    "        vec = [crd[2]]\n",
    "        vec.extend(crd[0])\n",
    "        pp.unvectorize(vec, size[0], range(size[1], 0, -1))\n",
    "        pp.name = crd[1] + '%02d' % i\n",
    "        mol.setAtoms(i, string=pp)\n",
    "    return mol\n",
    "\n",
    "mol = par2cyl(cyl2par(mol_base))\n",
    "inp = qtk.QMInp(mol, **qmsetting)\n",
    "inp.write()"
   ]
  },
  {
   "cell_type": "code",
   "execution_count": 26,
   "metadata": {},
   "outputs": [
    {
     "name": "stdout",
     "output_type": "stream",
     "text": [
      "\u001b[96m\u001b[1mQMInp:\u001b[0m Ge_q4_pbe.psp is linked\n",
      "\n"
     ]
    },
    {
     "data": {
      "text/plain": [
       "<qctoolkit.QM.general_io.InpContent at 0x150b0434ee90>"
      ]
     },
     "execution_count": 26,
     "metadata": {},
     "output_type": "execute_result"
    }
   ],
   "source": [
    "def FDcyl(mol, i, j, step, size=[1,3]):\n",
    "    \"\"\"\n",
    "    input:  molecule object: where the FD perturbation will be introduced\n",
    "            i, j: integer indices for the perturbation matrix row and column number\n",
    "            step: absolute step size for finite difference perturbation\n",
    "            size: PP configuration space\n",
    "    output: molecule object with appropreate PP and file names attached\n",
    "    \"\"\"\n",
    "    mol = mol.copy()\n",
    "    inds = [i, j]\n",
    "    ind_font = ['I', 'J']\n",
    "    for t, s in enumerate([i, j]):\n",
    "        I, ip = divmod(s, 15)\n",
    "        inds.append(I)\n",
    "        inds.append(ip)\n",
    "        if type(mol.string[I]) is type(qtk.PP()):\n",
    "            pp = mol.string[I]\n",
    "        else:\n",
    "            pp = qtk.PP(mol.type_list[I], size=size)\n",
    "            pp.name = mol.type_list[I]\n",
    "        vec = pp.vectorize()[0]\n",
    "        new_pp = pp.copy()\n",
    "        vec[1+ip] += step\n",
    "        new_pp.unvectorize(vec, size[0], range(size[1], 0, -1))\n",
    "        new_pp.name += '_%s%02dp%02d' % (ind_font[t], I, ip)\n",
    "        mol.setAtoms(I, string=new_pp)\n",
    "    mol.name += \"_i%02dj%02d-I%02dp%02d-J%02dp%02d\" % tuple(inds)\n",
    "    return mol\n",
    "\n",
    "mol_test = FDcyl(mol_base, 0, 1, 100)\n",
    "inp = qtk.QMInp(mol_test, **qmsetting)\n",
    "inp.write('PPTest', overwrite=True)"
   ]
  },
  {
   "cell_type": "markdown",
   "metadata": {},
   "source": [
    "## Test of PP interface"
   ]
  },
  {
   "cell_type": "code",
   "execution_count": 25,
   "metadata": {},
   "outputs": [
    {
     "name": "stdout",
     "output_type": "stream",
     "text": [
      "Cn=1, l_max=3, parameters=15\n",
      "\n",
      "{'l_max': 3, 'Cn': 1, 'xc': 'pbe', 'Ci': [0], 'r_nl': [0.421865178, 0.567528874, 0.813913943], 'r_loc': 0.54, 'ZV': 4.0, 'Z': 32.0, 'h_ij': [array([[ 7.51024121, -0.58810836, -1.4479758 ],\n",
      "       [-0.58810836, -1.59588819,  3.73865744],\n",
      "       [-1.4479758 ,  3.73865744, -2.96746735]]), array([[ 0.91385969,  0.54687534],\n",
      "       [ 0.54687534, -0.64707163]]), array([[0.19717731]])]}\n",
      "{'l_max': 3, 'Cn': 1, 'xc': 'pbe', 'Ci': [0], 'r_nl': [0.421865178, 0.567528874, 0.813913943], 'r_loc': 0.54, 'ZV': 4.0, 'Z': 32.0, 'h_ij': [array([[ 7.51024121, -0.58810836, -1.4479758 ],\n",
      "       [-0.58810836, -1.59588819,  3.73865744],\n",
      "       [-1.4479758 ,  3.73865744, -2.96746735]]), array([[ 0.91385969,  0.54687534],\n",
      "       [ 0.54687534, -0.64707163]]), array([[0.19717731]])]}\n",
      "{'l_max': 3, 'Cn': 1, 'xc': 'pbe', 'Ci': [10.0], 'r_nl': [10.0, 0.567528874, 0.813913943], 'r_loc': 0.54, 'ZV': 4.0, 'Z': 32.0, 'h_ij': [array([[10.        , 10.        , 10.        ],\n",
      "       [10.        , -1.59588819,  3.73865744],\n",
      "       [10.        ,  3.73865744, -2.96746735]]), array([[ 0.91385969,  0.54687534],\n",
      "       [ 0.54687534, -0.64707163]]), array([[0.19717731]])]}\n"
     ]
    }
   ],
   "source": [
    "pp = qtk.PP('Ge', size=[1,3])\n",
    "print pp\n",
    "print pp.param\n",
    "v = pp.vectorize()[0]\n",
    "for i in range(2, 7):\n",
    "    v[i] = 10\n",
    "new = pp.copy().unvectorize(v, 1, [3,2,1])\n",
    "\n",
    "print pp.param\n",
    "print new.param"
   ]
  },
  {
   "cell_type": "code",
   "execution_count": 8,
   "metadata": {},
   "outputs": [
    {
     "data": {
      "text/plain": [
       "(16,)"
      ]
     },
     "execution_count": 8,
     "metadata": {},
     "output_type": "execute_result"
    }
   ],
   "source": [
    "v.shape"
   ]
  },
  {
   "cell_type": "code",
   "execution_count": 6,
   "metadata": {
    "collapsed": true
   },
   "outputs": [],
   "source": []
  },
  {
   "cell_type": "code",
   "execution_count": 14,
   "metadata": {},
   "outputs": [
    {
     "data": {
      "text/plain": [
       "array([[ 0.    ,  0.    ,  0.    ],\n",
       "       [ 0.    ,  0.    , 12.9784],\n",
       "       [ 0.    , 12.9784,  0.    ],\n",
       "       [ 0.    , 12.9784, 12.9784],\n",
       "       [ 3.2446,  3.2446,  3.2446],\n",
       "       [ 3.2446,  3.2446, 16.223 ],\n",
       "       [ 3.2446, 16.223 ,  3.2446],\n",
       "       [ 3.2446, 16.223 , 16.223 ],\n",
       "       [12.9784,  0.    ,  0.    ],\n",
       "       [12.9784,  0.    , 12.9784],\n",
       "       [12.9784, 12.9784,  0.    ],\n",
       "       [12.9784, 12.9784, 12.9784],\n",
       "       [16.223 ,  3.2446,  3.2446],\n",
       "       [16.223 ,  3.2446, 16.223 ],\n",
       "       [16.223 , 16.223 ,  3.2446],\n",
       "       [16.223 , 16.223 , 16.223 ]])"
      ]
     },
     "execution_count": 14,
     "metadata": {},
     "output_type": "execute_result"
    }
   ],
   "source": [
    "mol = mols[3].copy()\n",
    "mol.extend([2,2,2])\n",
    "mol.sort(order='xyz').R"
   ]
  },
  {
   "cell_type": "code",
   "execution_count": 7,
   "metadata": {
    "collapsed": true
   },
   "outputs": [],
   "source": [
    "mol.setAtoms(0, string='test')"
   ]
  },
  {
   "cell_type": "code",
   "execution_count": 8,
   "metadata": {},
   "outputs": [
    {
     "data": {
      "text/plain": [
       "array([ 0., 14.])"
      ]
     },
     "execution_count": 8,
     "metadata": {},
     "output_type": "execute_result"
    }
   ],
   "source": [
    "mol.Z"
   ]
  },
  {
   "cell_type": "code",
   "execution_count": 9,
   "metadata": {
    "collapsed": true
   },
   "outputs": [],
   "source": [
    "inp = qtk.QMInp(mol, **qmsetting)"
   ]
  },
  {
   "cell_type": "code",
   "execution_count": 19,
   "metadata": {},
   "outputs": [
    {
     "name": "stdout",
     "output_type": "stream",
     "text": [
      "&INFO\n",
      " si_a-sn\n",
      "&END\n",
      "\n",
      "&CPMD\n",
      " MIRROR\n",
      " BENCHMARK\n",
      "  1 0 0 0 0 0 0 0 0 0\n",
      " OPTIMIZE WAVEFUNCTION\n",
      " CONVERGENCE ORBITAL\n",
      "  1.00E-05\n",
      " MAXITER\n",
      "  1000\n",
      " CENTER MOLECULE OFF\n",
      " MEMORY BIG\n",
      "&END\n",
      "\n",
      "&DFT\n",
      " FUNCTIONAL PBE\n",
      "&END\n",
      "\n",
      "&SYSTEM\n",
      " CELL VECTORS\n",
      "     0.000000    3.244600    3.244600\n",
      "     3.244600    0.000000    3.244600\n",
      "     3.244600    3.244600    0.000000\n",
      " ANGSTROM\n",
      " CUTOFF\n",
      "  100.0\n",
      " KPOINTS MONKHORST-PACK\n",
      "  1 1 1\n",
      "&END\n",
      "\n",
      "&ATOMS\n",
      "*test.psp\n",
      " LMAX=F\n",
      "   2\n",
      "     0.0000   0.0000   0.0000\n",
      "     1.6223   1.6223   1.6223\n",
      "&END\n"
     ]
    },
    {
     "data": {
      "text/plain": [
       "<qctoolkit.QM.general_io.InpContent at 0x151936c21910>"
      ]
     },
     "execution_count": 19,
     "metadata": {},
     "output_type": "execute_result"
    }
   ],
   "source": [
    "inp.write()"
   ]
  },
  {
   "cell_type": "code",
   "execution_count": 10,
   "metadata": {},
   "outputs": [
    {
     "data": {
      "text/plain": [
       "[si_a-si,\n",
       " si_a-ge,\n",
       " si_a-sige,\n",
       " si_a-sn,\n",
       " si_a-snsi,\n",
       " si_a-gesn,\n",
       " si_a-gaas,\n",
       " si_a-alp,\n",
       " si_a-alas,\n",
       " si_a-alsb,\n",
       " si_a-gap,\n",
       " si_a-gasb,\n",
       " si_a-inp,\n",
       " si_a-inas,\n",
       " si_a-insb,\n",
       " ge_a-si,\n",
       " ge_a-ge,\n",
       " ge_a-sige,\n",
       " ge_a-sn,\n",
       " ge_a-snsi,\n",
       " ge_a-gesn,\n",
       " ge_a-gaas,\n",
       " ge_a-alp,\n",
       " ge_a-alas,\n",
       " ge_a-alsb,\n",
       " ge_a-gap,\n",
       " ge_a-gasb,\n",
       " ge_a-inp,\n",
       " ge_a-inas,\n",
       " ge_a-insb,\n",
       " sige_a-si,\n",
       " sige_a-ge,\n",
       " sige_a-sige,\n",
       " sige_a-sn,\n",
       " sige_a-snsi,\n",
       " sige_a-gesn,\n",
       " sige_a-gaas,\n",
       " sige_a-alp,\n",
       " sige_a-alas,\n",
       " sige_a-alsb,\n",
       " sige_a-gap,\n",
       " sige_a-gasb,\n",
       " sige_a-inp,\n",
       " sige_a-inas,\n",
       " sige_a-insb,\n",
       " sn_a-si,\n",
       " sn_a-ge,\n",
       " sn_a-sige,\n",
       " sn_a-sn,\n",
       " sn_a-snsi,\n",
       " sn_a-gesn,\n",
       " sn_a-gaas,\n",
       " sn_a-alp,\n",
       " sn_a-alas,\n",
       " sn_a-alsb,\n",
       " sn_a-gap,\n",
       " sn_a-gasb,\n",
       " sn_a-inp,\n",
       " sn_a-inas,\n",
       " sn_a-insb,\n",
       " snsi_a-si,\n",
       " snsi_a-ge,\n",
       " snsi_a-sige,\n",
       " snsi_a-sn,\n",
       " snsi_a-snsi,\n",
       " snsi_a-gesn,\n",
       " snsi_a-gaas,\n",
       " snsi_a-alp,\n",
       " snsi_a-alas,\n",
       " snsi_a-alsb,\n",
       " snsi_a-gap,\n",
       " snsi_a-gasb,\n",
       " snsi_a-inp,\n",
       " snsi_a-inas,\n",
       " snsi_a-insb,\n",
       " gesn_a-si,\n",
       " gesn_a-ge,\n",
       " gesn_a-sige,\n",
       " gesn_a-sn,\n",
       " gesn_a-snsi,\n",
       " gesn_a-gesn,\n",
       " gesn_a-gaas,\n",
       " gesn_a-alp,\n",
       " gesn_a-alas,\n",
       " gesn_a-alsb,\n",
       " gesn_a-gap,\n",
       " gesn_a-gasb,\n",
       " gesn_a-inp,\n",
       " gesn_a-inas,\n",
       " gesn_a-insb,\n",
       " gaas_a-si,\n",
       " gaas_a-ge,\n",
       " gaas_a-sige,\n",
       " gaas_a-sn,\n",
       " gaas_a-snsi,\n",
       " gaas_a-gesn,\n",
       " gaas_a-gaas,\n",
       " gaas_a-alp,\n",
       " gaas_a-alas,\n",
       " gaas_a-alsb,\n",
       " gaas_a-gap,\n",
       " gaas_a-gasb,\n",
       " gaas_a-inp,\n",
       " gaas_a-inas,\n",
       " gaas_a-insb,\n",
       " alp_a-si,\n",
       " alp_a-ge,\n",
       " alp_a-sige,\n",
       " alp_a-sn,\n",
       " alp_a-snsi,\n",
       " alp_a-gesn,\n",
       " alp_a-gaas,\n",
       " alp_a-alp,\n",
       " alp_a-alas,\n",
       " alp_a-alsb,\n",
       " alp_a-gap,\n",
       " alp_a-gasb,\n",
       " alp_a-inp,\n",
       " alp_a-inas,\n",
       " alp_a-insb,\n",
       " alas_a-si,\n",
       " alas_a-ge,\n",
       " alas_a-sige,\n",
       " alas_a-sn,\n",
       " alas_a-snsi,\n",
       " alas_a-gesn,\n",
       " alas_a-gaas,\n",
       " alas_a-alp,\n",
       " alas_a-alas,\n",
       " alas_a-alsb,\n",
       " alas_a-gap,\n",
       " alas_a-gasb,\n",
       " alas_a-inp,\n",
       " alas_a-inas,\n",
       " alas_a-insb,\n",
       " alsb_a-si,\n",
       " alsb_a-ge,\n",
       " alsb_a-sige,\n",
       " alsb_a-sn,\n",
       " alsb_a-snsi,\n",
       " alsb_a-gesn,\n",
       " alsb_a-gaas,\n",
       " alsb_a-alp,\n",
       " alsb_a-alas,\n",
       " alsb_a-alsb,\n",
       " alsb_a-gap,\n",
       " alsb_a-gasb,\n",
       " alsb_a-inp,\n",
       " alsb_a-inas,\n",
       " alsb_a-insb,\n",
       " gap_a-si,\n",
       " gap_a-ge,\n",
       " gap_a-sige,\n",
       " gap_a-sn,\n",
       " gap_a-snsi,\n",
       " gap_a-gesn,\n",
       " gap_a-gaas,\n",
       " gap_a-alp,\n",
       " gap_a-alas,\n",
       " gap_a-alsb,\n",
       " gap_a-gap,\n",
       " gap_a-gasb,\n",
       " gap_a-inp,\n",
       " gap_a-inas,\n",
       " gap_a-insb,\n",
       " gasb_a-si,\n",
       " gasb_a-ge,\n",
       " gasb_a-sige,\n",
       " gasb_a-sn,\n",
       " gasb_a-snsi,\n",
       " gasb_a-gesn,\n",
       " gasb_a-gaas,\n",
       " gasb_a-alp,\n",
       " gasb_a-alas,\n",
       " gasb_a-alsb,\n",
       " gasb_a-gap,\n",
       " gasb_a-gasb,\n",
       " gasb_a-inp,\n",
       " gasb_a-inas,\n",
       " gasb_a-insb,\n",
       " inp_a-si,\n",
       " inp_a-ge,\n",
       " inp_a-sige,\n",
       " inp_a-sn,\n",
       " inp_a-snsi,\n",
       " inp_a-gesn,\n",
       " inp_a-gaas,\n",
       " inp_a-alp,\n",
       " inp_a-alas,\n",
       " inp_a-alsb,\n",
       " inp_a-gap,\n",
       " inp_a-gasb,\n",
       " inp_a-inp,\n",
       " inp_a-inas,\n",
       " inp_a-insb,\n",
       " inas_a-si,\n",
       " inas_a-ge,\n",
       " inas_a-sige,\n",
       " inas_a-sn,\n",
       " inas_a-snsi,\n",
       " inas_a-gesn,\n",
       " inas_a-gaas,\n",
       " inas_a-alp,\n",
       " inas_a-alas,\n",
       " inas_a-alsb,\n",
       " inas_a-gap,\n",
       " inas_a-gasb,\n",
       " inas_a-inp,\n",
       " inas_a-inas,\n",
       " inas_a-insb,\n",
       " insb_a-si,\n",
       " insb_a-ge,\n",
       " insb_a-sige,\n",
       " insb_a-sn,\n",
       " insb_a-snsi,\n",
       " insb_a-gesn,\n",
       " insb_a-gaas,\n",
       " insb_a-alp,\n",
       " insb_a-alas,\n",
       " insb_a-alsb,\n",
       " insb_a-gap,\n",
       " insb_a-gasb,\n",
       " insb_a-inp,\n",
       " insb_a-inas,\n",
       " insb_a-insb]"
      ]
     },
     "execution_count": 10,
     "metadata": {},
     "output_type": "execute_result"
    }
   ],
   "source": [
    "mols"
   ]
  },
  {
   "cell_type": "code",
   "execution_count": null,
   "metadata": {
    "collapsed": true
   },
   "outputs": [],
   "source": []
  }
 ],
 "metadata": {
  "kernelspec": {
   "display_name": "Python 2",
   "language": "python",
   "name": "python2"
  },
  "language_info": {
   "codemirror_mode": {
    "name": "ipython",
    "version": 2
   },
   "file_extension": ".py",
   "mimetype": "text/x-python",
   "name": "python",
   "nbconvert_exporter": "python",
   "pygments_lexer": "ipython2",
   "version": "2.7.14"
  }
 },
 "nbformat": 4,
 "nbformat_minor": 2
}
