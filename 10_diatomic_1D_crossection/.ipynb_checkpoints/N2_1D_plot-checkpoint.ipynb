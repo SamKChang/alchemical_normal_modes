{
 "cells": [
  {
   "cell_type": "code",
   "execution_count": 40,
   "metadata": {},
   "outputs": [],
   "source": [
    "import qctoolkit as qtk\n",
    "from matplotlib import pyplot as plt\n",
    "import numpy as np\n",
    "from copy import deepcopy\n",
    "from glob import glob\n",
    "import os\n",
    "import itertools\n",
    "\n",
    "#Note inline and notebook is contradicting to each other\n",
    "%matplotlib inline"
   ]
  },
  {
   "cell_type": "code",
   "execution_count": 41,
   "metadata": {},
   "outputs": [],
   "source": [
    "def get_outs(i, root='gaussian_N2_1D'):\n",
    "    qtk.setting.quiet = True\n",
    "    outs = []\n",
    "    sys_names = ['HAl', 'HeMg', 'LiNa', 'BeNe', 'BF', 'CO', 'N2']\n",
    "    for sys in sys_names:\n",
    "        path = glob('%s/diff_%s_%d/*.log' % (root, sys, i))[0]\n",
    "        outs.append(qtk.QMOut(path, program='gaussian'))\n",
    "    qtk.setting.quiet = False\n",
    "    return outs\n",
    "\n",
    "def get_htouts(i, root='gaussian_N2_1D'):\n",
    "    qtk.setting.quiet = True\n",
    "    outs = []\n",
    "    sys_names = ['HAl', 'HeMg', 'LiNa', 'BeNe', 'BF', 'CO', 'N2']\n",
    "    for sys in sys_names:\n",
    "        path = glob('%s/diff_%s_%d/*.log' % (root, sys, i))[0]\n",
    "        out = qtk.QMOut(path, program='gaussian')\n",
    "        outs.append(out.as_horton())\n",
    "    qtk.setting.quiet = False\n",
    "    return outs\n",
    "\n",
    "outs_grp = [get_outs(i) for i in range(3)]\n",
    "htouts_grp = [get_htouts(i) for i in range(3)]"
   ]
  },
  {
   "cell_type": "code",
   "execution_count": 42,
   "metadata": {},
   "outputs": [
    {
     "data": {
      "text/plain": [
       "['diff_HAl_0.log',\n",
       " 'diff_HeMg_0.log',\n",
       " 'diff_LiNa_0.log',\n",
       " 'diff_BeNe_0.log',\n",
       " 'diff_BF_0.log',\n",
       " 'diff_CO_0.log',\n",
       " 'diff_N2_0.log']"
      ]
     },
     "execution_count": 42,
     "metadata": {},
     "output_type": "execute_result"
    }
   ],
   "source": [
    "[o.name for o in outs_grp[0]]"
   ]
  },
  {
   "cell_type": "code",
   "execution_count": 44,
   "metadata": {},
   "outputs": [
    {
     "data": {
      "text/plain": [
       "[<matplotlib.lines.Line2D at 0x14cd53193890>]"
      ]
     },
     "execution_count": 44,
     "metadata": {},
     "output_type": "execute_result"
    },
    {
     "data": {
      "image/png": "[encoded data removed]",
      "text/plain": [
       "<matplotlib.figure.Figure at 0x14cd727d2810>"
      ]
     },
     "metadata": {},
     "output_type": "display_data"
    }
   ],
   "source": [
    "plt.plot([o.Et for o in outs_grp[0]])"
   ]
  },
  {
   "cell_type": "code",
   "execution_count": 51,
   "metadata": {},
   "outputs": [],
   "source": [
    "def get_d1E(i):\n",
    "    d1E = []\n",
    "    for hto in htouts_grp[i]:\n",
    "        dV_ao = hto.dV_ao_ZRCoords([[1, 0, 0, 0], [-1, 1.1, 0, 0]])\n",
    "        d1E.append(hto.d1E(dV_ao))\n",
    "    return d1E\n",
    "    \n",
    "d1E_grp = [get_d1E(i) for i in range(3)]"
   ]
  },
  {
   "cell_type": "code",
   "execution_count": 52,
   "metadata": {},
   "outputs": [
    {
     "data": {
      "text/plain": [
       "[[37.880588644351285,\n",
       "  32.04012956695671,\n",
       "  25.840447824057623,\n",
       "  19.688711790992997,\n",
       "  13.138276490967955,\n",
       "  6.805857249918195,\n",
       "  0.3251715513385976],\n",
       " [37.3969156845661,\n",
       "  31.751260390096423,\n",
       "  25.528938058909194,\n",
       "  19.383054682283746,\n",
       "  12.827662243860493,\n",
       "  6.4839144563299795,\n",
       "  2.494406473261537e-07],\n",
       " [37.12453624097394,\n",
       "  31.441799458647314,\n",
       "  25.21793152409299,\n",
       "  19.077283378164097,\n",
       "  12.516359186852183,\n",
       "  6.161635024333106,\n",
       "  -0.3251710400709766]]"
      ]
     },
     "execution_count": 52,
     "metadata": {},
     "output_type": "execute_result"
    }
   ],
   "source": [
    "d1E_grp"
   ]
  },
  {
   "cell_type": "code",
   "execution_count": null,
   "metadata": {
    "collapsed": true
   },
   "outputs": [],
   "source": []
  }
 ],
 "metadata": {
  "kernelspec": {
   "display_name": "Python 2",
   "language": "python",
   "name": "python2"
  },
  "language_info": {
   "codemirror_mode": {
    "name": "ipython",
    "version": 2
   },
   "file_extension": ".py",
   "mimetype": "text/x-python",
   "name": "python",
   "nbconvert_exporter": "python",
   "pygments_lexer": "ipython2",
   "version": "2.7.14"
  }
 },
 "nbformat": 4,
 "nbformat_minor": 2
}
