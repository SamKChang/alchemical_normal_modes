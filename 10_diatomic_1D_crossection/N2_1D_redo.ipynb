{
 "cells": [
  {
   "cell_type": "code",
   "execution_count": 2,
   "metadata": {},
   "outputs": [],
   "source": [
    "import qctoolkit as qtk\n",
    "from matplotlib import pyplot as plt\n",
    "import numpy as np\n",
    "from copy import deepcopy\n",
    "from glob import glob\n",
    "import os\n",
    "import itertools\n",
    "\n",
    "#Note inline and notebook is contradicting to each other\n",
    "%matplotlib inline"
   ]
  },
  {
   "cell_type": "code",
   "execution_count": 4,
   "metadata": {
    "collapsed": true
   },
   "outputs": [],
   "source": [
    "qmsetting_production = {\n",
    "    'program': 'gaussian',\n",
    "    'basis_set': 'cc-pVDZ',\n",
    "    'theory': 'pbe',\n",
    "    'threads': 1,\n",
    "}\n",
    "    \n",
    "with open('ccpvdz_ne_gbasis.txt') as f:\n",
    "    ne_basis = f.readlines()\n",
    "    \n",
    "qmsetting_pbe_same_basis = {\n",
    "    'program': 'gaussian',\n",
    "    #'basis_set': ar_basis, gaussian failed too many simple basis function?\n",
    "    'basis_set': ne_basis,\n",
    "    'theory': 'pbe',\n",
    "    'threads': 1,\n",
    "}"
   ]
  },
  {
   "cell_type": "code",
   "execution_count": 27,
   "metadata": {
    "collapsed": true
   },
   "outputs": [],
   "source": [
    "#Z_list = range(1, 14)\n",
    "Z_list = range(1, 8)\n",
    "\n",
    "def FD_diff_1D(qmsetting, base=[7,7,1.1], dz=0.05, get_mols=False, R=1.1):\n",
    "    FD_dZ = [[base[0]-dz, base[1]+dz], False, [base[0]+dz, base[1]-dz]]\n",
    "    mols = []\n",
    "    inps = []\n",
    "    for z, Z in enumerate(Z_list):\n",
    "        for i, fd_dz in enumerate(FD_dZ):\n",
    "            mol = qtk.Molecule()\n",
    "            mol.build([[Z, 0, 0, 0], [14 - Z, R, 0, 0]])\n",
    "            mol.name = 'diff_' + mol.name + '_%d' % i\n",
    "            if (base[0] + base[1]) % 2 != 0:\n",
    "                mol.setChargeMultiplicity(0, 2)\n",
    "            inp = qtk.QMInp(mol, nuclear_charges=fd_dz, **qmsetting)\n",
    "                \n",
    "            inps.append(inp)\n",
    "            mols.append(mol)\n",
    "    if get_mols:\n",
    "        return inps, mols\n",
    "    else:\n",
    "        return inps"
   ]
  },
  {
   "cell_type": "code",
   "execution_count": 28,
   "metadata": {
    "collapsed": true
   },
   "outputs": [],
   "source": [
    "inps = FD_diff_1D(qmsetting_pbe_same_basis)"
   ]
  },
  {
   "cell_type": "code",
   "execution_count": 29,
   "metadata": {},
   "outputs": [
    {
     "name": "stdout",
     "output_type": "stream",
     "text": [
      "\u001b[93moverwrite existing folder gaussian_N2_1D\u001b[0m\n",
      "\u001b[96m\u001b[1mqmWriteAll:\u001b[0m compression completed \n"
     ]
    }
   ],
   "source": [
    "qtk.qmWriteAll(inps, 'gaussian_N2_1D', compress=True, overwrite=True)"
   ]
  },
  {
   "cell_type": "code",
   "execution_count": null,
   "metadata": {
    "collapsed": true
   },
   "outputs": [],
   "source": []
  }
 ],
 "metadata": {
  "kernelspec": {
   "display_name": "Python 2",
   "language": "python",
   "name": "python2"
  },
  "language_info": {
   "codemirror_mode": {
    "name": "ipython",
    "version": 2
   },
   "file_extension": ".py",
   "mimetype": "text/x-python",
   "name": "python",
   "nbconvert_exporter": "python",
   "pygments_lexer": "ipython2",
   "version": "2.7.13"
  }
 },
 "nbformat": 4,
 "nbformat_minor": 2
}
