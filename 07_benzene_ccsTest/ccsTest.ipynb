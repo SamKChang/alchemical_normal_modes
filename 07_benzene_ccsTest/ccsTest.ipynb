{
 "cells": [
  {
   "cell_type": "code",
   "execution_count": 1,
   "metadata": {},
   "outputs": [
    {
     "name": "stderr",
     "output_type": "stream",
     "text": [
      "/home/samio/local/miniconda2/lib/python2.7/site-packages/h5py/__init__.py:36: FutureWarning: Conversion of the second argument of issubdtype from `float` to `np.floating` is deprecated. In future, it will be treated as `np.float64 == np.dtype(float).type`.\n",
      "  from ._conv import register_converters as _register_converters\n"
     ]
    }
   ],
   "source": [
    "import qctoolkit as qtk\n",
    "import numpy as np"
   ]
  },
  {
   "cell_type": "code",
   "execution_count": 5,
   "metadata": {},
   "outputs": [
    {
     "name": "stdout",
     "output_type": "stream",
     "text": [
      " ===== CCS REPORT ===== \n",
      "\u001b[96m\u001b[1mgenerating molecule:\u001b[0m benzene \n",
      "\u001b[96m\u001b[1mccs parameter file:\u001b[0m ccs.yml \n",
      "\u001b[96m\u001b[1mmutation indices:\u001b[0m [[0, 1, 2, 3, 4, 5]] \n",
      "\u001b[96m\u001b[1mtarget atomic numbers:\u001b[0m [[5, 6, 7]] \n",
      "\u001b[96m\u001b[1mlength of mutation vector:\u001b[0m 6 <=> [6] \n",
      "\u001b[96m\u001b[1mZ_sum:\u001b[0m 42 \n",
      "\u001b[96m\u001b[1melement_count:\u001b[0m {'B': [1], 'N': [1]} \n",
      "\u001b[94mccs coordinate:\u001b[0m ['m', 'm', 'm', 'm', 'm', 'm'] \n",
      " ========= END ======== \n"
     ]
    }
   ],
   "source": [
    "mol = qtk.Molecule('benzene.xyz')\n",
    "ccs = qtk.CCS(mol, 'ccs.yml')"
   ]
  },
  {
   "cell_type": "code",
   "execution_count": 6,
   "metadata": {},
   "outputs": [
    {
     "name": "stdout",
     "output_type": "stream",
     "text": [
      "{'B': [1], 'N': [1]}\n"
     ]
    }
   ],
   "source": [
    "print ccs.element_count"
   ]
  },
  {
   "cell_type": "code",
   "execution_count": 28,
   "metadata": {},
   "outputs": [
    {
     "name": "stdout",
     "output_type": "stream",
     "text": [
      "[[6, 6, 5.0, 6, 7.0, 6]] [[6, 6, 7.0, 6, 6, 5.0]]\n"
     ]
    }
   ],
   "source": [
    "crd1 = ccs.random()[1]\n",
    "crd2 = ccs.random()[1]\n",
    "print crd1['mutation'], crd2['mutation']"
   ]
  },
  {
   "cell_type": "code",
   "execution_count": 31,
   "metadata": {},
   "outputs": [
    {
     "data": {
      "text/plain": [
       "{'mutation': [[6.0, 6.0, 5.0, 6.0, 7.0, 6.0]]}"
      ]
     },
     "execution_count": 31,
     "metadata": {},
     "output_type": "execute_result"
    }
   ],
   "source": [
    "ccs.mate(crd1, crd2, 0.05)"
   ]
  }
 ],
 "metadata": {
  "kernelspec": {
   "display_name": "Python 2",
   "language": "python",
   "name": "python2"
  },
  "language_info": {
   "codemirror_mode": {
    "name": "ipython",
    "version": 2
   },
   "file_extension": ".py",
   "mimetype": "text/x-python",
   "name": "python",
   "nbconvert_exporter": "python",
   "pygments_lexer": "ipython2",
   "version": "2.7.13"
  }
 },
 "nbformat": 4,
 "nbformat_minor": 2
}
