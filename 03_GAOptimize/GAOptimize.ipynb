{
 "cells": [
  {
   "cell_type": "code",
   "execution_count": 1,
   "metadata": {},
   "outputs": [
    {
     "name": "stderr",
     "output_type": "stream",
     "text": [
      "/home/samio/local/miniconda2/lib/python2.7/site-packages/h5py/__init__.py:36: FutureWarning: Conversion of the second argument of issubdtype from `float` to `np.floating` is deprecated. In future, it will be treated as `np.float64 == np.dtype(float).type`.\n",
      "  from ._conv import register_converters as _register_converters\n"
     ]
    },
    {
     "name": "stdout",
     "output_type": "stream",
     "text": [
      "\u001b[93mmissing file: mov2asc\u001b[0m\n",
      "\u001b[93mplease modify /path/to/qctoolkit/setting.py and recompile.\u001b[0m\n"
     ]
    }
   ],
   "source": [
    "import qctoolkit as qtk\n",
    "import numpy as np\n",
    "from matplotlib import pyplot as plt\n",
    "import os\n",
    "from datetime import datetime\n",
    "import ast\n",
    "from subprocess import call\n",
    "\n",
    "%matplotlib inline"
   ]
  },
  {
   "cell_type": "markdown",
   "metadata": {},
   "source": [
    "# Set up CCS and GA optimizer\n",
    "__Required__ files include:\n",
    "* base molecule file in the format of: molname.xyz\n",
    "* Hydrogens must be at the bottom of the file\n",
    "* first order derivative data: data_molname_1st.npz (in Z space)\n",
    "* second order derivative data: data_molname.npz (in normal mode space)\n",
    "\n",
    "By doing this with the correct file names, one only need to choose the base molecule xyz file to load all others"
   ]
  },
  {
   "cell_type": "code",
   "execution_count": 2,
   "metadata": {
    "collapsed": true
   },
   "outputs": [],
   "source": [
    "mol_base = qtk.Molecule('coronene.xyz')"
   ]
  },
  {
   "cell_type": "code",
   "execution_count": 3,
   "metadata": {
    "collapsed": true
   },
   "outputs": [],
   "source": [
    "mol_name = os.path.splitext(mol_base.name)[0]\n",
    "ccs_input = mol_name + '.yml'\n",
    "mol_data = np.load('data_' + mol_name + '.npz')\n",
    "d1E_data = np.load('data_' + mol_name + '_1st.npz')\n",
    "ev_data = mol_data['v']\n",
    "ew_data = mol_data['w']\n",
    "d1E_Z = d1E_data['arr_0']\n",
    "N_heavy = int(np.ones(mol_base.N)[mol_base.Z > 1].sum())"
   ]
  },
  {
   "cell_type": "code",
   "execution_count": 4,
   "metadata": {},
   "outputs": [
    {
     "name": "stdout",
     "output_type": "stream",
     "text": [
      "\u001b[96m\u001b[1mDB:\u001b[0m loading existing database: ga_coronene.log \n",
      " ===== CCS REPORT ===== \n",
      "\u001b[96m\u001b[1mgenerating molecule:\u001b[0m coronene \n",
      "\u001b[96m\u001b[1mccs parameter file:\u001b[0m coronene.yml \n",
      "\u001b[96m\u001b[1mmutation indices:\u001b[0m [[0, 1, 2, 3, 4, 5, 6, 7, 8, 9, 10, 11, 12, 13, 14, 15, 16, 17, 18, 19, 20, 21, 22, 23]] \n",
      "\u001b[96m\u001b[1mtarget atomic numbers:\u001b[0m [[5, 6, 7]] \n",
      "\u001b[96m\u001b[1mlength of mutation vector:\u001b[0m 24 <=> [24] \n",
      "\u001b[94mccs coordinate:\u001b[0m ['m', 'm', 'm', 'm', 'm', 'm', 'm', 'm', 'm', 'm', 'm', 'm', 'm', 'm', 'm', 'm', 'm', 'm', 'm', 'm', 'm', 'm', 'm', 'm'] \n",
      " ========= END ======== \n"
     ]
    }
   ],
   "source": [
    "log_file = 'ga_' + mol_name + '.log'\n",
    "log = qtk.Logger(log_file)\n",
    "ccs = qtk.CCS(mol_base, ccs_input)\n",
    "\n",
    "#ccs.constraint = False"
   ]
  },
  {
   "cell_type": "code",
   "execution_count": 5,
   "metadata": {},
   "outputs": [
    {
     "name": "stdout",
     "output_type": "stream",
     "text": [
      "coronene_BN01.yml  coronene_BN12.yml        optimization_back.db\r\n",
      "coronene_BN02.yml  coronene.xyz             optimization.db\r\n",
      "coronene_BN03.yml  coronene.yml             \u001b[0m\u001b[01;35mopt_mol_00.svg\u001b[0m\r\n",
      "coronene_BN04.yml  data_coronene_1st.npz    \u001b[01;35mopt_mol_01.svg\u001b[0m\r\n",
      "coronene_BN05.yml  data_coronene.npz        \u001b[01;35mopt_mol_02.svg\u001b[0m\r\n",
      "coronene_BN06.yml  ga_coronene.log          \u001b[01;35mopt_mol_03.svg\u001b[0m\r\n",
      "coronene_BN07.yml  \u001b[01;34mGAOptimize_coronene\u001b[0m/     opt_validate_6k.db\r\n",
      "coronene_BN08.yml  \u001b[01;31mGAOptimize_coronene.zip\u001b[0m  \u001b[01;35mtarget_mol.svg\u001b[0m\r\n",
      "coronene_BN09.yml  GAOptimize.ipynb         test.xyz\r\n",
      "coronene_BN10.yml  generate_coronene_BN.sh  tmp.pdb\r\n",
      "coronene_BN11.yml  new.db                   tmp.xyz\r\n"
     ]
    }
   ],
   "source": [
    "ls"
   ]
  },
  {
   "cell_type": "code",
   "execution_count": 6,
   "metadata": {},
   "outputs": [
    {
     "name": "stdout",
     "output_type": "stream",
     "text": [
      "coronene_BN01.yml\n",
      " ===== CCS REPORT ===== \n",
      "\u001b[96m\u001b[1mgenerating molecule:\u001b[0m coronene \n",
      "\u001b[96m\u001b[1mccs parameter file:\u001b[0m coronene_BN01.yml \n",
      "\u001b[96m\u001b[1mmutation indices:\u001b[0m [[0, 1, 2, 3, 4, 5, 6, 7, 8, 9, 10, 11, 12, 13, 14, 15, 16, 17, 18, 19, 20, 21, 22, 23]] \n",
      "\u001b[96m\u001b[1mtarget atomic numbers:\u001b[0m [[5, 6, 7]] \n",
      "\u001b[96m\u001b[1mlength of mutation vector:\u001b[0m 24 <=> [24] \n",
      "\u001b[94mccs coordinate:\u001b[0m ['m', 'm', 'm', 'm', 'm', 'm', 'm', 'm', 'm', 'm', 'm', 'm', 'm', 'm', 'm', 'm', 'm', 'm', 'm', 'm', 'm', 'm', 'm', 'm'] \n",
      " ========= END ======== \n",
      "coronene_BN02.yml\n",
      " ===== CCS REPORT ===== \n",
      "\u001b[96m\u001b[1mgenerating molecule:\u001b[0m coronene \n",
      "\u001b[96m\u001b[1mccs parameter file:\u001b[0m coronene_BN02.yml \n",
      "\u001b[96m\u001b[1mmutation indices:\u001b[0m [[0, 1, 2, 3, 4, 5, 6, 7, 8, 9, 10, 11, 12, 13, 14, 15, 16, 17, 18, 19, 20, 21, 22, 23]] \n",
      "\u001b[96m\u001b[1mtarget atomic numbers:\u001b[0m [[5, 6, 7]] \n",
      "\u001b[96m\u001b[1mlength of mutation vector:\u001b[0m 24 <=> [24] \n",
      "\u001b[94mccs coordinate:\u001b[0m ['m', 'm', 'm', 'm', 'm', 'm', 'm', 'm', 'm', 'm', 'm', 'm', 'm', 'm', 'm', 'm', 'm', 'm', 'm', 'm', 'm', 'm', 'm', 'm'] \n",
      " ========= END ======== \n",
      "coronene_BN03.yml\n",
      " ===== CCS REPORT ===== \n",
      "\u001b[96m\u001b[1mgenerating molecule:\u001b[0m coronene \n",
      "\u001b[96m\u001b[1mccs parameter file:\u001b[0m coronene_BN03.yml \n",
      "\u001b[96m\u001b[1mmutation indices:\u001b[0m [[0, 1, 2, 3, 4, 5, 6, 7, 8, 9, 10, 11, 12, 13, 14, 15, 16, 17, 18, 19, 20, 21, 22, 23]] \n",
      "\u001b[96m\u001b[1mtarget atomic numbers:\u001b[0m [[5, 6, 7]] \n",
      "\u001b[96m\u001b[1mlength of mutation vector:\u001b[0m 24 <=> [24] \n",
      "\u001b[94mccs coordinate:\u001b[0m ['m', 'm', 'm', 'm', 'm', 'm', 'm', 'm', 'm', 'm', 'm', 'm', 'm', 'm', 'm', 'm', 'm', 'm', 'm', 'm', 'm', 'm', 'm', 'm'] \n",
      " ========= END ======== \n",
      "coronene_BN04.yml\n",
      " ===== CCS REPORT ===== \n",
      "\u001b[96m\u001b[1mgenerating molecule:\u001b[0m coronene \n",
      "\u001b[96m\u001b[1mccs parameter file:\u001b[0m coronene_BN04.yml \n",
      "\u001b[96m\u001b[1mmutation indices:\u001b[0m [[0, 1, 2, 3, 4, 5, 6, 7, 8, 9, 10, 11, 12, 13, 14, 15, 16, 17, 18, 19, 20, 21, 22, 23]] \n",
      "\u001b[96m\u001b[1mtarget atomic numbers:\u001b[0m [[5, 6, 7]] \n",
      "\u001b[96m\u001b[1mlength of mutation vector:\u001b[0m 24 <=> [24] \n",
      "\u001b[94mccs coordinate:\u001b[0m ['m', 'm', 'm', 'm', 'm', 'm', 'm', 'm', 'm', 'm', 'm', 'm', 'm', 'm', 'm', 'm', 'm', 'm', 'm', 'm', 'm', 'm', 'm', 'm'] \n",
      " ========= END ======== \n",
      "coronene_BN05.yml\n",
      " ===== CCS REPORT ===== \n",
      "\u001b[96m\u001b[1mgenerating molecule:\u001b[0m coronene \n",
      "\u001b[96m\u001b[1mccs parameter file:\u001b[0m coronene_BN05.yml \n",
      "\u001b[96m\u001b[1mmutation indices:\u001b[0m [[0, 1, 2, 3, 4, 5, 6, 7, 8, 9, 10, 11, 12, 13, 14, 15, 16, 17, 18, 19, 20, 21, 22, 23]] \n",
      "\u001b[96m\u001b[1mtarget atomic numbers:\u001b[0m [[5, 6, 7]] \n",
      "\u001b[96m\u001b[1mlength of mutation vector:\u001b[0m 24 <=> [24] \n",
      "\u001b[94mccs coordinate:\u001b[0m ['m', 'm', 'm', 'm', 'm', 'm', 'm', 'm', 'm', 'm', 'm', 'm', 'm', 'm', 'm', 'm', 'm', 'm', 'm', 'm', 'm', 'm', 'm', 'm'] \n",
      " ========= END ======== \n",
      "coronene_BN06.yml\n",
      " ===== CCS REPORT ===== \n",
      "\u001b[96m\u001b[1mgenerating molecule:\u001b[0m coronene \n",
      "\u001b[96m\u001b[1mccs parameter file:\u001b[0m coronene_BN06.yml \n",
      "\u001b[96m\u001b[1mmutation indices:\u001b[0m [[0, 1, 2, 3, 4, 5, 6, 7, 8, 9, 10, 11, 12, 13, 14, 15, 16, 17, 18, 19, 20, 21, 22, 23]] \n",
      "\u001b[96m\u001b[1mtarget atomic numbers:\u001b[0m [[5, 6, 7]] \n",
      "\u001b[96m\u001b[1mlength of mutation vector:\u001b[0m 24 <=> [24] \n",
      "\u001b[94mccs coordinate:\u001b[0m ['m', 'm', 'm', 'm', 'm', 'm', 'm', 'm', 'm', 'm', 'm', 'm', 'm', 'm', 'm', 'm', 'm', 'm', 'm', 'm', 'm', 'm', 'm', 'm'] \n",
      " ========= END ======== \n",
      "coronene_BN07.yml\n",
      " ===== CCS REPORT ===== \n",
      "\u001b[96m\u001b[1mgenerating molecule:\u001b[0m coronene \n",
      "\u001b[96m\u001b[1mccs parameter file:\u001b[0m coronene_BN07.yml \n",
      "\u001b[96m\u001b[1mmutation indices:\u001b[0m [[0, 1, 2, 3, 4, 5, 6, 7, 8, 9, 10, 11, 12, 13, 14, 15, 16, 17, 18, 19, 20, 21, 22, 23]] \n",
      "\u001b[96m\u001b[1mtarget atomic numbers:\u001b[0m [[5, 6, 7]] \n",
      "\u001b[96m\u001b[1mlength of mutation vector:\u001b[0m 24 <=> [24] \n",
      "\u001b[94mccs coordinate:\u001b[0m ['m', 'm', 'm', 'm', 'm', 'm', 'm', 'm', 'm', 'm', 'm', 'm', 'm', 'm', 'm', 'm', 'm', 'm', 'm', 'm', 'm', 'm', 'm', 'm'] \n",
      " ========= END ======== \n",
      "coronene_BN08.yml\n",
      " ===== CCS REPORT ===== \n",
      "\u001b[96m\u001b[1mgenerating molecule:\u001b[0m coronene \n",
      "\u001b[96m\u001b[1mccs parameter file:\u001b[0m coronene_BN08.yml \n",
      "\u001b[96m\u001b[1mmutation indices:\u001b[0m [[0, 1, 2, 3, 4, 5, 6, 7, 8, 9, 10, 11, 12, 13, 14, 15, 16, 17, 18, 19, 20, 21, 22, 23]] \n",
      "\u001b[96m\u001b[1mtarget atomic numbers:\u001b[0m [[5, 6, 7]] \n",
      "\u001b[96m\u001b[1mlength of mutation vector:\u001b[0m 24 <=> [24] \n",
      "\u001b[94mccs coordinate:\u001b[0m ['m', 'm', 'm', 'm', 'm', 'm', 'm', 'm', 'm', 'm', 'm', 'm', 'm', 'm', 'm', 'm', 'm', 'm', 'm', 'm', 'm', 'm', 'm', 'm'] \n",
      " ========= END ======== \n",
      "coronene_BN09.yml\n",
      " ===== CCS REPORT ===== \n",
      "\u001b[96m\u001b[1mgenerating molecule:\u001b[0m coronene \n",
      "\u001b[96m\u001b[1mccs parameter file:\u001b[0m coronene_BN09.yml \n",
      "\u001b[96m\u001b[1mmutation indices:\u001b[0m [[0, 1, 2, 3, 4, 5, 6, 7, 8, 9, 10, 11, 12, 13, 14, 15, 16, 17, 18, 19, 20, 21, 22, 23]] \n",
      "\u001b[96m\u001b[1mtarget atomic numbers:\u001b[0m [[5, 6, 7]] \n",
      "\u001b[96m\u001b[1mlength of mutation vector:\u001b[0m 24 <=> [24] \n",
      "\u001b[94mccs coordinate:\u001b[0m ['m', 'm', 'm', 'm', 'm', 'm', 'm', 'm', 'm', 'm', 'm', 'm', 'm', 'm', 'm', 'm', 'm', 'm', 'm', 'm', 'm', 'm', 'm', 'm'] \n",
      " ========= END ======== \n",
      "coronene_BN10.yml\n",
      " ===== CCS REPORT ===== \n",
      "\u001b[96m\u001b[1mgenerating molecule:\u001b[0m coronene \n",
      "\u001b[96m\u001b[1mccs parameter file:\u001b[0m coronene_BN10.yml \n",
      "\u001b[96m\u001b[1mmutation indices:\u001b[0m [[0, 1, 2, 3, 4, 5, 6, 7, 8, 9, 10, 11, 12, 13, 14, 15, 16, 17, 18, 19, 20, 21, 22, 23]] \n",
      "\u001b[96m\u001b[1mtarget atomic numbers:\u001b[0m [[5, 6, 7]] \n",
      "\u001b[96m\u001b[1mlength of mutation vector:\u001b[0m 24 <=> [24] \n",
      "\u001b[94mccs coordinate:\u001b[0m ['m', 'm', 'm', 'm', 'm', 'm', 'm', 'm', 'm', 'm', 'm', 'm', 'm', 'm', 'm', 'm', 'm', 'm', 'm', 'm', 'm', 'm', 'm', 'm'] \n",
      " ========= END ======== \n",
      "coronene_BN11.yml\n",
      " ===== CCS REPORT ===== \n",
      "\u001b[96m\u001b[1mgenerating molecule:\u001b[0m coronene \n",
      "\u001b[96m\u001b[1mccs parameter file:\u001b[0m coronene_BN11.yml \n",
      "\u001b[96m\u001b[1mmutation indices:\u001b[0m [[0, 1, 2, 3, 4, 5, 6, 7, 8, 9, 10, 11, 12, 13, 14, 15, 16, 17, 18, 19, 20, 21, 22, 23]] \n",
      "\u001b[96m\u001b[1mtarget atomic numbers:\u001b[0m [[5, 6, 7]] \n",
      "\u001b[96m\u001b[1mlength of mutation vector:\u001b[0m 24 <=> [24] \n",
      "\u001b[94mccs coordinate:\u001b[0m ['m', 'm', 'm', 'm', 'm', 'm', 'm', 'm', 'm', 'm', 'm', 'm', 'm', 'm', 'm', 'm', 'm', 'm', 'm', 'm', 'm', 'm', 'm', 'm'] \n",
      " ========= END ======== \n",
      "coronene_BN12.yml\n",
      " ===== CCS REPORT ===== \n",
      "\u001b[96m\u001b[1mgenerating molecule:\u001b[0m coronene \n",
      "\u001b[96m\u001b[1mccs parameter file:\u001b[0m coronene_BN12.yml \n",
      "\u001b[96m\u001b[1mmutation indices:\u001b[0m [[0, 1, 2, 3, 4, 5, 6, 7, 8, 9, 10, 11, 12, 13, 14, 15, 16, 17, 18, 19, 20, 21, 22, 23]] \n",
      "\u001b[96m\u001b[1mtarget atomic numbers:\u001b[0m [[5, 6, 7]] \n",
      "\u001b[96m\u001b[1mlength of mutation vector:\u001b[0m 24 <=> [24] \n",
      "\u001b[94mccs coordinate:\u001b[0m ['m', 'm', 'm', 'm', 'm', 'm', 'm', 'm', 'm', 'm', 'm', 'm', 'm', 'm', 'm', 'm', 'm', 'm', 'm', 'm', 'm', 'm', 'm', 'm'] \n",
      " ========= END ======== \n"
     ]
    }
   ],
   "source": [
    "ccs_BNs = []\n",
    "ccs_base_name = 'coronene_BN'\n",
    "for i in range(12):\n",
    "    ccs_name = \"%s%02d.yml\" % (ccs_base_name, i+1)\n",
    "    print ccs_name\n",
    "    ccs_BNs.append(qtk.CCS(mol_base, ccs_name))"
   ]
  },
  {
   "cell_type": "code",
   "execution_count": 7,
   "metadata": {},
   "outputs": [
    {
     "data": {
      "text/plain": [
       "{5: [8]}"
      ]
     },
     "execution_count": 7,
     "metadata": {},
     "output_type": "execute_result"
    }
   ],
   "source": [
    "ccs_t = ccs_BNs[0]\n",
    "ccs_t.element_count"
   ]
  },
  {
   "cell_type": "code",
   "execution_count": null,
   "metadata": {},
   "outputs": [],
   "source": [
    "coord = ccs_t.random()[1]\n",
    "mol = ccs_t.generate(**coord)\n",
    "mol.Z"
   ]
  },
  {
   "cell_type": "markdown",
   "metadata": {},
   "source": [
    "## Test CCS with constraint"
   ]
  },
  {
   "cell_type": "code",
   "execution_count": 5,
   "metadata": {},
   "outputs": [
    {
     "name": "stdout",
     "output_type": "stream",
     "text": [
      "0:00:00.004521\n",
      "156.0\n"
     ]
    }
   ],
   "source": [
    "coord = ccs.random()[1]\n",
    "start = datetime.now()\n",
    "mol = ccs.generate(**coord)\n",
    "print datetime.now() - start\n",
    "print mol.Z.sum()\n",
    "#mol.write('test.xyz')"
   ]
  },
  {
   "cell_type": "code",
   "execution_count": 6,
   "metadata": {
    "collapsed": true
   },
   "outputs": [],
   "source": [
    "mol.write('test.xyz')"
   ]
  },
  {
   "cell_type": "code",
   "execution_count": 7,
   "metadata": {
    "collapsed": true
   },
   "outputs": [],
   "source": [
    "#np.sqrt(np.ones(N_heavy)[molZ != 0].sum())"
   ]
  },
  {
   "cell_type": "code",
   "execution_count": 8,
   "metadata": {},
   "outputs": [
    {
     "name": "stdout",
     "output_type": "stream",
     "text": [
      "3.741657386773941 3.7416573867739413\n"
     ]
    }
   ],
   "source": [
    "molZ = mol.Z[:N_heavy] - mol_base.Z[:N_heavy]\n",
    "molZ_es = ev_data.dot(molZ)\n",
    "print np.linalg.norm(molZ_es), np.linalg.norm(molZ)"
   ]
  },
  {
   "cell_type": "code",
   "execution_count": 9,
   "metadata": {},
   "outputs": [
    {
     "data": {
      "text/plain": [
       "array([7., 7., 6., 5., 7., 7., 6., 7., 5., 7., 5., 6., 6., 6., 6., 5., 5.,\n",
       "       5., 6., 6., 7., 5., 6., 6., 1., 1., 1., 1., 1., 1., 1., 1., 1., 1.,\n",
       "       1., 1.])"
      ]
     },
     "execution_count": 9,
     "metadata": {},
     "output_type": "execute_result"
    }
   ],
   "source": [
    "mol.Z"
   ]
  },
  {
   "cell_type": "markdown",
   "metadata": {},
   "source": [
    "# system dependent functions for GA optimizer"
   ]
  },
  {
   "cell_type": "code",
   "execution_count": 35,
   "metadata": {
    "collapsed": true
   },
   "outputs": [],
   "source": [
    "def genCCSInp():\n",
    "    \"\"\"rapper for GA optimizer\"\"\"\n",
    "    _coord = ccs.random()[1]\n",
    "    return _coord\n",
    "\n",
    "penalty_input = [ccs, {}]\n",
    "\n",
    "def energy_estimate(dZ):\n",
    "    # normal mode decomposition\n",
    "    dZes = dZ.dot(ev_data)\n",
    "    # calculate first/second order estimate\n",
    "    d1E = dZ.dot(d1E_Z)\n",
    "    d2E = (dZes ** 2).dot(ew_data) * 0.5\n",
    "    return d1E + d2E\n",
    "\n",
    "def penalty_function(ccs_coord, ccs, qmsetting_dict={}):\n",
    "\n",
    "    target = -1.41989176\n",
    "    node_name = 'test_run'\n",
    "    time_stamp = datetime.now()\n",
    "\n",
    "    mol_mut = ccs.generate(**ccs_coord)\n",
    "    mol_mut.name = '%s_%s' % (node_name, time_stamp.strftime('%m%d%H%M%S%f')[:11])\n",
    "    mol_mut.name = mol_mut.name + '_' + str(os.getpid())[-3:]\n",
    "    \n",
    "    # construct vector of dZ, lenght of 24 for coronene\n",
    "    mol_mut_dZ = mol_mut.Z[:N_heavy] - mol_base.Z[:N_heavy]\n",
    "    D2E = energy_estimate(mol_mut_dZ)\n",
    "    \n",
    "    return np.sqrt((D2E - target) ** 2), mol_mut.name"
   ]
  },
  {
   "cell_type": "markdown",
   "metadata": {},
   "source": [
    "# test the energy evaluation and penalty function"
   ]
  },
  {
   "cell_type": "code",
   "execution_count": 11,
   "metadata": {},
   "outputs": [
    {
     "name": "stdout",
     "output_type": "stream",
     "text": [
      "(1.763949276578186, 'test_run_02061709380_476')\n",
      "[5. 7. 5. 5. 5. 6. 6. 6. 5. 5. 5. 6. 7. 7. 6. 7. 7. 7. 6. 5. 6. 7. 6. 7.\n",
      " 1. 1. 1. 1. 1. 1. 1. 1. 1. 1. 1. 1.]\n"
     ]
    }
   ],
   "source": [
    "coord_test = ccs.random()[1]\n",
    "print penalty_function(coord_test, ccs)\n",
    "mol_test = ccs.generate(**coord_test)\n",
    "print mol_test.Z"
   ]
  },
  {
   "cell_type": "code",
   "execution_count": 12,
   "metadata": {
    "collapsed": true
   },
   "outputs": [],
   "source": [
    "test_dz = np.loadtxt('../02_ANM_modePlot/data_space?/coronene-dz-02-data.txt')\n",
    "test_dE = np.loadtxt('../02_ANM_modePlot/data_space/coronene-dE-02-data.txt')"
   ]
  },
  {
   "cell_type": "code",
   "execution_count": 13,
   "metadata": {},
   "outputs": [
    {
     "data": {
      "text/plain": [
       "array([-1.41989176, -1.30210093, -1.39547041, -1.40329793, -1.46413607,\n",
       "       -1.4746172 , -1.46517339, -1.48331989, -1.2848788 , -1.46002876,\n",
       "       -1.4763204 , -1.4332661 , -1.4763289 , -1.48164943, -1.43326185,\n",
       "       -1.48541649, -1.36686112])"
      ]
     },
     "execution_count": 13,
     "metadata": {},
     "output_type": "execute_result"
    }
   ],
   "source": [
    "energy_estimate(test_dz)"
   ]
  },
  {
   "cell_type": "code",
   "execution_count": 14,
   "metadata": {},
   "outputs": [
    {
     "data": {
      "text/plain": [
       "array([-1.41989176, -1.3020973 , -1.39547041, -1.40330857, -1.46413607,\n",
       "       -1.4746172 , -1.46517339, -1.48331989, -1.2848788 , -1.46001861,\n",
       "       -1.47632465, -1.43325595, -1.47632465, -1.48165533, -1.43325595,\n",
       "       -1.48541224, -1.36685687])"
      ]
     },
     "execution_count": 14,
     "metadata": {},
     "output_type": "execute_result"
    }
   ],
   "source": [
    "test_dE[:,0]"
   ]
  },
  {
   "cell_type": "markdown",
   "metadata": {},
   "source": [
    "# GA optimizer"
   ]
  },
  {
   "cell_type": "code",
   "execution_count": 15,
   "metadata": {},
   "outputs": [
    {
     "name": "stdout",
     "output_type": "stream",
     "text": [
      "\u001b[96m\u001b[1mDB:\u001b[0m loading existing database: optimization.db \n"
     ]
    }
   ],
   "source": [
    "optimzer = qtk.optimization.GeneticOptimizer(\n",
    "    penalty_function,\n",
    "    penalty_input,\n",
    "    genCCSInp,\n",
    "    ccs.mate,\n",
    "    20,\n",
    "    log_file=log_file,\n",
    "    new_run=False,\n",
    "    max_step=4000,\n",
    ")"
   ]
  },
  {
   "cell_type": "code",
   "execution_count": 16,
   "metadata": {
    "collapsed": true
   },
   "outputs": [],
   "source": [
    "#optimzer.run()"
   ]
  },
  {
   "cell_type": "markdown",
   "metadata": {},
   "source": [
    "# analysis on test GA run"
   ]
  },
  {
   "cell_type": "code",
   "execution_count": 17,
   "metadata": {},
   "outputs": [
    {
     "data": {
      "text/plain": [
       "'2.82E+11'"
      ]
     },
     "execution_count": 17,
     "metadata": {},
     "output_type": "execute_result"
    }
   ],
   "source": [
    "from decimal import Decimal\n",
    "\"%.2E\" % Decimal(3 ** 24)"
   ]
  },
  {
   "cell_type": "markdown",
   "metadata": {},
   "source": [
    "~282 billion"
   ]
  },
  {
   "cell_type": "code",
   "execution_count": 18,
   "metadata": {},
   "outputs": [
    {
     "name": "stdout",
     "output_type": "stream",
     "text": [
      "\u001b[96m\u001b[1mDB:\u001b[0m loading existing database: optimization.db \n"
     ]
    }
   ],
   "source": [
    "opt_log = qtk.Logger('opt_validate_6k.db')"
   ]
  },
  {
   "cell_type": "code",
   "execution_count": 19,
   "metadata": {
    "collapsed": true
   },
   "outputs": [],
   "source": [
    "def hist_plot(ax, opt_log, extract_data=False):\n",
    "    entries = [e for e in opt_log.list(has_data=True) if e.data > 0]\n",
    "    entries_sorted = [e for e in opt_log.list(has_data=True, order='ascent') if e.data > 0]\n",
    "\n",
    "    if extract_data:\n",
    "        outs = []\n",
    "        outs_true = []\n",
    "        for i in range(len(entries)):\n",
    "            out, out_true = extract(i)\n",
    "            if out:\n",
    "                outs.append(out) \n",
    "                outs_true.append(out_true)\n",
    "\n",
    "        outs_sorted = []\n",
    "        outs_true_sorted = []\n",
    "        for i in range(len(entries_sorted)):\n",
    "            out, out_true = extract(i, entries_sorted)\n",
    "            if out:\n",
    "                outs_sorted.append(out) \n",
    "                outs_true_sorted.append(out_true)\n",
    "\n",
    "    Eg_list = [e.data for e in entries]\n",
    "\n",
    "    max_list = []\n",
    "    max_x = []\n",
    "    max_y = []\n",
    "    itr = 0\n",
    "    avg_list = []\n",
    "    for i in range(len(Eg_list)):\n",
    "        Eg = Eg_list[i]\n",
    "        if len(max_list) == 0 or Eg <= min(max_list):\n",
    "            max_list.append(Eg)\n",
    "            max_x.append(i)\n",
    "            max_y.append(Eg)\n",
    "        else:\n",
    "            max_list.append(max_list[-1])\n",
    "        if i > 0:\n",
    "            limit = min(i, 20)\n",
    "            avg_entries = np.array(sorted(Eg_list[:i])[:limit])\n",
    "            avg_list.append(avg_entries.mean())\n",
    "        else:\n",
    "            avg_list.append(Eg)\n",
    "\n",
    "    ax.plot(Eg_list, c='0.7', ls=':', label='searched')\n",
    "    ax.plot(max_list, c='k', lw=1.2, label=r'best')\n",
    "    ax.plot(avg_list, c='b', lw=1.2, ls='--', label=r'avg')\n",
    "    ax.plot(max_x, max_y, ls='', marker='x', mec='k')\n",
    "    #outs[0].plot_band_unfold([[0.5,0,0.25],[0,0,0],[0,0.5,0.5]], [4,4,4], zero_weight_color='0.99')\n",
    "    return avg_list"
   ]
  },
  {
   "cell_type": "code",
   "execution_count": 20,
   "metadata": {},
   "outputs": [
    {
     "data": {
      "image/png": "[encoded data removed]",
      "text/plain": [
       "<matplotlib.figure.Figure at 0x14b780379b90>"
      ]
     },
     "metadata": {},
     "output_type": "display_data"
    }
   ],
   "source": [
    "fig, ax = plt.subplots(1,1)\n",
    "hist_plot(ax, opt_log)\n",
    "pass \n",
    "ax.legend()\n",
    "ax.set_ylabel(r'$|E_{\\rm ele}^{\\rm prd} - E_{\\rm ele}^{\\rm tar}|$ [Ha]')\n",
    "ax.set_xlabel(r'$s$')\n",
    "ax.set_yscale(\"log\", nonposy='clip')"
   ]
  },
  {
   "cell_type": "markdown",
   "metadata": {},
   "source": [
    "# visualization of optimized molecules"
   ]
  },
  {
   "cell_type": "code",
   "execution_count": 21,
   "metadata": {
    "collapsed": true
   },
   "outputs": [],
   "source": [
    "from rdkit import Chem\n",
    "from rdkit.Chem import AllChem\n",
    "\n",
    "from rdkit.Chem.Draw import IPythonConsole #Needed to show molecules\n",
    "from rdkit.Chem.Draw.MolDrawing import MolDrawing, DrawingOptions #Only needed if modifying defaults\n",
    "\n",
    "from rdkit.Chem import rdDepictor\n",
    "from rdkit.Chem.Draw import rdMolDraw2D\n",
    "from IPython.display import SVG, display"
   ]
  },
  {
   "cell_type": "code",
   "execution_count": 22,
   "metadata": {
    "collapsed": true
   },
   "outputs": [],
   "source": [
    "def mol2svg(mol,\n",
    "             molSize=(200,200),\n",
    "             kekulize=False, \n",
    "             index=False,\n",
    "             atom_label=False,\n",
    "             highlight=[],\n",
    "             colors={},\n",
    "             sizes={},\n",
    "            ):\n",
    "    \n",
    "    #drawer = rdMolDraw2D.MolDraw2DSVG(molSize[0],molSize[1], int(.5*molSize[0]), int(molSize[1]*.5))\n",
    "    drawer = rdMolDraw2D.MolDraw2DSVG(molSize[0],molSize[1])\n",
    "    opts = drawer.drawOptions()\n",
    "    kw_drawing = {}\n",
    "    \n",
    "    ##################\n",
    "    # bare bone plot #\n",
    "    ##################\n",
    "    m = Chem.Mol(mol.ToBinary())\n",
    "    if kekulize:\n",
    "        try:\n",
    "            Chem.Kekulize(m)\n",
    "        except:\n",
    "            m = Chem.Mol(mol.ToBinary())\n",
    "    if not m.GetNumConformers():\n",
    "        rdDepictor.Compute2DCoords(m)\n",
    "    \n",
    "    ############\n",
    "    # indexing #\n",
    "    ############\n",
    "    if index:\n",
    "        for i in range(m.GetNumAtoms()):\n",
    "            opts.atomLabels[i] = m.GetAtomWithIdx(i).GetSymbol()+str(i)\n",
    "            \n",
    "    ##############\n",
    "    # atom label #\n",
    "    ##############\n",
    "    if atom_label:\n",
    "        for i in range(m.GetNumAtoms()):\n",
    "            opts.atomLabels[i] = m.GetAtomWithIdx(i).GetSymbol()\n",
    "        \n",
    "    #################\n",
    "    # high lighting #\n",
    "    #################\n",
    "    kw_hl = {\n",
    "        'highlightAtoms': highlight,\n",
    "        'highlightAtomColors': colors,\n",
    "        'highlightAtomRadii': sizes,\n",
    "        'highlightBonds': None,\n",
    "    }\n",
    "    kw_drawing.update(kw_hl)\n",
    "    \n",
    "    drawer.DrawMolecule(m, **kw_drawing)\n",
    "    drawer.FinishDrawing()\n",
    "    svg = drawer.GetDrawingText()\n",
    "    return svg.replace('svg:','')"
   ]
  },
  {
   "cell_type": "code",
   "execution_count": 23,
   "metadata": {
    "collapsed": true
   },
   "outputs": [],
   "source": [
    "def rdmol2svglist(m, data):\n",
    "    svg_list = []\n",
    "    for i in range(len(data['w'])):\n",
    "        v = data['v'][:,i]\n",
    "        w = data['w'][i]\n",
    "        color = {}\n",
    "        sizes = {}\n",
    "        highlight = []\n",
    "        for j in range(len(data['w'])):\n",
    "            highlight.append(j)\n",
    "            sizes[j] = v[j]\n",
    "            if v[j] != 0:\n",
    "                if v[j] > 0:\n",
    "                    color[j] = tuple(192./255 for _ in range(3))\n",
    "                elif v[j] < 0:\n",
    "                    color[j] = tuple(.2 for _ in range(3))\n",
    "        kw_bz1 = {\n",
    "            'molSize': (400,400),\n",
    "            'index': False,\n",
    "            # highlights\n",
    "            'highlight': highlight,\n",
    "            'colors': color,\n",
    "            'sizes': sizes\n",
    "        }\n",
    "        svg_list.append(mol2svg(m, **kw_bz1))\n",
    "    return svg_list"
   ]
  },
  {
   "cell_type": "code",
   "execution_count": 24,
   "metadata": {
    "collapsed": true
   },
   "outputs": [],
   "source": [
    "def svg2file(svgs, name):\n",
    "    for i, s in enumerate(svgs):\n",
    "        with open('%s_ev_%02d.svg' % (name, i), 'w') as f:\n",
    "            f.write(s)"
   ]
  },
  {
   "cell_type": "code",
   "execution_count": 25,
   "metadata": {},
   "outputs": [
    {
     "name": "stdout",
     "output_type": "stream",
     "text": [
      "20180117-15:05:45 {'mutation': [[6, 7, 6, 6, 5, 6, 6, 6, 6, 6, 6, 6, 6, 6, 6, 6, 6, 6, 6, 6, 6, 6, 6, 6]]} 0.000000 ('test_run_01171505457_448',)\n",
      "20180117-14:56:18 {'mutation': [[6, 5, 6, 6, 7, 6, 6, 6, 6, 6, 6, 6, 6, 6, 6, 6, 6, 6, 6, 6, 6, 6, 6, 6]]} 0.000000 ('test_run_01171456183_448',)\n",
      "20180117-15:06:23 {'mutation': [[5, 6, 6, 7, 6, 6, 6, 6, 6, 6, 6, 6, 6, 6, 6, 6, 6, 6, 6, 6, 6, 6, 6, 6]]} 0.000000 ('test_run_01171506231_448',)\n",
      "20180117-15:00:28 {'mutation': [[6, 6, 7, 6, 6, 5, 6, 6, 6, 6, 6, 6, 6, 6, 6, 6, 6, 6, 6, 6, 6, 6, 6, 6]]} 0.000000 ('test_run_01171500284_448',)\n",
      "20180117-15:03:19 {'mutation': [[6, 6, 6, 6, 6, 6, 5, 6, 6, 6, 6, 6, 6, 7, 6, 6, 6, 7, 6, 6, 6, 5, 6, 6]]} 0.000433 ('test_run_01171503200_448',)\n",
      "20180117-15:04:47 {'mutation': [[6, 6, 6, 5, 6, 6, 6, 6, 7, 5, 6, 6, 7, 6, 6, 6, 6, 6, 6, 6, 7, 5, 6, 6]]} 0.000571 ('test_run_01171504475_448',)\n",
      "20180117-14:58:05 {'mutation': [[5, 5, 6, 6, 6, 6, 6, 6, 6, 6, 7, 7, 7, 6, 6, 6, 6, 6, 6, 6, 6, 5, 6, 6]]} 0.000928 ('test_run_01171458058_448',)\n",
      "20180117-15:03:32 {'mutation': [[5, 6, 6, 6, 6, 6, 7, 6, 6, 6, 6, 6, 6, 6, 6, 6, 6, 7, 6, 6, 6, 5, 6, 6]]} 0.001512 ('test_run_01171503329_448',)\n",
      "20180117-15:00:52 {'mutation': [[6, 6, 6, 6, 5, 5, 6, 6, 7, 6, 6, 7, 6, 6, 6, 5, 6, 6, 6, 6, 6, 6, 6, 7]]} 0.001864 ('test_run_01171500528_448',)\n",
      "20180117-15:01:59 {'mutation': [[7, 6, 5, 6, 6, 6, 6, 5, 6, 6, 6, 6, 6, 6, 6, 6, 6, 6, 6, 6, 7, 6, 6, 6]]} 0.002526 ('test_run_01171501593_448',)\n"
     ]
    }
   ],
   "source": [
    "opt_mol_list = []\n",
    "for entry in opt_log.list(order='ascent')[:10]:\n",
    "    print entry\n",
    "    mol = ccs.generate(**ast.literal_eval(entry.content))\n",
    "    opt_mol_list.append(mol)"
   ]
  },
  {
   "cell_type": "code",
   "execution_count": 26,
   "metadata": {
    "collapsed": true
   },
   "outputs": [],
   "source": [
    "rdm_list = []\n",
    "for mol in opt_mol_list:\n",
    "    mol.write('tmp.xyz')\n",
    "    os.system(\"obabel -ixyz -opdb tmp.xyz > tmp.pdb\")\n",
    "    rdm_list.append(Chem.MolFromPDBFile('tmp.pdb'))"
   ]
  },
  {
   "cell_type": "code",
   "execution_count": 27,
   "metadata": {
    "collapsed": true
   },
   "outputs": [],
   "source": [
    "def getMol(dZ):\n",
    "    mol = qtk.Molecule()\n",
    "    R = mol_base.R\n",
    "    Z = np.array(mol_base.Z)\n",
    "    Z[:len(dZ)] = Z[:len(dZ)] + np.array(dZ)\n",
    "    ZR = np.hstack([Z[:,np.newaxis], R])\n",
    "    mol.build(ZR)\n",
    "    return mol"
   ]
  },
  {
   "cell_type": "code",
   "execution_count": 28,
   "metadata": {
    "collapsed": true
   },
   "outputs": [],
   "source": [
    "mol_target = getMol(test_dz[0])\n",
    "mol_target.write('tmp.xyz')\n",
    "os.system(\"obabel -ixyz -opdb tmp.xyz > tmp.pdb\")\n",
    "rdm_target = Chem.MolFromPDBFile('tmp.pdb')"
   ]
  },
  {
   "cell_type": "code",
   "execution_count": 29,
   "metadata": {},
   "outputs": [
    {
     "data": {
      "image/svg+xml": [
       "<svg baseProfile=\"full\" height=\"200px\" version=\"1.1\" width=\"200px\" xml:space=\"preserve\" xmlns:rdkit=\"http://www.rdkit.org/xml\" xmlns:svg=\"http://www.w3.org/2000/svg\" xmlns:xlink=\"http://www.w3.org/1999/xlink\">\n",
       "<rect height=\"200\" style=\"opacity:1.0;fill:#FFFFFF;stroke:none\" width=\"200\" x=\"0\" y=\"0\"> </rect>\n",
       "<ellipse cx=\"100\" cy=\"69.3722\" rx=\"8.54927\" ry=\"8.54927\" style=\"fill:#FF7F7F;fill-rule:evenodd;stroke:#FF7F7F;stroke-width:1px;stroke-linecap:butt;stroke-linejoin:miter;stroke-opacity:1\"/>\n",
       "<path d=\"M 108.198,125.898 113.262,122.976\" style=\"fill:none;fill-rule:evenodd;stroke:#0000FF;stroke-width:2px;stroke-linecap:butt;stroke-linejoin:miter;stroke-opacity:1\"/>\n",
       "<path d=\"M 113.262,122.976 118.326,120.054\" style=\"fill:none;fill-rule:evenodd;stroke:#000000;stroke-width:2px;stroke-linecap:butt;stroke-linejoin:miter;stroke-opacity:1\"/>\n",
       "<path d=\"M 91.8022,125.898 86.7379,122.976\" style=\"fill:none;fill-rule:evenodd;stroke:#0000FF;stroke-width:2px;stroke-linecap:butt;stroke-linejoin:miter;stroke-opacity:1\"/>\n",
       "<path d=\"M 86.7379,122.976 81.6736,120.054\" style=\"fill:none;fill-rule:evenodd;stroke:#000000;stroke-width:2px;stroke-linecap:butt;stroke-linejoin:miter;stroke-opacity:1\"/>\n",
       "<path d=\"M 100,135.971 100,145.931\" style=\"fill:none;fill-rule:evenodd;stroke:#0000FF;stroke-width:2px;stroke-linecap:butt;stroke-linejoin:miter;stroke-opacity:1\"/>\n",
       "<path d=\"M 100,145.931 100,155.891\" style=\"fill:none;fill-rule:evenodd;stroke:#000000;stroke-width:2px;stroke-linecap:butt;stroke-linejoin:miter;stroke-opacity:1\"/>\n",
       "<path d=\"M 126.524,109.981 126.524,90.0187\" style=\"fill:none;fill-rule:evenodd;stroke:#000000;stroke-width:2px;stroke-linecap:butt;stroke-linejoin:miter;stroke-opacity:1\"/>\n",
       "<path d=\"M 134.722,120.051 144.829,125.879\" style=\"fill:none;fill-rule:evenodd;stroke:#000000;stroke-width:2px;stroke-linecap:butt;stroke-linejoin:miter;stroke-opacity:1\"/>\n",
       "<path d=\"M 118.326,79.9457 107.845,73.8984\" style=\"fill:none;fill-rule:evenodd;stroke:#000000;stroke-width:2px;stroke-linecap:butt;stroke-linejoin:miter;stroke-opacity:1\"/>\n",
       "<path d=\"M 134.722,79.9485 144.829,74.1205\" style=\"fill:none;fill-rule:evenodd;stroke:#000000;stroke-width:2px;stroke-linecap:butt;stroke-linejoin:miter;stroke-opacity:1\"/>\n",
       "<path d=\"M 100,64.0289 100,44.1091\" style=\"fill:none;fill-rule:evenodd;stroke:#000000;stroke-width:2px;stroke-linecap:butt;stroke-linejoin:miter;stroke-opacity:1\"/>\n",
       "<path d=\"M 92.155,73.8984 81.6736,79.9457\" style=\"fill:none;fill-rule:evenodd;stroke:#000000;stroke-width:2px;stroke-linecap:butt;stroke-linejoin:miter;stroke-opacity:1\"/>\n",
       "<path d=\"M 73.4759,90.0187 73.4759,109.981\" style=\"fill:none;fill-rule:evenodd;stroke:#000000;stroke-width:2px;stroke-linecap:butt;stroke-linejoin:miter;stroke-opacity:1\"/>\n",
       "<path d=\"M 65.2781,79.9485 56.2398,74.7369\" style=\"fill:none;fill-rule:evenodd;stroke:#000000;stroke-width:2px;stroke-linecap:butt;stroke-linejoin:miter;stroke-opacity:1\"/>\n",
       "<path d=\"M 65.2781,120.051 56.2398,125.263\" style=\"fill:none;fill-rule:evenodd;stroke:#000000;stroke-width:2px;stroke-linecap:butt;stroke-linejoin:miter;stroke-opacity:1\"/>\n",
       "<path d=\"M 91.8022,165.735 82.9507,170.596\" style=\"fill:none;fill-rule:evenodd;stroke:#000000;stroke-width:2px;stroke-linecap:butt;stroke-linejoin:miter;stroke-opacity:1\"/>\n",
       "<path d=\"M 108.198,165.735 117.049,170.596\" style=\"fill:none;fill-rule:evenodd;stroke:#000000;stroke-width:2px;stroke-linecap:butt;stroke-linejoin:miter;stroke-opacity:1\"/>\n",
       "<path d=\"M 152.911,135.95 152.48,155.805\" style=\"fill:none;fill-rule:evenodd;stroke:#000000;stroke-width:2px;stroke-linecap:butt;stroke-linejoin:miter;stroke-opacity:1\"/>\n",
       "<path d=\"M 161.225,125.635 170.333,120.112\" style=\"fill:none;fill-rule:evenodd;stroke:#000000;stroke-width:2px;stroke-linecap:butt;stroke-linejoin:miter;stroke-opacity:1\"/>\n",
       "<path d=\"M 161.225,74.3646 170.333,79.8878\" style=\"fill:none;fill-rule:evenodd;stroke:#000000;stroke-width:2px;stroke-linecap:butt;stroke-linejoin:miter;stroke-opacity:1\"/>\n",
       "<path d=\"M 152.911,64.0503 152.48,44.1946\" style=\"fill:none;fill-rule:evenodd;stroke:#000000;stroke-width:2px;stroke-linecap:butt;stroke-linejoin:miter;stroke-opacity:1\"/>\n",
       "<path d=\"M 91.8022,34.2646 82.9507,29.4044\" style=\"fill:none;fill-rule:evenodd;stroke:#000000;stroke-width:2px;stroke-linecap:butt;stroke-linejoin:miter;stroke-opacity:1\"/>\n",
       "<path d=\"M 108.198,34.2646 117.049,29.4044\" style=\"fill:none;fill-rule:evenodd;stroke:#000000;stroke-width:2px;stroke-linecap:butt;stroke-linejoin:miter;stroke-opacity:1\"/>\n",
       "<path d=\"M 47.0891,64.0503 47.5198,44.1946\" style=\"fill:none;fill-rule:evenodd;stroke:#000000;stroke-width:2px;stroke-linecap:butt;stroke-linejoin:miter;stroke-opacity:1\"/>\n",
       "<path d=\"M 38.1614,74.7369 29.6669,79.8878\" style=\"fill:none;fill-rule:evenodd;stroke:#000000;stroke-width:2px;stroke-linecap:butt;stroke-linejoin:miter;stroke-opacity:1\"/>\n",
       "<path d=\"M 38.1614,125.263 29.6669,120.112\" style=\"fill:none;fill-rule:evenodd;stroke:#000000;stroke-width:2px;stroke-linecap:butt;stroke-linejoin:miter;stroke-opacity:1\"/>\n",
       "<path d=\"M 47.0891,135.95 47.5198,155.805\" style=\"fill:none;fill-rule:evenodd;stroke:#000000;stroke-width:2px;stroke-linecap:butt;stroke-linejoin:miter;stroke-opacity:1\"/>\n",
       "<path d=\"M 136.023,170.596 143.122,166.492\" style=\"fill:none;fill-rule:evenodd;stroke:#000000;stroke-width:2px;stroke-linecap:butt;stroke-linejoin:miter;stroke-opacity:1\"/>\n",
       "<path d=\"M 179.145,109.426 179.145,90.5744\" style=\"fill:none;fill-rule:evenodd;stroke:#000000;stroke-width:2px;stroke-linecap:butt;stroke-linejoin:miter;stroke-opacity:1\"/>\n",
       "<path d=\"M 143.122,33.5081 136.023,29.4044\" style=\"fill:none;fill-rule:evenodd;stroke:#000000;stroke-width:2px;stroke-linecap:butt;stroke-linejoin:miter;stroke-opacity:1\"/>\n",
       "<path d=\"M 63.9767,29.4044 56.8784,33.5081\" style=\"fill:none;fill-rule:evenodd;stroke:#000000;stroke-width:2px;stroke-linecap:butt;stroke-linejoin:miter;stroke-opacity:1\"/>\n",
       "<path d=\"M 20.8551,90.5744 20.8551,109.426\" style=\"fill:none;fill-rule:evenodd;stroke:#000000;stroke-width:2px;stroke-linecap:butt;stroke-linejoin:miter;stroke-opacity:1\"/>\n",
       "<path d=\"M 56.8784,166.492 63.9767,170.596\" style=\"fill:none;fill-rule:evenodd;stroke:#000000;stroke-width:2px;stroke-linecap:butt;stroke-linejoin:miter;stroke-opacity:1\"/>\n",
       "<text style=\"font-size:10px;font-style:normal;font-weight:normal;fill-opacity:1;stroke:none;font-family:sans-serif;text-anchor:start;fill:#0000FF\" x=\"91.8022\" y=\"135.971\"><tspan>N0</tspan></text>\n",
       "<text style=\"font-size:10px;font-style:normal;font-weight:normal;fill-opacity:1;stroke:none;font-family:sans-serif;text-anchor:start;fill:#000000\" x=\"118.326\" y=\"120.668\"><tspan>C1</tspan></text>\n",
       "<text style=\"font-size:10px;font-style:normal;font-weight:normal;fill-opacity:1;stroke:none;font-family:sans-serif;text-anchor:start;fill:#000000\" x=\"118.326\" y=\"90.0187\"><tspan>C2</tspan></text>\n",
       "<text style=\"font-size:10px;font-style:normal;font-weight:normal;fill-opacity:1;stroke:none;font-family:sans-serif;text-anchor:start;fill:#000000\" x=\"92.155\" y=\"74.7155\"><tspan>B3</tspan></text>\n",
       "<text style=\"font-size:10px;font-style:normal;font-weight:normal;fill-opacity:1;stroke:none;font-family:sans-serif;text-anchor:start;fill:#000000\" x=\"65.2781\" y=\"90.0187\"><tspan>C4</tspan></text>\n",
       "<text style=\"font-size:10px;font-style:normal;font-weight:normal;fill-opacity:1;stroke:none;font-family:sans-serif;text-anchor:start;fill:#000000\" x=\"65.2781\" y=\"120.668\"><tspan>C5</tspan></text>\n",
       "<text style=\"font-size:10px;font-style:normal;font-weight:normal;fill-opacity:1;stroke:none;font-family:sans-serif;text-anchor:start;fill:#000000\" x=\"91.8022\" y=\"166.577\"><tspan>C6</tspan></text>\n",
       "<text style=\"font-size:10px;font-style:normal;font-weight:normal;fill-opacity:1;stroke:none;font-family:sans-serif;text-anchor:start;fill:#000000\" x=\"144.829\" y=\"135.95\"><tspan>C7</tspan></text>\n",
       "<text style=\"font-size:10px;font-style:normal;font-weight:normal;fill-opacity:1;stroke:none;font-family:sans-serif;text-anchor:start;fill:#000000\" x=\"144.829\" y=\"74.7369\"><tspan>C8</tspan></text>\n",
       "<text style=\"font-size:10px;font-style:normal;font-weight:normal;fill-opacity:1;stroke:none;font-family:sans-serif;text-anchor:start;fill:#000000\" x=\"91.8022\" y=\"44.1091\"><tspan>C9</tspan></text>\n",
       "<text style=\"font-size:10px;font-style:normal;font-weight:normal;fill-opacity:1;stroke:none;font-family:sans-serif;text-anchor:start;fill:#000000\" x=\"35.2089\" y=\"74.7369\"><tspan>C10</tspan></text>\n",
       "<text style=\"font-size:10px;font-style:normal;font-weight:normal;fill-opacity:1;stroke:none;font-family:sans-serif;text-anchor:start;fill:#000000\" x=\"35.2089\" y=\"135.95\"><tspan>C11</tspan></text>\n",
       "<text style=\"font-size:10px;font-style:normal;font-weight:normal;fill-opacity:1;stroke:none;font-family:sans-serif;text-anchor:start;fill:#000000\" x=\"115.016\" y=\"181.282\"><tspan>C12</tspan></text>\n",
       "<text style=\"font-size:10px;font-style:normal;font-weight:normal;fill-opacity:1;stroke:none;font-family:sans-serif;text-anchor:start;fill:#000000\" x=\"140.6\" y=\"166.492\"><tspan>C13</tspan></text>\n",
       "<text style=\"font-size:10px;font-style:normal;font-weight:normal;fill-opacity:1;stroke:none;font-family:sans-serif;text-anchor:start;fill:#000000\" x=\"167.381\" y=\"120.112\"><tspan>C14</tspan></text>\n",
       "<text style=\"font-size:10px;font-style:normal;font-weight:normal;fill-opacity:1;stroke:none;font-family:sans-serif;text-anchor:start;fill:#000000\" x=\"167.381\" y=\"90.5744\"><tspan>C15</tspan></text>\n",
       "<text style=\"font-size:10px;font-style:normal;font-weight:normal;fill-opacity:1;stroke:none;font-family:sans-serif;text-anchor:start;fill:#000000\" x=\"140.6\" y=\"44.1946\"><tspan>C16</tspan></text>\n",
       "<text style=\"font-size:10px;font-style:normal;font-weight:normal;fill-opacity:1;stroke:none;font-family:sans-serif;text-anchor:start;fill:#000000\" x=\"115.016\" y=\"29.4044\"><tspan>C17</tspan></text>\n",
       "<text style=\"font-size:10px;font-style:normal;font-weight:normal;fill-opacity:1;stroke:none;font-family:sans-serif;text-anchor:start;fill:#000000\" x=\"61.4552\" y=\"29.4044\"><tspan>C18</tspan></text>\n",
       "<text style=\"font-size:10px;font-style:normal;font-weight:normal;fill-opacity:1;stroke:none;font-family:sans-serif;text-anchor:start;fill:#000000\" x=\"35.8715\" y=\"44.1946\"><tspan>C19</tspan></text>\n",
       "<text style=\"font-size:10px;font-style:normal;font-weight:normal;fill-opacity:1;stroke:none;font-family:sans-serif;text-anchor:start;fill:#000000\" x=\"9.09091\" y=\"90.5744\"><tspan>C20</tspan></text>\n",
       "<text style=\"font-size:10px;font-style:normal;font-weight:normal;fill-opacity:1;stroke:none;font-family:sans-serif;text-anchor:start;fill:#000000\" x=\"9.09091\" y=\"120.112\"><tspan>C21</tspan></text>\n",
       "<text style=\"font-size:10px;font-style:normal;font-weight:normal;fill-opacity:1;stroke:none;font-family:sans-serif;text-anchor:start;fill:#000000\" x=\"35.8715\" y=\"166.492\"><tspan>C22</tspan></text>\n",
       "<text style=\"font-size:10px;font-style:normal;font-weight:normal;fill-opacity:1;stroke:none;font-family:sans-serif;text-anchor:start;fill:#000000\" x=\"61.4552\" y=\"181.282\"><tspan>C23</tspan></text>\n",
       "</svg>"
      ],
      "text/plain": [
       "<IPython.core.display.SVG object>"
      ]
     },
     "metadata": {},
     "output_type": "display_data"
    }
   ],
   "source": [
    "mol = mol_target\n",
    "B_list = np.arange(mol.N)[mol.Z == 5].tolist()\n",
    "display(SVG(mol2svg(rdm_target, index=True, highlight=B_list)))\n",
    "with open('target_mol.svg', 'w') as f:\n",
    "    f.write(mol2svg(rdm_target, index=True, highlight=B_list))"
   ]
  },
  {
   "cell_type": "code",
   "execution_count": 34,
   "metadata": {
    "scrolled": false
   },
   "outputs": [
    {
     "data": {
      "image/svg+xml": [
       "<svg baseProfile=\"full\" height=\"200px\" version=\"1.1\" width=\"200px\" xml:space=\"preserve\" xmlns:rdkit=\"http://www.rdkit.org/xml\" xmlns:svg=\"http://www.w3.org/2000/svg\" xmlns:xlink=\"http://www.w3.org/1999/xlink\">\n",
       "<rect height=\"200\" style=\"opacity:1.0;fill:#FFFFFF;stroke:none\" width=\"200\" x=\"0\" y=\"0\"> </rect>\n",
       "<ellipse cx=\"73.4759\" cy=\"84.6754\" rx=\"8.54927\" ry=\"8.54927\" style=\"fill:#FF7F7F;fill-rule:evenodd;stroke:#FF7F7F;stroke-width:1px;stroke-linecap:butt;stroke-linejoin:miter;stroke-opacity:1\"/>\n",
       "<path d=\"M 108.198,125.898 113.262,122.976\" style=\"fill:none;fill-rule:evenodd;stroke:#000000;stroke-width:2px;stroke-linecap:butt;stroke-linejoin:miter;stroke-opacity:1\"/>\n",
       "<path d=\"M 113.262,122.976 118.326,120.054\" style=\"fill:none;fill-rule:evenodd;stroke:#0000FF;stroke-width:2px;stroke-linecap:butt;stroke-linejoin:miter;stroke-opacity:1\"/>\n",
       "<path d=\"M 91.8022,125.898 81.6736,120.054\" style=\"fill:none;fill-rule:evenodd;stroke:#000000;stroke-width:2px;stroke-linecap:butt;stroke-linejoin:miter;stroke-opacity:1\"/>\n",
       "<path d=\"M 100,135.971 100,155.891\" style=\"fill:none;fill-rule:evenodd;stroke:#000000;stroke-width:2px;stroke-linecap:butt;stroke-linejoin:miter;stroke-opacity:1\"/>\n",
       "<path d=\"M 126.524,109.981 126.524,100\" style=\"fill:none;fill-rule:evenodd;stroke:#0000FF;stroke-width:2px;stroke-linecap:butt;stroke-linejoin:miter;stroke-opacity:1\"/>\n",
       "<path d=\"M 126.524,100 126.524,90.0187\" style=\"fill:none;fill-rule:evenodd;stroke:#000000;stroke-width:2px;stroke-linecap:butt;stroke-linejoin:miter;stroke-opacity:1\"/>\n",
       "<path d=\"M 134.722,120.051 139.775,122.965\" style=\"fill:none;fill-rule:evenodd;stroke:#0000FF;stroke-width:2px;stroke-linecap:butt;stroke-linejoin:miter;stroke-opacity:1\"/>\n",
       "<path d=\"M 139.775,122.965 144.829,125.879\" style=\"fill:none;fill-rule:evenodd;stroke:#000000;stroke-width:2px;stroke-linecap:butt;stroke-linejoin:miter;stroke-opacity:1\"/>\n",
       "<path d=\"M 118.326,79.9457 108.198,74.102\" style=\"fill:none;fill-rule:evenodd;stroke:#000000;stroke-width:2px;stroke-linecap:butt;stroke-linejoin:miter;stroke-opacity:1\"/>\n",
       "<path d=\"M 134.722,79.9485 144.829,74.1205\" style=\"fill:none;fill-rule:evenodd;stroke:#000000;stroke-width:2px;stroke-linecap:butt;stroke-linejoin:miter;stroke-opacity:1\"/>\n",
       "<path d=\"M 100,64.0289 100,44.1091\" style=\"fill:none;fill-rule:evenodd;stroke:#000000;stroke-width:2px;stroke-linecap:butt;stroke-linejoin:miter;stroke-opacity:1\"/>\n",
       "<path d=\"M 91.8022,74.102 81.3208,80.1493\" style=\"fill:none;fill-rule:evenodd;stroke:#000000;stroke-width:2px;stroke-linecap:butt;stroke-linejoin:miter;stroke-opacity:1\"/>\n",
       "<path d=\"M 73.4759,90.0187 73.4759,109.981\" style=\"fill:none;fill-rule:evenodd;stroke:#000000;stroke-width:2px;stroke-linecap:butt;stroke-linejoin:miter;stroke-opacity:1\"/>\n",
       "<path d=\"M 65.6309,80.1519 56.2398,74.7369\" style=\"fill:none;fill-rule:evenodd;stroke:#000000;stroke-width:2px;stroke-linecap:butt;stroke-linejoin:miter;stroke-opacity:1\"/>\n",
       "<path d=\"M 65.2781,120.051 56.2398,125.263\" style=\"fill:none;fill-rule:evenodd;stroke:#000000;stroke-width:2px;stroke-linecap:butt;stroke-linejoin:miter;stroke-opacity:1\"/>\n",
       "<path d=\"M 91.8022,165.735 82.9507,170.596\" style=\"fill:none;fill-rule:evenodd;stroke:#000000;stroke-width:2px;stroke-linecap:butt;stroke-linejoin:miter;stroke-opacity:1\"/>\n",
       "<path d=\"M 108.198,165.735 117.049,170.596\" style=\"fill:none;fill-rule:evenodd;stroke:#000000;stroke-width:2px;stroke-linecap:butt;stroke-linejoin:miter;stroke-opacity:1\"/>\n",
       "<path d=\"M 152.911,135.95 152.48,155.805\" style=\"fill:none;fill-rule:evenodd;stroke:#000000;stroke-width:2px;stroke-linecap:butt;stroke-linejoin:miter;stroke-opacity:1\"/>\n",
       "<path d=\"M 161.225,125.635 170.333,120.112\" style=\"fill:none;fill-rule:evenodd;stroke:#000000;stroke-width:2px;stroke-linecap:butt;stroke-linejoin:miter;stroke-opacity:1\"/>\n",
       "<path d=\"M 161.225,74.3646 170.333,79.8878\" style=\"fill:none;fill-rule:evenodd;stroke:#000000;stroke-width:2px;stroke-linecap:butt;stroke-linejoin:miter;stroke-opacity:1\"/>\n",
       "<path d=\"M 152.911,64.0503 152.48,44.1946\" style=\"fill:none;fill-rule:evenodd;stroke:#000000;stroke-width:2px;stroke-linecap:butt;stroke-linejoin:miter;stroke-opacity:1\"/>\n",
       "<path d=\"M 91.8022,34.2646 82.9507,29.4044\" style=\"fill:none;fill-rule:evenodd;stroke:#000000;stroke-width:2px;stroke-linecap:butt;stroke-linejoin:miter;stroke-opacity:1\"/>\n",
       "<path d=\"M 108.198,34.2646 117.049,29.4044\" style=\"fill:none;fill-rule:evenodd;stroke:#000000;stroke-width:2px;stroke-linecap:butt;stroke-linejoin:miter;stroke-opacity:1\"/>\n",
       "<path d=\"M 47.0891,64.0503 47.5198,44.1946\" style=\"fill:none;fill-rule:evenodd;stroke:#000000;stroke-width:2px;stroke-linecap:butt;stroke-linejoin:miter;stroke-opacity:1\"/>\n",
       "<path d=\"M 38.1614,74.7369 29.6669,79.8878\" style=\"fill:none;fill-rule:evenodd;stroke:#000000;stroke-width:2px;stroke-linecap:butt;stroke-linejoin:miter;stroke-opacity:1\"/>\n",
       "<path d=\"M 38.1614,125.263 29.6669,120.112\" style=\"fill:none;fill-rule:evenodd;stroke:#000000;stroke-width:2px;stroke-linecap:butt;stroke-linejoin:miter;stroke-opacity:1\"/>\n",
       "<path d=\"M 47.0891,135.95 47.5198,155.805\" style=\"fill:none;fill-rule:evenodd;stroke:#000000;stroke-width:2px;stroke-linecap:butt;stroke-linejoin:miter;stroke-opacity:1\"/>\n",
       "<path d=\"M 136.023,170.596 143.122,166.492\" style=\"fill:none;fill-rule:evenodd;stroke:#000000;stroke-width:2px;stroke-linecap:butt;stroke-linejoin:miter;stroke-opacity:1\"/>\n",
       "<path d=\"M 179.145,109.426 179.145,90.5744\" style=\"fill:none;fill-rule:evenodd;stroke:#000000;stroke-width:2px;stroke-linecap:butt;stroke-linejoin:miter;stroke-opacity:1\"/>\n",
       "<path d=\"M 143.122,33.5081 136.023,29.4044\" style=\"fill:none;fill-rule:evenodd;stroke:#000000;stroke-width:2px;stroke-linecap:butt;stroke-linejoin:miter;stroke-opacity:1\"/>\n",
       "<path d=\"M 63.9767,29.4044 56.8784,33.5081\" style=\"fill:none;fill-rule:evenodd;stroke:#000000;stroke-width:2px;stroke-linecap:butt;stroke-linejoin:miter;stroke-opacity:1\"/>\n",
       "<path d=\"M 20.8551,90.5744 20.8551,109.426\" style=\"fill:none;fill-rule:evenodd;stroke:#000000;stroke-width:2px;stroke-linecap:butt;stroke-linejoin:miter;stroke-opacity:1\"/>\n",
       "<path d=\"M 56.8784,166.492 63.9767,170.596\" style=\"fill:none;fill-rule:evenodd;stroke:#000000;stroke-width:2px;stroke-linecap:butt;stroke-linejoin:miter;stroke-opacity:1\"/>\n",
       "<text style=\"font-size:10px;font-style:normal;font-weight:normal;fill-opacity:1;stroke:none;font-family:sans-serif;text-anchor:start;fill:#000000\" x=\"91.8022\" y=\"135.971\"><tspan>C0</tspan></text>\n",
       "<text style=\"font-size:10px;font-style:normal;font-weight:normal;fill-opacity:1;stroke:none;font-family:sans-serif;text-anchor:start;fill:#0000FF\" x=\"118.326\" y=\"120.668\"><tspan>N1</tspan></text>\n",
       "<text style=\"font-size:10px;font-style:normal;font-weight:normal;fill-opacity:1;stroke:none;font-family:sans-serif;text-anchor:start;fill:#000000\" x=\"118.326\" y=\"90.0187\"><tspan>C2</tspan></text>\n",
       "<text style=\"font-size:10px;font-style:normal;font-weight:normal;fill-opacity:1;stroke:none;font-family:sans-serif;text-anchor:start;fill:#000000\" x=\"91.8022\" y=\"74.7155\"><tspan>C3</tspan></text>\n",
       "<text style=\"font-size:10px;font-style:normal;font-weight:normal;fill-opacity:1;stroke:none;font-family:sans-serif;text-anchor:start;fill:#000000\" x=\"65.6309\" y=\"90.0187\"><tspan>B4</tspan></text>\n",
       "<text style=\"font-size:10px;font-style:normal;font-weight:normal;fill-opacity:1;stroke:none;font-family:sans-serif;text-anchor:start;fill:#000000\" x=\"65.2781\" y=\"120.668\"><tspan>C5</tspan></text>\n",
       "<text style=\"font-size:10px;font-style:normal;font-weight:normal;fill-opacity:1;stroke:none;font-family:sans-serif;text-anchor:start;fill:#000000\" x=\"91.8022\" y=\"166.577\"><tspan>C6</tspan></text>\n",
       "<text style=\"font-size:10px;font-style:normal;font-weight:normal;fill-opacity:1;stroke:none;font-family:sans-serif;text-anchor:start;fill:#000000\" x=\"144.829\" y=\"135.95\"><tspan>C7</tspan></text>\n",
       "<text style=\"font-size:10px;font-style:normal;font-weight:normal;fill-opacity:1;stroke:none;font-family:sans-serif;text-anchor:start;fill:#000000\" x=\"144.829\" y=\"74.7369\"><tspan>C8</tspan></text>\n",
       "<text style=\"font-size:10px;font-style:normal;font-weight:normal;fill-opacity:1;stroke:none;font-family:sans-serif;text-anchor:start;fill:#000000\" x=\"91.8022\" y=\"44.1091\"><tspan>C9</tspan></text>\n",
       "<text style=\"font-size:10px;font-style:normal;font-weight:normal;fill-opacity:1;stroke:none;font-family:sans-serif;text-anchor:start;fill:#000000\" x=\"35.2089\" y=\"74.7369\"><tspan>C10</tspan></text>\n",
       "<text style=\"font-size:10px;font-style:normal;font-weight:normal;fill-opacity:1;stroke:none;font-family:sans-serif;text-anchor:start;fill:#000000\" x=\"35.2089\" y=\"135.95\"><tspan>C11</tspan></text>\n",
       "<text style=\"font-size:10px;font-style:normal;font-weight:normal;fill-opacity:1;stroke:none;font-family:sans-serif;text-anchor:start;fill:#000000\" x=\"115.016\" y=\"181.282\"><tspan>C12</tspan></text>\n",
       "<text style=\"font-size:10px;font-style:normal;font-weight:normal;fill-opacity:1;stroke:none;font-family:sans-serif;text-anchor:start;fill:#000000\" x=\"140.6\" y=\"166.492\"><tspan>C13</tspan></text>\n",
       "<text style=\"font-size:10px;font-style:normal;font-weight:normal;fill-opacity:1;stroke:none;font-family:sans-serif;text-anchor:start;fill:#000000\" x=\"167.381\" y=\"120.112\"><tspan>C14</tspan></text>\n",
       "<text style=\"font-size:10px;font-style:normal;font-weight:normal;fill-opacity:1;stroke:none;font-family:sans-serif;text-anchor:start;fill:#000000\" x=\"167.381\" y=\"90.5744\"><tspan>C15</tspan></text>\n",
       "<text style=\"font-size:10px;font-style:normal;font-weight:normal;fill-opacity:1;stroke:none;font-family:sans-serif;text-anchor:start;fill:#000000\" x=\"140.6\" y=\"44.1946\"><tspan>C16</tspan></text>\n",
       "<text style=\"font-size:10px;font-style:normal;font-weight:normal;fill-opacity:1;stroke:none;font-family:sans-serif;text-anchor:start;fill:#000000\" x=\"115.016\" y=\"29.4044\"><tspan>C17</tspan></text>\n",
       "<text style=\"font-size:10px;font-style:normal;font-weight:normal;fill-opacity:1;stroke:none;font-family:sans-serif;text-anchor:start;fill:#000000\" x=\"61.4552\" y=\"29.4044\"><tspan>C18</tspan></text>\n",
       "<text style=\"font-size:10px;font-style:normal;font-weight:normal;fill-opacity:1;stroke:none;font-family:sans-serif;text-anchor:start;fill:#000000\" x=\"35.8715\" y=\"44.1946\"><tspan>C19</tspan></text>\n",
       "<text style=\"font-size:10px;font-style:normal;font-weight:normal;fill-opacity:1;stroke:none;font-family:sans-serif;text-anchor:start;fill:#000000\" x=\"9.09091\" y=\"90.5744\"><tspan>C20</tspan></text>\n",
       "<text style=\"font-size:10px;font-style:normal;font-weight:normal;fill-opacity:1;stroke:none;font-family:sans-serif;text-anchor:start;fill:#000000\" x=\"9.09091\" y=\"120.112\"><tspan>C21</tspan></text>\n",
       "<text style=\"font-size:10px;font-style:normal;font-weight:normal;fill-opacity:1;stroke:none;font-family:sans-serif;text-anchor:start;fill:#000000\" x=\"35.8715\" y=\"166.492\"><tspan>C22</tspan></text>\n",
       "<text style=\"font-size:10px;font-style:normal;font-weight:normal;fill-opacity:1;stroke:none;font-family:sans-serif;text-anchor:start;fill:#000000\" x=\"61.4552\" y=\"181.282\"><tspan>C23</tspan></text>\n",
       "</svg>"
      ],
      "text/plain": [
       "<IPython.core.display.SVG object>"
      ]
     },
     "metadata": {},
     "output_type": "display_data"
    },
    {
     "data": {
      "image/svg+xml": [
       "<svg baseProfile=\"full\" height=\"200px\" version=\"1.1\" width=\"200px\" xml:space=\"preserve\" xmlns:rdkit=\"http://www.rdkit.org/xml\" xmlns:svg=\"http://www.w3.org/2000/svg\" xmlns:xlink=\"http://www.w3.org/1999/xlink\">\n",
       "<rect height=\"200\" style=\"opacity:1.0;fill:#FFFFFF;stroke:none\" width=\"200\" x=\"0\" y=\"0\"> </rect>\n",
       "<ellipse cx=\"126.524\" cy=\"115.325\" rx=\"8.54927\" ry=\"8.54927\" style=\"fill:#FF7F7F;fill-rule:evenodd;stroke:#FF7F7F;stroke-width:1px;stroke-linecap:butt;stroke-linejoin:miter;stroke-opacity:1\"/>\n",
       "<path d=\"M 108.198,125.898 118.679,119.851\" style=\"fill:none;fill-rule:evenodd;stroke:#000000;stroke-width:2px;stroke-linecap:butt;stroke-linejoin:miter;stroke-opacity:1\"/>\n",
       "<path d=\"M 91.8022,125.898 81.6736,120.054\" style=\"fill:none;fill-rule:evenodd;stroke:#000000;stroke-width:2px;stroke-linecap:butt;stroke-linejoin:miter;stroke-opacity:1\"/>\n",
       "<path d=\"M 100,135.971 100,155.891\" style=\"fill:none;fill-rule:evenodd;stroke:#000000;stroke-width:2px;stroke-linecap:butt;stroke-linejoin:miter;stroke-opacity:1\"/>\n",
       "<path d=\"M 126.524,109.981 126.524,90.0187\" style=\"fill:none;fill-rule:evenodd;stroke:#000000;stroke-width:2px;stroke-linecap:butt;stroke-linejoin:miter;stroke-opacity:1\"/>\n",
       "<path d=\"M 134.369,119.848 144.829,125.879\" style=\"fill:none;fill-rule:evenodd;stroke:#000000;stroke-width:2px;stroke-linecap:butt;stroke-linejoin:miter;stroke-opacity:1\"/>\n",
       "<path d=\"M 118.326,79.9457 108.198,74.102\" style=\"fill:none;fill-rule:evenodd;stroke:#000000;stroke-width:2px;stroke-linecap:butt;stroke-linejoin:miter;stroke-opacity:1\"/>\n",
       "<path d=\"M 134.722,79.9485 144.829,74.1205\" style=\"fill:none;fill-rule:evenodd;stroke:#000000;stroke-width:2px;stroke-linecap:butt;stroke-linejoin:miter;stroke-opacity:1\"/>\n",
       "<path d=\"M 100,64.0289 100,44.1091\" style=\"fill:none;fill-rule:evenodd;stroke:#000000;stroke-width:2px;stroke-linecap:butt;stroke-linejoin:miter;stroke-opacity:1\"/>\n",
       "<path d=\"M 91.8022,74.102 86.7379,77.0238\" style=\"fill:none;fill-rule:evenodd;stroke:#000000;stroke-width:2px;stroke-linecap:butt;stroke-linejoin:miter;stroke-opacity:1\"/>\n",
       "<path d=\"M 86.7379,77.0238 81.6736,79.9457\" style=\"fill:none;fill-rule:evenodd;stroke:#0000FF;stroke-width:2px;stroke-linecap:butt;stroke-linejoin:miter;stroke-opacity:1\"/>\n",
       "<path d=\"M 73.4759,90.0187 73.4759,100\" style=\"fill:none;fill-rule:evenodd;stroke:#0000FF;stroke-width:2px;stroke-linecap:butt;stroke-linejoin:miter;stroke-opacity:1\"/>\n",
       "<path d=\"M 73.4759,100 73.4759,109.981\" style=\"fill:none;fill-rule:evenodd;stroke:#000000;stroke-width:2px;stroke-linecap:butt;stroke-linejoin:miter;stroke-opacity:1\"/>\n",
       "<path d=\"M 65.2781,79.9485 60.759,77.3427\" style=\"fill:none;fill-rule:evenodd;stroke:#0000FF;stroke-width:2px;stroke-linecap:butt;stroke-linejoin:miter;stroke-opacity:1\"/>\n",
       "<path d=\"M 60.759,77.3427 56.2398,74.7369\" style=\"fill:none;fill-rule:evenodd;stroke:#000000;stroke-width:2px;stroke-linecap:butt;stroke-linejoin:miter;stroke-opacity:1\"/>\n",
       "<path d=\"M 65.2781,120.051 56.2398,125.263\" style=\"fill:none;fill-rule:evenodd;stroke:#000000;stroke-width:2px;stroke-linecap:butt;stroke-linejoin:miter;stroke-opacity:1\"/>\n",
       "<path d=\"M 91.8022,165.735 82.9507,170.596\" style=\"fill:none;fill-rule:evenodd;stroke:#000000;stroke-width:2px;stroke-linecap:butt;stroke-linejoin:miter;stroke-opacity:1\"/>\n",
       "<path d=\"M 108.198,165.735 117.049,170.596\" style=\"fill:none;fill-rule:evenodd;stroke:#000000;stroke-width:2px;stroke-linecap:butt;stroke-linejoin:miter;stroke-opacity:1\"/>\n",
       "<path d=\"M 152.911,135.95 152.48,155.805\" style=\"fill:none;fill-rule:evenodd;stroke:#000000;stroke-width:2px;stroke-linecap:butt;stroke-linejoin:miter;stroke-opacity:1\"/>\n",
       "<path d=\"M 161.225,125.635 170.333,120.112\" style=\"fill:none;fill-rule:evenodd;stroke:#000000;stroke-width:2px;stroke-linecap:butt;stroke-linejoin:miter;stroke-opacity:1\"/>\n",
       "<path d=\"M 161.225,74.3646 170.333,79.8878\" style=\"fill:none;fill-rule:evenodd;stroke:#000000;stroke-width:2px;stroke-linecap:butt;stroke-linejoin:miter;stroke-opacity:1\"/>\n",
       "<path d=\"M 152.911,64.0503 152.48,44.1946\" style=\"fill:none;fill-rule:evenodd;stroke:#000000;stroke-width:2px;stroke-linecap:butt;stroke-linejoin:miter;stroke-opacity:1\"/>\n",
       "<path d=\"M 91.8022,34.2646 82.9507,29.4044\" style=\"fill:none;fill-rule:evenodd;stroke:#000000;stroke-width:2px;stroke-linecap:butt;stroke-linejoin:miter;stroke-opacity:1\"/>\n",
       "<path d=\"M 108.198,34.2646 117.049,29.4044\" style=\"fill:none;fill-rule:evenodd;stroke:#000000;stroke-width:2px;stroke-linecap:butt;stroke-linejoin:miter;stroke-opacity:1\"/>\n",
       "<path d=\"M 47.0891,64.0503 47.5198,44.1946\" style=\"fill:none;fill-rule:evenodd;stroke:#000000;stroke-width:2px;stroke-linecap:butt;stroke-linejoin:miter;stroke-opacity:1\"/>\n",
       "<path d=\"M 38.1614,74.7369 29.6669,79.8878\" style=\"fill:none;fill-rule:evenodd;stroke:#000000;stroke-width:2px;stroke-linecap:butt;stroke-linejoin:miter;stroke-opacity:1\"/>\n",
       "<path d=\"M 38.1614,125.263 29.6669,120.112\" style=\"fill:none;fill-rule:evenodd;stroke:#000000;stroke-width:2px;stroke-linecap:butt;stroke-linejoin:miter;stroke-opacity:1\"/>\n",
       "<path d=\"M 47.0891,135.95 47.5198,155.805\" style=\"fill:none;fill-rule:evenodd;stroke:#000000;stroke-width:2px;stroke-linecap:butt;stroke-linejoin:miter;stroke-opacity:1\"/>\n",
       "<path d=\"M 136.023,170.596 143.122,166.492\" style=\"fill:none;fill-rule:evenodd;stroke:#000000;stroke-width:2px;stroke-linecap:butt;stroke-linejoin:miter;stroke-opacity:1\"/>\n",
       "<path d=\"M 179.145,109.426 179.145,90.5744\" style=\"fill:none;fill-rule:evenodd;stroke:#000000;stroke-width:2px;stroke-linecap:butt;stroke-linejoin:miter;stroke-opacity:1\"/>\n",
       "<path d=\"M 143.122,33.5081 136.023,29.4044\" style=\"fill:none;fill-rule:evenodd;stroke:#000000;stroke-width:2px;stroke-linecap:butt;stroke-linejoin:miter;stroke-opacity:1\"/>\n",
       "<path d=\"M 63.9767,29.4044 56.8784,33.5081\" style=\"fill:none;fill-rule:evenodd;stroke:#000000;stroke-width:2px;stroke-linecap:butt;stroke-linejoin:miter;stroke-opacity:1\"/>\n",
       "<path d=\"M 20.8551,90.5744 20.8551,109.426\" style=\"fill:none;fill-rule:evenodd;stroke:#000000;stroke-width:2px;stroke-linecap:butt;stroke-linejoin:miter;stroke-opacity:1\"/>\n",
       "<path d=\"M 56.8784,166.492 63.9767,170.596\" style=\"fill:none;fill-rule:evenodd;stroke:#000000;stroke-width:2px;stroke-linecap:butt;stroke-linejoin:miter;stroke-opacity:1\"/>\n",
       "<text style=\"font-size:10px;font-style:normal;font-weight:normal;fill-opacity:1;stroke:none;font-family:sans-serif;text-anchor:start;fill:#000000\" x=\"91.8022\" y=\"135.971\"><tspan>C0</tspan></text>\n",
       "<text style=\"font-size:10px;font-style:normal;font-weight:normal;fill-opacity:1;stroke:none;font-family:sans-serif;text-anchor:start;fill:#000000\" x=\"118.679\" y=\"120.668\"><tspan>B1</tspan></text>\n",
       "<text style=\"font-size:10px;font-style:normal;font-weight:normal;fill-opacity:1;stroke:none;font-family:sans-serif;text-anchor:start;fill:#000000\" x=\"118.326\" y=\"90.0187\"><tspan>C2</tspan></text>\n",
       "<text style=\"font-size:10px;font-style:normal;font-weight:normal;fill-opacity:1;stroke:none;font-family:sans-serif;text-anchor:start;fill:#000000\" x=\"91.8022\" y=\"74.7155\"><tspan>C3</tspan></text>\n",
       "<text style=\"font-size:10px;font-style:normal;font-weight:normal;fill-opacity:1;stroke:none;font-family:sans-serif;text-anchor:start;fill:#0000FF\" x=\"65.2781\" y=\"90.0187\"><tspan>N4</tspan></text>\n",
       "<text style=\"font-size:10px;font-style:normal;font-weight:normal;fill-opacity:1;stroke:none;font-family:sans-serif;text-anchor:start;fill:#000000\" x=\"65.2781\" y=\"120.668\"><tspan>C5</tspan></text>\n",
       "<text style=\"font-size:10px;font-style:normal;font-weight:normal;fill-opacity:1;stroke:none;font-family:sans-serif;text-anchor:start;fill:#000000\" x=\"91.8022\" y=\"166.577\"><tspan>C6</tspan></text>\n",
       "<text style=\"font-size:10px;font-style:normal;font-weight:normal;fill-opacity:1;stroke:none;font-family:sans-serif;text-anchor:start;fill:#000000\" x=\"144.829\" y=\"135.95\"><tspan>C7</tspan></text>\n",
       "<text style=\"font-size:10px;font-style:normal;font-weight:normal;fill-opacity:1;stroke:none;font-family:sans-serif;text-anchor:start;fill:#000000\" x=\"144.829\" y=\"74.7369\"><tspan>C8</tspan></text>\n",
       "<text style=\"font-size:10px;font-style:normal;font-weight:normal;fill-opacity:1;stroke:none;font-family:sans-serif;text-anchor:start;fill:#000000\" x=\"91.8022\" y=\"44.1091\"><tspan>C9</tspan></text>\n",
       "<text style=\"font-size:10px;font-style:normal;font-weight:normal;fill-opacity:1;stroke:none;font-family:sans-serif;text-anchor:start;fill:#000000\" x=\"35.2089\" y=\"74.7369\"><tspan>C10</tspan></text>\n",
       "<text style=\"font-size:10px;font-style:normal;font-weight:normal;fill-opacity:1;stroke:none;font-family:sans-serif;text-anchor:start;fill:#000000\" x=\"35.2089\" y=\"135.95\"><tspan>C11</tspan></text>\n",
       "<text style=\"font-size:10px;font-style:normal;font-weight:normal;fill-opacity:1;stroke:none;font-family:sans-serif;text-anchor:start;fill:#000000\" x=\"115.016\" y=\"181.282\"><tspan>C12</tspan></text>\n",
       "<text style=\"font-size:10px;font-style:normal;font-weight:normal;fill-opacity:1;stroke:none;font-family:sans-serif;text-anchor:start;fill:#000000\" x=\"140.6\" y=\"166.492\"><tspan>C13</tspan></text>\n",
       "<text style=\"font-size:10px;font-style:normal;font-weight:normal;fill-opacity:1;stroke:none;font-family:sans-serif;text-anchor:start;fill:#000000\" x=\"167.381\" y=\"120.112\"><tspan>C14</tspan></text>\n",
       "<text style=\"font-size:10px;font-style:normal;font-weight:normal;fill-opacity:1;stroke:none;font-family:sans-serif;text-anchor:start;fill:#000000\" x=\"167.381\" y=\"90.5744\"><tspan>C15</tspan></text>\n",
       "<text style=\"font-size:10px;font-style:normal;font-weight:normal;fill-opacity:1;stroke:none;font-family:sans-serif;text-anchor:start;fill:#000000\" x=\"140.6\" y=\"44.1946\"><tspan>C16</tspan></text>\n",
       "<text style=\"font-size:10px;font-style:normal;font-weight:normal;fill-opacity:1;stroke:none;font-family:sans-serif;text-anchor:start;fill:#000000\" x=\"115.016\" y=\"29.4044\"><tspan>C17</tspan></text>\n",
       "<text style=\"font-size:10px;font-style:normal;font-weight:normal;fill-opacity:1;stroke:none;font-family:sans-serif;text-anchor:start;fill:#000000\" x=\"61.4552\" y=\"29.4044\"><tspan>C18</tspan></text>\n",
       "<text style=\"font-size:10px;font-style:normal;font-weight:normal;fill-opacity:1;stroke:none;font-family:sans-serif;text-anchor:start;fill:#000000\" x=\"35.8715\" y=\"44.1946\"><tspan>C19</tspan></text>\n",
       "<text style=\"font-size:10px;font-style:normal;font-weight:normal;fill-opacity:1;stroke:none;font-family:sans-serif;text-anchor:start;fill:#000000\" x=\"9.09091\" y=\"90.5744\"><tspan>C20</tspan></text>\n",
       "<text style=\"font-size:10px;font-style:normal;font-weight:normal;fill-opacity:1;stroke:none;font-family:sans-serif;text-anchor:start;fill:#000000\" x=\"9.09091\" y=\"120.112\"><tspan>C21</tspan></text>\n",
       "<text style=\"font-size:10px;font-style:normal;font-weight:normal;fill-opacity:1;stroke:none;font-family:sans-serif;text-anchor:start;fill:#000000\" x=\"35.8715\" y=\"166.492\"><tspan>C22</tspan></text>\n",
       "<text style=\"font-size:10px;font-style:normal;font-weight:normal;fill-opacity:1;stroke:none;font-family:sans-serif;text-anchor:start;fill:#000000\" x=\"61.4552\" y=\"181.282\"><tspan>C23</tspan></text>\n",
       "</svg>"
      ],
      "text/plain": [
       "<IPython.core.display.SVG object>"
      ]
     },
     "metadata": {},
     "output_type": "display_data"
    },
    {
     "data": {
      "image/svg+xml": [
       "<svg baseProfile=\"full\" height=\"200px\" version=\"1.1\" width=\"200px\" xml:space=\"preserve\" xmlns:rdkit=\"http://www.rdkit.org/xml\" xmlns:svg=\"http://www.w3.org/2000/svg\" xmlns:xlink=\"http://www.w3.org/1999/xlink\">\n",
       "<rect height=\"200\" style=\"opacity:1.0;fill:#FFFFFF;stroke:none\" width=\"200\" x=\"0\" y=\"0\"> </rect>\n",
       "<ellipse cx=\"100\" cy=\"130.628\" rx=\"8.54927\" ry=\"8.54927\" style=\"fill:#FF7F7F;fill-rule:evenodd;stroke:#FF7F7F;stroke-width:1px;stroke-linecap:butt;stroke-linejoin:miter;stroke-opacity:1\"/>\n",
       "<path d=\"M 107.845,126.102 118.326,120.054\" style=\"fill:none;fill-rule:evenodd;stroke:#000000;stroke-width:2px;stroke-linecap:butt;stroke-linejoin:miter;stroke-opacity:1\"/>\n",
       "<path d=\"M 92.155,126.102 81.6736,120.054\" style=\"fill:none;fill-rule:evenodd;stroke:#000000;stroke-width:2px;stroke-linecap:butt;stroke-linejoin:miter;stroke-opacity:1\"/>\n",
       "<path d=\"M 100,135.971 100,155.891\" style=\"fill:none;fill-rule:evenodd;stroke:#000000;stroke-width:2px;stroke-linecap:butt;stroke-linejoin:miter;stroke-opacity:1\"/>\n",
       "<path d=\"M 126.524,109.981 126.524,90.0187\" style=\"fill:none;fill-rule:evenodd;stroke:#000000;stroke-width:2px;stroke-linecap:butt;stroke-linejoin:miter;stroke-opacity:1\"/>\n",
       "<path d=\"M 134.722,120.051 144.829,125.879\" style=\"fill:none;fill-rule:evenodd;stroke:#000000;stroke-width:2px;stroke-linecap:butt;stroke-linejoin:miter;stroke-opacity:1\"/>\n",
       "<path d=\"M 118.326,79.9457 113.262,77.0238\" style=\"fill:none;fill-rule:evenodd;stroke:#000000;stroke-width:2px;stroke-linecap:butt;stroke-linejoin:miter;stroke-opacity:1\"/>\n",
       "<path d=\"M 113.262,77.0238 108.198,74.102\" style=\"fill:none;fill-rule:evenodd;stroke:#0000FF;stroke-width:2px;stroke-linecap:butt;stroke-linejoin:miter;stroke-opacity:1\"/>\n",
       "<path d=\"M 134.722,79.9485 144.829,74.1205\" style=\"fill:none;fill-rule:evenodd;stroke:#000000;stroke-width:2px;stroke-linecap:butt;stroke-linejoin:miter;stroke-opacity:1\"/>\n",
       "<path d=\"M 100,64.0289 100,54.069\" style=\"fill:none;fill-rule:evenodd;stroke:#0000FF;stroke-width:2px;stroke-linecap:butt;stroke-linejoin:miter;stroke-opacity:1\"/>\n",
       "<path d=\"M 100,54.069 100,44.1091\" style=\"fill:none;fill-rule:evenodd;stroke:#000000;stroke-width:2px;stroke-linecap:butt;stroke-linejoin:miter;stroke-opacity:1\"/>\n",
       "<path d=\"M 91.8022,74.102 86.7379,77.0238\" style=\"fill:none;fill-rule:evenodd;stroke:#0000FF;stroke-width:2px;stroke-linecap:butt;stroke-linejoin:miter;stroke-opacity:1\"/>\n",
       "<path d=\"M 86.7379,77.0238 81.6736,79.9457\" style=\"fill:none;fill-rule:evenodd;stroke:#000000;stroke-width:2px;stroke-linecap:butt;stroke-linejoin:miter;stroke-opacity:1\"/>\n",
       "<path d=\"M 73.4759,90.0187 73.4759,109.981\" style=\"fill:none;fill-rule:evenodd;stroke:#000000;stroke-width:2px;stroke-linecap:butt;stroke-linejoin:miter;stroke-opacity:1\"/>\n",
       "<path d=\"M 65.2781,79.9485 56.2398,74.7369\" style=\"fill:none;fill-rule:evenodd;stroke:#000000;stroke-width:2px;stroke-linecap:butt;stroke-linejoin:miter;stroke-opacity:1\"/>\n",
       "<path d=\"M 65.2781,120.051 56.2398,125.263\" style=\"fill:none;fill-rule:evenodd;stroke:#000000;stroke-width:2px;stroke-linecap:butt;stroke-linejoin:miter;stroke-opacity:1\"/>\n",
       "<path d=\"M 91.8022,165.735 82.9507,170.596\" style=\"fill:none;fill-rule:evenodd;stroke:#000000;stroke-width:2px;stroke-linecap:butt;stroke-linejoin:miter;stroke-opacity:1\"/>\n",
       "<path d=\"M 108.198,165.735 117.049,170.596\" style=\"fill:none;fill-rule:evenodd;stroke:#000000;stroke-width:2px;stroke-linecap:butt;stroke-linejoin:miter;stroke-opacity:1\"/>\n",
       "<path d=\"M 152.911,135.95 152.48,155.805\" style=\"fill:none;fill-rule:evenodd;stroke:#000000;stroke-width:2px;stroke-linecap:butt;stroke-linejoin:miter;stroke-opacity:1\"/>\n",
       "<path d=\"M 161.225,125.635 170.333,120.112\" style=\"fill:none;fill-rule:evenodd;stroke:#000000;stroke-width:2px;stroke-linecap:butt;stroke-linejoin:miter;stroke-opacity:1\"/>\n",
       "<path d=\"M 161.225,74.3646 170.333,79.8878\" style=\"fill:none;fill-rule:evenodd;stroke:#000000;stroke-width:2px;stroke-linecap:butt;stroke-linejoin:miter;stroke-opacity:1\"/>\n",
       "<path d=\"M 152.911,64.0503 152.48,44.1946\" style=\"fill:none;fill-rule:evenodd;stroke:#000000;stroke-width:2px;stroke-linecap:butt;stroke-linejoin:miter;stroke-opacity:1\"/>\n",
       "<path d=\"M 91.8022,34.2646 82.9507,29.4044\" style=\"fill:none;fill-rule:evenodd;stroke:#000000;stroke-width:2px;stroke-linecap:butt;stroke-linejoin:miter;stroke-opacity:1\"/>\n",
       "<path d=\"M 108.198,34.2646 117.049,29.4044\" style=\"fill:none;fill-rule:evenodd;stroke:#000000;stroke-width:2px;stroke-linecap:butt;stroke-linejoin:miter;stroke-opacity:1\"/>\n",
       "<path d=\"M 47.0891,64.0503 47.5198,44.1946\" style=\"fill:none;fill-rule:evenodd;stroke:#000000;stroke-width:2px;stroke-linecap:butt;stroke-linejoin:miter;stroke-opacity:1\"/>\n",
       "<path d=\"M 38.1614,74.7369 29.6669,79.8878\" style=\"fill:none;fill-rule:evenodd;stroke:#000000;stroke-width:2px;stroke-linecap:butt;stroke-linejoin:miter;stroke-opacity:1\"/>\n",
       "<path d=\"M 38.1614,125.263 29.6669,120.112\" style=\"fill:none;fill-rule:evenodd;stroke:#000000;stroke-width:2px;stroke-linecap:butt;stroke-linejoin:miter;stroke-opacity:1\"/>\n",
       "<path d=\"M 47.0891,135.95 47.5198,155.805\" style=\"fill:none;fill-rule:evenodd;stroke:#000000;stroke-width:2px;stroke-linecap:butt;stroke-linejoin:miter;stroke-opacity:1\"/>\n",
       "<path d=\"M 136.023,170.596 143.122,166.492\" style=\"fill:none;fill-rule:evenodd;stroke:#000000;stroke-width:2px;stroke-linecap:butt;stroke-linejoin:miter;stroke-opacity:1\"/>\n",
       "<path d=\"M 179.145,109.426 179.145,90.5744\" style=\"fill:none;fill-rule:evenodd;stroke:#000000;stroke-width:2px;stroke-linecap:butt;stroke-linejoin:miter;stroke-opacity:1\"/>\n",
       "<path d=\"M 143.122,33.5081 136.023,29.4044\" style=\"fill:none;fill-rule:evenodd;stroke:#000000;stroke-width:2px;stroke-linecap:butt;stroke-linejoin:miter;stroke-opacity:1\"/>\n",
       "<path d=\"M 63.9767,29.4044 56.8784,33.5081\" style=\"fill:none;fill-rule:evenodd;stroke:#000000;stroke-width:2px;stroke-linecap:butt;stroke-linejoin:miter;stroke-opacity:1\"/>\n",
       "<path d=\"M 20.8551,90.5744 20.8551,109.426\" style=\"fill:none;fill-rule:evenodd;stroke:#000000;stroke-width:2px;stroke-linecap:butt;stroke-linejoin:miter;stroke-opacity:1\"/>\n",
       "<path d=\"M 56.8784,166.492 63.9767,170.596\" style=\"fill:none;fill-rule:evenodd;stroke:#000000;stroke-width:2px;stroke-linecap:butt;stroke-linejoin:miter;stroke-opacity:1\"/>\n",
       "<text style=\"font-size:10px;font-style:normal;font-weight:normal;fill-opacity:1;stroke:none;font-family:sans-serif;text-anchor:start;fill:#000000\" x=\"92.155\" y=\"135.971\"><tspan>B0</tspan></text>\n",
       "<text style=\"font-size:10px;font-style:normal;font-weight:normal;fill-opacity:1;stroke:none;font-family:sans-serif;text-anchor:start;fill:#000000\" x=\"118.326\" y=\"120.668\"><tspan>C1</tspan></text>\n",
       "<text style=\"font-size:10px;font-style:normal;font-weight:normal;fill-opacity:1;stroke:none;font-family:sans-serif;text-anchor:start;fill:#000000\" x=\"118.326\" y=\"90.0187\"><tspan>C2</tspan></text>\n",
       "<text style=\"font-size:10px;font-style:normal;font-weight:normal;fill-opacity:1;stroke:none;font-family:sans-serif;text-anchor:start;fill:#0000FF\" x=\"91.8022\" y=\"74.7155\"><tspan>N3</tspan></text>\n",
       "<text style=\"font-size:10px;font-style:normal;font-weight:normal;fill-opacity:1;stroke:none;font-family:sans-serif;text-anchor:start;fill:#000000\" x=\"65.2781\" y=\"90.0187\"><tspan>C4</tspan></text>\n",
       "<text style=\"font-size:10px;font-style:normal;font-weight:normal;fill-opacity:1;stroke:none;font-family:sans-serif;text-anchor:start;fill:#000000\" x=\"65.2781\" y=\"120.668\"><tspan>C5</tspan></text>\n",
       "<text style=\"font-size:10px;font-style:normal;font-weight:normal;fill-opacity:1;stroke:none;font-family:sans-serif;text-anchor:start;fill:#000000\" x=\"91.8022\" y=\"166.577\"><tspan>C6</tspan></text>\n",
       "<text style=\"font-size:10px;font-style:normal;font-weight:normal;fill-opacity:1;stroke:none;font-family:sans-serif;text-anchor:start;fill:#000000\" x=\"144.829\" y=\"135.95\"><tspan>C7</tspan></text>\n",
       "<text style=\"font-size:10px;font-style:normal;font-weight:normal;fill-opacity:1;stroke:none;font-family:sans-serif;text-anchor:start;fill:#000000\" x=\"144.829\" y=\"74.7369\"><tspan>C8</tspan></text>\n",
       "<text style=\"font-size:10px;font-style:normal;font-weight:normal;fill-opacity:1;stroke:none;font-family:sans-serif;text-anchor:start;fill:#000000\" x=\"91.8022\" y=\"44.1091\"><tspan>C9</tspan></text>\n",
       "<text style=\"font-size:10px;font-style:normal;font-weight:normal;fill-opacity:1;stroke:none;font-family:sans-serif;text-anchor:start;fill:#000000\" x=\"35.2089\" y=\"74.7369\"><tspan>C10</tspan></text>\n",
       "<text style=\"font-size:10px;font-style:normal;font-weight:normal;fill-opacity:1;stroke:none;font-family:sans-serif;text-anchor:start;fill:#000000\" x=\"35.2089\" y=\"135.95\"><tspan>C11</tspan></text>\n",
       "<text style=\"font-size:10px;font-style:normal;font-weight:normal;fill-opacity:1;stroke:none;font-family:sans-serif;text-anchor:start;fill:#000000\" x=\"115.016\" y=\"181.282\"><tspan>C12</tspan></text>\n",
       "<text style=\"font-size:10px;font-style:normal;font-weight:normal;fill-opacity:1;stroke:none;font-family:sans-serif;text-anchor:start;fill:#000000\" x=\"140.6\" y=\"166.492\"><tspan>C13</tspan></text>\n",
       "<text style=\"font-size:10px;font-style:normal;font-weight:normal;fill-opacity:1;stroke:none;font-family:sans-serif;text-anchor:start;fill:#000000\" x=\"167.381\" y=\"120.112\"><tspan>C14</tspan></text>\n",
       "<text style=\"font-size:10px;font-style:normal;font-weight:normal;fill-opacity:1;stroke:none;font-family:sans-serif;text-anchor:start;fill:#000000\" x=\"167.381\" y=\"90.5744\"><tspan>C15</tspan></text>\n",
       "<text style=\"font-size:10px;font-style:normal;font-weight:normal;fill-opacity:1;stroke:none;font-family:sans-serif;text-anchor:start;fill:#000000\" x=\"140.6\" y=\"44.1946\"><tspan>C16</tspan></text>\n",
       "<text style=\"font-size:10px;font-style:normal;font-weight:normal;fill-opacity:1;stroke:none;font-family:sans-serif;text-anchor:start;fill:#000000\" x=\"115.016\" y=\"29.4044\"><tspan>C17</tspan></text>\n",
       "<text style=\"font-size:10px;font-style:normal;font-weight:normal;fill-opacity:1;stroke:none;font-family:sans-serif;text-anchor:start;fill:#000000\" x=\"61.4552\" y=\"29.4044\"><tspan>C18</tspan></text>\n",
       "<text style=\"font-size:10px;font-style:normal;font-weight:normal;fill-opacity:1;stroke:none;font-family:sans-serif;text-anchor:start;fill:#000000\" x=\"35.8715\" y=\"44.1946\"><tspan>C19</tspan></text>\n",
       "<text style=\"font-size:10px;font-style:normal;font-weight:normal;fill-opacity:1;stroke:none;font-family:sans-serif;text-anchor:start;fill:#000000\" x=\"9.09091\" y=\"90.5744\"><tspan>C20</tspan></text>\n",
       "<text style=\"font-size:10px;font-style:normal;font-weight:normal;fill-opacity:1;stroke:none;font-family:sans-serif;text-anchor:start;fill:#000000\" x=\"9.09091\" y=\"120.112\"><tspan>C21</tspan></text>\n",
       "<text style=\"font-size:10px;font-style:normal;font-weight:normal;fill-opacity:1;stroke:none;font-family:sans-serif;text-anchor:start;fill:#000000\" x=\"35.8715\" y=\"166.492\"><tspan>C22</tspan></text>\n",
       "<text style=\"font-size:10px;font-style:normal;font-weight:normal;fill-opacity:1;stroke:none;font-family:sans-serif;text-anchor:start;fill:#000000\" x=\"61.4552\" y=\"181.282\"><tspan>C23</tspan></text>\n",
       "</svg>"
      ],
      "text/plain": [
       "<IPython.core.display.SVG object>"
      ]
     },
     "metadata": {},
     "output_type": "display_data"
    },
    {
     "data": {
      "image/svg+xml": [
       "<svg baseProfile=\"full\" height=\"200px\" version=\"1.1\" width=\"200px\" xml:space=\"preserve\" xmlns:rdkit=\"http://www.rdkit.org/xml\" xmlns:svg=\"http://www.w3.org/2000/svg\" xmlns:xlink=\"http://www.w3.org/1999/xlink\">\n",
       "<rect height=\"200\" style=\"opacity:1.0;fill:#FFFFFF;stroke:none\" width=\"200\" x=\"0\" y=\"0\"> </rect>\n",
       "<ellipse cx=\"73.4759\" cy=\"115.325\" rx=\"8.54927\" ry=\"8.54927\" style=\"fill:#FF7F7F;fill-rule:evenodd;stroke:#FF7F7F;stroke-width:1px;stroke-linecap:butt;stroke-linejoin:miter;stroke-opacity:1\"/>\n",
       "<path d=\"M 108.198,125.898 118.326,120.054\" style=\"fill:none;fill-rule:evenodd;stroke:#000000;stroke-width:2px;stroke-linecap:butt;stroke-linejoin:miter;stroke-opacity:1\"/>\n",
       "<path d=\"M 91.8022,125.898 81.3208,119.851\" style=\"fill:none;fill-rule:evenodd;stroke:#000000;stroke-width:2px;stroke-linecap:butt;stroke-linejoin:miter;stroke-opacity:1\"/>\n",
       "<path d=\"M 100,135.971 100,155.891\" style=\"fill:none;fill-rule:evenodd;stroke:#000000;stroke-width:2px;stroke-linecap:butt;stroke-linejoin:miter;stroke-opacity:1\"/>\n",
       "<path d=\"M 126.524,109.981 126.524,100\" style=\"fill:none;fill-rule:evenodd;stroke:#000000;stroke-width:2px;stroke-linecap:butt;stroke-linejoin:miter;stroke-opacity:1\"/>\n",
       "<path d=\"M 126.524,100 126.524,90.0187\" style=\"fill:none;fill-rule:evenodd;stroke:#0000FF;stroke-width:2px;stroke-linecap:butt;stroke-linejoin:miter;stroke-opacity:1\"/>\n",
       "<path d=\"M 134.722,120.051 144.829,125.879\" style=\"fill:none;fill-rule:evenodd;stroke:#000000;stroke-width:2px;stroke-linecap:butt;stroke-linejoin:miter;stroke-opacity:1\"/>\n",
       "<path d=\"M 118.326,79.9457 113.262,77.0238\" style=\"fill:none;fill-rule:evenodd;stroke:#0000FF;stroke-width:2px;stroke-linecap:butt;stroke-linejoin:miter;stroke-opacity:1\"/>\n",
       "<path d=\"M 113.262,77.0238 108.198,74.102\" style=\"fill:none;fill-rule:evenodd;stroke:#000000;stroke-width:2px;stroke-linecap:butt;stroke-linejoin:miter;stroke-opacity:1\"/>\n",
       "<path d=\"M 134.722,79.9485 139.775,77.0345\" style=\"fill:none;fill-rule:evenodd;stroke:#0000FF;stroke-width:2px;stroke-linecap:butt;stroke-linejoin:miter;stroke-opacity:1\"/>\n",
       "<path d=\"M 139.775,77.0345 144.829,74.1205\" style=\"fill:none;fill-rule:evenodd;stroke:#000000;stroke-width:2px;stroke-linecap:butt;stroke-linejoin:miter;stroke-opacity:1\"/>\n",
       "<path d=\"M 100,64.0289 100,44.1091\" style=\"fill:none;fill-rule:evenodd;stroke:#000000;stroke-width:2px;stroke-linecap:butt;stroke-linejoin:miter;stroke-opacity:1\"/>\n",
       "<path d=\"M 91.8022,74.102 81.6736,79.9457\" style=\"fill:none;fill-rule:evenodd;stroke:#000000;stroke-width:2px;stroke-linecap:butt;stroke-linejoin:miter;stroke-opacity:1\"/>\n",
       "<path d=\"M 73.4759,90.0187 73.4759,109.981\" style=\"fill:none;fill-rule:evenodd;stroke:#000000;stroke-width:2px;stroke-linecap:butt;stroke-linejoin:miter;stroke-opacity:1\"/>\n",
       "<path d=\"M 65.2781,79.9485 56.2398,74.7369\" style=\"fill:none;fill-rule:evenodd;stroke:#000000;stroke-width:2px;stroke-linecap:butt;stroke-linejoin:miter;stroke-opacity:1\"/>\n",
       "<path d=\"M 65.6309,119.848 56.2398,125.263\" style=\"fill:none;fill-rule:evenodd;stroke:#000000;stroke-width:2px;stroke-linecap:butt;stroke-linejoin:miter;stroke-opacity:1\"/>\n",
       "<path d=\"M 91.8022,165.735 82.9507,170.596\" style=\"fill:none;fill-rule:evenodd;stroke:#000000;stroke-width:2px;stroke-linecap:butt;stroke-linejoin:miter;stroke-opacity:1\"/>\n",
       "<path d=\"M 108.198,165.735 117.049,170.596\" style=\"fill:none;fill-rule:evenodd;stroke:#000000;stroke-width:2px;stroke-linecap:butt;stroke-linejoin:miter;stroke-opacity:1\"/>\n",
       "<path d=\"M 152.911,135.95 152.48,155.805\" style=\"fill:none;fill-rule:evenodd;stroke:#000000;stroke-width:2px;stroke-linecap:butt;stroke-linejoin:miter;stroke-opacity:1\"/>\n",
       "<path d=\"M 161.225,125.635 170.333,120.112\" style=\"fill:none;fill-rule:evenodd;stroke:#000000;stroke-width:2px;stroke-linecap:butt;stroke-linejoin:miter;stroke-opacity:1\"/>\n",
       "<path d=\"M 161.225,74.3646 170.333,79.8878\" style=\"fill:none;fill-rule:evenodd;stroke:#000000;stroke-width:2px;stroke-linecap:butt;stroke-linejoin:miter;stroke-opacity:1\"/>\n",
       "<path d=\"M 152.911,64.0503 152.48,44.1946\" style=\"fill:none;fill-rule:evenodd;stroke:#000000;stroke-width:2px;stroke-linecap:butt;stroke-linejoin:miter;stroke-opacity:1\"/>\n",
       "<path d=\"M 91.8022,34.2646 82.9507,29.4044\" style=\"fill:none;fill-rule:evenodd;stroke:#000000;stroke-width:2px;stroke-linecap:butt;stroke-linejoin:miter;stroke-opacity:1\"/>\n",
       "<path d=\"M 108.198,34.2646 117.049,29.4044\" style=\"fill:none;fill-rule:evenodd;stroke:#000000;stroke-width:2px;stroke-linecap:butt;stroke-linejoin:miter;stroke-opacity:1\"/>\n",
       "<path d=\"M 47.0891,64.0503 47.5198,44.1946\" style=\"fill:none;fill-rule:evenodd;stroke:#000000;stroke-width:2px;stroke-linecap:butt;stroke-linejoin:miter;stroke-opacity:1\"/>\n",
       "<path d=\"M 38.1614,74.7369 29.6669,79.8878\" style=\"fill:none;fill-rule:evenodd;stroke:#000000;stroke-width:2px;stroke-linecap:butt;stroke-linejoin:miter;stroke-opacity:1\"/>\n",
       "<path d=\"M 38.1614,125.263 29.6669,120.112\" style=\"fill:none;fill-rule:evenodd;stroke:#000000;stroke-width:2px;stroke-linecap:butt;stroke-linejoin:miter;stroke-opacity:1\"/>\n",
       "<path d=\"M 47.0891,135.95 47.5198,155.805\" style=\"fill:none;fill-rule:evenodd;stroke:#000000;stroke-width:2px;stroke-linecap:butt;stroke-linejoin:miter;stroke-opacity:1\"/>\n",
       "<path d=\"M 136.023,170.596 143.122,166.492\" style=\"fill:none;fill-rule:evenodd;stroke:#000000;stroke-width:2px;stroke-linecap:butt;stroke-linejoin:miter;stroke-opacity:1\"/>\n",
       "<path d=\"M 179.145,109.426 179.145,90.5744\" style=\"fill:none;fill-rule:evenodd;stroke:#000000;stroke-width:2px;stroke-linecap:butt;stroke-linejoin:miter;stroke-opacity:1\"/>\n",
       "<path d=\"M 143.122,33.5081 136.023,29.4044\" style=\"fill:none;fill-rule:evenodd;stroke:#000000;stroke-width:2px;stroke-linecap:butt;stroke-linejoin:miter;stroke-opacity:1\"/>\n",
       "<path d=\"M 63.9767,29.4044 56.8784,33.5081\" style=\"fill:none;fill-rule:evenodd;stroke:#000000;stroke-width:2px;stroke-linecap:butt;stroke-linejoin:miter;stroke-opacity:1\"/>\n",
       "<path d=\"M 20.8551,90.5744 20.8551,109.426\" style=\"fill:none;fill-rule:evenodd;stroke:#000000;stroke-width:2px;stroke-linecap:butt;stroke-linejoin:miter;stroke-opacity:1\"/>\n",
       "<path d=\"M 56.8784,166.492 63.9767,170.596\" style=\"fill:none;fill-rule:evenodd;stroke:#000000;stroke-width:2px;stroke-linecap:butt;stroke-linejoin:miter;stroke-opacity:1\"/>\n",
       "<text style=\"font-size:10px;font-style:normal;font-weight:normal;fill-opacity:1;stroke:none;font-family:sans-serif;text-anchor:start;fill:#000000\" x=\"91.8022\" y=\"135.971\"><tspan>C0</tspan></text>\n",
       "<text style=\"font-size:10px;font-style:normal;font-weight:normal;fill-opacity:1;stroke:none;font-family:sans-serif;text-anchor:start;fill:#000000\" x=\"118.326\" y=\"120.668\"><tspan>C1</tspan></text>\n",
       "<text style=\"font-size:10px;font-style:normal;font-weight:normal;fill-opacity:1;stroke:none;font-family:sans-serif;text-anchor:start;fill:#0000FF\" x=\"118.326\" y=\"90.0187\"><tspan>N2</tspan></text>\n",
       "<text style=\"font-size:10px;font-style:normal;font-weight:normal;fill-opacity:1;stroke:none;font-family:sans-serif;text-anchor:start;fill:#000000\" x=\"91.8022\" y=\"74.7155\"><tspan>C3</tspan></text>\n",
       "<text style=\"font-size:10px;font-style:normal;font-weight:normal;fill-opacity:1;stroke:none;font-family:sans-serif;text-anchor:start;fill:#000000\" x=\"65.2781\" y=\"90.0187\"><tspan>C4</tspan></text>\n",
       "<text style=\"font-size:10px;font-style:normal;font-weight:normal;fill-opacity:1;stroke:none;font-family:sans-serif;text-anchor:start;fill:#000000\" x=\"65.6309\" y=\"120.668\"><tspan>B5</tspan></text>\n",
       "<text style=\"font-size:10px;font-style:normal;font-weight:normal;fill-opacity:1;stroke:none;font-family:sans-serif;text-anchor:start;fill:#000000\" x=\"91.8022\" y=\"166.577\"><tspan>C6</tspan></text>\n",
       "<text style=\"font-size:10px;font-style:normal;font-weight:normal;fill-opacity:1;stroke:none;font-family:sans-serif;text-anchor:start;fill:#000000\" x=\"144.829\" y=\"135.95\"><tspan>C7</tspan></text>\n",
       "<text style=\"font-size:10px;font-style:normal;font-weight:normal;fill-opacity:1;stroke:none;font-family:sans-serif;text-anchor:start;fill:#000000\" x=\"144.829\" y=\"74.7369\"><tspan>C8</tspan></text>\n",
       "<text style=\"font-size:10px;font-style:normal;font-weight:normal;fill-opacity:1;stroke:none;font-family:sans-serif;text-anchor:start;fill:#000000\" x=\"91.8022\" y=\"44.1091\"><tspan>C9</tspan></text>\n",
       "<text style=\"font-size:10px;font-style:normal;font-weight:normal;fill-opacity:1;stroke:none;font-family:sans-serif;text-anchor:start;fill:#000000\" x=\"35.2089\" y=\"74.7369\"><tspan>C10</tspan></text>\n",
       "<text style=\"font-size:10px;font-style:normal;font-weight:normal;fill-opacity:1;stroke:none;font-family:sans-serif;text-anchor:start;fill:#000000\" x=\"35.2089\" y=\"135.95\"><tspan>C11</tspan></text>\n",
       "<text style=\"font-size:10px;font-style:normal;font-weight:normal;fill-opacity:1;stroke:none;font-family:sans-serif;text-anchor:start;fill:#000000\" x=\"115.016\" y=\"181.282\"><tspan>C12</tspan></text>\n",
       "<text style=\"font-size:10px;font-style:normal;font-weight:normal;fill-opacity:1;stroke:none;font-family:sans-serif;text-anchor:start;fill:#000000\" x=\"140.6\" y=\"166.492\"><tspan>C13</tspan></text>\n",
       "<text style=\"font-size:10px;font-style:normal;font-weight:normal;fill-opacity:1;stroke:none;font-family:sans-serif;text-anchor:start;fill:#000000\" x=\"167.381\" y=\"120.112\"><tspan>C14</tspan></text>\n",
       "<text style=\"font-size:10px;font-style:normal;font-weight:normal;fill-opacity:1;stroke:none;font-family:sans-serif;text-anchor:start;fill:#000000\" x=\"167.381\" y=\"90.5744\"><tspan>C15</tspan></text>\n",
       "<text style=\"font-size:10px;font-style:normal;font-weight:normal;fill-opacity:1;stroke:none;font-family:sans-serif;text-anchor:start;fill:#000000\" x=\"140.6\" y=\"44.1946\"><tspan>C16</tspan></text>\n",
       "<text style=\"font-size:10px;font-style:normal;font-weight:normal;fill-opacity:1;stroke:none;font-family:sans-serif;text-anchor:start;fill:#000000\" x=\"115.016\" y=\"29.4044\"><tspan>C17</tspan></text>\n",
       "<text style=\"font-size:10px;font-style:normal;font-weight:normal;fill-opacity:1;stroke:none;font-family:sans-serif;text-anchor:start;fill:#000000\" x=\"61.4552\" y=\"29.4044\"><tspan>C18</tspan></text>\n",
       "<text style=\"font-size:10px;font-style:normal;font-weight:normal;fill-opacity:1;stroke:none;font-family:sans-serif;text-anchor:start;fill:#000000\" x=\"35.8715\" y=\"44.1946\"><tspan>C19</tspan></text>\n",
       "<text style=\"font-size:10px;font-style:normal;font-weight:normal;fill-opacity:1;stroke:none;font-family:sans-serif;text-anchor:start;fill:#000000\" x=\"9.09091\" y=\"90.5744\"><tspan>C20</tspan></text>\n",
       "<text style=\"font-size:10px;font-style:normal;font-weight:normal;fill-opacity:1;stroke:none;font-family:sans-serif;text-anchor:start;fill:#000000\" x=\"9.09091\" y=\"120.112\"><tspan>C21</tspan></text>\n",
       "<text style=\"font-size:10px;font-style:normal;font-weight:normal;fill-opacity:1;stroke:none;font-family:sans-serif;text-anchor:start;fill:#000000\" x=\"35.8715\" y=\"166.492\"><tspan>C22</tspan></text>\n",
       "<text style=\"font-size:10px;font-style:normal;font-weight:normal;fill-opacity:1;stroke:none;font-family:sans-serif;text-anchor:start;fill:#000000\" x=\"61.4552\" y=\"181.282\"><tspan>C23</tspan></text>\n",
       "</svg>"
      ],
      "text/plain": [
       "<IPython.core.display.SVG object>"
      ]
     },
     "metadata": {},
     "output_type": "display_data"
    }
   ],
   "source": [
    "for i, mol in enumerate(opt_mol_list[:4]):\n",
    "    mol = opt_mol_list[i]\n",
    "    B_list = np.arange(mol.N)[mol.Z == 5].tolist()\n",
    "    svg = mol2svg(rdm_list[i], index=True, highlight=B_list)\n",
    "    display(SVG(svg))\n",
    "    with open('opt_mol_%02d.svg' % i, 'w') as f:\n",
    "        f.write(svg)"
   ]
  },
  {
   "cell_type": "markdown",
   "metadata": {},
   "source": [
    "# fixed BN pair search"
   ]
  },
  {
   "cell_type": "code",
   "execution_count": 36,
   "metadata": {},
   "outputs": [
    {
     "name": "stdout",
     "output_type": "stream",
     "text": [
      "coronene.xyz           \u001b[0m\u001b[01;34mGAOptimize_coronene\u001b[0m/     optimization.db  \u001b[01;35mtarget_mol.svg\u001b[0m\r\n",
      "coronene.yml           \u001b[01;31mGAOptimize_coronene.zip\u001b[0m  \u001b[01;35mopt_mol_00.svg\u001b[0m   test.xyz\r\n",
      "data_coronene_1st.npz  GAOptimize.ipynb         \u001b[01;35mopt_mol_01.svg\u001b[0m   tmp.pdb\r\n",
      "data_coronene.npz      new.db                   \u001b[01;35mopt_mol_02.svg\u001b[0m   tmp.xyz\r\n",
      "ga_coronene.log        optimization_back.db     \u001b[01;35mopt_mol_03.svg\u001b[0m\r\n"
     ]
    }
   ],
   "source": [
    "ls"
   ]
  }
 ],
 "metadata": {
  "kernelspec": {
   "display_name": "Python 2",
   "language": "python",
   "name": "python2"
  },
  "language_info": {
   "codemirror_mode": {
    "name": "ipython",
    "version": 2
   },
   "file_extension": ".py",
   "mimetype": "text/x-python",
   "name": "python",
   "nbconvert_exporter": "python",
   "pygments_lexer": "ipython2",
   "version": "2.7.13"
  }
 },
 "nbformat": 4,
 "nbformat_minor": 2
}
