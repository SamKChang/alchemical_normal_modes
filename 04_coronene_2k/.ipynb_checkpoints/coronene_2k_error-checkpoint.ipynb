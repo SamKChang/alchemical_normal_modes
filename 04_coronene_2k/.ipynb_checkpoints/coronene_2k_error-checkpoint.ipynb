{
 "cells": [
  {
   "cell_type": "code",
   "execution_count": 1,
   "metadata": {},
   "outputs": [
    {
     "name": "stderr",
     "output_type": "stream",
     "text": [
      "/home/samio/local/miniconda2/lib/python2.7/site-packages/h5py/__init__.py:36: FutureWarning: Conversion of the second argument of issubdtype from `float` to `np.floating` is deprecated. In future, it will be treated as `np.float64 == np.dtype(float).type`.\n",
      "  from ._conv import register_converters as _register_converters\n"
     ]
    },
    {
     "name": "stdout",
     "output_type": "stream",
     "text": [
      "\u001b[93mmissing file: mov2asc\u001b[0m\n",
      "\u001b[93mplease modify /path/to/qctoolkit/setting.py and recompile.\u001b[0m\n"
     ]
    }
   ],
   "source": [
    "import qctoolkit as qtk\n",
    "import numpy as np\n",
    "from matplotlib import pyplot as plt\n",
    "import pandas as pd\n",
    "import seaborn as sns\n",
    "from copy import deepcopy\n",
    "import re \n",
    "\n",
    "#plt.style.use('classic')\n",
    "#plt.style.use('ggplot')\n",
    "\n",
    "%matplotlib inline"
   ]
  },
  {
   "cell_type": "markdown",
   "metadata": {},
   "source": [
    "# Load and clean data"
   ]
  },
  {
   "cell_type": "code",
   "execution_count": 2,
   "metadata": {},
   "outputs": [],
   "source": [
    "dZ_raw = np.loadtxt('symmetry-random-pick-dZ.txt')\n",
    "\n",
    "with open('coronene_energies_2k.txt') as f:\n",
    "    energy_txt_origin = f.readlines()\n",
    "\n",
    "with open('coronene_energies_2k_corrected.txt') as f:\n",
    "    energy_txt_corrected = f.readlines()"
   ]
  },
  {
   "cell_type": "code",
   "execution_count": 3,
   "metadata": {},
   "outputs": [
    {
     "name": "stdout",
     "output_type": "stream",
     "text": [
      "2145 2137 2137\n"
     ]
    }
   ],
   "source": [
    "print len(energy_txt_origin), len(energy_txt_corrected), len(dZ_raw)"
   ]
  },
  {
   "cell_type": "code",
   "execution_count": 197,
   "metadata": {
    "collapsed": true
   },
   "outputs": [],
   "source": [
    "def extract_log(data_line):\n",
    "    \"\"\"extract numbers from each line of the data file\n",
    "    \n",
    "       4 numbers are expected: symm_group, mol_ind, E_tot, scf_step\n",
    "       \n",
    "       return:\n",
    "         [symm_group, mol_ind, E_tot] if processed correctly\n",
    "         np.nan if something wrong\n",
    "    \"\"\"\n",
    "    try:\n",
    "        ind1, ind2, E, step = [float(e) for e in re.findall(r\"[-+]?\\d*\\.\\d+|\\d+\", data_line)]\n",
    "        return [ind1, ind2, E]\n",
    "    except Exception as err:\n",
    "        print data_line\n",
    "        print str(err)\n",
    "        return np.nan\n",
    "    \n",
    "def extract_E(data_line):\n",
    "    try:\n",
    "        return float(re.findall(r\"[-+]?\\d*\\.\\d+\", data_line)[0])\n",
    "    except Exception as err:\n",
    "        print str(err)\n",
    "        return np.nan\n",
    "\n",
    "def extract_name(data_line):\n",
    "    return data_line.split(':')[0]"
   ]
  },
  {
   "cell_type": "code",
   "execution_count": 198,
   "metadata": {},
   "outputs": [
    {
     "name": "stdout",
     "output_type": "stream",
     "text": [
      "[2.0, 1.0, -922.478559706, 20.0]\n",
      "corronene-sp-ccpvdz.log: SCF Done:  E(RPBE-PBE) =  -920.806635315     A.U. after   17 cycles\r\n",
      "\n",
      "need more than 2 values to unpack\n",
      "nan\n",
      "[2.0, 1.0, -922.478559706]\n",
      "-920.806635315\n",
      "-922.478559706\n",
      "corronene-sp-ccpvdz.log\n",
      "coronene-random-02-ccpvdz-0000001.log\n"
     ]
    }
   ],
   "source": [
    "# test the regular expression and the processing function\n",
    "print [float(e) for e in re.findall(r\"[-+]?\\d*\\.\\d+|\\d+\", energy_txt_origin[1])]\n",
    "print extract_log(energy_txt_origin[0])\n",
    "print extract_log(energy_txt_origin[1])\n",
    "print extract_E(energy_txt_origin[0])\n",
    "print extract_E(energy_txt_origin[1])\n",
    "print extract_name(energy_txt_origin[0])\n",
    "print extract_name(energy_txt_origin[1])\n",
    "\n",
    "########\n",
    "# NOTE #\n",
    "########\n",
    "# first line pure coronene data is in different format (less numbers), therefore returns nan"
   ]
  },
  {
   "cell_type": "code",
   "execution_count": 199,
   "metadata": {},
   "outputs": [
    {
     "name": "stdout",
     "output_type": "stream",
     "text": [
      "corronene-sp-ccpvdz.log: SCF Done:  E(RPBE-PBE) =  -920.806635315     A.U. after   17 cycles\r\n",
      "\n",
      "need more than 2 values to unpack\n",
      "\r\n",
      "\n",
      "need more than 0 values to unpack\n"
     ]
    }
   ],
   "source": [
    "# extract data, there are nan in some entries\n",
    "data_all = map(extract_log, energy_txt_origin)\n",
    "name_all = map(extract_name, energy_txt_origin)\n",
    "\n",
    "########\n",
    "# NOTE #\n",
    "########\n",
    "# empty line as EOF, no string to process therefore return nan"
   ]
  },
  {
   "cell_type": "code",
   "execution_count": 202,
   "metadata": {},
   "outputs": [
    {
     "name": "stdout",
     "output_type": "stream",
     "text": [
      "nan at index: 0\n",
      "nan at index: 2144\n",
      "2143\n"
     ]
    }
   ],
   "source": [
    "############################\n",
    "# extract data without nan #\n",
    "############################\n",
    "\n",
    "data_raw = []\n",
    "name_raw = []\n",
    "for i, e in enumerate(data_all):\n",
    "    try:\n",
    "        if np.isnan(e):\n",
    "            print 'nan at index: %d' % i\n",
    "    except:\n",
    "        e = deepcopy(e)\n",
    "        e.append(i)\n",
    "        data_raw.append(e)\n",
    "        name_raw.append(name_all[i])\n",
    "print len(data_raw)"
   ]
  },
  {
   "cell_type": "code",
   "execution_count": 203,
   "metadata": {
    "collapsed": true
   },
   "outputs": [],
   "source": [
    "##########################\n",
    "# sort data according to #\n",
    "#  first:  summ_group    #\n",
    "#  second: mol_ind       #\n",
    "# using lexsort function #\n",
    "##########################\n",
    "data_raw = np.asarray(data_raw)\n",
    "ind = np.lexsort((data_raw[:,1], data_raw[:,0]))\n",
    "data_sorted = data_raw[ind]\n",
    "\n",
    "######################################################\n",
    "# find entries with identical symm_group and mol_ind #\n",
    "######################################################\n",
    "# identical symm_group gives np.diff(data_sorted[:,0]) == 0\n",
    "# identical  mol_ind   gives np.diff(data_sorted[:,1]) == 0\n",
    "diff = np.diff(data_sorted[:,0]) + np.diff(data_sorted[:,1])\n",
    "# find indices where both symm_group and mol_ind are identical\n",
    "diff_ind = np.arange(len(diff))[diff == 0] "
   ]
  },
  {
   "cell_type": "code",
   "execution_count": 204,
   "metadata": {},
   "outputs": [
    {
     "name": "stdout",
     "output_type": "stream",
     "text": [
      "coronene-random-14-ccpvdz-0000121.log: SCF Done:  E(RPBE-PBE) =  -932.292531444     a.u. after   27 cycles\r\n",
      "coronene-random-14-ccpvdz-0000121-xqc.log: SCF Done:  E(RPBE-PBE) =  -931.937275995     A.U. after  129 cycles\r\n",
      "coronene-random-14-ccpvdz-0000121-xqc.log: SCF Done:  E(RPBE-PBE) =  -932.367785513     a.u. after   45 cycles\r\n",
      "coronene-random-16-ccpvdz-0000080.log: SCF Done:  E(RPBE-PBE) =  -933.319942686     A.U. after  129 cycles\r\n",
      "coronene-random-16-ccpvdz-0000080.log: SCF Done:  E(RPBE-PBE) =  -933.614356120     a.u. after   25 cycles\r\n",
      "coronene-random-16-ccpvdz-0000098.log: SCF Done:  E(RPBE-PBE) =  -934.102854887     A.U. after  129 cycles\r\n",
      "coronene-random-16-ccpvdz-0000098.log: SCF Done:  E(RPBE-PBE) =  -934.106631127     a.u. after   73 cycles\r\n",
      "coronene-random-16-ccpvdz-0000170.log: SCF Done:  E(RPBE-PBE) =  -934.079436503     A.U. after  129 cycles\r\n",
      "coronene-random-16-ccpvdz-0000170.log: SCF Done:  E(RPBE-PBE) =  -934.234951029     a.u. after    6 cycles\r\n",
      "coronene-random-16-ccpvdz-0000204.log: SCF Done:  E(RPBE-PBE) =  -933.589717903     A.U. after  129 cycles\r\n",
      "coronene-random-16-ccpvdz-0000204.log: SCF Done:  E(RPBE-PBE) =  -933.749517090     a.u. after   71 cycles\r\n",
      "coronene-random-18-ccpvdz-0000012.log: SCF Done:  E(RPBE-PBE) =  -935.326011050     A.U. after  129 cycles\r\n",
      "coronene-random-18-ccpvdz-0000012.log: SCF Done:  E(RPBE-PBE) =  -935.475472768     a.u. after   62 cycles\r\n",
      "coronene-random-18-ccpvdz-0000170.log: SCF Done:  E(RPBE-PBE) =  -935.758686849     A.U. after  129 cycles\r\n",
      "coronene-random-18-ccpvdz-0000170.log: SCF Done:  E(RPBE-PBE) =  -935.846700219     a.u. after   28 cycles\r\n",
      "[1100 1101 1372 1391 1464 1499 1599 1758]\n",
      "[1101, 1102, 1373, 1392, 1465, 1500, 1600, 1759]\n"
     ]
    }
   ],
   "source": [
    "#####################################\n",
    "# construct list of index to delete #\n",
    "#####################################\n",
    "ind_to_delete = []\n",
    "# there are triplet identicals\n",
    "skip = False # flag for skipping processed index\n",
    "for i, _ind in enumerate(diff_ind):\n",
    "    if not skip:\n",
    "        # most identicals are doublet\n",
    "        delta = 2\n",
    "        if i + 1 < len(diff_ind):\n",
    "            # process triplet identicals\n",
    "            if diff_ind[i] + 1 == diff_ind[i+1]:\n",
    "                delta = 3\n",
    "                skip = True # skip next index\n",
    "        # identical chunk of molecule data\n",
    "        chunk = data_sorted[_ind:_ind+delta]\n",
    "        # get minimum energy\n",
    "        keep_ind = chunk[np.argmin(chunk[:,2]), 3]\n",
    "        for ind_tmp in chunk[:, 3]:\n",
    "            # print data file content\n",
    "            print energy_txt_origin[int(ind_tmp)],\n",
    "            # include only larger energies\n",
    "            if ind_tmp != keep_ind:\n",
    "                ind_to_delete.append(int(ind_tmp))\n",
    "    else:\n",
    "        # only skip once, problematic for quadruplet identicals\n",
    "        skip = False\n",
    "print diff_ind\n",
    "print ind_to_delete"
   ]
  },
  {
   "cell_type": "code",
   "execution_count": 205,
   "metadata": {},
   "outputs": [
    {
     "name": "stdout",
     "output_type": "stream",
     "text": [
      "24.0 34.0 2078.0\n",
      "24.0 54.0 2097.0\n",
      "[2078, 2098]\n"
     ]
    }
   ],
   "source": [
    "#########################################\n",
    "# additional entires in dZ file:        #\n",
    "# coronene-random-24-ccpvdz-0000035.log #\n",
    "# coronene-random-24-ccpvdz-0000055.log #\n",
    "#########################################\n",
    "\n",
    "ind_dZ_delete = []\n",
    "for s, i, E, j in data_raw:\n",
    "    if int(s) == 24:\n",
    "        if int(i) == 34:\n",
    "            print s, i, j\n",
    "            ind_dZ_delete.append(int(j))\n",
    "        elif int(i) == 54:\n",
    "            print s, i, j\n",
    "            ind_dZ_delete.append(int(j+1))\n",
    "            \n",
    "mask = np.ones(len(dZ_raw), dtype=bool)\n",
    "mask[ind_dZ_delete] = False\n",
    "dZ = dZ_raw[mask]\n",
    "            \n",
    "print ind_dZ_delete"
   ]
  },
  {
   "cell_type": "code",
   "execution_count": 208,
   "metadata": {},
   "outputs": [
    {
     "name": "stdout",
     "output_type": "stream",
     "text": [
      "skip: [  14.        121.       -931.937276 1102.      ]\n",
      "skip: [  14.          121.         -932.36778551 1103.        ]\n",
      "skip: [  16.           80.         -933.61435612 1374.        ]\n",
      "skip: [  16.           98.         -934.10663113 1393.        ]\n",
      "skip: [  16.          170.         -934.23495103 1466.        ]\n",
      "skip: [  16.          204.         -933.74951709 1501.        ]\n",
      "skip: [  18.           12.         -935.47547277 1601.        ]\n",
      "skip: [  18.          170.         -935.84670022 1760.        ]\n",
      "(2135, 4)\n",
      "(2135,)\n"
     ]
    }
   ],
   "source": [
    "data = []\n",
    "name = []\n",
    "for i in data_raw[:,-1].astype(int) - 1:\n",
    "    if i not in ind_to_delete:\n",
    "        data.append(data_raw[i])\n",
    "        name.append(name_raw[i])\n",
    "    else:\n",
    "        print 'skip: %s' % data_raw[i]\n",
    "data = np.asarray(data)\n",
    "name = np.array(name)\n",
    "\n",
    "# mask = np.ones(len(data_raw), dtype=bool)\n",
    "# mask[ind_to_delete] = False\n",
    "# data = data_raw[mask]\n",
    "\n",
    "print data.shape\n",
    "print name.shape"
   ]
  },
  {
   "cell_type": "code",
   "execution_count": 12,
   "metadata": {},
   "outputs": [
    {
     "name": "stdout",
     "output_type": "stream",
     "text": [
      "(2135, 4) (2135, 24)\n"
     ]
    }
   ],
   "source": [
    "print data.shape, dZ.shape"
   ]
  },
  {
   "cell_type": "code",
   "execution_count": 13,
   "metadata": {
    "collapsed": true
   },
   "outputs": [],
   "source": [
    "E0_tot = extract_E(energy_txt_origin[0])"
   ]
  },
  {
   "cell_type": "code",
   "execution_count": 14,
   "metadata": {
    "collapsed": true
   },
   "outputs": [],
   "source": [
    "E_tot = data[:,2]"
   ]
  },
  {
   "cell_type": "markdown",
   "metadata": {},
   "source": [
    "# load eigen data for energy estimate"
   ]
  },
  {
   "cell_type": "code",
   "execution_count": 15,
   "metadata": {
    "collapsed": true
   },
   "outputs": [],
   "source": [
    "#data_cr = np.load('data_coronene_symm.npz')\n",
    "data_cr = np.load('data_coronene.npz')\n",
    "ev_data = data_cr['v']\n",
    "ew_data = data_cr['w']\n",
    "d1E_data = np.load('data_coronene_1st.npz')\n",
    "d1E_Z = d1E_data['arr_0']"
   ]
  },
  {
   "cell_type": "code",
   "execution_count": 16,
   "metadata": {},
   "outputs": [],
   "source": [
    "E_nuc = []\n",
    "for dz in dZ:\n",
    "    coor = deepcopy(data_cr['coor'] / qtk.setting.a2b)\n",
    "    Z = np.array(data_cr['Z0']).astype('float64')\n",
    "    Z[:len(dz)] += dz\n",
    "    mol = qtk.Molecule()\n",
    "    ZR = np.hstack([Z[:,np.newaxis], coor])\n",
    "    mol.build(ZR)\n",
    "    E_nuc.append(mol.nuclear_repulsion())\n",
    "E_nuc = np.array(E_nuc)"
   ]
  },
  {
   "cell_type": "code",
   "execution_count": 88,
   "metadata": {
    "collapsed": true
   },
   "outputs": [],
   "source": [
    "A_ref = {\n",
    "    'C': -37.78852730974084,\n",
    "    'B': -23.78911314264996,\n",
    "    'N': -53.48097646532363,\n",
    "    'H': -0.4986274134174679,\n",
    "}"
   ]
  },
  {
   "cell_type": "code",
   "execution_count": 92,
   "metadata": {},
   "outputs": [
    {
     "name": "stdout",
     "output_type": "stream",
     "text": [
      "[-914.60121938 -914.60121938 -914.60121938 ... -933.22460426 -933.22460426\n",
      " -933.22460426]\n"
     ]
    }
   ],
   "source": [
    "dZs = abs(dZ).sum(1) / 2\n",
    "E_atoms = 12 * A_ref['H'] + (24 - 2*dZs) * A_ref['C'] + dZs * (A_ref['B'] + A_ref['N']) "
   ]
  },
  {
   "cell_type": "code",
   "execution_count": 17,
   "metadata": {
    "collapsed": true
   },
   "outputs": [],
   "source": [
    "mol_base = qtk.Molecule()\n",
    "coord = data_cr['coor'] / qtk.setting.a2b\n",
    "ZR = np.hstack([data_cr['Z0'][:,np.newaxis], coord])\n",
    "mol_base.build(ZR)\n",
    "E0_nuc = mol_base.nuclear_repulsion()"
   ]
  },
  {
   "cell_type": "code",
   "execution_count": 18,
   "metadata": {},
   "outputs": [
    {
     "data": {
      "text/plain": [
       "array([1820.15725045, 1819.97262159, 1820.12868911, ..., 1817.66676672,\n",
       "       1818.73669474, 1816.56954238])"
      ]
     },
     "execution_count": 18,
     "metadata": {},
     "output_type": "execute_result"
    }
   ],
   "source": [
    "E_nuc"
   ]
  },
  {
   "cell_type": "code",
   "execution_count": 19,
   "metadata": {},
   "outputs": [],
   "source": [
    "E_ele = E_tot - E_nuc\n",
    "E0_ele = E0_tot - E0_nuc\n",
    "dE_nuc = E_nuc - E0_nuc"
   ]
  },
  {
   "cell_type": "code",
   "execution_count": 20,
   "metadata": {
    "collapsed": true
   },
   "outputs": [],
   "source": [
    "def energy_estimate(dZ):\n",
    "    # normal mode decomposition\n",
    "    dZes = dZ.dot(ev_data) # np.dot(dZ, ev_data)\n",
    "    # calculate first/second order estimate\n",
    "    d1E = dZ.dot(d1E_Z)\n",
    "    d2E = (dZes ** 2).dot(ew_data) * 0.5\n",
    "    return E0_ele + d1E + d2E"
   ]
  },
  {
   "cell_type": "code",
   "execution_count": 21,
   "metadata": {},
   "outputs": [],
   "source": [
    "E_prd = energy_estimate(dZ)"
   ]
  },
  {
   "cell_type": "code",
   "execution_count": 22,
   "metadata": {},
   "outputs": [
    {
     "data": {
      "text/plain": [
       "[<matplotlib.lines.Line2D at 0x2ac24ed68310>]"
      ]
     },
     "execution_count": 22,
     "metadata": {},
     "output_type": "execute_result"
    },
    {
     "data": {
      "image/png": "[encoded data removed]",
      "text/plain": [
       "<matplotlib.figure.Figure at 0x2ac24c8be850>"
      ]
     },
     "metadata": {},
     "output_type": "display_data"
    },
    {
     "data": {
      "image/png": "[encoded data removed]",
      "text/plain": [
       "<matplotlib.figure.Figure at 0x2ac24c89fed0>"
      ]
     },
     "metadata": {},
     "output_type": "display_data"
    },
    {
     "data": {
      "image/png": "[encoded data removed]",
      "text/plain": [
       "<matplotlib.figure.Figure at 0x2ac24ed4cfd0>"
      ]
     },
     "metadata": {},
     "output_type": "display_data"
    }
   ],
   "source": [
    "plt.plot(E_prd + E_nuc)\n",
    "plt.plot(E_tot)\n",
    "plt.figure()\n",
    "plt.plot(E_prd)\n",
    "plt.plot(E_tot - E_nuc)\n",
    "plt.figure()\n",
    "plt.plot(E_prd - E_prd[0])\n",
    "plt.plot(E_tot - E_tot[0])"
   ]
  },
  {
   "cell_type": "code",
   "execution_count": 23,
   "metadata": {},
   "outputs": [
    {
     "data": {
      "text/plain": [
       "[<matplotlib.lines.Line2D at 0x2ac24ef6db50>]"
      ]
     },
     "execution_count": 23,
     "metadata": {},
     "output_type": "execute_result"
    },
    {
     "data": {
      "image/png": "[encoded data removed]",
      "text/plain": [
       "<matplotlib.figure.Figure at 0x2ac24eedb290>"
      ]
     },
     "metadata": {},
     "output_type": "display_data"
    }
   ],
   "source": [
    "plt.plot(E_prd + E_nuc)"
   ]
  },
  {
   "cell_type": "code",
   "execution_count": 24,
   "metadata": {},
   "outputs": [
    {
     "data": {
      "text/plain": [
       "<matplotlib.collections.PathCollection at 0x2ac24f028bd0>"
      ]
     },
     "execution_count": 24,
     "metadata": {},
     "output_type": "execute_result"
    },
    {
     "data": {
      "image/png": "[encoded data removed]",
      "text/plain": [
       "<matplotlib.figure.Figure at 0x2ac24ef86690>"
      ]
     },
     "metadata": {},
     "output_type": "display_data"
    }
   ],
   "source": [
    "plt.scatter(E_prd + E_nuc, E_tot)"
   ]
  },
  {
   "cell_type": "markdown",
   "metadata": {},
   "source": [
    "# Reproduce check"
   ]
  },
  {
   "cell_type": "code",
   "execution_count": 190,
   "metadata": {
    "collapsed": true
   },
   "outputs": [],
   "source": [
    "df_check = pd.read_excel('new_data/coronene_data_header.xlsx')"
   ]
  },
  {
   "cell_type": "code",
   "execution_count": 196,
   "metadata": {},
   "outputs": [
    {
     "data": {
      "text/plain": [
       "[u'diff flag 1',\n",
       " u'file name 1',\n",
       " u'BN pair',\n",
       " u'xqc flag 1',\n",
       " u'file name 2',\n",
       " u'E_tot',\n",
       " u'xqc flag 2',\n",
       " u'file name 3',\n",
       " u'dE_elec_pred',\n",
       " u'E_nuc',\n",
       " u'E_nuc_G09',\n",
       " u'dE_nuc',\n",
       " u'dE_nuc_G09',\n",
       " u'dE_total',\n",
       " u'dE_total_G09',\n",
       " u'dE_total_rerun',\n",
       " u'dE_total_G09_rerun',\n",
       " u'E_predic',\n",
       " u'scaled',\n",
       " u'dE_DFT',\n",
       " u'error',\n",
       " u'E_elec_DFT',\n",
       " u'error.1',\n",
       " u'E_total_pred',\n",
       " u'E_total_real',\n",
       " u'error.2',\n",
       " u'E_Carbon',\n",
       " u'E_Nitrogen',\n",
       " u'E_Boron',\n",
       " u'E_Hydrogen',\n",
       " u'pred',\n",
       " u'real',\n",
       " u'rescaled',\n",
       " u'error.3',\n",
       " u'error scaled',\n",
       " u'real.1',\n",
       " u'pred.1']"
      ]
     },
     "execution_count": 196,
     "metadata": {},
     "output_type": "execute_result"
    }
   ],
   "source": [
    "filter(lambda x: 'Unnamed' not in x, list(df_check))"
   ]
  },
  {
   "cell_type": "markdown",
   "metadata": {},
   "source": [
    "# pandas analysis"
   ]
  },
  {
   "cell_type": "code",
   "execution_count": null,
   "metadata": {
    "collapsed": true
   },
   "outputs": [],
   "source": [
    "energy_txt_origin"
   ]
  },
  {
   "cell_type": "code",
   "execution_count": 210,
   "metadata": {},
   "outputs": [],
   "source": [
    "E_tot_fit, fit_coeff = qtk.ML.l2_fit(E_prd + E_nuc, E_tot, get_coefficents=True)"
   ]
  },
  {
   "cell_type": "code",
   "execution_count": 211,
   "metadata": {},
   "outputs": [
    {
     "data": {
      "text/plain": [
       "array([47.03711009,  1.05104569])"
      ]
     },
     "execution_count": 211,
     "metadata": {},
     "output_type": "execute_result"
    }
   ],
   "source": [
    "fit_coeff"
   ]
  },
  {
   "cell_type": "code",
   "execution_count": 246,
   "metadata": {},
   "outputs": [],
   "source": [
    "data = np.stack([\n",
    "    name,                      #0\n",
    "    abs(dZ).sum(1)/2.,         #1\n",
    "    # target properties\n",
    "    E_tot,                     #2\n",
    "    E_tot - E_nuc,             #3\n",
    "    E_tot - E0_tot,            #4\n",
    "    E_tot - E_nuc - E0_ele,    #5\n",
    "    E_tot - E_atoms,           #6\n",
    "    # prediected properties\n",
    "    E_prd + E_nuc,             #7\n",
    "    E_prd,                     #8\n",
    "    E_prd + E_nuc - E0_tot,    #9\n",
    "    E_prd - E0_ele,            #10\n",
    "    E_prd + E_nuc - E_atoms,   #11\n",
    "    # nuclear repulsion\n",
    "    E_nuc,                     #12\n",
    "]).T\n",
    "column_names = [\n",
    "    'name',     #0\n",
    "    'BN_pairs', #1\n",
    "    'Et_tar',   #2\n",
    "    'Ee_tar',   #3\n",
    "    'dEt_tar',  #4\n",
    "    'dEe_tar',  #5\n",
    "    'Ea_tar',   #7\n",
    "    'Et_prd',   #7\n",
    "    'Ee_prd',   #8\n",
    "    'dEt_prd',  #9\n",
    "    'dEe_prd',  #10\n",
    "    'Ea_prd',   #11\n",
    "    'E_nuc',    #12\n",
    "]\n",
    "df = pd.DataFrame(data, columns=column_names)\n",
    "for cn in column_names:\n",
    "    if cn != 'name':\n",
    "        df[cn] = df[cn].astype('float')\n",
    "# # rescale\n",
    "df['Et_rsp'] = df.Et_prd * fit_coeff[1] + fit_coeff[0]\n",
    "df['Ee_rsp'] = df.Et_rsp - df.E_nuc\n",
    "df['Ea_rsp'] = df.Et_rsp - E_atoms\n",
    "# error\n",
    "df['Et_err'] = df.Et_tar - df.Et_prd\n",
    "df['Et_err_norm'] = (df.Et_tar - df.Et_prd) / df.BN_pairs\n",
    "df['Et_tar_norm'] = df.Et_tar / df.BN_pairs\n",
    "df['Et_prd_norm'] = df.Et_prd / df.BN_pairs\n",
    "df['Ee_err'] = df.Ee_tar - df.Ee_prd\n",
    "df['Ee_err_norm'] = (df.Ee_tar - df.Ee_prd) / df.BN_pairs\n",
    "df['Ee_tar_norm'] = df.Ee_tar / df.BN_pairs\n",
    "df['Ee_prd_norm'] = df.Ee_prd / df.BN_pairs\n",
    "df['Ea_rsp_norm'] = (df.Ea_tar - df.Ea_rsp) / df.BN_pairs\n",
    "\n",
    "# identical results\n",
    "# df['Ee_err'] = df.Ee_tar - df.Ee_prd\n",
    "# df['Ee_err_norm'] = (df.Ee_tar - df.Ee_prd) / df.BN_pairs\n",
    "df_sort_Et = df.sort_values('Et_tar')\n",
    "df_sort_Et_norm = df.sort_values('Et_tar_norm')\n",
    "df_sort_Ee_norm = df.sort_values('Ee_tar_norm')\n",
    "df_sort_Ea = df.sort_values('Ea_tar')\n",
    "\n",
    "for df_tmp in [df, df_sort_Et, df_sort_Et_norm, df_sort_Ee_norm, df_sort_Ea]:\n",
    "    df_tmp['ind'] = np.arange(len(dZ))"
   ]
  },
  {
   "cell_type": "code",
   "execution_count": 247,
   "metadata": {},
   "outputs": [
    {
     "data": {
      "text/plain": [
       "array([-922.41116586, -922.47800389, -922.41530585, ..., -940.02868197,\n",
       "       -939.82843268, -940.46446939])"
      ]
     },
     "execution_count": 247,
     "metadata": {},
     "output_type": "execute_result"
    }
   ],
   "source": [
    "df.Et_prd.as_matrix()"
   ]
  },
  {
   "cell_type": "code",
   "execution_count": 248,
   "metadata": {},
   "outputs": [
    {
     "data": {
      "text/html": [
       "<div>\n",
       "<style scoped>\n",
       "    .dataframe tbody tr th:only-of-type {\n",
       "        vertical-align: middle;\n",
       "    }\n",
       "\n",
       "    .dataframe tbody tr th {\n",
       "        vertical-align: top;\n",
       "    }\n",
       "\n",
       "    .dataframe thead th {\n",
       "        text-align: right;\n",
       "    }\n",
       "</style>\n",
       "<table border=\"1\" class=\"dataframe\">\n",
       "  <thead>\n",
       "    <tr style=\"text-align: right;\">\n",
       "      <th></th>\n",
       "      <th>name</th>\n",
       "      <th>BN_pairs</th>\n",
       "      <th>Et_tar</th>\n",
       "      <th>Ee_tar</th>\n",
       "      <th>dEt_tar</th>\n",
       "      <th>dEe_tar</th>\n",
       "      <th>Ea_tar</th>\n",
       "      <th>Et_prd</th>\n",
       "      <th>Ee_prd</th>\n",
       "      <th>dEt_prd</th>\n",
       "      <th>...</th>\n",
       "      <th>Et_err</th>\n",
       "      <th>Et_err_norm</th>\n",
       "      <th>Et_tar_norm</th>\n",
       "      <th>Et_prd_norm</th>\n",
       "      <th>Ee_err</th>\n",
       "      <th>Ee_err_norm</th>\n",
       "      <th>Ee_tar_norm</th>\n",
       "      <th>Ee_prd_norm</th>\n",
       "      <th>Ea_rsp_norm</th>\n",
       "      <th>ind</th>\n",
       "    </tr>\n",
       "  </thead>\n",
       "  <tbody>\n",
       "    <tr>\n",
       "      <th>0</th>\n",
       "      <td>coronene-random-02-ccpvdz-0000001.log</td>\n",
       "      <td>1.0</td>\n",
       "      <td>-922.478560</td>\n",
       "      <td>-2742.635810</td>\n",
       "      <td>-1.671924</td>\n",
       "      <td>-1.487286</td>\n",
       "      <td>-7.877340</td>\n",
       "      <td>-922.411166</td>\n",
       "      <td>-2742.568416</td>\n",
       "      <td>-1.604531</td>\n",
       "      <td>...</td>\n",
       "      <td>-0.067394</td>\n",
       "      <td>-0.067394</td>\n",
       "      <td>-922.478560</td>\n",
       "      <td>-922.411166</td>\n",
       "      <td>-0.067394</td>\n",
       "      <td>-0.067394</td>\n",
       "      <td>-2742.635810</td>\n",
       "      <td>-2742.568416</td>\n",
       "      <td>-0.019385</td>\n",
       "      <td>0</td>\n",
       "    </tr>\n",
       "    <tr>\n",
       "      <th>1</th>\n",
       "      <td>coronene-random-02-ccpvdz-0000002.log</td>\n",
       "      <td>1.0</td>\n",
       "      <td>-922.541871</td>\n",
       "      <td>-2742.514492</td>\n",
       "      <td>-1.735236</td>\n",
       "      <td>-1.365968</td>\n",
       "      <td>-7.940651</td>\n",
       "      <td>-922.478004</td>\n",
       "      <td>-2742.450625</td>\n",
       "      <td>-1.671369</td>\n",
       "      <td>...</td>\n",
       "      <td>-0.063867</td>\n",
       "      <td>-0.063867</td>\n",
       "      <td>-922.541871</td>\n",
       "      <td>-922.478004</td>\n",
       "      <td>-0.063867</td>\n",
       "      <td>-0.063867</td>\n",
       "      <td>-2742.514492</td>\n",
       "      <td>-2742.450625</td>\n",
       "      <td>-0.012447</td>\n",
       "      <td>1</td>\n",
       "    </tr>\n",
       "    <tr>\n",
       "      <th>2</th>\n",
       "      <td>coronene-random-02-ccpvdz-0000003.log</td>\n",
       "      <td>1.0</td>\n",
       "      <td>-922.480967</td>\n",
       "      <td>-2742.609656</td>\n",
       "      <td>-1.674332</td>\n",
       "      <td>-1.461132</td>\n",
       "      <td>-7.879748</td>\n",
       "      <td>-922.415306</td>\n",
       "      <td>-2742.543995</td>\n",
       "      <td>-1.608671</td>\n",
       "      <td>...</td>\n",
       "      <td>-0.065661</td>\n",
       "      <td>-0.065661</td>\n",
       "      <td>-922.480967</td>\n",
       "      <td>-922.415306</td>\n",
       "      <td>-0.065661</td>\n",
       "      <td>-0.065661</td>\n",
       "      <td>-2742.609656</td>\n",
       "      <td>-2742.543995</td>\n",
       "      <td>-0.017442</td>\n",
       "      <td>2</td>\n",
       "    </tr>\n",
       "    <tr>\n",
       "      <th>3</th>\n",
       "      <td>coronene-random-02-ccpvdz-0000004.log</td>\n",
       "      <td>1.0</td>\n",
       "      <td>-922.460247</td>\n",
       "      <td>-2742.617400</td>\n",
       "      <td>-1.653612</td>\n",
       "      <td>-1.468876</td>\n",
       "      <td>-7.859028</td>\n",
       "      <td>-922.394669</td>\n",
       "      <td>-2742.551822</td>\n",
       "      <td>-1.588034</td>\n",
       "      <td>...</td>\n",
       "      <td>-0.065578</td>\n",
       "      <td>-0.065578</td>\n",
       "      <td>-922.460247</td>\n",
       "      <td>-922.394669</td>\n",
       "      <td>-0.065578</td>\n",
       "      <td>-0.065578</td>\n",
       "      <td>-2742.617400</td>\n",
       "      <td>-2742.551822</td>\n",
       "      <td>-0.018411</td>\n",
       "      <td>3</td>\n",
       "    </tr>\n",
       "    <tr>\n",
       "      <th>4</th>\n",
       "      <td>coronene-random-02-ccpvdz-0000005.log</td>\n",
       "      <td>1.0</td>\n",
       "      <td>-922.443435</td>\n",
       "      <td>-2742.678679</td>\n",
       "      <td>-1.636799</td>\n",
       "      <td>-1.530154</td>\n",
       "      <td>-7.842215</td>\n",
       "      <td>-922.377416</td>\n",
       "      <td>-2742.612661</td>\n",
       "      <td>-1.570781</td>\n",
       "      <td>...</td>\n",
       "      <td>-0.066018</td>\n",
       "      <td>-0.066018</td>\n",
       "      <td>-922.443435</td>\n",
       "      <td>-922.377416</td>\n",
       "      <td>-0.066018</td>\n",
       "      <td>-0.066018</td>\n",
       "      <td>-2742.678679</td>\n",
       "      <td>-2742.612661</td>\n",
       "      <td>-0.019733</td>\n",
       "      <td>4</td>\n",
       "    </tr>\n",
       "  </tbody>\n",
       "</table>\n",
       "<p>5 rows × 26 columns</p>\n",
       "</div>"
      ],
      "text/plain": [
       "                                    name  BN_pairs      Et_tar       Ee_tar  \\\n",
       "0  coronene-random-02-ccpvdz-0000001.log       1.0 -922.478560 -2742.635810   \n",
       "1  coronene-random-02-ccpvdz-0000002.log       1.0 -922.541871 -2742.514492   \n",
       "2  coronene-random-02-ccpvdz-0000003.log       1.0 -922.480967 -2742.609656   \n",
       "3  coronene-random-02-ccpvdz-0000004.log       1.0 -922.460247 -2742.617400   \n",
       "4  coronene-random-02-ccpvdz-0000005.log       1.0 -922.443435 -2742.678679   \n",
       "\n",
       "    dEt_tar   dEe_tar    Ea_tar      Et_prd       Ee_prd   dEt_prd ...   \\\n",
       "0 -1.671924 -1.487286 -7.877340 -922.411166 -2742.568416 -1.604531 ...    \n",
       "1 -1.735236 -1.365968 -7.940651 -922.478004 -2742.450625 -1.671369 ...    \n",
       "2 -1.674332 -1.461132 -7.879748 -922.415306 -2742.543995 -1.608671 ...    \n",
       "3 -1.653612 -1.468876 -7.859028 -922.394669 -2742.551822 -1.588034 ...    \n",
       "4 -1.636799 -1.530154 -7.842215 -922.377416 -2742.612661 -1.570781 ...    \n",
       "\n",
       "     Et_err  Et_err_norm  Et_tar_norm  Et_prd_norm    Ee_err  Ee_err_norm  \\\n",
       "0 -0.067394    -0.067394  -922.478560  -922.411166 -0.067394    -0.067394   \n",
       "1 -0.063867    -0.063867  -922.541871  -922.478004 -0.063867    -0.063867   \n",
       "2 -0.065661    -0.065661  -922.480967  -922.415306 -0.065661    -0.065661   \n",
       "3 -0.065578    -0.065578  -922.460247  -922.394669 -0.065578    -0.065578   \n",
       "4 -0.066018    -0.066018  -922.443435  -922.377416 -0.066018    -0.066018   \n",
       "\n",
       "   Ee_tar_norm  Ee_prd_norm  Ea_rsp_norm  ind  \n",
       "0 -2742.635810 -2742.568416    -0.019385    0  \n",
       "1 -2742.514492 -2742.450625    -0.012447    1  \n",
       "2 -2742.609656 -2742.543995    -0.017442    2  \n",
       "3 -2742.617400 -2742.551822    -0.018411    3  \n",
       "4 -2742.678679 -2742.612661    -0.019733    4  \n",
       "\n",
       "[5 rows x 26 columns]"
      ]
     },
     "execution_count": 248,
     "metadata": {},
     "output_type": "execute_result"
    }
   ],
   "source": [
    "df.head()"
   ]
  },
  {
   "cell_type": "code",
   "execution_count": 249,
   "metadata": {},
   "outputs": [
    {
     "data": {
      "text/html": [
       "<div>\n",
       "<style scoped>\n",
       "    .dataframe tbody tr th:only-of-type {\n",
       "        vertical-align: middle;\n",
       "    }\n",
       "\n",
       "    .dataframe tbody tr th {\n",
       "        vertical-align: top;\n",
       "    }\n",
       "\n",
       "    .dataframe thead th {\n",
       "        text-align: right;\n",
       "    }\n",
       "</style>\n",
       "<table border=\"1\" class=\"dataframe\">\n",
       "  <thead>\n",
       "    <tr style=\"text-align: right;\">\n",
       "      <th></th>\n",
       "      <th>name</th>\n",
       "      <th>BN_pairs</th>\n",
       "      <th>Et_tar</th>\n",
       "      <th>Ee_tar</th>\n",
       "      <th>dEt_tar</th>\n",
       "      <th>dEe_tar</th>\n",
       "      <th>Ea_tar</th>\n",
       "      <th>Et_prd</th>\n",
       "      <th>Ee_prd</th>\n",
       "      <th>dEt_prd</th>\n",
       "      <th>...</th>\n",
       "      <th>Et_err</th>\n",
       "      <th>Et_err_norm</th>\n",
       "      <th>Et_tar_norm</th>\n",
       "      <th>Et_prd_norm</th>\n",
       "      <th>Ee_err</th>\n",
       "      <th>Ee_err_norm</th>\n",
       "      <th>Ee_tar_norm</th>\n",
       "      <th>Ee_prd_norm</th>\n",
       "      <th>Ea_rsp_norm</th>\n",
       "      <th>ind</th>\n",
       "    </tr>\n",
       "  </thead>\n",
       "  <tbody>\n",
       "    <tr>\n",
       "      <th>2064</th>\n",
       "      <td>coronene-random-24-ccpvdz-0000029.log</td>\n",
       "      <td>12.0</td>\n",
       "      <td>-941.900778</td>\n",
       "      <td>-2757.035139</td>\n",
       "      <td>-21.094143</td>\n",
       "      <td>-15.886614</td>\n",
       "      <td>-8.676174</td>\n",
       "      <td>-941.126220</td>\n",
       "      <td>-2756.260581</td>\n",
       "      <td>-20.319585</td>\n",
       "      <td>...</td>\n",
       "      <td>-0.774558</td>\n",
       "      <td>-0.064547</td>\n",
       "      <td>-78.491732</td>\n",
       "      <td>-78.427185</td>\n",
       "      <td>-0.774558</td>\n",
       "      <td>-0.064547</td>\n",
       "      <td>-229.752928</td>\n",
       "      <td>-229.688382</td>\n",
       "      <td>0.019064</td>\n",
       "      <td>0</td>\n",
       "    </tr>\n",
       "    <tr>\n",
       "      <th>1506</th>\n",
       "      <td>coronene-random-16-ccpvdz-0000216.log</td>\n",
       "      <td>8.0</td>\n",
       "      <td>-934.899670</td>\n",
       "      <td>-2751.740839</td>\n",
       "      <td>-14.093034</td>\n",
       "      <td>-10.592314</td>\n",
       "      <td>-8.447205</td>\n",
       "      <td>-934.440807</td>\n",
       "      <td>-2751.281976</td>\n",
       "      <td>-13.634172</td>\n",
       "      <td>...</td>\n",
       "      <td>-0.458863</td>\n",
       "      <td>-0.057358</td>\n",
       "      <td>-116.862459</td>\n",
       "      <td>-116.805101</td>\n",
       "      <td>-0.458863</td>\n",
       "      <td>-0.057358</td>\n",
       "      <td>-343.967605</td>\n",
       "      <td>-343.910247</td>\n",
       "      <td>0.025401</td>\n",
       "      <td>1</td>\n",
       "    </tr>\n",
       "    <tr>\n",
       "      <th>2041</th>\n",
       "      <td>coronene-random-24-ccpvdz-0000006.log</td>\n",
       "      <td>12.0</td>\n",
       "      <td>-941.644423</td>\n",
       "      <td>-2757.448971</td>\n",
       "      <td>-20.837787</td>\n",
       "      <td>-16.300447</td>\n",
       "      <td>-8.419819</td>\n",
       "      <td>-940.815177</td>\n",
       "      <td>-2756.619725</td>\n",
       "      <td>-20.008541</td>\n",
       "      <td>...</td>\n",
       "      <td>-0.829246</td>\n",
       "      <td>-0.069104</td>\n",
       "      <td>-78.470369</td>\n",
       "      <td>-78.401265</td>\n",
       "      <td>-0.829246</td>\n",
       "      <td>-0.069104</td>\n",
       "      <td>-229.787414</td>\n",
       "      <td>-229.718310</td>\n",
       "      <td>0.013184</td>\n",
       "      <td>2</td>\n",
       "    </tr>\n",
       "    <tr>\n",
       "      <th>2036</th>\n",
       "      <td>coronene-random-24-ccpvdz-0000001.log</td>\n",
       "      <td>12.0</td>\n",
       "      <td>-941.622044</td>\n",
       "      <td>-2757.399782</td>\n",
       "      <td>-20.815409</td>\n",
       "      <td>-16.251258</td>\n",
       "      <td>-8.397440</td>\n",
       "      <td>-940.810212</td>\n",
       "      <td>-2756.587950</td>\n",
       "      <td>-20.003577</td>\n",
       "      <td>...</td>\n",
       "      <td>-0.811832</td>\n",
       "      <td>-0.067653</td>\n",
       "      <td>-78.468504</td>\n",
       "      <td>-78.400851</td>\n",
       "      <td>-0.811832</td>\n",
       "      <td>-0.067653</td>\n",
       "      <td>-229.783315</td>\n",
       "      <td>-229.715663</td>\n",
       "      <td>0.014614</td>\n",
       "      <td>3</td>\n",
       "    </tr>\n",
       "    <tr>\n",
       "      <th>1947</th>\n",
       "      <td>coronene-random-22-ccpvdz-0000012.log</td>\n",
       "      <td>11.0</td>\n",
       "      <td>-939.924601</td>\n",
       "      <td>-2756.056594</td>\n",
       "      <td>-19.117965</td>\n",
       "      <td>-14.908070</td>\n",
       "      <td>-8.393031</td>\n",
       "      <td>-939.246295</td>\n",
       "      <td>-2755.378289</td>\n",
       "      <td>-18.439660</td>\n",
       "      <td>...</td>\n",
       "      <td>-0.678305</td>\n",
       "      <td>-0.061664</td>\n",
       "      <td>-85.447691</td>\n",
       "      <td>-85.386027</td>\n",
       "      <td>-0.678305</td>\n",
       "      <td>-0.061664</td>\n",
       "      <td>-250.550599</td>\n",
       "      <td>-250.488935</td>\n",
       "      <td>0.020824</td>\n",
       "      <td>4</td>\n",
       "    </tr>\n",
       "  </tbody>\n",
       "</table>\n",
       "<p>5 rows × 26 columns</p>\n",
       "</div>"
      ],
      "text/plain": [
       "                                       name  BN_pairs      Et_tar  \\\n",
       "2064  coronene-random-24-ccpvdz-0000029.log      12.0 -941.900778   \n",
       "1506  coronene-random-16-ccpvdz-0000216.log       8.0 -934.899670   \n",
       "2041  coronene-random-24-ccpvdz-0000006.log      12.0 -941.644423   \n",
       "2036  coronene-random-24-ccpvdz-0000001.log      12.0 -941.622044   \n",
       "1947  coronene-random-22-ccpvdz-0000012.log      11.0 -939.924601   \n",
       "\n",
       "           Ee_tar    dEt_tar    dEe_tar    Ea_tar      Et_prd       Ee_prd  \\\n",
       "2064 -2757.035139 -21.094143 -15.886614 -8.676174 -941.126220 -2756.260581   \n",
       "1506 -2751.740839 -14.093034 -10.592314 -8.447205 -934.440807 -2751.281976   \n",
       "2041 -2757.448971 -20.837787 -16.300447 -8.419819 -940.815177 -2756.619725   \n",
       "2036 -2757.399782 -20.815409 -16.251258 -8.397440 -940.810212 -2756.587950   \n",
       "1947 -2756.056594 -19.117965 -14.908070 -8.393031 -939.246295 -2755.378289   \n",
       "\n",
       "        dEt_prd ...     Et_err  Et_err_norm  Et_tar_norm  Et_prd_norm  \\\n",
       "2064 -20.319585 ...  -0.774558    -0.064547   -78.491732   -78.427185   \n",
       "1506 -13.634172 ...  -0.458863    -0.057358  -116.862459  -116.805101   \n",
       "2041 -20.008541 ...  -0.829246    -0.069104   -78.470369   -78.401265   \n",
       "2036 -20.003577 ...  -0.811832    -0.067653   -78.468504   -78.400851   \n",
       "1947 -18.439660 ...  -0.678305    -0.061664   -85.447691   -85.386027   \n",
       "\n",
       "        Ee_err  Ee_err_norm  Ee_tar_norm  Ee_prd_norm  Ea_rsp_norm  ind  \n",
       "2064 -0.774558    -0.064547  -229.752928  -229.688382     0.019064    0  \n",
       "1506 -0.458863    -0.057358  -343.967605  -343.910247     0.025401    1  \n",
       "2041 -0.829246    -0.069104  -229.787414  -229.718310     0.013184    2  \n",
       "2036 -0.811832    -0.067653  -229.783315  -229.715663     0.014614    3  \n",
       "1947 -0.678305    -0.061664  -250.550599  -250.488935     0.020824    4  \n",
       "\n",
       "[5 rows x 26 columns]"
      ]
     },
     "execution_count": 249,
     "metadata": {},
     "output_type": "execute_result"
    }
   ],
   "source": [
    "df_sort_Ea.head()"
   ]
  },
  {
   "cell_type": "code",
   "execution_count": 250,
   "metadata": {},
   "outputs": [
    {
     "data": {
      "text/plain": [
       "<matplotlib.axes._subplots.AxesSubplot at 0x2ac2547bfb90>"
      ]
     },
     "execution_count": 250,
     "metadata": {},
     "output_type": "execute_result"
    },
    {
     "data": {
      "image/png": "[encoded data removed]",
      "text/plain": [
       "<matplotlib.figure.Figure at 0x2ac254e9de50>"
      ]
     },
     "metadata": {},
     "output_type": "display_data"
    }
   ],
   "source": [
    "#sns.violinplot(df.err_normalized * qtk.convE(1, 'Ha-kcal')[0], groupby=df.N, color='0.8')\n",
    "sns.boxplot(df.Ee_err_norm * qtk.convE(1, 'Ha-kcal')[0], groupby=df.BN_pairs, color='b')\n",
    "\n",
    "#sns.violinplot(abs(df.E - df.E_prd), groupby=df.N)"
   ]
  },
  {
   "cell_type": "code",
   "execution_count": 251,
   "metadata": {},
   "outputs": [
    {
     "data": {
      "text/plain": [
       "(-30, 30)"
      ]
     },
     "execution_count": 251,
     "metadata": {},
     "output_type": "execute_result"
    },
    {
     "data": {
      "image/png": "[encoded data removed]",
      "text/plain": [
       "<matplotlib.figure.Figure at 0x2ac254296e50>"
      ]
     },
     "metadata": {},
     "output_type": "display_data"
    }
   ],
   "source": [
    "sns.boxplot(df.Ea_rsp_norm * qtk.convE(1, 'Ha-kcal')[0], groupby=df.BN_pairs, color='b')\n",
    "plt.ylim(-30,30)"
   ]
  },
  {
   "cell_type": "code",
   "execution_count": 252,
   "metadata": {},
   "outputs": [
    {
     "data": {
      "text/plain": [
       "[<matplotlib.lines.Line2D at 0x2ac253b34e90>]"
      ]
     },
     "execution_count": 252,
     "metadata": {},
     "output_type": "execute_result"
    },
    {
     "data": {
      "image/png": "[encoded data removed]",
      "text/plain": [
       "<matplotlib.figure.Figure at 0x2ac253c34910>"
      ]
     },
     "metadata": {},
     "output_type": "display_data"
    }
   ],
   "source": [
    "plt.plot(df_sort_Ea.Ea_tar.as_matrix(), lw=3)\n",
    "plt.plot(df_sort_Ea.Ea_prd.as_matrix(), ls='', marker='o', zorder=1, ms=3)\n",
    "plt.plot(df_sort_Ea.Ea_rsp.as_matrix(), ls='', marker='o', zorder=1, ms=3)"
   ]
  },
  {
   "cell_type": "code",
   "execution_count": 253,
   "metadata": {},
   "outputs": [
    {
     "data": {
      "image/png": "[encoded data removed]",
      "text/plain": [
       "<matplotlib.figure.Figure at 0x2ac253c214d0>"
      ]
     },
     "metadata": {},
     "output_type": "display_data"
    }
   ],
   "source": [
    "plt.plot(df_sort_Ea.Ea_tar.as_matrix(), lw=3, zorder=10)\n",
    "for key,grp in df_sort_Ea.groupby('BN_pairs'):\n",
    "    plt.plot(grp.ind, grp.Ea_prd.as_matrix(), ls='', color='g', marker='o', ms=key**2 / 4.**2, alpha=0.3, zorder=1)\n",
    "    plt.plot(grp.ind, grp.Ea_rsp.as_matrix(), ls='', color='indianred', marker='o', ms=key**2 / 4.**2, alpha=0.3, zorder=2)"
   ]
  },
  {
   "cell_type": "code",
   "execution_count": 254,
   "metadata": {},
   "outputs": [
    {
     "data": {
      "text/plain": [
       "0       coronene-random-02-ccpvdz-0000001.log\n",
       "1       coronene-random-02-ccpvdz-0000002.log\n",
       "2       coronene-random-02-ccpvdz-0000003.log\n",
       "3       coronene-random-02-ccpvdz-0000004.log\n",
       "4       coronene-random-02-ccpvdz-0000005.log\n",
       "5       coronene-random-02-ccpvdz-0000006.log\n",
       "6       coronene-random-02-ccpvdz-0000007.log\n",
       "7       coronene-random-02-ccpvdz-0000008.log\n",
       "8       coronene-random-02-ccpvdz-0000009.log\n",
       "9       coronene-random-02-ccpvdz-0000010.log\n",
       "10      coronene-random-02-ccpvdz-0000011.log\n",
       "11      coronene-random-02-ccpvdz-0000012.log\n",
       "12      coronene-random-02-ccpvdz-0000013.log\n",
       "13      coronene-random-02-ccpvdz-0000014.log\n",
       "14      coronene-random-02-ccpvdz-0000015.log\n",
       "15      coronene-random-02-ccpvdz-0000016.log\n",
       "16      coronene-random-02-ccpvdz-0000017.log\n",
       "17      coronene-random-04-ccpvdz-0000001.log\n",
       "18      coronene-random-04-ccpvdz-0000002.log\n",
       "19      coronene-random-04-ccpvdz-0000003.log\n",
       "20      coronene-random-04-ccpvdz-0000004.log\n",
       "21      coronene-random-04-ccpvdz-0000005.log\n",
       "22      coronene-random-04-ccpvdz-0000006.log\n",
       "23      coronene-random-04-ccpvdz-0000007.log\n",
       "24      coronene-random-04-ccpvdz-0000008.log\n",
       "25      coronene-random-04-ccpvdz-0000009.log\n",
       "26      coronene-random-04-ccpvdz-0000010.log\n",
       "27      coronene-random-04-ccpvdz-0000011.log\n",
       "28      coronene-random-04-ccpvdz-0000012.log\n",
       "29      coronene-random-04-ccpvdz-0000013.log\n",
       "                        ...                  \n",
       "2105    coronene-random-24-ccpvdz-0000072.log\n",
       "2106    coronene-random-24-ccpvdz-0000073.log\n",
       "2107    coronene-random-24-ccpvdz-0000074.log\n",
       "2108    coronene-random-24-ccpvdz-0000075.log\n",
       "2109    coronene-random-24-ccpvdz-0000076.log\n",
       "2110    coronene-random-24-ccpvdz-0000077.log\n",
       "2111    coronene-random-24-ccpvdz-0000078.log\n",
       "2112    coronene-random-24-ccpvdz-0000079.log\n",
       "2113    coronene-random-24-ccpvdz-0000080.log\n",
       "2114    coronene-random-24-ccpvdz-0000081.log\n",
       "2115    coronene-random-24-ccpvdz-0000082.log\n",
       "2116    coronene-random-24-ccpvdz-0000083.log\n",
       "2117    coronene-random-24-ccpvdz-0000084.log\n",
       "2118    coronene-random-24-ccpvdz-0000085.log\n",
       "2119    coronene-random-24-ccpvdz-0000086.log\n",
       "2120    coronene-random-24-ccpvdz-0000087.log\n",
       "2121    coronene-random-24-ccpvdz-0000088.log\n",
       "2122    coronene-random-24-ccpvdz-0000089.log\n",
       "2123    coronene-random-24-ccpvdz-0000090.log\n",
       "2124    coronene-random-24-ccpvdz-0000091.log\n",
       "2125    coronene-random-24-ccpvdz-0000092.log\n",
       "2126    coronene-random-24-ccpvdz-0000093.log\n",
       "2127    coronene-random-24-ccpvdz-0000094.log\n",
       "2128    coronene-random-24-ccpvdz-0000095.log\n",
       "2129    coronene-random-24-ccpvdz-0000096.log\n",
       "2130    coronene-random-24-ccpvdz-0000097.log\n",
       "2131    coronene-random-24-ccpvdz-0000098.log\n",
       "2132    coronene-random-24-ccpvdz-0000099.log\n",
       "2133    coronene-random-24-ccpvdz-0000100.log\n",
       "2134    coronene-random-24-ccpvdz-0000101.log\n",
       "Name: name, Length: 2135, dtype: object"
      ]
     },
     "execution_count": 254,
     "metadata": {},
     "output_type": "execute_result"
    }
   ],
   "source": [
    "df.name"
   ]
  },
  {
   "cell_type": "code",
   "execution_count": 274,
   "metadata": {
    "collapsed": true
   },
   "outputs": [],
   "source": [
    "df_check['name1'] = df_check['file name 1'].dropna().str.replace(':', '')"
   ]
  },
  {
   "cell_type": "code",
   "execution_count": 275,
   "metadata": {},
   "outputs": [],
   "source": [
    "df_name1 = pd.DataFrame({'name': df.name , 'name1': df_check.name1.dropna()})"
   ]
  },
  {
   "cell_type": "code",
   "execution_count": 276,
   "metadata": {},
   "outputs": [
    {
     "data": {
      "text/plain": [
       "0.0       False\n",
       "1.0        True\n",
       "2.0        True\n",
       "3.0        True\n",
       "4.0        True\n",
       "5.0        True\n",
       "6.0        True\n",
       "7.0        True\n",
       "8.0        True\n",
       "9.0        True\n",
       "10.0       True\n",
       "11.0       True\n",
       "12.0       True\n",
       "13.0       True\n",
       "14.0       True\n",
       "15.0       True\n",
       "16.0       True\n",
       "17.0       True\n",
       "18.0       True\n",
       "19.0       True\n",
       "20.0       True\n",
       "21.0       True\n",
       "22.0       True\n",
       "23.0       True\n",
       "24.0       True\n",
       "25.0       True\n",
       "26.0       True\n",
       "27.0       True\n",
       "28.0       True\n",
       "29.0       True\n",
       "          ...  \n",
       "2107.0     True\n",
       "2108.0     True\n",
       "2109.0     True\n",
       "2110.0     True\n",
       "2111.0     True\n",
       "2112.0     True\n",
       "2113.0     True\n",
       "2114.0     True\n",
       "2115.0     True\n",
       "2116.0     True\n",
       "2117.0     True\n",
       "2118.0     True\n",
       "2119.0     True\n",
       "2120.0     True\n",
       "2121.0     True\n",
       "2122.0     True\n",
       "2123.0     True\n",
       "2124.0     True\n",
       "2125.0     True\n",
       "2126.0     True\n",
       "2127.0     True\n",
       "2128.0     True\n",
       "2129.0     True\n",
       "2130.0     True\n",
       "2131.0     True\n",
       "2132.0     True\n",
       "2133.0     True\n",
       "2134.0     True\n",
       "2135.0    False\n",
       "2136.0    False\n",
       "Length: 2137, dtype: bool"
      ]
     },
     "execution_count": 276,
     "metadata": {},
     "output_type": "execute_result"
    }
   ],
   "source": [
    "df_name1.name > df_name1.name1"
   ]
  },
  {
   "cell_type": "code",
   "execution_count": 260,
   "metadata": {},
   "outputs": [
    {
     "name": "stdout",
     "output_type": "stream",
     "text": [
      "coronene-random-02-ccpvdz-0000001.log\n"
     ]
    }
   ],
   "source": [
    "print df.name[0]"
   ]
  },
  {
   "cell_type": "code",
   "execution_count": 283,
   "metadata": {},
   "outputs": [
    {
     "data": {
      "text/plain": [
       "1.0       True\n",
       "2.0       True\n",
       "3.0       True\n",
       "4.0       True\n",
       "5.0       True\n",
       "6.0       True\n",
       "7.0       True\n",
       "8.0       True\n",
       "9.0       True\n",
       "10.0      True\n",
       "11.0      True\n",
       "12.0      True\n",
       "13.0      True\n",
       "14.0      True\n",
       "15.0      True\n",
       "16.0      True\n",
       "17.0      True\n",
       "18.0      True\n",
       "19.0      True\n",
       "20.0      True\n",
       "21.0      True\n",
       "22.0      True\n",
       "23.0      True\n",
       "24.0      True\n",
       "25.0      True\n",
       "26.0      True\n",
       "27.0      True\n",
       "28.0      True\n",
       "29.0      True\n",
       "30.0      True\n",
       "          ... \n",
       "2107.0    True\n",
       "2108.0    True\n",
       "2109.0    True\n",
       "2110.0    True\n",
       "2111.0    True\n",
       "2112.0    True\n",
       "2113.0    True\n",
       "2114.0    True\n",
       "2115.0    True\n",
       "2116.0    True\n",
       "2117.0    True\n",
       "2118.0    True\n",
       "2119.0    True\n",
       "2120.0    True\n",
       "2121.0    True\n",
       "2122.0    True\n",
       "2123.0    True\n",
       "2124.0    True\n",
       "2125.0    True\n",
       "2126.0    True\n",
       "2127.0    True\n",
       "2128.0    True\n",
       "2129.0    True\n",
       "2130.0    True\n",
       "2131.0    True\n",
       "2132.0    True\n",
       "2133.0    True\n",
       "2134.0    True\n",
       "2135.0    True\n",
       "2136.0    True\n",
       "Name: name1, Length: 2125, dtype: bool"
      ]
     },
     "execution_count": 283,
     "metadata": {},
     "output_type": "execute_result"
    }
   ],
   "source": [
    "df_check.name1.dropna().isin(df.name)"
   ]
  },
  {
   "cell_type": "code",
   "execution_count": 269,
   "metadata": {},
   "outputs": [
    {
     "data": {
      "text/plain": [
       "True"
      ]
     },
     "execution_count": 269,
     "metadata": {},
     "output_type": "execute_result"
    }
   ],
   "source": [
    "df_check.name1[1] == df.name[0]"
   ]
  },
  {
   "cell_type": "code",
   "execution_count": 273,
   "metadata": {},
   "outputs": [
    {
     "ename": "ValueError",
     "evalue": "Can only compare identically-labeled Series objects",
     "output_type": "error",
     "traceback": [
      "\u001b[0;31m---------------------------------------------------------------------------\u001b[0m",
      "\u001b[0;31mValueError\u001b[0m                                Traceback (most recent call last)",
      "\u001b[0;32m<ipython-input-273-46144186fffc>\u001b[0m in \u001b[0;36m<module>\u001b[0;34m()\u001b[0m\n\u001b[0;32m----> 1\u001b[0;31m \u001b[0mdf\u001b[0m\u001b[0;34m.\u001b[0m\u001b[0mname\u001b[0m \u001b[0;34m==\u001b[0m \u001b[0mdf_check\u001b[0m\u001b[0;34m.\u001b[0m\u001b[0mname1\u001b[0m\u001b[0;34m\u001b[0m\u001b[0m\n\u001b[0m",
      "\u001b[0;32m/home/samio/local/miniconda2/lib/python2.7/site-packages/pandas/core/ops.pyc\u001b[0m in \u001b[0;36mwrapper\u001b[0;34m(self, other, axis)\u001b[0m\n\u001b[1;32m    834\u001b[0m             \u001b[0;32mif\u001b[0m \u001b[0;32mnot\u001b[0m \u001b[0mself\u001b[0m\u001b[0;34m.\u001b[0m\u001b[0m_indexed_same\u001b[0m\u001b[0;34m(\u001b[0m\u001b[0mother\u001b[0m\u001b[0;34m)\u001b[0m\u001b[0;34m:\u001b[0m\u001b[0;34m\u001b[0m\u001b[0m\n\u001b[1;32m    835\u001b[0m                 \u001b[0mmsg\u001b[0m \u001b[0;34m=\u001b[0m \u001b[0;34m'Can only compare identically-labeled Series objects'\u001b[0m\u001b[0;34m\u001b[0m\u001b[0m\n\u001b[0;32m--> 836\u001b[0;31m                 \u001b[0;32mraise\u001b[0m \u001b[0mValueError\u001b[0m\u001b[0;34m(\u001b[0m\u001b[0mmsg\u001b[0m\u001b[0;34m)\u001b[0m\u001b[0;34m\u001b[0m\u001b[0m\n\u001b[0m\u001b[1;32m    837\u001b[0m             return self._constructor(na_op(self.values, other.values),\n\u001b[1;32m    838\u001b[0m                                      index=self.index, name=name)\n",
      "\u001b[0;31mValueError\u001b[0m: Can only compare identically-labeled Series objects"
     ]
    }
   ],
   "source": [
    "df.name == df_check.name1"
   ]
  }
 ],
 "metadata": {
  "kernelspec": {
   "display_name": "Python 2",
   "language": "python",
   "name": "python2"
  },
  "language_info": {
   "codemirror_mode": {
    "name": "ipython",
    "version": 2
   },
   "file_extension": ".py",
   "mimetype": "text/x-python",
   "name": "python",
   "nbconvert_exporter": "python",
   "pygments_lexer": "ipython2",
   "version": "2.7.13"
  }
 },
 "nbformat": 4,
 "nbformat_minor": 2
}
