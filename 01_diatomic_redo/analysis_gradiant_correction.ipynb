{
 "cells": [
  {
   "cell_type": "code",
   "execution_count": 1,
   "metadata": {},
   "outputs": [
    {
     "name": "stderr",
     "output_type": "stream",
     "text": [
      "/home/samio/local/miniconda2/lib/python2.7/site-packages/h5py/__init__.py:36: FutureWarning: Conversion of the second argument of issubdtype from `float` to `np.floating` is deprecated. In future, it will be treated as `np.float64 == np.dtype(float).type`.\n",
      "  from ._conv import register_converters as _register_converters\n"
     ]
    },
    {
     "name": "stdout",
     "output_type": "stream",
     "text": [
      "\u001b[93mmissing file: mov2asc\u001b[0m\n",
      "\u001b[93mplease modify /path/to/qctoolkit/setting.py and recompile.\u001b[0m\n"
     ]
    }
   ],
   "source": [
    "import qctoolkit as qtk\n",
    "from matplotlib import pyplot as plt\n",
    "import matplotlib as mpl\n",
    "import numpy as np\n",
    "from copy import deepcopy\n",
    "import horton as ht\n",
    "from mpl_toolkits.mplot3d import Axes3D\n",
    "from scipy.interpolate import UnivariateSpline\n",
    "from glob import glob\n",
    "import os\n",
    "from scipy.interpolate import spline\n",
    "from scipy.interpolate import interp2d\n",
    "\n",
    "#Note inline and notebook is contradicting to each other\n",
    "%matplotlib inline"
   ]
  },
  {
   "cell_type": "code",
   "execution_count": 4,
   "metadata": {
    "collapsed": true
   },
   "outputs": [],
   "source": [
    "def list2mesh(data=None, E=None, X=None):\n",
    "    if data is not None:\n",
    "        X = data['X']\n",
    "        E = data['E']\n",
    "    X_lists = [sorted(set(X[:,i])) for i in range(X.shape[1])]\n",
    "    X_meshes = np.array(np.meshgrid(*X_lists, indexing='ij'))\n",
    "    E_mesh = np.zeros(X_meshes[0].shape)\n",
    "    for s, e in enumerate(E):\n",
    "        inds = tuple([np.argmin(abs(np.array(arr) - X[s][i])) for i, arr in enumerate(X_lists)])\n",
    "        E_mesh[inds] = e\n",
    "    return X_meshes, E_mesh"
   ]
  },
  {
   "cell_type": "code",
   "execution_count": 2,
   "metadata": {
    "collapsed": true
   },
   "outputs": [],
   "source": [
    "data_pbe_HAl = np.load('gaussian_N2_pbe_H-Al.npz')\n",
    "En = data_pbe_HAl['E_neutral']\n",
    "Xn = data_pbe_HAl['X_neutral']\n",
    "dx = data_pbe_HAl['dx']\n",
    "g_list, h_list = data_pbe_HAl['g_list'][:,:2], data_pbe_HAl['h_list'][:,:2,:2]"
   ]
  },
  {
   "cell_type": "code",
   "execution_count": 5,
   "metadata": {
    "collapsed": true
   },
   "outputs": [],
   "source": [
    "Xn_meshes, E_mesh = list2mesh(E=En, X=Xn)"
   ]
  },
  {
   "cell_type": "code",
   "execution_count": 6,
   "metadata": {},
   "outputs": [
    {
     "name": "stdout",
     "output_type": "stream",
     "text": [
      "[ 0.70710678 -0.70710678] [0.70710678 0.70710678]\n",
      "[-0.44225225  0.89689071] [-0.89689071 -0.44225225]\n",
      "[-0.30590564  0.95206184] [-0.95206184 -0.30590564]\n",
      "[-0.22475245  0.9744159 ] [-0.9744159  -0.22475245]\n",
      "[-0.89033775  0.45530066] [-0.45530066 -0.89033775]\n",
      "[-0.92631367  0.37675321] [-0.37675321 -0.92631367]\n",
      "[-0.82103319  0.57088046] [-0.57088046 -0.82103319]\n"
     ]
    }
   ],
   "source": [
    "for h in h_list:\n",
    "    w, v = np.linalg.eigh(h)\n",
    "    print v[:,0], v[:,1]"
   ]
  },
  {
   "cell_type": "code",
   "execution_count": 11,
   "metadata": {},
   "outputs": [
    {
     "data": {
      "text/plain": [
       "(array([[ 6.6957148 ,  2.27319231],\n",
       "        [ 5.35657184,  1.81855385],\n",
       "        [ 4.01742888,  1.36391539],\n",
       "        [ 2.67828592,  0.90927692],\n",
       "        [ 1.33914296,  0.45463846],\n",
       "        [ 0.        ,  0.        ],\n",
       "        [-1.33914296, -0.45463846],\n",
       "        [-2.67828592, -0.90927692],\n",
       "        [-4.01742888, -1.36391539],\n",
       "        [-5.35657184, -1.81855385],\n",
       "        [-6.6957148 , -2.27319231],\n",
       "        [-8.03485776, -2.72783077],\n",
       "        [-9.37400072, -3.18246924]]), array([[-0.44225225, -0.89689071],\n",
       "        [ 0.89689071, -0.44225225]]), array([-2.51111789, -1.27628211]))"
      ]
     },
     "execution_count": 11,
     "metadata": {},
     "output_type": "execute_result"
    }
   ],
   "source": [
    "def get_zz_coord(X_meshes, dz=0, dR=None):\n",
    "    dZ = X_meshes[1][0,:,0] - (7-dz)\n",
    "    Z_coord = np.asarray(zip(dZ, (dZ-2*dz)[::-1]))\n",
    "    if dR is None:\n",
    "        return Z_coord\n",
    "    else:\n",
    "        return np.hstack([Z_coord, (np.ones(len(Z_coord)) * dR)[:,np.newaxis]])\n",
    "    \n",
    "def get_zz_coord_eig(X_meshes, h_list, dz=0):\n",
    "    Z_coord = get_zz_coord(X_meshes, dz)\n",
    "    w, v = np.linalg.eigh(h_list[dz])\n",
    "    return Z_coord.dot(v), v, w\n",
    "\n",
    "def get_zz_1st(X_meshes, )\n"
   ]
  },
  {
   "cell_type": "code",
   "execution_count": 13,
   "metadata": {
    "collapsed": true
   },
   "outputs": [],
   "source": [
    "Z_coord_eig, v, w = get_zz_coord_eig(Xn_meshes, h_list, 1)"
   ]
  },
  {
   "cell_type": "code",
   "execution_count": 17,
   "metadata": {},
   "outputs": [
    {
     "data": {
      "text/plain": [
       "(array([[-8.48528137,  0.        ],\n",
       "        [-7.07106781,  0.        ],\n",
       "        [-5.65685425,  0.        ],\n",
       "        [-4.24264069,  0.        ],\n",
       "        [-2.82842712,  0.        ],\n",
       "        [-1.41421356,  0.        ],\n",
       "        [ 0.        ,  0.        ],\n",
       "        [ 1.41421356,  0.        ],\n",
       "        [ 2.82842712,  0.        ],\n",
       "        [ 4.24264069,  0.        ],\n",
       "        [ 5.65685425,  0.        ],\n",
       "        [ 7.07106781,  0.        ],\n",
       "        [ 8.48528137,  0.        ]]), array([[ 0.70710678,  0.70710678],\n",
       "        [-0.70710678,  0.70710678]]), array([-2.38533, -1.36979]))"
      ]
     },
     "execution_count": 17,
     "metadata": {},
     "output_type": "execute_result"
    }
   ],
   "source": [
    "get_zz_coord_eig(Xn_meshes, h_list, 0)"
   ]
  },
  {
   "cell_type": "code",
   "execution_count": 18,
   "metadata": {},
   "outputs": [
    {
     "name": "stdout",
     "output_type": "stream",
     "text": [
      "[-1.  1.]\n",
      "[[-0.44225225 -0.89689071]\n",
      " [ 0.89689071 -0.44225225]]\n"
     ]
    }
   ],
   "source": [
    "print Z_coord_eig[4].dot(v.T)\n",
    "print v"
   ]
  },
  {
   "cell_type": "code",
   "execution_count": 26,
   "metadata": {},
   "outputs": [
    {
     "data": {
      "text/plain": [
       "-7.539634999999972"
      ]
     },
     "execution_count": 26,
     "metadata": {},
     "output_type": "execute_result"
    }
   ],
   "source": [
    "Z_coord_eig[4].dot(v.T).dot(g_list[1])"
   ]
  },
  {
   "cell_type": "code",
   "execution_count": 24,
   "metadata": {},
   "outputs": [
    {
     "name": "stdout",
     "output_type": "stream",
     "text": [
      "-7.539634999999976\n",
      "7.539634999999976\n"
     ]
    }
   ],
   "source": [
    "print np.array([-1,1]).dot(g_list[1]) /\n",
    "print np.array([1,-1]).dot(g_list[1])"
   ]
  },
  {
   "cell_type": "code",
   "execution_count": 38,
   "metadata": {},
   "outputs": [
    {
     "name": "stdout",
     "output_type": "stream",
     "text": [
      "0.0\n",
      "-82.44481841922031\n",
      "-86.18915153707468\n",
      "-87.44297621459033\n",
      "-88.06799877546989\n",
      "-88.44030353064487\n",
      "-88.68014645033816\n"
     ]
    }
   ],
   "source": [
    "for i in range(len(g_list)):\n",
    "    print np.arctan2(np.array([-1,1]).dot(g_list[i]), 1) * 180 / np.pi"
   ]
  },
  {
   "cell_type": "code",
   "execution_count": 33,
   "metadata": {
    "collapsed": true
   },
   "outputs": [],
   "source": [
    "np.arctan2?"
   ]
  },
  {
   "cell_type": "code",
   "execution_count": null,
   "metadata": {
    "collapsed": true
   },
   "outputs": [],
   "source": []
  }
 ],
 "metadata": {
  "kernelspec": {
   "display_name": "Python 2",
   "language": "python",
   "name": "python2"
  },
  "language_info": {
   "codemirror_mode": {
    "name": "ipython",
    "version": 2
   },
   "file_extension": ".py",
   "mimetype": "text/x-python",
   "name": "python",
   "nbconvert_exporter": "python",
   "pygments_lexer": "ipython2",
   "version": "2.7.14"
  }
 },
 "nbformat": 4,
 "nbformat_minor": 2
}
