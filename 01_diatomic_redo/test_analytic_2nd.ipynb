{
 "cells": [
  {
   "cell_type": "code",
   "execution_count": 1,
   "metadata": {},
   "outputs": [
    {
     "name": "stdout",
     "output_type": "stream",
     "text": [
      "\u001b[93mmissing file: mov2asc\u001b[0m\n",
      "\u001b[93mplease modify /path/to/qctoolkit/setting.py and recompile.\u001b[0m\n"
     ]
    },
    {
     "name": "stderr",
     "output_type": "stream",
     "text": [
      "/home/samio/local/miniconda2/lib/python2.7/site-packages/h5py/__init__.py:36: FutureWarning: Conversion of the second argument of issubdtype from `float` to `np.floating` is deprecated. In future, it will be treated as `np.float64 == np.dtype(float).type`.\n",
      "  from ._conv import register_converters as _register_converters\n"
     ]
    }
   ],
   "source": [
    "import qctoolkit as qtk\n",
    "import numpy as np\n",
    "from matplotlib import pyplot as plt\n",
    "\n",
    "%matplotlib inline"
   ]
  },
  {
   "cell_type": "code",
   "execution_count": 2,
   "metadata": {},
   "outputs": [
    {
     "data": {
      "text/plain": [
       "H2O"
      ]
     },
     "execution_count": 2,
     "metadata": {},
     "output_type": "execute_result"
    }
   ],
   "source": [
    "R = np.array([\n",
    "    [-0.7473,  0.5339, -0.    ],\n",
    "    [ 0.7639,  0.5209, -0.    ],\n",
    "    [-0.001 , -0.0664, -0.    ]])\n",
    "Z = np.array([1,1,8])\n",
    "h2o = qtk.Molecule()\n",
    "h2o.build(np.hstack([Z[:,np.newaxis], R]))"
   ]
  },
  {
   "cell_type": "code",
   "execution_count": 3,
   "metadata": {},
   "outputs": [
    {
     "data": {
      "text/plain": [
       "-76.05868370985776"
      ]
     },
     "execution_count": 3,
     "metadata": {},
     "output_type": "execute_result"
    }
   ],
   "source": [
    "inp_ref = qtk.QMInp(h2o, program='horton', theory='hf')\n",
    "inp_ref.run()"
   ]
  },
  {
   "cell_type": "code",
   "execution_count": 4,
   "metadata": {},
   "outputs": [
    {
     "name": "stdout",
     "output_type": "stream",
     "text": [
      "17.84799930419546\n",
      "0.832459493997744\n"
     ]
    }
   ],
   "source": [
    "ZR = np.array([\n",
    "    [-1, -0.001     , -0.0664    ,  0.],\n",
    "    [1, 0, -0.92 * np.cos(np.pi/8), 0.92 * np.sin(np.pi/8)],\n",
    "    ])\n",
    "dV = inp_ref.dV_ao_ZRCoords(ZR)\n",
    "d1E = inp_ref.d1E(dV)\n",
    "print d1E\n",
    "d2E = inp_ref.d2E(dV)\n",
    "print d2E"
   ]
  },
  {
   "cell_type": "code",
   "execution_count": 5,
   "metadata": {},
   "outputs": [
    {
     "data": {
      "text/plain": [
       "H3N"
      ]
     },
     "execution_count": 5,
     "metadata": {},
     "output_type": "execute_result"
    }
   ],
   "source": [
    "nh3 = qtk.Molecule()\n",
    "R = np.array([\n",
    "    [-0.7473,  0.5339, -0.    ],\n",
    "    [ 0.7639,  0.5209, -0.    ],\n",
    "    [0, -0.92 * np.cos(np.pi/8), 0.92 * np.sin(np.pi/8)],\n",
    "    [-0.001 , -0.0664, -0.    ]])\n",
    "Z = np.array([1,1,1,7])\n",
    "nh3.build(np.hstack([Z[:,np.newaxis], R]))"
   ]
  },
  {
   "cell_type": "code",
   "execution_count": 6,
   "metadata": {},
   "outputs": [
    {
     "data": {
      "text/plain": [
       "-56.18577066327083"
      ]
     },
     "execution_count": 6,
     "metadata": {},
     "output_type": "execute_result"
    }
   ],
   "source": [
    "inp_tar = qtk.QMInp(nh3, program='horton', theory='hf')\n",
    "inp_tar.run()"
   ]
  },
  {
   "cell_type": "code",
   "execution_count": 7,
   "metadata": {},
   "outputs": [
    {
     "data": {
      "text/plain": [
       "-57.794454658663426"
      ]
     },
     "execution_count": 7,
     "metadata": {},
     "output_type": "execute_result"
    }
   ],
   "source": [
    "inp_ref.Et + d1E + 0.5 * d2E"
   ]
  },
  {
   "cell_type": "code",
   "execution_count": null,
   "metadata": {
    "collapsed": true
   },
   "outputs": [],
   "source": []
  }
 ],
 "metadata": {
  "kernelspec": {
   "display_name": "Python 2",
   "language": "python",
   "name": "python2"
  },
  "language_info": {
   "codemirror_mode": {
    "name": "ipython",
    "version": 2
   },
   "file_extension": ".py",
   "mimetype": "text/x-python",
   "name": "python",
   "nbconvert_exporter": "python",
   "pygments_lexer": "ipython2",
   "version": "2.7.14"
  }
 },
 "nbformat": 4,
 "nbformat_minor": 2
}
