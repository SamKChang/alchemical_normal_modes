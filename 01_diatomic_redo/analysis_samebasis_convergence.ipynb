{
 "cells": [
  {
   "cell_type": "code",
   "execution_count": 1,
   "metadata": {},
   "outputs": [
    {
     "name": "stderr",
     "output_type": "stream",
     "text": [
      "/home/samio/local/miniconda2/lib/python2.7/site-packages/h5py/__init__.py:36: FutureWarning: Conversion of the second argument of issubdtype from `float` to `np.floating` is deprecated. In future, it will be treated as `np.float64 == np.dtype(float).type`.\n",
      "  from ._conv import register_converters as _register_converters\n"
     ]
    },
    {
     "name": "stdout",
     "output_type": "stream",
     "text": [
      "\u001b[93mmissing file: mov2asc\u001b[0m\n",
      "\u001b[93mplease modify /path/to/qctoolkit/setting.py and recompile.\u001b[0m\n"
     ]
    }
   ],
   "source": [
    "import qctoolkit as qtk\n",
    "import numpy as np\n",
    "from matplotlib import pyplot as plt\n",
    "import os\n",
    "from glob import glob\n",
    "\n",
    "%matplotlib inline"
   ]
  },
  {
   "cell_type": "code",
   "execution_count": 2,
   "metadata": {
    "collapsed": true
   },
   "outputs": [],
   "source": [
    "C_files = sorted(glob('gaussian_pbe_same_basis/diff_CO_[12][12]*/*.log'))\n",
    "B_files = sorted(glob('gaussian_pbe_same_basis/diff_BF_[12][12]*/*.log'))\n",
    "Be_files = sorted(glob('gaussian_pbe_same_basis/diff_BeNe_[12][12]*/*.log'))\n",
    "Li_files = sorted(glob('gaussian_pbe_same_basis/diff_LiNa_[12][12]*/*.log'))\n",
    "He_files = sorted(glob('gaussian_pbe_same_basis/diff_HeMg_[12][12]*/*.log'))"
   ]
  },
  {
   "cell_type": "code",
   "execution_count": 3,
   "metadata": {
    "collapsed": true,
    "scrolled": false
   },
   "outputs": [],
   "source": [
    "def get_outs(files):\n",
    "    qtk.setting.quiet=True\n",
    "    outs = []\n",
    "    htouts = []\n",
    "    for f in files:\n",
    "        out = qtk.QMOut(f, program='gaussian')\n",
    "        htout = out.as_horton()\n",
    "        outs.append(out)\n",
    "        htouts.append(htout)\n",
    "    outs = np.array(outs).reshape([2,2,3])\n",
    "    htouts = np.array(htouts).reshape([2,2,3])\n",
    "    qtk.setting.quiet = False\n",
    "    return outs, htouts"
   ]
  },
  {
   "cell_type": "code",
   "execution_count": 4,
   "metadata": {},
   "outputs": [
    {
     "name": "stdout",
     "output_type": "stream",
     "text": [
      "1 1 0 diff_BeNe_110.log diff_BeNe_110\n",
      "1 1 1 diff_BeNe_111.log diff_BeNe_111\n",
      "1 1 2 diff_BeNe_112.log diff_BeNe_112\n",
      "1 2 0 diff_BeNe_120.log diff_BeNe_120\n",
      "1 2 1 diff_BeNe_121.log diff_BeNe_121\n",
      "1 2 2 diff_BeNe_122.log diff_BeNe_122\n",
      "2 1 0 diff_BeNe_210.log diff_BeNe_210\n",
      "2 1 1 diff_BeNe_211.log diff_BeNe_211\n",
      "2 1 2 diff_BeNe_212.log diff_BeNe_212\n",
      "2 2 0 diff_BeNe_220.log diff_BeNe_220\n",
      "2 2 1 diff_BeNe_221.log diff_BeNe_221\n",
      "2 2 2 diff_BeNe_222.log diff_BeNe_222\n"
     ]
    }
   ],
   "source": [
    "outs, htouts = get_outs(Be_files)\n",
    "for i in range(2):\n",
    "    for j in range(2):\n",
    "        for k in range(3):\n",
    "            print i+1,j+1,k, outs[i,j,k].name, htouts[i,j,k].name"
   ]
  },
  {
   "cell_type": "code",
   "execution_count": 5,
   "metadata": {
    "collapsed": true
   },
   "outputs": [],
   "source": [
    "g09, ht = [], []\n",
    "for i, f in enumerate([He_files, Li_files, Be_files, B_files, C_files]):\n",
    "    g, h = get_outs(f)\n",
    "    g09.append(g)\n",
    "    ht.append(h)\n",
    "\n",
    "g09 = np.asarray(g09)\n",
    "ht = np.asarray(ht)"
   ]
  },
  {
   "cell_type": "code",
   "execution_count": 6,
   "metadata": {},
   "outputs": [
    {
     "data": {
      "text/plain": [
       "array([[[-201.2424426, -203.2576146],\n",
       "        [-201.4251512, -203.4388905]],\n",
       "\n",
       "       [[-168.2538745, -170.0356899],\n",
       "        [-168.5646186, -170.3451732]],\n",
       "\n",
       "       [[-17.658377, -17.9094084],\n",
       "        [-18.313638, -18.563559]],\n",
       "\n",
       "       [[-124.0675603, -125.4025941],\n",
       "        [-124.6630446, -125.9967841]],\n",
       "\n",
       "       [[-112.942738, -114.0684093],\n",
       "        [-113.6948391, -114.819016]]], dtype=object)"
      ]
     },
     "execution_count": 6,
     "metadata": {},
     "output_type": "execute_result"
    }
   ],
   "source": [
    "g09[:, :,:,1]"
   ]
  },
  {
   "cell_type": "code",
   "execution_count": 22,
   "metadata": {},
   "outputs": [
    {
     "data": {
      "text/plain": [
       "array([1, 2, 3])"
      ]
     },
     "execution_count": 22,
     "metadata": {},
     "output_type": "execute_result"
    }
   ],
   "source": [
    "np.arange(5)[1:-1]"
   ]
  },
  {
   "cell_type": "code",
   "execution_count": 36,
   "metadata": {
    "collapsed": true
   },
   "outputs": [],
   "source": [
    "BeNe = g09[2,0,0,1]\n",
    "LiNa = g09[1,0,0,1]"
   ]
  },
  {
   "cell_type": "code",
   "execution_count": 37,
   "metadata": {},
   "outputs": [
    {
     "data": {
      "text/plain": [
       "{'Eee': 102.280349,\n",
       " 'Eext': -441.113366,\n",
       " 'Ekin': 171.374668,\n",
       " 'Enn': 15.875316,\n",
       " 'Ex': -16.203482}"
      ]
     },
     "execution_count": 37,
     "metadata": {},
     "output_type": "execute_result"
    }
   ],
   "source": [
    "LiNa.energies"
   ]
  },
  {
   "cell_type": "code",
   "execution_count": 33,
   "metadata": {},
   "outputs": [
    {
     "data": {
      "text/plain": [
       "{'Eee': 70.20855,\n",
       " 'Eext': -140.892148,\n",
       " 'Ekin': 43.489568,\n",
       " 'Enn': 19.242808,\n",
       " 'Ex': -9.04452}"
      ]
     },
     "execution_count": 33,
     "metadata": {},
     "output_type": "execute_result"
    }
   ],
   "source": [
    "BeNe.energies"
   ]
  },
  {
   "cell_type": "code",
   "execution_count": 35,
   "metadata": {},
   "outputs": [
    {
     "name": "stdout",
     "output_type": "stream",
     "text": [
      "-16.995742\n"
     ]
    }
   ],
   "source": [
    "E = 0\n",
    "for e in BeNe.energies.itervalues():\n",
    "    E += e\n",
    "print E"
   ]
  },
  {
   "cell_type": "code",
   "execution_count": 4,
   "metadata": {},
   "outputs": [
    {
     "name": "stdout",
     "output_type": "stream",
     "text": [
      "\u001b[93mMultiplicity 1 and 21 valence electrons \n",
      "(with charge 0.0) are not compatible\u001b[0m\n",
      "\u001b[93mBasis function missing for elements: ['Ca', 'Sc']\u001b[0m\n",
      "%nproc=1\n",
      "%chk=tmp.chk\n",
      "# pbepbe/gen force Scf(xqc,maxcycle=1000) int(grid=ultrafine) 6d 10f nosymm ExtraLinks=L608 IOp(2/12=3)\n",
      "\n",
      "CaSc\n",
      "\n",
      "0   1\n",
      "Ca   0.0000   0.0000   0.0000\n",
      "Sc   1.1000   0.0000   0.0000\n",
      "\n",
      "\n",
      "\n"
     ]
    },
    {
     "data": {
      "text/plain": [
       "<qctoolkit.QM.general_io.InpContent at 0x1516267f7d90>"
      ]
     },
     "execution_count": 4,
     "metadata": {},
     "output_type": "execute_result"
    }
   ],
   "source": [
    "mol = qtk.Molecule()\n",
    "mol.build([[20, 0,0,0],[21,1.1,0,0]])\n",
    "\n",
    "with open('ccpvdz_ne_gbasis.txt') as f:\n",
    "    ne_basis = f.readlines()\n",
    "\n",
    "inp = qtk.QMInp(mol, program='gaussian', basis_set=ne_basis)\n",
    "\n",
    "inp.write()"
   ]
  },
  {
   "cell_type": "code",
   "execution_count": null,
   "metadata": {
    "collapsed": true
   },
   "outputs": [],
   "source": []
  }
 ],
 "metadata": {
  "kernelspec": {
   "display_name": "Python 2",
   "language": "python",
   "name": "python2"
  },
  "language_info": {
   "codemirror_mode": {
    "name": "ipython",
    "version": 2
   },
   "file_extension": ".py",
   "mimetype": "text/x-python",
   "name": "python",
   "nbconvert_exporter": "python",
   "pygments_lexer": "ipython2",
   "version": "2.7.14"
  }
 },
 "nbformat": 4,
 "nbformat_minor": 2
}
