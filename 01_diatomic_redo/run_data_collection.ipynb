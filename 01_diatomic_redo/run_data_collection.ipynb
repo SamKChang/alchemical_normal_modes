{
 "cells": [
  {
   "cell_type": "code",
   "execution_count": 1,
   "metadata": {},
   "outputs": [
    {
     "name": "stderr",
     "output_type": "stream",
     "text": [
      "/home/samio/local/miniconda2/lib/python2.7/site-packages/h5py/__init__.py:36: FutureWarning: Conversion of the second argument of issubdtype from `float` to `np.floating` is deprecated. In future, it will be treated as `np.float64 == np.dtype(float).type`.\n",
      "  from ._conv import register_converters as _register_converters\n"
     ]
    },
    {
     "name": "stdout",
     "output_type": "stream",
     "text": [
      "\u001b[93mmissing file: mov2asc\u001b[0m\n",
      "\u001b[93mplease modify /path/to/qctoolkit/setting.py and recompile.\u001b[0m\n"
     ]
    }
   ],
   "source": [
    "import qctoolkit as qtk\n",
    "from matplotlib import pyplot as plt\n",
    "import numpy as np\n",
    "from copy import deepcopy\n",
    "import horton as ht\n",
    "from mpl_toolkits.mplot3d import Axes3D\n",
    "from scipy.interpolate import UnivariateSpline\n",
    "from glob import glob\n",
    "import os\n",
    "import itertools\n",
    "\n",
    "#Note inline and notebook is contradicting to each other\n",
    "%matplotlib notebook"
   ]
  },
  {
   "cell_type": "markdown",
   "metadata": {},
   "source": [
    "# N2 3D surface with finite difference data"
   ]
  },
  {
   "cell_type": "code",
   "execution_count": 2,
   "metadata": {
    "collapsed": true
   },
   "outputs": [],
   "source": [
    "# qmjob settings\n",
    "\n",
    "qmsetting_test = {\n",
    "    'program': 'horton',\n",
    "    'basis_set': 'sto-3g',\n",
    "    'theory': 'pbe',\n",
    "    'threads': 1,\n",
    "}\n",
    "\n",
    "qmsetting_production = {\n",
    "    'program': 'gaussian',\n",
    "    'basis_set': 'cc-pVDZ',\n",
    "    'theory': 'pbe',\n",
    "    'threads': 1,\n",
    "}\n",
    "\n",
    "qmsetting_production_ccsd = {\n",
    "    'program': 'gaussian',\n",
    "    'basis_set': 'cc-pVDZ',\n",
    "    'theory': 'ccsd',\n",
    "    'threads': 1,\n",
    "}\n",
    "\n",
    "qmsetting_production_ccsdt = {\n",
    "    'program': 'gaussian',\n",
    "    'basis_set': 'cc-pVDZ',\n",
    "    'theory': 'ccsd(t)',\n",
    "    'threads': 1,\n",
    "}\n",
    "\n",
    "qmsetting_hf_d2E = {\n",
    "    'program': 'gaussian',\n",
    "    'basis_set': 'cc-pVDZ',\n",
    "    'theory': 'hf',\n",
    "    'threads': 1,\n",
    "}\n",
    "\n",
    "with open('ccpvdz_ar_gbasis.txt') as f:\n",
    "    ar_basis = f.readlines()\n",
    "    \n",
    "with open('ccpvdz_ne_gbasis.txt') as f:\n",
    "    ne_basis = f.readlines()\n",
    "    \n",
    "qmsetting_pbe_same_basis = {\n",
    "    'program': 'gaussian',\n",
    "    #'basis_set': ar_basis, gaussian failed too many simple basis function?\n",
    "    'basis_set': ne_basis,\n",
    "    'theory': 'pbe',\n",
    "    'threads': 1,\n",
    "}"
   ]
  },
  {
   "cell_type": "code",
   "execution_count": 4,
   "metadata": {
    "collapsed": true
   },
   "outputs": [],
   "source": [
    "def FD_diff_ZZR(qmsetting, base=[7,7,1.1], dz=0.05, dr=0.00529, get_mols=False):\n",
    "    dZ = [-dz, 0, dz]\n",
    "    dR = [-dr, 0, dr]\n",
    "    mols = []\n",
    "    inps = []\n",
    "    for dz1, dz2, dr in itertools.product(dZ, dZ, dR):\n",
    "        i, j, k = dZ.index(dz1), dZ.index(dz2), dR.index(dr)\n",
    "        mol = qtk.Molecule()\n",
    "        mol.build([[base[0],0,0,0], [base[1],base[2]+dr,0,0]])\n",
    "        new_Z = mol.Z + np.array([dz1, dz2])\n",
    "        mol.name = 'diff_' + mol.name + '_%d%d%d' % (i,j,k)\n",
    "        if (base[0] + base[1]) % 2 != 0:\n",
    "            mol.setChargeMultiplicity(0, 2)\n",
    "        inp = qtk.QMInp(mol, nuclear_charges=new_Z, **qmsetting)\n",
    "        inps.append(inp)\n",
    "        mols.append(mol)\n",
    "    if get_mols:\n",
    "        return inps, mols\n",
    "    else:\n",
    "        return inps"
   ]
  },
  {
   "cell_type": "code",
   "execution_count": 5,
   "metadata": {
    "collapsed": true
   },
   "outputs": [],
   "source": [
    "def FD_diff_ZZR_largedZ(qmsetting, base=[7,7,1.1], dr=0.00529, get_mols=False):\n",
    "    dZ = [-1, 0, 1]\n",
    "    dR = [-dr, 0, dr]\n",
    "    mols = []\n",
    "    inps = []\n",
    "    for dz1, dz2, dr in itertools.product(dZ, dZ, dR):\n",
    "        i, j, k = dZ.index(dz1), dZ.index(dz2), dR.index(dr)\n",
    "        mol = qtk.Molecule()\n",
    "        mol.build([[base[0],0,0,0], [base[1],base[2]+dr,0,0]])\n",
    "        new_Z = mol.Z + np.array([dz1, dz2])\n",
    "        mol.setAtoms(0, Z=new_Z[0])\n",
    "        mol.setAtoms(1, Z=new_Z[1])\n",
    "        mol.name = 'diff_' + mol.name + '_%d%d%d' % (i,j,k)\n",
    "        if (mol.Z[0] + mol.Z[1]) % 2 != 0:\n",
    "            mol.setChargeMultiplicity(0, 2)\n",
    "        inp = qtk.QMInp(mol, nuclear_charges=new_Z, **qmsetting)\n",
    "        inps.append(inp)\n",
    "        mols.append(mol)\n",
    "    if get_mols:\n",
    "        return inps, mols\n",
    "    else:\n",
    "        return inps"
   ]
  },
  {
   "cell_type": "code",
   "execution_count": 6,
   "metadata": {
    "collapsed": true
   },
   "outputs": [],
   "source": [
    "def surface_N2_ZZR(qmsetting, Z_A=range(1,14), Z_B=range(1,14), R=np.arange(0.7, 5.1, 0.2), \n",
    "                   neutral=True, get_mols=False, cutZ=None):\n",
    "    if cutZ is not None:\n",
    "        Z_A, Z_B = Z_A[cutZ:-cutZ], Z_B[cutZ:-cutZ]\n",
    "    mols = []\n",
    "    inps = []\n",
    "    for Z1 in Z_A:\n",
    "        for Z2 in Z_B:\n",
    "            for d in R:\n",
    "                # choose d ~ N2 bond length of 1.0975\n",
    "                #d = 1.1\n",
    "                mol = qtk.Molecule()\n",
    "                mol.build([[Z1,0,0,0], [Z2,d,0,0]])\n",
    "                if not neutral:\n",
    "                    mol.name = mol.name + '_c'\n",
    "                mol.name = 'surf_' + mol.name + '_%02d_%02d_%3.1f' % (Z1, Z2, d)\n",
    "                if neutral:\n",
    "                    if (Z1 + Z2) % 2 == 1:\n",
    "                        mol.setChargeMultiplicity(0, 2)\n",
    "                else:\n",
    "                    mol.charge = Z1 + Z2 - 14\n",
    "                inp = qtk.QMInp(mol, save_chk=False, **qmsetting)\n",
    "                inps.append(inp)\n",
    "                mols.append(mol)\n",
    "    if get_mols:\n",
    "        return inps, mols\n",
    "    else:\n",
    "        return inps"
   ]
  },
  {
   "cell_type": "code",
   "execution_count": 6,
   "metadata": {
    "collapsed": true
   },
   "outputs": [],
   "source": [
    "inps_N2_3D_large = surface_N2_ZZR(qmsetting_production)"
   ]
  },
  {
   "cell_type": "code",
   "execution_count": 81,
   "metadata": {
    "collapsed": true
   },
   "outputs": [],
   "source": [
    "qtk.qmWriteAll(inps_N2_3D_large, 'gaussian_N2_pbe_large', compress=True)"
   ]
  },
  {
   "cell_type": "code",
   "execution_count": 6,
   "metadata": {
    "collapsed": true
   },
   "outputs": [],
   "source": [
    "small_range = R=np.arange(0.6, 2.1, 0.1)\n",
    "inps_N2_3D_small = surface_N2_ZZR(qmsetting_production, R=small_range, cutZ=3)\n",
    "inps_N2_3D_small_charged = surface_N2_ZZR(qmsetting_production, R=small_range, cutZ=3, neutral=False)\n",
    "inps_diff_N2 = FD_diff_ZZR(base=[7,7,1.1])\n",
    "inps_diff_CO = FD_diff_ZZR(base=[6,8,1.1])\n",
    "inps_diff_BF = FD_diff_ZZR(base=[5,9,1.1])"
   ]
  },
  {
   "cell_type": "code",
   "execution_count": 7,
   "metadata": {},
   "outputs": [
    {
     "data": {
      "text/plain": [
       "1551"
      ]
     },
     "execution_count": 7,
     "metadata": {},
     "output_type": "execute_result"
    }
   ],
   "source": [
    "inps_all = []\n",
    "for inps in [inps_N2_3D_small, inps_N2_3D_small_charged, inps_diff_N2, inps_diff_CO, inps_diff_BF]:\n",
    "    inps_all.extend(inps)\n",
    "len(inps_all)"
   ]
  },
  {
   "cell_type": "code",
   "execution_count": 7,
   "metadata": {
    "collapsed": true
   },
   "outputs": [],
   "source": [
    "small_range = R=np.arange(0.6, 2.1, 0.1)\n",
    "inps_N2_3D_small = surface_N2_ZZR(qmsetting_production, R=small_range)\n",
    "inps_N2_3D_small_charged = surface_N2_ZZR(qmsetting_production, R=small_range, neutral=False)\n",
    "inps_diff = []\n",
    "for Z1 in range(1,8)[::-1]:\n",
    "    for Z2 in range(7,14):\n",
    "        inps_diff.extend(FD_diff_ZZR(base=[Z1,Z2,1.1]))"
   ]
  },
  {
   "cell_type": "code",
   "execution_count": 8,
   "metadata": {},
   "outputs": [
    {
     "data": {
      "text/plain": [
       "6393"
      ]
     },
     "execution_count": 8,
     "metadata": {},
     "output_type": "execute_result"
    }
   ],
   "source": [
    "inps_all = []\n",
    "for inps in [inps_N2_3D_small, inps_N2_3D_small_charged, inps_diff]:\n",
    "    inps_all.extend(inps)\n",
    "len(inps_all)"
   ]
  },
  {
   "cell_type": "code",
   "execution_count": 9,
   "metadata": {
    "collapsed": true
   },
   "outputs": [],
   "source": [
    "inps_diff = []\n",
    "for dz in range(7):\n",
    "    inps_diff.extend(FD_diff_ZZR_largedZ(qmsetting_production, base=[7-dz,7+dz,1.1]))"
   ]
  },
  {
   "cell_type": "code",
   "execution_count": 28,
   "metadata": {
    "collapsed": true
   },
   "outputs": [],
   "source": [
    "inps_diff = []\n",
    "for dz in range(7):\n",
    "    inps_diff.extend(FD_diff_ZZR(qmsetting_production, base=[7-dz,7+dz,1.1], dz=0.3))"
   ]
  },
  {
   "cell_type": "code",
   "execution_count": 29,
   "metadata": {},
   "outputs": [
    {
     "data": {
      "text/plain": [
       "189"
      ]
     },
     "execution_count": 29,
     "metadata": {},
     "output_type": "execute_result"
    }
   ],
   "source": [
    "len(inps_diff)"
   ]
  },
  {
   "cell_type": "code",
   "execution_count": 30,
   "metadata": {
    "collapsed": true
   },
   "outputs": [],
   "source": [
    "qtk.qmWriteAll(inps_diff, 'gaussian_diff_dZ03', compress=True)"
   ]
  },
  {
   "cell_type": "code",
   "execution_count": 9,
   "metadata": {},
   "outputs": [
    {
     "name": "stdout",
     "output_type": "stream",
     "text": [
      "\u001b[96m\u001b[1mqmWriteAll:\u001b[0m compression completed \n"
     ]
    }
   ],
   "source": [
    "qtk.qmWriteAll(inps_all, 'gaussian_N2_pbe_H2', compress=True)"
   ]
  },
  {
   "cell_type": "code",
   "execution_count": 7,
   "metadata": {},
   "outputs": [
    {
     "data": {
      "text/plain": [
       "1034"
      ]
     },
     "execution_count": 7,
     "metadata": {},
     "output_type": "execute_result"
    }
   ],
   "source": [
    "small_range = R=np.arange(0.9, 1.4, 0.1)\n",
    "inps_N2_3D_small = surface_N2_ZZR(qmsetting_pbe_same_basis, R=small_range)\n",
    "#inps_N2_3D_small_charged = surface_N2_ZZR(R=small_range, neutral=False)\n",
    "inps_diff = []\n",
    "inps_diff = []\n",
    "for dz in range(7):\n",
    "    inps_diff.extend(FD_diff_ZZR(qmsetting_pbe_same_basis, base=[7-dz,7+dz,1.1], dz=0.05))\n",
    "inps_all = []\n",
    "for inps in [inps_N2_3D_small, inps_diff]:\n",
    "    inps_all.extend(inps)\n",
    "len(inps_all)"
   ]
  },
  {
   "cell_type": "code",
   "execution_count": 8,
   "metadata": {},
   "outputs": [
    {
     "name": "stdout",
     "output_type": "stream",
     "text": [
      "\u001b[96m\u001b[1mqmWriteAll:\u001b[0m compression completed \n"
     ]
    }
   ],
   "source": [
    "qtk.qmWriteAll(inps_all, 'gaussian_pbe_same_basis_Ne', compress=True)"
   ]
  },
  {
   "cell_type": "markdown",
   "metadata": {},
   "source": [
    "# data extraction"
   ]
  },
  {
   "cell_type": "code",
   "execution_count": 9,
   "metadata": {
    "collapsed": true
   },
   "outputs": [],
   "source": [
    "def get_surf_ZZR(name_root, prefix=None, ext='log', quite=True, get_outarr=False, \n",
    "                 except_pattern=None, include_pattern=None):\n",
    "    \n",
    "    if prefix is None:\n",
    "        f_list = sorted(glob(os.path.join('%s' % name_root, '*', '*.%s' % ext)))\n",
    "    else:\n",
    "        f_list = sorted(glob(os.path.join('%s' % name_root, '%s*' % prefix, '*.%s' % ext)))\n",
    "        if except_pattern:\n",
    "            f_list = filter(lambda x: except_pattern not in x, f_list)\n",
    "        if include_pattern:\n",
    "            f_list = filter(lambda x: include_pattern in x, f_list)\n",
    "            \n",
    "    \n",
    "    outs = []\n",
    "    for f in f_list:\n",
    "        outs.append(qtk.QMOut(f, program='gaussian'))\n",
    "        \n",
    "    Z_As = []\n",
    "    Z_Bs = []\n",
    "    Rs = []\n",
    "    \n",
    "    for out in outs:\n",
    "        #i,j,k = map(int, list(os.path.splitext(out.name)[0].split('_')[1]))\n",
    "        za, zb, r = [float(s) for s in os.path.splitext(out.name)[0].split('_')[-3:]]\n",
    "        r = r * qtk.setting.a2b # convert from angrstrom to bohr\n",
    "        Z_As.append(za)\n",
    "        Z_Bs.append(zb)\n",
    "        Rs.append(r) \n",
    "    \n",
    "    Z_A_full = sorted(set(Z_As))\n",
    "    Z_B_full = sorted(set(Z_Bs))\n",
    "    dR_full = sorted(set(Rs))\n",
    "        \n",
    "    E = np.zeros([len(Z_A_full), len(Z_B_full), len(dR_full)])\n",
    "    out_arr = np.zeros(E.shape, dtype=object)\n",
    "    X_list = []\n",
    "    E_list = []\n",
    "    for s, out in enumerate(outs):\n",
    "        n = [Z_As[s], Z_Bs[s], Rs[s]]\n",
    "        i,j,k = [np.argmin(abs(np.array(arr) - n[i])) for i, arr in enumerate([Z_A_full, Z_B_full, dR_full])]\n",
    "        E[i,j,k] = out.Et - out.nuclear_repulsion\n",
    "        E_list.append(E[i,j,k])\n",
    "        X_list.append([Z_A_full[i], Z_B_full[j], dR_full[k]])\n",
    "        out_arr[i,j,k] = out.name\n",
    "        #print i,j,k, os.path.splitext(out.name)[0], out.energies\n",
    "        #E[i,j,k] = out.Et - out.nuclear_repulsion\n",
    "    X_list = np.array(X_list)\n",
    "    E_list = np.array(E_list)\n",
    "\n",
    "    #np.savez('data_N2_3D_ZZR_pbe.npz', E=E_list, X=X_list, axes=['Z1', 'Z2', 'R'])\n",
    "    \n",
    "    return E_list, X_list"
   ]
  },
  {
   "cell_type": "code",
   "execution_count": 10,
   "metadata": {},
   "outputs": [
    {
     "name": "stdout",
     "output_type": "stream",
     "text": [
      "\u001b[93msomething wrong when accessing final energy with error message: list index out of range\u001b[0m\n",
      "\u001b[93mold/N2_full_3DSurface/C1Ne1_10_06_1.33/C1Ne1_10_06_1.33.log failed with message: local variable 'rmsd' referenced before assignment\u001b[0m\n",
      "[-90.20123236 -84.4807881  -80.80553964]\n",
      "[[5.         6.         0.94486299]\n",
      " [5.         6.         1.26611641]\n",
      " [5.         6.         1.56847257]]\n",
      "(490,) (490, 3)\n"
     ]
    }
   ],
   "source": [
    "E_list, X_list = get_surf_ZZR('old/N2_full_3DSurface', ext='log')\n",
    "print E_list[:3]\n",
    "print X_list[:3, :]\n",
    "print E_list.shape, X_list.shape"
   ]
  },
  {
   "cell_type": "code",
   "execution_count": 11,
   "metadata": {},
   "outputs": [
    {
     "name": "stdout",
     "output_type": "stream",
     "text": [
      "\u001b[93msomething wrong when accessing final energy with error message: list index out of range\u001b[0m\n",
      "\u001b[93mold/gaussian_N2_pbe/surf_C1F1_09_06_1.8/surf_C1F1_09_06_1.8.log failed with message: local variable 'rmsd' referenced before assignment\u001b[0m\n",
      "\u001b[93msomething wrong when accessing final energy with error message: list index out of range\u001b[0m\n",
      "\u001b[93mold/gaussian_N2_pbe/surf_N1F1_07_09_1.4/surf_N1F1_07_09_1.4.log failed with message: local variable 'rmsd' referenced before assignment\u001b[0m\n",
      "\u001b[93msomething wrong when accessing final energy with error message: list index out of range\u001b[0m\n",
      "\u001b[93mold/gaussian_N2_pbe/surf_N1Ne1_07_10_1.4/surf_N1Ne1_07_10_1.4.log failed with message: local variable 'rmsd' referenced before assignment\u001b[0m\n",
      "[-86.44646745 -83.62612423 -81.43773701]\n",
      "[[5.         6.         1.13383559]\n",
      " [5.         6.         1.32280819]\n",
      " [5.         6.         1.51178079]]\n",
      "(735,) (735, 3)\n"
     ]
    }
   ],
   "source": [
    "E_list, X_list = get_surf_ZZR('old/gaussian_N2_pbe', 'surf_', ext='log', except_pattern='_c_')\n",
    "print E_list[:3]\n",
    "print X_list[:3, :]\n",
    "print E_list.shape, X_list.shape"
   ]
  },
  {
   "cell_type": "code",
   "execution_count": 12,
   "metadata": {},
   "outputs": [
    {
     "name": "stdout",
     "output_type": "stream",
     "text": [
      "\u001b[93msomething wrong when accessing final energy with error message: list index out of range\u001b[0m\n",
      "\u001b[93mold/gaussian_N2_pbe/surf_Be2_c_04_04_0.5/surf_Be2_c_04_04_0.5.log failed with message: local variable 'rmsd' referenced before assignment\u001b[0m\n",
      "[-89.14352026 -85.42005425 -82.73845723]\n",
      "[[5.         6.         0.94486299]\n",
      " [5.         6.         1.13383559]\n",
      " [5.         6.         1.32280819]]\n",
      "(784,) (784, 3)\n"
     ]
    }
   ],
   "source": [
    "E_list, X_list = get_surf_ZZR('old/gaussian_N2_pbe', 'surf_', ext='log', include_pattern='_c_')\n",
    "print E_list[:3]\n",
    "print X_list[:3, :]\n",
    "print E_list.shape, X_list.shape"
   ]
  },
  {
   "cell_type": "code",
   "execution_count": 13,
   "metadata": {
    "collapsed": true
   },
   "outputs": [],
   "source": [
    "def get_diff_ZZR(name_root, mol_flag=None, prefix='diff_', ext='log', quite=True, get_outarr=False):\n",
    "    \n",
    "    if mol_flag is None:\n",
    "        f_list = sorted(glob('%s/*/*.%s' % (name_root, ext)))\n",
    "    else:\n",
    "        f_list = sorted(glob('%s/%s%s*/*.%s' % (name_root, prefix, mol_flag, ext)))\n",
    "    \n",
    "    if quite:\n",
    "        qtk.setting.quiet=True\n",
    "    outs = []\n",
    "    for f in f_list:\n",
    "        outs.append(qtk.QMOut(f, program='gaussian'))\n",
    "    qtk.setting.quite=False\n",
    "    \n",
    "    E = np.zeros([3,3,3])\n",
    "    out_arr = np.zeros([3,3,3], dtype=object)\n",
    "    for out in outs:\n",
    "        if mol_flag is None:\n",
    "            i,j,k = map(int, list(os.path.splitext(out.name)[0].split('_')[1]))\n",
    "        else:\n",
    "            i,j,k = map(int, list(os.path.splitext(out.name)[0].split(mol_flag)[-1].split('_')[1]))\n",
    "        #print i,j,k, os.path.splitext(out.name)[0], out.energies\n",
    "        E[i,j,k] = out.Et - out.nuclear_repulsion\n",
    "        out_arr[i,j,k] = out\n",
    "    if get_outarr:\n",
    "        return E, out_arr\n",
    "    else:\n",
    "        return E"
   ]
  },
  {
   "cell_type": "code",
   "execution_count": 14,
   "metadata": {
    "collapsed": true
   },
   "outputs": [],
   "source": [
    "def diff2_3D(E, dx):\n",
    "    \"\"\"compute gradiant vector and hessian matrix\n",
    "       e.g. E: shape (3, 3, 3, 3), dx: shape (4, )\n",
    "       out: g: shape (4, ), hessian: shape(4, 4)\n",
    "       expect E with 3 points for each dimension\n",
    "    \"\"\"\n",
    "    \n",
    "    def f2i(ind):\n",
    "        \"\"\"convert np array to int tuple for indexing\"\"\"\n",
    "        return tuple(ind.astype(int).tolist())\n",
    "    \n",
    "    i0 = np.ones(len(dx))\n",
    "    g = np.zeros(len(dx))\n",
    "    h = np.zeros([len(dx), len(dx)])\n",
    "    for i in range(len(dx)):\n",
    "        ind_p = i0.copy()\n",
    "        ind_m = i0.copy()\n",
    "        ind_p[i] += 1\n",
    "        ind_m[i] -= 1 \n",
    "        dE_xi = (E[f2i(ind_p)] - E[f2i(ind_m)]) / (2 * dx[i])\n",
    "        g[i] = dE_xi\n",
    "        \n",
    "        for j in range(i, len(dx)):\n",
    "            if i == j:\n",
    "                dE_xixj = (E[f2i(ind_p)] - 2 * E[f2i(i0)] + E[f2i(ind_m)]) / (dx[i] ** 2)\n",
    "            else:\n",
    "                ind_pp = ind_p.copy()\n",
    "                ind_pp[j] += 1\n",
    "                ind_pm = ind_p.copy()\n",
    "                ind_pm[j] -= 1\n",
    "                ind_mp = ind_m.copy()\n",
    "                ind_mp[j] += 1\n",
    "                ind_mm = ind_m.copy()\n",
    "                ind_mm[j] -= 1\n",
    "                \n",
    "                dE_xixj = (\n",
    "                    (E[f2i(ind_pp)] - E[f2i(ind_pm)]) / (2 * dx[i]) - \\\n",
    "                    (E[f2i(ind_mp)] - E[f2i(ind_mm)]) / (2 * dx[i])\n",
    "                ) / (2 * dx[j])\n",
    "            \n",
    "            h[i,j] = h[j,i] = dE_xixj\n",
    "    return g, h"
   ]
  },
  {
   "cell_type": "code",
   "execution_count": 15,
   "metadata": {
    "collapsed": true
   },
   "outputs": [],
   "source": [
    "def diff_dN(out_arr, dx, base=[1,1,1], method='c'):\n",
    "    \n",
    "    b1, b2, b3 = base\n",
    "    out = out_arr[tuple(base)]\n",
    "    homo_i = out.molecule.ne() / 2 - 1\n",
    "    lumo_i = homo_i + 1\n",
    "    \n",
    "    def get_ew(out, ew_ind=homo_i):\n",
    "        return out.mo_eigenvalues[ew_ind]\n",
    "    \n",
    "    \n",
    "    E_homo = np.zeros([3,3,3])\n",
    "    E_lumo = np.zeros([3,3,3])\n",
    "    \n",
    "    for d1 in [-1,0,1]:\n",
    "        i = d1 + 1\n",
    "        for d2 in [-1,0,1]:\n",
    "            j = d2 + 1\n",
    "            for d3 in [-1,0,1]:\n",
    "                k = d3 + 1\n",
    "                out = out_arr[b1+d1, b2+d2, b3+d3]\n",
    "                \n",
    "                try:\n",
    "                    E_homo[i,j,k] = out.mo_eigenvalues[homo_i]\n",
    "                    E_lumo[i,j,k] = out.mo_eigenvalues[lumo_i]\n",
    "                except:\n",
    "                    print \"failed for %d,%d,%d\" % (i,j,k)\n",
    "                    E_homo[i,j,k] = np.nan\n",
    "                    E_lumo[i,j,k] = np.nan\n",
    "    \n",
    "    E_dN = (E_homo + E_lumo) / 2\n",
    "    \n",
    "    if method == 'c':\n",
    "        dNz1 = (E_dN[b1+1,b2,b3] - E_dN[b1-1,b2,b3]) / (2*dx[0])\n",
    "        dNz2 = (E_dN[b1,b2+1,b3] - E_dN[b1,b2-1,b3]) / (2*dx[1])\n",
    "        dNr  = (E_dN[b1,b2,b3+1] - E_dN[b1,b2,b3-1]) / (2*dx[2])\n",
    "    elif method == 'f':\n",
    "        dNz1 = (E_dN[b1+1,b2,b3] - E_dN[b1,b2,b3]) / (dx[0])\n",
    "        dNz2 = (E_dN[b1,b2+1,b3] - E_dN[b1,b2,b3]) / (dx[1])\n",
    "        dNr  = (E_dN[b1,b2,b3+1] - E_dN[b1,b2,b3]) / (dx[2])\n",
    "    elif method == 'b':\n",
    "        dNz1 = (E_dN[b1,b2,b3] - E_dN[b1-1,b2,b3]) / (dx[0])\n",
    "        dNz2 = (E_dN[b1,b2,b3] - E_dN[b1,b2-1,b3]) / (dx[1])\n",
    "        dNr  = (E_dN[b1,b2,b3] - E_dN[b1,b2,b3-1]) / (dx[2])\n",
    "    \n",
    "    dNN = (E_lumo[1,1,1] - E_homo[1,1,1]) / 2\n",
    "    \n",
    "    return E_dN[tuple(base)], np.array([dNz1, dNz2, dNr, dNN])"
   ]
  },
  {
   "cell_type": "markdown",
   "metadata": {},
   "source": [
    "## Gaussian to horton conversion for analytic first order derivative"
   ]
  },
  {
   "cell_type": "code",
   "execution_count": 60,
   "metadata": {
    "collapsed": true
   },
   "outputs": [],
   "source": [
    "data_root = 'gaussian_pbe_same_basis'\n",
    "fd_dx = [.05, .05, 0.01] # in Bohr!\n",
    "#E, outarr = get_diff_ZZR(data_root, 'HAl', 'diff_', 'log', quite=True, get_outarr=True)\n",
    "E, outarr = get_diff_ZZR(data_root, 'HeMg', 'diff_', 'log', quite=True, get_outarr=True)"
   ]
  },
  {
   "cell_type": "code",
   "execution_count": 61,
   "metadata": {},
   "outputs": [
    {
     "data": {
      "text/plain": [
       "array([[[-210.65495114, -210.6038711 , -210.55318684],\n",
       "        [-212.65828954, -212.6100714 , -212.55932614],\n",
       "        [-214.67787224, -214.6266725 , -214.57586784]],\n",
       "\n",
       "       [[-210.83435424, -210.7833519 , -210.73274354],\n",
       "        [-212.83919014, -212.7881272 , -212.73745814],\n",
       "        [-214.85442104, -214.8032992 , -214.75093744]],\n",
       "\n",
       "       [[-211.01841474, -210.9674897 , -210.91639314],\n",
       "        [-213.02182114, -212.9708358 , -212.92024274],\n",
       "        [-215.03561894, -214.9845751 , -214.93392364]]])"
      ]
     },
     "execution_count": 61,
     "metadata": {},
     "output_type": "execute_result"
    }
   ],
   "source": [
    "E"
   ]
  },
  {
   "cell_type": "code",
   "execution_count": 62,
   "metadata": {
    "scrolled": true
   },
   "outputs": [
    {
     "name": "stdout",
     "output_type": "stream",
     "text": [
      "diff_HeMg_000.log 4.77 18.25 E_kin and E_ext mismatched\n",
      "diff_HeMg_001.log 4.76 18.24 E_kin and E_ext mismatched\n",
      "diff_HeMg_002.log 4.76 18.22 E_kin and E_ext mismatched\n",
      "diff_HeMg_010.log 4.74 18.43 E_kin and E_ext mismatched\n",
      "diff_HeMg_011.log 4.79 18.37 E_kin and E_ext mismatched\n",
      "diff_HeMg_012.log 4.79 18.35 E_kin and E_ext mismatched\n",
      "diff_HeMg_100.log 4.72 18.23 E_kin and E_ext mismatched\n",
      "diff_HeMg_101.log 4.71 18.21 E_kin and E_ext mismatched\n",
      "diff_HeMg_102.log 4.71 18.20 E_kin and E_ext mismatched\n"
     ]
    }
   ],
   "source": [
    "def get_htarr(outarr, run=False, run_all=False):\n",
    "    htarr = []\n",
    "    for out in outarr.ravel():\n",
    "        if run or run_all:\n",
    "            hto = out.as_horton(reinitialize=True, theory='pbe')\n",
    "        else:\n",
    "            hto = out.as_horton()\n",
    "\n",
    "        if not run_all:\n",
    "            Ek = hto.e_kin() \n",
    "            Ev = hto.e_ext()\n",
    "            dEk = abs(Ek - out.energies['Ekin'])\n",
    "            dEv = abs(Ev - out.energies['Eext'])\n",
    "            if dEk > 1E-5 or dEv > 1E-5:\n",
    "                diff = True\n",
    "                print \"%s %3.2f %3.2f %s\" % (out.name, dEk, dEv, \"E_kin and E_ext mismatched\")\n",
    "\n",
    "                if run:\n",
    "                    try:\n",
    "                        hto.run()\n",
    "                        print \"%s %3.2f %3.2f\" % (out.name, out.Et, hto.Et)\n",
    "                    except:\n",
    "                        try:\n",
    "                            hto.initialize()\n",
    "                            hto.run()\n",
    "                            print \"%s g09:%3.2f horton:%3.2f initial run failed\" % (out.name, out.Et, hto.Et),\n",
    "                            print \" %3.2f %3.2f\" % (Ek, hto.e_kin())\n",
    "                        except Exception as err:\n",
    "                            print \"rerun failed with err: %s\" % str(err)\n",
    "        else:\n",
    "            hto.initialize()\n",
    "            print \"%s \" % out.name,\n",
    "            hto.run()\n",
    "            dE = abs(out.Et - hto.Et)\n",
    "            print \"g09:%3.2f horton:%3.2f, dE:%7.1E\" % (out.Et, hto.Et, dE)\n",
    "        htarr.append(hto)\n",
    "    return np.array(htarr).reshape(outarr.shape)\n",
    "htarr = get_htarr(outarr)"
   ]
  },
  {
   "cell_type": "code",
   "execution_count": 63,
   "metadata": {
    "collapsed": true
   },
   "outputs": [],
   "source": [
    "def get_ht_d1Earr(htarr, dz1=-1, dz2=1):\n",
    "    d1E = []\n",
    "    for hto in htarr.ravel():\n",
    "        R = hto.molecule.R.tolist()\n",
    "        dZ = np.array([dz1, dz2])\n",
    "        ZR = np.hstack([dZ[:, np.newaxis], R])\n",
    "        dV_ao = hto.dV_ao_ZRCoords(ZR)\n",
    "        d1E.append(hto.d1E(dV_ao))\n",
    "    return np.asarray(d1E).reshape(htarr.shape)\n",
    "\n",
    "def get_ht_d1E_zz(htarr):\n",
    "    d1E_z1 = get_ht_d1Earr(htarr, 1,0)\n",
    "    d1E_z2 = get_ht_d1Earr(htarr, 0,1)\n",
    "    return d1E_z1[1,1,1], d1E_z2[1,1,1]\n",
    "\n",
    "d1E_z1 = get_ht_d1Earr(htarr, 1,0)\n",
    "d1E_z2 = get_ht_d1Earr(htarr, 0,1)"
   ]
  },
  {
   "cell_type": "code",
   "execution_count": 103,
   "metadata": {},
   "outputs": [
    {
     "data": {
      "text/plain": [
       "array([[[-8.21984176, -8.19406569, -8.16853625],\n",
       "        [-8.21574204, -8.19773357, -8.17215422],\n",
       "        [-9.31003766, -9.2835373 , -9.25727409]],\n",
       "\n",
       "       [[-8.29989288, -8.27409742, -8.24854827],\n",
       "        [-9.40658334, -9.38018719, -9.35402833],\n",
       "        [-9.40213148, -9.37562562, -9.36739241]],\n",
       "\n",
       "       [[-9.50500743, -9.47871621, -9.46337594],\n",
       "        [-9.50053761, -9.4741365 , -9.4479763 ],\n",
       "        [-9.49600118, -9.46949294, -9.44322889]]])"
      ]
     },
     "execution_count": 103,
     "metadata": {},
     "output_type": "execute_result"
    }
   ],
   "source": [
    "d1E_z1"
   ]
  },
  {
   "cell_type": "code",
   "execution_count": 104,
   "metadata": {},
   "outputs": [
    {
     "data": {
      "text/plain": [
       "array([[[-39.61590918, -39.61130308, -39.60672597],\n",
       "        [-39.81279007, -39.81278994, -39.80818828],\n",
       "        [-41.37977488, -41.37406724, -41.3683991 ]],\n",
       "\n",
       "       [[-39.6199719 , -39.61530286, -39.61066339],\n",
       "        [-41.16749137, -41.16163939, -41.15582888],\n",
       "        [-41.37531752, -41.36949991, -41.35942645]],\n",
       "\n",
       "       [[-40.95512985, -40.94913051, -40.94049081],\n",
       "        [-41.16303541, -41.15707291, -41.15115548],\n",
       "        [-41.37078762, -41.3648614 , -41.35898076]]])"
      ]
     },
     "execution_count": 104,
     "metadata": {},
     "output_type": "execute_result"
    }
   ],
   "source": [
    "d1E_z2"
   ]
  },
  {
   "cell_type": "code",
   "execution_count": 68,
   "metadata": {
    "collapsed": true
   },
   "outputs": [],
   "source": [
    "def get_ht_d2E_zz(htarr, dx, method='f'):\n",
    "    b1, b2, b3 = [1,1,1]\n",
    "    if method == 'f':\n",
    "        c1, c2, c3 = [1,1,1]\n",
    "        factor = 1.\n",
    "    elif method == 'c':\n",
    "        c1, c2, c3 = [0,0,0]\n",
    "        factor = 2.\n",
    "    \n",
    "    d1E_z1 = get_ht_d1Earr(htarr, 1,0)\n",
    "    d1E_z2 = get_ht_d1Earr(htarr, 0,1)\n",
    "    \n",
    "    dE_z1z1 = (d1E_z1[ 2, b2, b3] - d1E_z1[c1, b2, b3]) / (factor * dx[0])\n",
    "    dE_z1z2 = (d1E_z1[b1,  2, b3] - d1E_z1[b1, c2, b3]) / (factor * dx[1])\n",
    "    dE_z2z2 = (d1E_z2[b1,  2, b3] - d1E_z2[b1, c2, b3]) / (factor * dx[1])\n",
    "    dE_z2z1 = (d1E_z2[ 2, b2, b3] - d1E_z2[c1, b2, b3]) / (factor * dx[0])\n",
    "    dE_mix = (dE_z1z2 + dE_z2z1) / 2.\n",
    "    \n",
    "    d2E = np.array([\n",
    "        [dE_z1z1, dE_mix ],\n",
    "        [dE_mix , dE_z2z2]\n",
    "    ])\n",
    "    return d2E"
   ]
  },
  {
   "cell_type": "code",
   "execution_count": 101,
   "metadata": {},
   "outputs": [
    {
     "name": "stdout",
     "output_type": "stream",
     "text": [
      "-9.380187185910446\n",
      "-41.16163938700751\n"
     ]
    },
    {
     "data": {
      "text/plain": [
       "array([[-1.87898637,  0.09128037],\n",
       "       [ 0.09128037, -4.15721042]])"
      ]
     },
     "execution_count": 101,
     "metadata": {},
     "output_type": "execute_result"
    }
   ],
   "source": [
    "print d1E_z1[1,1,1]\n",
    "print d1E_z2[1,1,1]\n",
    "get_ht_d2E_zz(htarr, fd_dx)"
   ]
  },
  {
   "cell_type": "markdown",
   "metadata": {},
   "source": [
    "## final wrapper"
   ]
  },
  {
   "cell_type": "code",
   "execution_count": 21,
   "metadata": {
    "collapsed": true
   },
   "outputs": [],
   "source": [
    "def grad_pad_4D(g, h, dN, dN2):\n",
    "    g_4D = np.hstack([g, dN])\n",
    "    h_1 = np.vstack([h, dN2[:3]])\n",
    "    h_4D = np.hstack([h_1, dN2[:, np.newaxis]])\n",
    "    return g_4D, h_4D"
   ]
  },
  {
   "cell_type": "code",
   "execution_count": 22,
   "metadata": {
    "collapsed": true
   },
   "outputs": [],
   "source": [
    "def grad_4D(name_root, dx, mol_flag=None, prefix='diff_', ext='log', method='c', horton=False, run=False):\n",
    "    \"\"\"wrapper for getting 4D derivatives from file\"\"\"\n",
    "    E, out_arr = get_diff_ZZR(name_root, mol_flag, prefix, ext, quite=True, get_outarr=True)\n",
    "    g, h = diff2_3D(E, dx)\n",
    "    if horton:\n",
    "        htarr = get_htarr(out_arr, run=run)\n",
    "        g_ht = get_ht_d1E_zz(htarr)\n",
    "        h_ht = get_ht_d2E_zz(htarr, dx, method=method)\n",
    "        g[:2] = g_ht\n",
    "        h[:2, :2] = h_ht\n",
    "    gN, hN = diff_dN(out_arr, dx, method=method)\n",
    "    return grad_pad_4D(g, h, gN, hN)"
   ]
  },
  {
   "cell_type": "markdown",
   "metadata": {},
   "source": [
    "## interface test"
   ]
  },
  {
   "cell_type": "code",
   "execution_count": 23,
   "metadata": {},
   "outputs": [
    {
     "name": "stdout",
     "output_type": "stream",
     "text": [
      "failed for 0,1,1\n",
      "[-18.287127   -18.287127    21.44825495  -0.20629954]\n",
      "[[ -1.87756      0.50777      0.279875    -0.47285301]\n",
      " [  0.50777     -1.87756      0.279875    -0.47285301]\n",
      " [  0.279875     0.279875   -33.19024899  -0.19919472]\n",
      " [ -0.47285301  -0.47285301  -0.19919472   0.15230449]]\n",
      "failed for 0,1,1\n",
      "[-18.287127   -18.287127    21.44825495  -0.20629954]\n",
      "[[ -1.87756      0.50777      0.279875    -0.47285301]\n",
      " [  0.50777     -1.87756      0.279875    -0.47285301]\n",
      " [  0.279875     0.279875   -33.19024899  -0.19919472]\n",
      " [ -0.47285301  -0.47285301  -0.19919472   0.15230449]]\n",
      "[[-8.70790178e-03  7.07106781e-01  6.61253824e-01 -2.50334881e-01]\n",
      " [-8.70790178e-03 -7.07106781e-01  6.61253824e-01 -2.50334881e-01]\n",
      " [ 9.99907777e-01  5.55111512e-17  9.48961975e-03 -9.71519173e-03]\n",
      " [ 5.72562018e-03  8.88178420e-16  3.54113975e-01  9.35184747e-01]]\n",
      "[-18.287127   -18.287127    11.31072856  -0.20629954]\n",
      "[[-1.87756     0.50777     0.14875    -0.47163264]\n",
      " [ 0.50777    -1.87756     0.14875    -0.47163264]\n",
      " [ 0.14875     0.14875    -9.28987925 -0.11800362]\n",
      " [-0.47163264 -0.47163264 -0.11800362  0.15230449]]\n",
      "[-18.287127   -18.287127    11.31072856  -0.20629954]\n",
      "[[-1.87756     0.50777     0.14875    -0.47163264]\n",
      " [ 0.50777    -1.87756     0.14875    -0.47163264]\n",
      " [ 0.14875     0.14875    -9.28987925 -0.11800362]\n",
      " [-0.47163264 -0.47163264 -0.11800362  0.15230449]]\n"
     ]
    }
   ],
   "source": [
    "def test_old_data_files():\n",
    "    dx_test = [0.05, 0.05, 0.1]\n",
    "    E_N2, out_arr_N2 = get_diff_ZZR('old/N2_3D_diff_production', ext='out', get_outarr=True)\n",
    "    g_N2, h_N2 = diff2_3D(E_N2, dx_test)\n",
    "    g_dN, h_dN = diff_dN(out_arr_N2, dx_test, method='f')\n",
    "    g4, h4 = grad_pad_4D(g_N2, h_N2, g_dN, h_dN)\n",
    "    print g4\n",
    "    print h4\n",
    "\n",
    "    dx_test = [0.05, 0.05, 0.1]\n",
    "    g4, h4 = grad_4D('old/N2_3D_diff_production', dx_test, ext='out', method='f')\n",
    "    print g4\n",
    "    print h4\n",
    "    w, v = np.linalg.eigh(h4)\n",
    "    print v\n",
    "    \n",
    "def test_combined_format():\n",
    "    fd_dx = [0.05, 0.05, 0.01] # in Bohr!\n",
    "    E_N2, out_arr_N2 = get_diff_ZZR('old/gaussian_N2_pbe', 'N2', get_outarr=True)\n",
    "    g_N2, h_N2 = diff2_3D(E_N2, fd_dx)\n",
    "    g_N2_dN, h_N2_dN = diff_dN(out_arr_N2, fd_dx)\n",
    "    g_N2_4D, h_N2_4D = grad_pad_4D(g_N2, h_N2, g_N2_dN, h_N2_dN)\n",
    "    print g_N2_4D\n",
    "    print h_N2_4D\n",
    "\n",
    "    g4, h4 = grad_4D('old/gaussian_N2_pbe', fd_dx, 'N2')\n",
    "    print g4\n",
    "    print h4\n",
    "    \n",
    "test_old_data_files()\n",
    "test_combined_format()"
   ]
  },
  {
   "cell_type": "markdown",
   "metadata": {},
   "source": [
    "## derivative data"
   ]
  },
  {
   "cell_type": "code",
   "execution_count": 70,
   "metadata": {},
   "outputs": [
    {
     "name": "stdout",
     "output_type": "stream",
     "text": [
      "finite difference with:  [0.05, 0.05, 0.01]\n",
      "data folder: gaussian_pbe_same_basis\n",
      "diff_N2_000.log 4.56 20.36 E_kin and E_ext mismatched\n",
      "diff_N2_001.log 4.55 20.33 E_kin and E_ext mismatched\n",
      "diff_N2_002.log 4.55 20.31 E_kin and E_ext mismatched\n",
      "diff_N2_010.log 4.60 20.50 E_kin and E_ext mismatched\n",
      "diff_N2_011.log 4.59 20.47 E_kin and E_ext mismatched\n",
      "diff_N2_012.log 4.59 20.45 E_kin and E_ext mismatched\n",
      "diff_N2_100.log 4.60 20.50 E_kin and E_ext mismatched\n",
      "diff_N2_101.log 4.59 20.47 E_kin and E_ext mismatched\n",
      "diff_N2_102.log 4.59 20.45 E_kin and E_ext mismatched\n",
      "diff_CO_000.log 4.09 17.94 E_kin and E_ext mismatched\n",
      "diff_CO_001.log 4.09 17.93 E_kin and E_ext mismatched\n",
      "diff_CO_002.log 4.10 17.93 E_kin and E_ext mismatched\n",
      "diff_CO_010.log 4.11 18.01 E_kin and E_ext mismatched\n",
      "diff_CO_011.log 4.12 18.00 E_kin and E_ext mismatched\n",
      "diff_CO_012.log 4.12 17.99 E_kin and E_ext mismatched\n",
      "diff_CO_100.log 4.14 18.15 E_kin and E_ext mismatched\n",
      "diff_CO_101.log 4.15 18.15 E_kin and E_ext mismatched\n",
      "diff_CO_102.log 4.15 18.14 E_kin and E_ext mismatched\n",
      "diff_BF_000.log 3.62 15.47 E_kin and E_ext mismatched\n",
      "diff_BF_001.log 3.62 15.46 E_kin and E_ext mismatched\n",
      "diff_BF_002.log 3.63 15.45 E_kin and E_ext mismatched\n",
      "diff_BF_010.log 3.63 15.53 E_kin and E_ext mismatched\n",
      "diff_BF_011.log 3.64 15.52 E_kin and E_ext mismatched\n",
      "diff_BF_012.log 3.65 15.52 E_kin and E_ext mismatched\n",
      "diff_BF_100.log 3.65 15.63 E_kin and E_ext mismatched\n",
      "diff_BF_101.log 3.66 15.63 E_kin and E_ext mismatched\n",
      "diff_BF_102.log 3.66 15.62 E_kin and E_ext mismatched\n",
      "diff_BeNe_000.log 3.09 15.21 E_kin and E_ext mismatched\n",
      "diff_BeNe_001.log 3.08 15.17 E_kin and E_ext mismatched\n",
      "diff_BeNe_002.log 3.48 13.76 E_kin and E_ext mismatched\n",
      "diff_BeNe_010.log 3.09 15.26 E_kin and E_ext mismatched\n",
      "diff_BeNe_011.log 3.08 15.23 E_kin and E_ext mismatched\n",
      "diff_BeNe_012.log 3.07 15.19 E_kin and E_ext mismatched\n",
      "diff_BeNe_100.log 3.49 13.94 E_kin and E_ext mismatched\n",
      "diff_BeNe_101.log 3.10 15.28 E_kin and E_ext mismatched\n",
      "diff_BeNe_102.log 3.09 15.24 E_kin and E_ext mismatched\n",
      "diff_LiNa_000.log 3.33 15.33 E_kin and E_ext mismatched\n",
      "diff_LiNa_001.log 3.33 15.30 E_kin and E_ext mismatched\n",
      "diff_LiNa_002.log 3.32 15.27 E_kin and E_ext mismatched\n",
      "diff_LiNa_010.log 3.36 15.45 E_kin and E_ext mismatched\n",
      "diff_LiNa_011.log 3.35 15.41 E_kin and E_ext mismatched\n",
      "diff_LiNa_012.log 3.35 15.38 E_kin and E_ext mismatched\n",
      "diff_LiNa_100.log 3.32 15.36 E_kin and E_ext mismatched\n",
      "diff_LiNa_101.log 3.31 15.33 E_kin and E_ext mismatched\n",
      "diff_LiNa_102.log 3.30 15.30 E_kin and E_ext mismatched\n",
      "diff_HeMg_000.log 4.77 18.25 E_kin and E_ext mismatched\n",
      "diff_HeMg_001.log 4.76 18.24 E_kin and E_ext mismatched\n",
      "diff_HeMg_002.log 4.76 18.22 E_kin and E_ext mismatched\n",
      "diff_HeMg_010.log 4.74 18.43 E_kin and E_ext mismatched\n",
      "diff_HeMg_011.log 4.79 18.37 E_kin and E_ext mismatched\n",
      "diff_HeMg_012.log 4.79 18.35 E_kin and E_ext mismatched\n",
      "diff_HeMg_100.log 4.72 18.23 E_kin and E_ext mismatched\n",
      "diff_HeMg_101.log 4.71 18.21 E_kin and E_ext mismatched\n",
      "diff_HeMg_102.log 4.71 18.20 E_kin and E_ext mismatched\n",
      "diff_HAl_000.log 5.44 20.54 E_kin and E_ext mismatched\n",
      "diff_HAl_001.log 5.44 20.53 E_kin and E_ext mismatched\n",
      "diff_HAl_002.log 5.44 20.53 E_kin and E_ext mismatched\n",
      "diff_HAl_010.log 6.40 21.91 E_kin and E_ext mismatched\n",
      "diff_HAl_011.log 6.41 21.92 E_kin and E_ext mismatched\n",
      "diff_HAl_012.log 6.42 21.92 E_kin and E_ext mismatched\n",
      "diff_HAl_100.log 6.43 21.88 E_kin and E_ext mismatched\n",
      "diff_HAl_101.log 5.42 20.56 E_kin and E_ext mismatched\n",
      "diff_HAl_102.log 6.44 21.90 E_kin and E_ext mismatched\n"
     ]
    }
   ],
   "source": [
    "#data_root = 'gaussian_N2_pbe'\n",
    "# g_N2, h_N2 = grad_4D(data_root, fd_dx, 'N2')\n",
    "# g_CO, h_CO = grad_4D(data_root, fd_dx, 'C1O1') # note: generated name comes with number\n",
    "# g_BF, h_BF = grad_4D(data_root, fd_dx, 'B1F1')\n",
    "#data_root = 'gaussian_N2_pbe_H-Al'\n",
    "#data_root = 'gaussian_diff_largedZ'\n",
    "#data_root = 'gaussian_diff_dZ03'\n",
    "data_root = 'gaussian_pbe_same_basis'\n",
    "fd_dx = [.05, .05, 0.01] # in Bohr!\n",
    "\n",
    "#sys = ['N2', 'C1O1', 'B1F1', 'Be1Ne1', 'Li1Na1', 'He1Mg1', 'H1Al1']\n",
    "sys = ['N2', 'CO', 'BF', 'BeNe', 'LiNa', 'HeMg', 'HAl']\n",
    "\n",
    "print \"finite difference with: \", str(fd_dx)\n",
    "print 'data folder:', data_root\n",
    "\n",
    "g_list, h_list = [], []\n",
    "for s in sys:\n",
    "    g, h = grad_4D(data_root, fd_dx, s, horton=True, method='f')\n",
    "    g_list.append(g)\n",
    "    h_list.append(h)\n",
    "g_list = np.asarray(g_list)\n",
    "h_list = np.asarray(h_list)"
   ]
  },
  {
   "cell_type": "code",
   "execution_count": 94,
   "metadata": {},
   "outputs": [
    {
     "data": {
      "text/plain": [
       "array([[-21.9, -21.9,  11.4,  -0.1],\n",
       "       [-18.8, -25.3,  11.1,   0. ],\n",
       "       [-16.2, -29. ,  10.1,   0.2],\n",
       "       [-13.6, -33. ,   4.6,   0.4],\n",
       "       [-11.5, -37. ,   7. ,   0.6],\n",
       "       [ -9.4, -41.2,   5.1,   0.6],\n",
       "       [ -7.8, -45.5,   2.7,   0.5]])"
      ]
     },
     "execution_count": 94,
     "metadata": {},
     "output_type": "execute_result"
    }
   ],
   "source": [
    "np.round(g_list, decimals=1)"
   ]
  },
  {
   "cell_type": "code",
   "execution_count": 72,
   "metadata": {},
   "outputs": [
    {
     "data": {
      "text/plain": [
       "array([[-21.9, -21.9,  11.4,  -0.1],\n",
       "       [-18.8, -25.3,  11.1,   0. ],\n",
       "       [-16.2, -29. ,  10.1,   0.2],\n",
       "       [-13.6, -33. ,   4.6,   0.4],\n",
       "       [-11.5, -37. ,   7. ,   0.6],\n",
       "       [ -9.4, -41.2,   5.1,   0.6],\n",
       "       [ -7.8, -45.5,   2.7,   0.5]])"
      ]
     },
     "execution_count": 72,
     "metadata": {},
     "output_type": "execute_result"
    }
   ],
   "source": [
    "np.round(g_list, decimals=1)"
   ]
  },
  {
   "cell_type": "code",
   "execution_count": 88,
   "metadata": {},
   "outputs": [
    {
     "data": {
      "text/plain": [
       "array([-2.22410625e+00, -4.48294114e-03, -3.30261500e+01, -6.94468140e-01])"
      ]
     },
     "execution_count": 88,
     "metadata": {},
     "output_type": "execute_result"
    }
   ],
   "source": [
    "h_list[3:][0,0]"
   ]
  },
  {
   "cell_type": "code",
   "execution_count": 100,
   "metadata": {},
   "outputs": [
    {
     "data": {
      "text/plain": [
       "array([[[-2.2, -0. ],\n",
       "        [-0. , -3.9]],\n",
       "\n",
       "       [[-2.1,  0. ],\n",
       "        [ 0. , -4.1]],\n",
       "\n",
       "       [[-1.9,  0.1],\n",
       "        [ 0.1, -4.2]],\n",
       "\n",
       "       [[-1. , -0.9],\n",
       "        [-0.9, -2. ]]])"
      ]
     },
     "execution_count": 100,
     "metadata": {},
     "output_type": "execute_result"
    }
   ],
   "source": [
    "np.round(h_list[-4:,:2,:2], decimals=1)"
   ]
  },
  {
   "cell_type": "code",
   "execution_count": 92,
   "metadata": {},
   "outputs": [
    {
     "data": {
      "text/plain": [
       "array([[-1.00121342e+00, -9.05374249e-01,  6.27239500e+01,\n",
       "        -4.32196450e-01],\n",
       "       [-9.05374249e-01, -2.01823195e+00,  9.25000001e-03,\n",
       "        -1.66671995e+00],\n",
       "       [ 6.27239500e+01,  9.25000001e-03, -2.05374347e+00,\n",
       "         4.78075000e-03],\n",
       "       [-4.32196450e-01, -1.66671995e+00,  4.78075000e-03,\n",
       "        -1.79942550e-02]])"
      ]
     },
     "execution_count": 92,
     "metadata": {},
     "output_type": "execute_result"
    }
   ],
   "source": [
    "h_list[-1]"
   ]
  },
  {
   "cell_type": "code",
   "execution_count": 93,
   "metadata": {
    "collapsed": true
   },
   "outputs": [],
   "source": [
    "np.savez('gaussian_pbe_same_basis.npz', \n",
    "         g_list=g_list, h_list=h_list,\n",
    "         dx=fd_dx,\n",
    "        )"
   ]
  },
  {
   "cell_type": "code",
   "execution_count": 37,
   "metadata": {},
   "outputs": [
    {
     "data": {
      "text/plain": [
       "array([[[-1.87977333e+00,  5.08799444e-01,  1.47625000e-01,\n",
       "         -4.72113259e-01],\n",
       "        [ 5.08799444e-01, -1.87977333e+00,  1.47625000e-01,\n",
       "         -4.72113262e-01],\n",
       "        [ 1.47625000e-01,  1.47625000e-01, -9.28987925e+00,\n",
       "         -1.18003620e-01],\n",
       "        [-4.72113259e-01, -4.72113262e-01, -1.18003620e-01,\n",
       "          1.52304489e-01]],\n",
       "\n",
       "       [[-1.52117889e+00,  4.90504444e-01,  1.91991667e-01,\n",
       "         -4.82141320e-01],\n",
       "        [ 4.90504444e-01, -2.27099222e+00,  4.69416667e-02,\n",
       "         -4.13897489e-01],\n",
       "        [ 1.91991667e-01,  4.69416667e-02, -9.11951437e+00,\n",
       "         -1.36085442e-01],\n",
       "        [-4.82141320e-01, -4.13897489e-01, -1.36085442e-01,\n",
       "          1.34473760e-01]],\n",
       "\n",
       "       [[-1.30407222e+00,  4.36179167e-01,  1.52800000e-01,\n",
       "         -4.26641306e-01],\n",
       "        [ 4.36179167e-01, -2.51670111e+00, -6.62166667e-02,\n",
       "         -3.41968328e-01],\n",
       "        [ 1.52800000e-01, -6.62166667e-02, -8.49141972e+00,\n",
       "         -8.99909625e-02],\n",
       "        [-4.26641306e-01, -3.41968328e-01, -8.99909625e-02,\n",
       "          9.49684522e-02]],\n",
       "\n",
       "       [[-1.07413333e+00,  3.98314444e-01,  3.22333333e-02,\n",
       "         -3.26383086e-01],\n",
       "        [ 3.98314444e-01, -2.70301444e+00, -7.42333333e-02,\n",
       "         -2.81790077e-01],\n",
       "        [ 3.22333333e-02, -7.42333333e-02, -7.30359531e+00,\n",
       "         -1.80111850e-02],\n",
       "        [-3.26383086e-01, -2.81790077e-01, -1.80111850e-02,\n",
       "          5.57203562e-02]],\n",
       "\n",
       "       [[-1.90593333e+00,  3.59836389e-01, -6.41000000e-02,\n",
       "         -2.29006037e-01],\n",
       "        [ 3.59836389e-01, -1.38962000e+00, -4.35416667e-02,\n",
       "         -2.33184461e-01],\n",
       "        [-6.41000000e-02, -4.35416667e-02, -5.79204113e+00,\n",
       "          1.87355000e-03],\n",
       "        [-2.29006037e-01, -2.33184461e-01,  1.87355000e-03,\n",
       "          3.46529706e-02]],\n",
       "\n",
       "       [[-1.83847444e+00,  3.45433333e-01, -8.72916667e-02,\n",
       "         -2.39197332e-01],\n",
       "        [ 3.45433333e-01, -1.13998889e+00,  2.81250000e-02,\n",
       "         -2.51858429e-01],\n",
       "        [-8.72916667e-02,  2.81250000e-02, -3.97875718e+00,\n",
       "          7.48731750e-03],\n",
       "        [-2.39197332e-01, -2.51858429e-01,  7.48731750e-03,\n",
       "          3.57600199e-02]],\n",
       "\n",
       "       [[-1.39163111e+00,  2.63236667e-01, -2.38458333e-01,\n",
       "         -2.65626986e-01],\n",
       "        [ 2.63236667e-01, -1.21188556e+00,  4.37083333e-02,\n",
       "         -2.99866333e-01],\n",
       "        [-2.38458333e-01,  4.37083333e-02, -2.00274348e+00,\n",
       "         -6.84086750e-03],\n",
       "        [-2.65626986e-01, -2.99866333e-01, -6.84086750e-03,\n",
       "          3.58679694e-02]]])"
      ]
     },
     "execution_count": 37,
     "metadata": {},
     "output_type": "execute_result"
    }
   ],
   "source": [
    "h_list"
   ]
  },
  {
   "cell_type": "markdown",
   "metadata": {},
   "source": [
    "## 3D surface scan"
   ]
  },
  {
   "cell_type": "code",
   "execution_count": 41,
   "metadata": {
    "collapsed": true
   },
   "outputs": [],
   "source": [
    "E_N2_small_neutral, X_N2_small_neutral = get_surf_ZZR(data_root, 'surf_', ext='log', except_pattern='_c_')\n",
    "E_N2_small_charged, X_N2_small_charged = get_surf_ZZR(data_root, 'surf_', ext='log', include_pattern='_c_')"
   ]
  },
  {
   "cell_type": "code",
   "execution_count": 42,
   "metadata": {},
   "outputs": [
    {
     "data": {
      "text/plain": [
       "(2535,)"
      ]
     },
     "execution_count": 42,
     "metadata": {},
     "output_type": "execute_result"
    }
   ],
   "source": [
    "E_N2_small_neutral.shape"
   ]
  },
  {
   "cell_type": "code",
   "execution_count": 43,
   "metadata": {},
   "outputs": [
    {
     "data": {
      "text/plain": [
       "(2535,)"
      ]
     },
     "execution_count": 43,
     "metadata": {},
     "output_type": "execute_result"
    }
   ],
   "source": [
    "E_N2_small_charged.shape"
   ]
  },
  {
   "cell_type": "code",
   "execution_count": 45,
   "metadata": {
    "collapsed": true
   },
   "outputs": [],
   "source": [
    "np.savez('gaussian_N2_pbe_H-Al.npz', \n",
    "         E_neutral=E_N2_small_neutral, X_neutral=X_N2_small_neutral,\n",
    "         E_charged=E_N2_small_charged, X_charged=X_N2_small_charged,\n",
    "         g_list=g_list, h_list=h_list,\n",
    "#          g_N2=g_N2, g_CO=g_CO, g_BF=g_BF,\n",
    "#          h_N2=h_N2, h_CO=h_CO, h_BF=h_BF,\n",
    "         dx=fd_dx,\n",
    "        )"
   ]
  },
  {
   "cell_type": "markdown",
   "metadata": {},
   "source": [
    "# N2 ZR crossection (old)"
   ]
  },
  {
   "cell_type": "markdown",
   "metadata": {},
   "source": [
    "## input generation"
   ]
  },
  {
   "cell_type": "code",
   "execution_count": 3,
   "metadata": {},
   "outputs": [
    {
     "name": "stdout",
     "output_type": "stream",
     "text": [
      "all done\n"
     ]
    }
   ],
   "source": [
    "# construct dataset ZR\n",
    "\n",
    "Z_A = range(1, 14)\n",
    "Z_B = deepcopy(Z_A)\n",
    "Z_B.reverse()\n",
    "\n",
    "mols = []\n",
    "inps = []\n",
    "for i in range(len(Z_A)):\n",
    "    Z1, Z2 = Z_A[i], Z_B[i]\n",
    "    #print \"processing (%d, %d)\" % (Z1, Z2)\n",
    "    for d in np.linspace(0.5, 2, 10):\n",
    "        mol = qtk.Molecule()\n",
    "        mol.build([[Z1,0,0,0], [Z2,d,0,0]])\n",
    "        mol.name = mol.name + '_%02d_%4.2f' % (Z1, d)\n",
    "        # construct horton input object \n",
    "        # and compute AO integrals for initialization\n",
    "        job = qtk.QMInp(mol, **qmsetting_production_ccsdt)\n",
    "        mols.append(mol)\n",
    "        inps.append(job)\n",
    "print \"all done\""
   ]
  },
  {
   "cell_type": "markdown",
   "metadata": {},
   "source": [
    "## output extraction"
   ]
  },
  {
   "cell_type": "code",
   "execution_count": 4,
   "metadata": {
    "collapsed": true
   },
   "outputs": [],
   "source": [
    "# save data into numpy format\n",
    "outs = []\n",
    "for f in sorted(glob('N2_RZ_production_ccsdt_run/*/*.out')):\n",
    "    outs.append(qtk.QMOut(f, program='gaussian'))\n",
    "\n",
    "dZ = []\n",
    "E = []\n",
    "for out in outs:\n",
    "    #_, Z1, Z2 = os.path.splitext(out.name)[0].split('_')\n",
    "    Z1, d = out.molecule.Z[0], out.molecule.R[1][0]\n",
    "    dZ.append([int(Z1) - 7, d])\n",
    "    E.append(out.Et - out.nuclear_repulsion)\n",
    "dZ = np.array(dZ)\n",
    "E = np.array(E)\n",
    "np.savez('data_N2_RZ_ccsdt.npz', E=E, X=dZ, axes=['dZ1', 'R'])"
   ]
  },
  {
   "cell_type": "markdown",
   "metadata": {},
   "source": [
    "# N2 ZZ crossection"
   ]
  },
  {
   "cell_type": "markdown",
   "metadata": {},
   "source": [
    "## input generation"
   ]
  },
  {
   "cell_type": "code",
   "execution_count": 46,
   "metadata": {},
   "outputs": [
    {
     "data": {
      "text/plain": [
       "[1, 2, 3, 4, 5, 6, 7, 8, 9, 10, 11, 12]"
      ]
     },
     "execution_count": 46,
     "metadata": {},
     "output_type": "execute_result"
    }
   ],
   "source": [
    "range(1, 14)[0:-(0+1)]"
   ]
  },
  {
   "cell_type": "code",
   "execution_count": 7,
   "metadata": {},
   "outputs": [
    {
     "name": "stdout",
     "output_type": "stream",
     "text": [
      "all done\n"
     ]
    }
   ],
   "source": [
    "# construct dataset Z\n",
    "cut = 3\n",
    "ref_d = 1.1\n",
    "Z_A_full = range(1, 14)[cut:-cut]\n",
    "Z_B_full = deepcopy(Z_A_full)\n",
    "Z_B_full.reverse()\n",
    "\n",
    "mols_full = []\n",
    "inps_full = []\n",
    "for Z1 in Z_A_full:\n",
    "    for Z2 in Z_B_full:\n",
    "        #print \"processing (%d, %d)\" % (Z1, Z2)\n",
    "        # choose d ~ N2 bond length of 1.0975\n",
    "        #d = 1.1\n",
    "        d = ref_d\n",
    "        mol = qtk.Molecule()\n",
    "        mol.build([[Z1,0,0,0], [Z2,d,0,0]])\n",
    "        mol.name = mol.name + '_%02d_%02d' % (Z1, Z2)\n",
    "        # construct horton input object \n",
    "        # and compute AO integrals for initialization\n",
    "        #mol.charge = Z1 + Z2 - 14\n",
    "        if (Z1 + Z2) % 2 == 1:\n",
    "            mol.setChargeMultiplicity(0, 2)\n",
    "        #job = qtk.QMInp(mol, **qmsetting_test)\n",
    "        #job = qtk.QMInp(mol, **qmsetting_production)\n",
    "        job = qtk.QMInp(mol, **qmsetting_production_ccsdt)\n",
    "        inps_full.append(job)\n",
    "        mols_full.append(mol)\n",
    "print \"all done\""
   ]
  },
  {
   "cell_type": "code",
   "execution_count": 5,
   "metadata": {
    "collapsed": true
   },
   "outputs": [],
   "source": [
    "#qtk.qmWriteAll(inps_full, 'N2_production_ccsdt_wocharge_run', compress=True)"
   ]
  },
  {
   "cell_type": "markdown",
   "metadata": {},
   "source": [
    "## output extraction"
   ]
  },
  {
   "cell_type": "code",
   "execution_count": 9,
   "metadata": {
    "collapsed": true
   },
   "outputs": [],
   "source": [
    "# # convert molecule data to unified interface\n",
    "# # HORTON\n",
    "\n",
    "# dZ = []\n",
    "# E = []\n",
    "# for mol in mols_full:\n",
    "#     x, y, z = mol.molecule.Z[0] - 7, mol.molecule.Z[1] - 7, mol.Et - mol.nn\n",
    "#     dZ.append([x, y])\n",
    "#     E.append(z)\n",
    "\n",
    "# dZ = np.array(dZ)\n",
    "# E = np.array(E)\n",
    "# np.savez('data_N2_sto3g.npz', X=dZ, E=E, axes=['dZ1', 'dZ2'])"
   ]
  },
  {
   "cell_type": "code",
   "execution_count": 10,
   "metadata": {
    "collapsed": true
   },
   "outputs": [],
   "source": [
    "from glob import glob\n",
    "import os\n",
    "\n",
    "outs = []\n",
    "for f in sorted(glob('N2_production_ccsdt_wocharge_run/*/*.out')):\n",
    "    outs.append(qtk.QMOut(f, program='gaussian'))\n",
    "\n",
    "dZ = []\n",
    "E = []\n",
    "for out in outs:\n",
    "    _, Z1, Z2 = os.path.splitext(out.name)[0].split('_')\n",
    "    dZ.append([int(Z1) - 7, int(Z2) - 7])\n",
    "    E.append(out.Et - out.nuclear_repulsion)\n",
    "dZ = np.array(dZ)\n",
    "E = np.array(E)\n",
    "np.savez('data_N2_ccsdt_wocharge.npz', E=E, X=dZ, axes=['dZ1', 'dZ2'])"
   ]
  },
  {
   "cell_type": "markdown",
   "metadata": {},
   "source": [
    "# N2 3D surface (Z1, Z2, R)"
   ]
  },
  {
   "cell_type": "markdown",
   "metadata": {},
   "source": [
    "## input generation"
   ]
  },
  {
   "cell_type": "code",
   "execution_count": 12,
   "metadata": {},
   "outputs": [
    {
     "name": "stdout",
     "output_type": "stream",
     "text": [
      "all done\n"
     ]
    }
   ],
   "source": [
    "cut = 3\n",
    "ref_d = 1.1\n",
    "Z_A_full = range(1, 14)[cut:-cut]\n",
    "Z_B_full = deepcopy(Z_A_full)\n",
    "Z_B_full.reverse()\n",
    "dR_full = np.linspace(0.5, 2, 10)\n",
    "\n",
    "mols_full = []\n",
    "inps_full = []\n",
    "for Z1 in Z_A_full:\n",
    "    for Z2 in Z_B_full:\n",
    "        for d in dR_full:\n",
    "            #print \"processing (%d, %d)\" % (Z1, Z2)\n",
    "            # choose d ~ N2 bond length of 1.0975\n",
    "            #d = 1.1\n",
    "            mol = qtk.Molecule()\n",
    "            mol.build([[Z1,0,0,0], [Z2,d,0,0]])\n",
    "            mol.name = mol.name + '_%02d_%02d_%4.2f' % (Z1, Z2, d)\n",
    "            # construct horton input object \n",
    "            # and compute AO integrals for initialization\n",
    "            #mol.charge = Z1 + Z2 - 14\n",
    "            if (Z1 + Z2) % 2 == 1:\n",
    "                mol.setChargeMultiplicity(0, 2)\n",
    "            #job = qtk.QMInp(mol, **qmsetting_test)\n",
    "            job = qtk.QMInp(mol, **qmsetting_production)\n",
    "            #job = qtk.QMInp(mol, **qmsetting_production_ccsdt)\n",
    "            inps_full.append(job)\n",
    "            mols_full.append(mol)\n",
    "print \"all done\""
   ]
  },
  {
   "cell_type": "code",
   "execution_count": 7,
   "metadata": {
    "collapsed": true
   },
   "outputs": [],
   "source": [
    "#qtk.qmWriteAll(inps_full, 'N2_full_3DSurface', compress=True)"
   ]
  },
  {
   "cell_type": "markdown",
   "metadata": {},
   "source": [
    "## output extraction"
   ]
  },
  {
   "cell_type": "code",
   "execution_count": 13,
   "metadata": {},
   "outputs": [
    {
     "name": "stdout",
     "output_type": "stream",
     "text": [
      "\u001b[93msomething wrong when accessing final energy with error message: list index out of range\u001b[0m\n",
      "\u001b[93mN2_full_3DSurface/C1Ne1_10_06_1.33/C1Ne1_10_06_1.33.log failed with message: local variable 'rmsd' referenced before assignment\u001b[0m\n"
     ]
    }
   ],
   "source": [
    "outs = []\n",
    "for f in sorted(glob('N2_full_3DSurface/*/*.log')):\n",
    "    outs.append(qtk.QMOut(f, program='gaussian'))"
   ]
  },
  {
   "cell_type": "code",
   "execution_count": 14,
   "metadata": {
    "collapsed": true
   },
   "outputs": [],
   "source": [
    "E = np.zeros([len(Z_A_full), len(Z_B_full), len(dR_full)])\n",
    "X_list = []\n",
    "E_list = []\n",
    "out_arr = np.zeros(E.shape, dtype=object)\n",
    "for out in outs:\n",
    "    #i,j,k = map(int, list(os.path.splitext(out.name)[0].split('_')[1]))\n",
    "    n = [float(s) for s in os.path.splitext(out.name)[0].split('_')[1:]]\n",
    "    i,j,k = [np.argmin(abs(np.array(arr) - n[i])) for i, arr in enumerate([Z_A_full, Z_B_full, dR_full])]\n",
    "    E[i,j,k] = out.Et - out.nuclear_repulsion\n",
    "    E_list.append(E[i,j,k])\n",
    "    X_list.append([Z_A_full[i], Z_B_full[j], dR_full[k]])\n",
    "    out_arr[i,j,k] = out.name\n",
    "    #print i,j,k, os.path.splitext(out.name)[0], out.energies\n",
    "    #E[i,j,k] = out.Et - out.nuclear_repulsion\n",
    "X_list = np.array(X_list)\n",
    "E_list = np.array(E_list)\n",
    "\n",
    "np.savez('data_N2_3D_ZZR_pbe.npz', E=E_list, X=X_list, axes=['Z1', 'Z2', 'R'])"
   ]
  },
  {
   "cell_type": "markdown",
   "metadata": {},
   "source": [
    "### check 3D results"
   ]
  },
  {
   "cell_type": "code",
   "execution_count": 17,
   "metadata": {},
   "outputs": [
    {
     "data": {
      "application/javascript": [
       "/* Put everything inside the global mpl namespace */\n",
       "window.mpl = {};\n",
       "\n",
       "\n",
       "mpl.get_websocket_type = function() {\n",
       "    if (typeof(WebSocket) !== 'undefined') {\n",
       "        return WebSocket;\n",
       "    } else if (typeof(MozWebSocket) !== 'undefined') {\n",
       "        return MozWebSocket;\n",
       "    } else {\n",
       "        alert('Your browser does not have WebSocket support.' +\n",
       "              'Please try Chrome, Safari or Firefox ≥ 6. ' +\n",
       "              'Firefox 4 and 5 are also supported but you ' +\n",
       "              'have to enable WebSockets in about:config.');\n",
       "    };\n",
       "}\n",
       "\n",
       "mpl.figure = function(figure_id, websocket, ondownload, parent_element) {\n",
       "    this.id = figure_id;\n",
       "\n",
       "    this.ws = websocket;\n",
       "\n",
       "    this.supports_binary = (this.ws.binaryType != undefined);\n",
       "\n",
       "    if (!this.supports_binary) {\n",
       "        var warnings = document.getElementById(\"mpl-warnings\");\n",
       "        if (warnings) {\n",
       "            warnings.style.display = 'block';\n",
       "            warnings.textContent = (\n",
       "                \"This browser does not support binary websocket messages. \" +\n",
       "                    \"Performance may be slow.\");\n",
       "        }\n",
       "    }\n",
       "\n",
       "    this.imageObj = new Image();\n",
       "\n",
       "    this.context = undefined;\n",
       "    this.message = undefined;\n",
       "    this.canvas = undefined;\n",
       "    this.rubberband_canvas = undefined;\n",
       "    this.rubberband_context = undefined;\n",
       "    this.format_dropdown = undefined;\n",
       "\n",
       "    this.image_mode = 'full';\n",
       "\n",
       "    this.root = $('<div/>');\n",
       "    this._root_extra_style(this.root)\n",
       "    this.root.attr('style', 'display: inline-block');\n",
       "\n",
       "    $(parent_element).append(this.root);\n",
       "\n",
       "    this._init_header(this);\n",
       "    this._init_canvas(this);\n",
       "    this._init_toolbar(this);\n",
       "\n",
       "    var fig = this;\n",
       "\n",
       "    this.waiting = false;\n",
       "\n",
       "    this.ws.onopen =  function () {\n",
       "            fig.send_message(\"supports_binary\", {value: fig.supports_binary});\n",
       "            fig.send_message(\"send_image_mode\", {});\n",
       "            if (mpl.ratio != 1) {\n",
       "                fig.send_message(\"set_dpi_ratio\", {'dpi_ratio': mpl.ratio});\n",
       "            }\n",
       "            fig.send_message(\"refresh\", {});\n",
       "        }\n",
       "\n",
       "    this.imageObj.onload = function() {\n",
       "            if (fig.image_mode == 'full') {\n",
       "                // Full images could contain transparency (where diff images\n",
       "                // almost always do), so we need to clear the canvas so that\n",
       "                // there is no ghosting.\n",
       "                fig.context.clearRect(0, 0, fig.canvas.width, fig.canvas.height);\n",
       "            }\n",
       "            fig.context.drawImage(fig.imageObj, 0, 0);\n",
       "        };\n",
       "\n",
       "    this.imageObj.onunload = function() {\n",
       "        this.ws.close();\n",
       "    }\n",
       "\n",
       "    this.ws.onmessage = this._make_on_message_function(this);\n",
       "\n",
       "    this.ondownload = ondownload;\n",
       "}\n",
       "\n",
       "mpl.figure.prototype._init_header = function() {\n",
       "    var titlebar = $(\n",
       "        '<div class=\"ui-dialog-titlebar ui-widget-header ui-corner-all ' +\n",
       "        'ui-helper-clearfix\"/>');\n",
       "    var titletext = $(\n",
       "        '<div class=\"ui-dialog-title\" style=\"width: 100%; ' +\n",
       "        'text-align: center; padding: 3px;\"/>');\n",
       "    titlebar.append(titletext)\n",
       "    this.root.append(titlebar);\n",
       "    this.header = titletext[0];\n",
       "}\n",
       "\n",
       "\n",
       "\n",
       "mpl.figure.prototype._canvas_extra_style = function(canvas_div) {\n",
       "\n",
       "}\n",
       "\n",
       "\n",
       "mpl.figure.prototype._root_extra_style = function(canvas_div) {\n",
       "\n",
       "}\n",
       "\n",
       "mpl.figure.prototype._init_canvas = function() {\n",
       "    var fig = this;\n",
       "\n",
       "    var canvas_div = $('<div/>');\n",
       "\n",
       "    canvas_div.attr('style', 'position: relative; clear: both; outline: 0');\n",
       "\n",
       "    function canvas_keyboard_event(event) {\n",
       "        return fig.key_event(event, event['data']);\n",
       "    }\n",
       "\n",
       "    canvas_div.keydown('key_press', canvas_keyboard_event);\n",
       "    canvas_div.keyup('key_release', canvas_keyboard_event);\n",
       "    this.canvas_div = canvas_div\n",
       "    this._canvas_extra_style(canvas_div)\n",
       "    this.root.append(canvas_div);\n",
       "\n",
       "    var canvas = $('<canvas/>');\n",
       "    canvas.addClass('mpl-canvas');\n",
       "    canvas.attr('style', \"left: 0; top: 0; z-index: 0; outline: 0\")\n",
       "\n",
       "    this.canvas = canvas[0];\n",
       "    this.context = canvas[0].getContext(\"2d\");\n",
       "\n",
       "    var backingStore = this.context.backingStorePixelRatio ||\n",
       "\tthis.context.webkitBackingStorePixelRatio ||\n",
       "\tthis.context.mozBackingStorePixelRatio ||\n",
       "\tthis.context.msBackingStorePixelRatio ||\n",
       "\tthis.context.oBackingStorePixelRatio ||\n",
       "\tthis.context.backingStorePixelRatio || 1;\n",
       "\n",
       "    mpl.ratio = (window.devicePixelRatio || 1) / backingStore;\n",
       "\n",
       "    var rubberband = $('<canvas/>');\n",
       "    rubberband.attr('style', \"position: absolute; left: 0; top: 0; z-index: 1;\")\n",
       "\n",
       "    var pass_mouse_events = true;\n",
       "\n",
       "    canvas_div.resizable({\n",
       "        start: function(event, ui) {\n",
       "            pass_mouse_events = false;\n",
       "        },\n",
       "        resize: function(event, ui) {\n",
       "            fig.request_resize(ui.size.width, ui.size.height);\n",
       "        },\n",
       "        stop: function(event, ui) {\n",
       "            pass_mouse_events = true;\n",
       "            fig.request_resize(ui.size.width, ui.size.height);\n",
       "        },\n",
       "    });\n",
       "\n",
       "    function mouse_event_fn(event) {\n",
       "        if (pass_mouse_events)\n",
       "            return fig.mouse_event(event, event['data']);\n",
       "    }\n",
       "\n",
       "    rubberband.mousedown('button_press', mouse_event_fn);\n",
       "    rubberband.mouseup('button_release', mouse_event_fn);\n",
       "    // Throttle sequential mouse events to 1 every 20ms.\n",
       "    rubberband.mousemove('motion_notify', mouse_event_fn);\n",
       "\n",
       "    rubberband.mouseenter('figure_enter', mouse_event_fn);\n",
       "    rubberband.mouseleave('figure_leave', mouse_event_fn);\n",
       "\n",
       "    canvas_div.on(\"wheel\", function (event) {\n",
       "        event = event.originalEvent;\n",
       "        event['data'] = 'scroll'\n",
       "        if (event.deltaY < 0) {\n",
       "            event.step = 1;\n",
       "        } else {\n",
       "            event.step = -1;\n",
       "        }\n",
       "        mouse_event_fn(event);\n",
       "    });\n",
       "\n",
       "    canvas_div.append(canvas);\n",
       "    canvas_div.append(rubberband);\n",
       "\n",
       "    this.rubberband = rubberband;\n",
       "    this.rubberband_canvas = rubberband[0];\n",
       "    this.rubberband_context = rubberband[0].getContext(\"2d\");\n",
       "    this.rubberband_context.strokeStyle = \"#000000\";\n",
       "\n",
       "    this._resize_canvas = function(width, height) {\n",
       "        // Keep the size of the canvas, canvas container, and rubber band\n",
       "        // canvas in synch.\n",
       "        canvas_div.css('width', width)\n",
       "        canvas_div.css('height', height)\n",
       "\n",
       "        canvas.attr('width', width * mpl.ratio);\n",
       "        canvas.attr('height', height * mpl.ratio);\n",
       "        canvas.attr('style', 'width: ' + width + 'px; height: ' + height + 'px;');\n",
       "\n",
       "        rubberband.attr('width', width);\n",
       "        rubberband.attr('height', height);\n",
       "    }\n",
       "\n",
       "    // Set the figure to an initial 600x600px, this will subsequently be updated\n",
       "    // upon first draw.\n",
       "    this._resize_canvas(600, 600);\n",
       "\n",
       "    // Disable right mouse context menu.\n",
       "    $(this.rubberband_canvas).bind(\"contextmenu\",function(e){\n",
       "        return false;\n",
       "    });\n",
       "\n",
       "    function set_focus () {\n",
       "        canvas.focus();\n",
       "        canvas_div.focus();\n",
       "    }\n",
       "\n",
       "    window.setTimeout(set_focus, 100);\n",
       "}\n",
       "\n",
       "mpl.figure.prototype._init_toolbar = function() {\n",
       "    var fig = this;\n",
       "\n",
       "    var nav_element = $('<div/>')\n",
       "    nav_element.attr('style', 'width: 100%');\n",
       "    this.root.append(nav_element);\n",
       "\n",
       "    // Define a callback function for later on.\n",
       "    function toolbar_event(event) {\n",
       "        return fig.toolbar_button_onclick(event['data']);\n",
       "    }\n",
       "    function toolbar_mouse_event(event) {\n",
       "        return fig.toolbar_button_onmouseover(event['data']);\n",
       "    }\n",
       "\n",
       "    for(var toolbar_ind in mpl.toolbar_items) {\n",
       "        var name = mpl.toolbar_items[toolbar_ind][0];\n",
       "        var tooltip = mpl.toolbar_items[toolbar_ind][1];\n",
       "        var image = mpl.toolbar_items[toolbar_ind][2];\n",
       "        var method_name = mpl.toolbar_items[toolbar_ind][3];\n",
       "\n",
       "        if (!name) {\n",
       "            // put a spacer in here.\n",
       "            continue;\n",
       "        }\n",
       "        var button = $('<button/>');\n",
       "        button.addClass('ui-button ui-widget ui-state-default ui-corner-all ' +\n",
       "                        'ui-button-icon-only');\n",
       "        button.attr('role', 'button');\n",
       "        button.attr('aria-disabled', 'false');\n",
       "        button.click(method_name, toolbar_event);\n",
       "        button.mouseover(tooltip, toolbar_mouse_event);\n",
       "\n",
       "        var icon_img = $('<span/>');\n",
       "        icon_img.addClass('ui-button-icon-primary ui-icon');\n",
       "        icon_img.addClass(image);\n",
       "        icon_img.addClass('ui-corner-all');\n",
       "\n",
       "        var tooltip_span = $('<span/>');\n",
       "        tooltip_span.addClass('ui-button-text');\n",
       "        tooltip_span.html(tooltip);\n",
       "\n",
       "        button.append(icon_img);\n",
       "        button.append(tooltip_span);\n",
       "\n",
       "        nav_element.append(button);\n",
       "    }\n",
       "\n",
       "    var fmt_picker_span = $('<span/>');\n",
       "\n",
       "    var fmt_picker = $('<select/>');\n",
       "    fmt_picker.addClass('mpl-toolbar-option ui-widget ui-widget-content');\n",
       "    fmt_picker_span.append(fmt_picker);\n",
       "    nav_element.append(fmt_picker_span);\n",
       "    this.format_dropdown = fmt_picker[0];\n",
       "\n",
       "    for (var ind in mpl.extensions) {\n",
       "        var fmt = mpl.extensions[ind];\n",
       "        var option = $(\n",
       "            '<option/>', {selected: fmt === mpl.default_extension}).html(fmt);\n",
       "        fmt_picker.append(option)\n",
       "    }\n",
       "\n",
       "    // Add hover states to the ui-buttons\n",
       "    $( \".ui-button\" ).hover(\n",
       "        function() { $(this).addClass(\"ui-state-hover\");},\n",
       "        function() { $(this).removeClass(\"ui-state-hover\");}\n",
       "    );\n",
       "\n",
       "    var status_bar = $('<span class=\"mpl-message\"/>');\n",
       "    nav_element.append(status_bar);\n",
       "    this.message = status_bar[0];\n",
       "}\n",
       "\n",
       "mpl.figure.prototype.request_resize = function(x_pixels, y_pixels) {\n",
       "    // Request matplotlib to resize the figure. Matplotlib will then trigger a resize in the client,\n",
       "    // which will in turn request a refresh of the image.\n",
       "    this.send_message('resize', {'width': x_pixels, 'height': y_pixels});\n",
       "}\n",
       "\n",
       "mpl.figure.prototype.send_message = function(type, properties) {\n",
       "    properties['type'] = type;\n",
       "    properties['figure_id'] = this.id;\n",
       "    this.ws.send(JSON.stringify(properties));\n",
       "}\n",
       "\n",
       "mpl.figure.prototype.send_draw_message = function() {\n",
       "    if (!this.waiting) {\n",
       "        this.waiting = true;\n",
       "        this.ws.send(JSON.stringify({type: \"draw\", figure_id: this.id}));\n",
       "    }\n",
       "}\n",
       "\n",
       "\n",
       "mpl.figure.prototype.handle_save = function(fig, msg) {\n",
       "    var format_dropdown = fig.format_dropdown;\n",
       "    var format = format_dropdown.options[format_dropdown.selectedIndex].value;\n",
       "    fig.ondownload(fig, format);\n",
       "}\n",
       "\n",
       "\n",
       "mpl.figure.prototype.handle_resize = function(fig, msg) {\n",
       "    var size = msg['size'];\n",
       "    if (size[0] != fig.canvas.width || size[1] != fig.canvas.height) {\n",
       "        fig._resize_canvas(size[0], size[1]);\n",
       "        fig.send_message(\"refresh\", {});\n",
       "    };\n",
       "}\n",
       "\n",
       "mpl.figure.prototype.handle_rubberband = function(fig, msg) {\n",
       "    var x0 = msg['x0'] / mpl.ratio;\n",
       "    var y0 = (fig.canvas.height - msg['y0']) / mpl.ratio;\n",
       "    var x1 = msg['x1'] / mpl.ratio;\n",
       "    var y1 = (fig.canvas.height - msg['y1']) / mpl.ratio;\n",
       "    x0 = Math.floor(x0) + 0.5;\n",
       "    y0 = Math.floor(y0) + 0.5;\n",
       "    x1 = Math.floor(x1) + 0.5;\n",
       "    y1 = Math.floor(y1) + 0.5;\n",
       "    var min_x = Math.min(x0, x1);\n",
       "    var min_y = Math.min(y0, y1);\n",
       "    var width = Math.abs(x1 - x0);\n",
       "    var height = Math.abs(y1 - y0);\n",
       "\n",
       "    fig.rubberband_context.clearRect(\n",
       "        0, 0, fig.canvas.width, fig.canvas.height);\n",
       "\n",
       "    fig.rubberband_context.strokeRect(min_x, min_y, width, height);\n",
       "}\n",
       "\n",
       "mpl.figure.prototype.handle_figure_label = function(fig, msg) {\n",
       "    // Updates the figure title.\n",
       "    fig.header.textContent = msg['label'];\n",
       "}\n",
       "\n",
       "mpl.figure.prototype.handle_cursor = function(fig, msg) {\n",
       "    var cursor = msg['cursor'];\n",
       "    switch(cursor)\n",
       "    {\n",
       "    case 0:\n",
       "        cursor = 'pointer';\n",
       "        break;\n",
       "    case 1:\n",
       "        cursor = 'default';\n",
       "        break;\n",
       "    case 2:\n",
       "        cursor = 'crosshair';\n",
       "        break;\n",
       "    case 3:\n",
       "        cursor = 'move';\n",
       "        break;\n",
       "    }\n",
       "    fig.rubberband_canvas.style.cursor = cursor;\n",
       "}\n",
       "\n",
       "mpl.figure.prototype.handle_message = function(fig, msg) {\n",
       "    fig.message.textContent = msg['message'];\n",
       "}\n",
       "\n",
       "mpl.figure.prototype.handle_draw = function(fig, msg) {\n",
       "    // Request the server to send over a new figure.\n",
       "    fig.send_draw_message();\n",
       "}\n",
       "\n",
       "mpl.figure.prototype.handle_image_mode = function(fig, msg) {\n",
       "    fig.image_mode = msg['mode'];\n",
       "}\n",
       "\n",
       "mpl.figure.prototype.updated_canvas_event = function() {\n",
       "    // Called whenever the canvas gets updated.\n",
       "    this.send_message(\"ack\", {});\n",
       "}\n",
       "\n",
       "// A function to construct a web socket function for onmessage handling.\n",
       "// Called in the figure constructor.\n",
       "mpl.figure.prototype._make_on_message_function = function(fig) {\n",
       "    return function socket_on_message(evt) {\n",
       "        if (evt.data instanceof Blob) {\n",
       "            /* FIXME: We get \"Resource interpreted as Image but\n",
       "             * transferred with MIME type text/plain:\" errors on\n",
       "             * Chrome.  But how to set the MIME type?  It doesn't seem\n",
       "             * to be part of the websocket stream */\n",
       "            evt.data.type = \"image/png\";\n",
       "\n",
       "            /* Free the memory for the previous frames */\n",
       "            if (fig.imageObj.src) {\n",
       "                (window.URL || window.webkitURL).revokeObjectURL(\n",
       "                    fig.imageObj.src);\n",
       "            }\n",
       "\n",
       "            fig.imageObj.src = (window.URL || window.webkitURL).createObjectURL(\n",
       "                evt.data);\n",
       "            fig.updated_canvas_event();\n",
       "            fig.waiting = false;\n",
       "            return;\n",
       "        }\n",
       "        else if (typeof evt.data === 'string' && evt.data.slice(0, 21) == \"data:image/png;base64\") {\n",
       "            fig.imageObj.src = evt.data;\n",
       "            fig.updated_canvas_event();\n",
       "            fig.waiting = false;\n",
       "            return;\n",
       "        }\n",
       "\n",
       "        var msg = JSON.parse(evt.data);\n",
       "        var msg_type = msg['type'];\n",
       "\n",
       "        // Call the  \"handle_{type}\" callback, which takes\n",
       "        // the figure and JSON message as its only arguments.\n",
       "        try {\n",
       "            var callback = fig[\"handle_\" + msg_type];\n",
       "        } catch (e) {\n",
       "            console.log(\"No handler for the '\" + msg_type + \"' message type: \", msg);\n",
       "            return;\n",
       "        }\n",
       "\n",
       "        if (callback) {\n",
       "            try {\n",
       "                // console.log(\"Handling '\" + msg_type + \"' message: \", msg);\n",
       "                callback(fig, msg);\n",
       "            } catch (e) {\n",
       "                console.log(\"Exception inside the 'handler_\" + msg_type + \"' callback:\", e, e.stack, msg);\n",
       "            }\n",
       "        }\n",
       "    };\n",
       "}\n",
       "\n",
       "// from http://stackoverflow.com/questions/1114465/getting-mouse-location-in-canvas\n",
       "mpl.findpos = function(e) {\n",
       "    //this section is from http://www.quirksmode.org/js/events_properties.html\n",
       "    var targ;\n",
       "    if (!e)\n",
       "        e = window.event;\n",
       "    if (e.target)\n",
       "        targ = e.target;\n",
       "    else if (e.srcElement)\n",
       "        targ = e.srcElement;\n",
       "    if (targ.nodeType == 3) // defeat Safari bug\n",
       "        targ = targ.parentNode;\n",
       "\n",
       "    // jQuery normalizes the pageX and pageY\n",
       "    // pageX,Y are the mouse positions relative to the document\n",
       "    // offset() returns the position of the element relative to the document\n",
       "    var x = e.pageX - $(targ).offset().left;\n",
       "    var y = e.pageY - $(targ).offset().top;\n",
       "\n",
       "    return {\"x\": x, \"y\": y};\n",
       "};\n",
       "\n",
       "/*\n",
       " * return a copy of an object with only non-object keys\n",
       " * we need this to avoid circular references\n",
       " * http://stackoverflow.com/a/24161582/3208463\n",
       " */\n",
       "function simpleKeys (original) {\n",
       "  return Object.keys(original).reduce(function (obj, key) {\n",
       "    if (typeof original[key] !== 'object')\n",
       "        obj[key] = original[key]\n",
       "    return obj;\n",
       "  }, {});\n",
       "}\n",
       "\n",
       "mpl.figure.prototype.mouse_event = function(event, name) {\n",
       "    var canvas_pos = mpl.findpos(event)\n",
       "\n",
       "    if (name === 'button_press')\n",
       "    {\n",
       "        this.canvas.focus();\n",
       "        this.canvas_div.focus();\n",
       "    }\n",
       "\n",
       "    var x = canvas_pos.x * mpl.ratio;\n",
       "    var y = canvas_pos.y * mpl.ratio;\n",
       "\n",
       "    this.send_message(name, {x: x, y: y, button: event.button,\n",
       "                             step: event.step,\n",
       "                             guiEvent: simpleKeys(event)});\n",
       "\n",
       "    /* This prevents the web browser from automatically changing to\n",
       "     * the text insertion cursor when the button is pressed.  We want\n",
       "     * to control all of the cursor setting manually through the\n",
       "     * 'cursor' event from matplotlib */\n",
       "    event.preventDefault();\n",
       "    return false;\n",
       "}\n",
       "\n",
       "mpl.figure.prototype._key_event_extra = function(event, name) {\n",
       "    // Handle any extra behaviour associated with a key event\n",
       "}\n",
       "\n",
       "mpl.figure.prototype.key_event = function(event, name) {\n",
       "\n",
       "    // Prevent repeat events\n",
       "    if (name == 'key_press')\n",
       "    {\n",
       "        if (event.which === this._key)\n",
       "            return;\n",
       "        else\n",
       "            this._key = event.which;\n",
       "    }\n",
       "    if (name == 'key_release')\n",
       "        this._key = null;\n",
       "\n",
       "    var value = '';\n",
       "    if (event.ctrlKey && event.which != 17)\n",
       "        value += \"ctrl+\";\n",
       "    if (event.altKey && event.which != 18)\n",
       "        value += \"alt+\";\n",
       "    if (event.shiftKey && event.which != 16)\n",
       "        value += \"shift+\";\n",
       "\n",
       "    value += 'k';\n",
       "    value += event.which.toString();\n",
       "\n",
       "    this._key_event_extra(event, name);\n",
       "\n",
       "    this.send_message(name, {key: value,\n",
       "                             guiEvent: simpleKeys(event)});\n",
       "    return false;\n",
       "}\n",
       "\n",
       "mpl.figure.prototype.toolbar_button_onclick = function(name) {\n",
       "    if (name == 'download') {\n",
       "        this.handle_save(this, null);\n",
       "    } else {\n",
       "        this.send_message(\"toolbar_button\", {name: name});\n",
       "    }\n",
       "};\n",
       "\n",
       "mpl.figure.prototype.toolbar_button_onmouseover = function(tooltip) {\n",
       "    this.message.textContent = tooltip;\n",
       "};\n",
       "mpl.toolbar_items = [[\"Home\", \"Reset original view\", \"fa fa-home icon-home\", \"home\"], [\"Back\", \"Back to  previous view\", \"fa fa-arrow-left icon-arrow-left\", \"back\"], [\"Forward\", \"Forward to next view\", \"fa fa-arrow-right icon-arrow-right\", \"forward\"], [\"\", \"\", \"\", \"\"], [\"Pan\", \"Pan axes with left mouse, zoom with right\", \"fa fa-arrows icon-move\", \"pan\"], [\"Zoom\", \"Zoom to rectangle\", \"fa fa-square-o icon-check-empty\", \"zoom\"], [\"\", \"\", \"\", \"\"], [\"Download\", \"Download plot\", \"fa fa-floppy-o icon-save\", \"download\"]];\n",
       "\n",
       "mpl.extensions = [\"eps\", \"jpeg\", \"pdf\", \"png\", \"ps\", \"raw\", \"svg\", \"tif\"];\n",
       "\n",
       "mpl.default_extension = \"png\";var comm_websocket_adapter = function(comm) {\n",
       "    // Create a \"websocket\"-like object which calls the given IPython comm\n",
       "    // object with the appropriate methods. Currently this is a non binary\n",
       "    // socket, so there is still some room for performance tuning.\n",
       "    var ws = {};\n",
       "\n",
       "    ws.close = function() {\n",
       "        comm.close()\n",
       "    };\n",
       "    ws.send = function(m) {\n",
       "        //console.log('sending', m);\n",
       "        comm.send(m);\n",
       "    };\n",
       "    // Register the callback with on_msg.\n",
       "    comm.on_msg(function(msg) {\n",
       "        //console.log('receiving', msg['content']['data'], msg);\n",
       "        // Pass the mpl event to the overriden (by mpl) onmessage function.\n",
       "        ws.onmessage(msg['content']['data'])\n",
       "    });\n",
       "    return ws;\n",
       "}\n",
       "\n",
       "mpl.mpl_figure_comm = function(comm, msg) {\n",
       "    // This is the function which gets called when the mpl process\n",
       "    // starts-up an IPython Comm through the \"matplotlib\" channel.\n",
       "\n",
       "    var id = msg.content.data.id;\n",
       "    // Get hold of the div created by the display call when the Comm\n",
       "    // socket was opened in Python.\n",
       "    var element = $(\"#\" + id);\n",
       "    var ws_proxy = comm_websocket_adapter(comm)\n",
       "\n",
       "    function ondownload(figure, format) {\n",
       "        window.open(figure.imageObj.src);\n",
       "    }\n",
       "\n",
       "    var fig = new mpl.figure(id, ws_proxy,\n",
       "                           ondownload,\n",
       "                           element.get(0));\n",
       "\n",
       "    // Call onopen now - mpl needs it, as it is assuming we've passed it a real\n",
       "    // web socket which is closed, not our websocket->open comm proxy.\n",
       "    ws_proxy.onopen();\n",
       "\n",
       "    fig.parent_element = element.get(0);\n",
       "    fig.cell_info = mpl.find_output_cell(\"<div id='\" + id + \"'></div>\");\n",
       "    if (!fig.cell_info) {\n",
       "        console.error(\"Failed to find cell for figure\", id, fig);\n",
       "        return;\n",
       "    }\n",
       "\n",
       "    var output_index = fig.cell_info[2]\n",
       "    var cell = fig.cell_info[0];\n",
       "\n",
       "};\n",
       "\n",
       "mpl.figure.prototype.handle_close = function(fig, msg) {\n",
       "    var width = fig.canvas.width/mpl.ratio\n",
       "    fig.root.unbind('remove')\n",
       "\n",
       "    // Update the output cell to use the data from the current canvas.\n",
       "    fig.push_to_output();\n",
       "    var dataURL = fig.canvas.toDataURL();\n",
       "    // Re-enable the keyboard manager in IPython - without this line, in FF,\n",
       "    // the notebook keyboard shortcuts fail.\n",
       "    IPython.keyboard_manager.enable()\n",
       "    $(fig.parent_element).html('<img src=\"' + dataURL + '\" width=\"' + width + '\">');\n",
       "    fig.close_ws(fig, msg);\n",
       "}\n",
       "\n",
       "mpl.figure.prototype.close_ws = function(fig, msg){\n",
       "    fig.send_message('closing', msg);\n",
       "    // fig.ws.close()\n",
       "}\n",
       "\n",
       "mpl.figure.prototype.push_to_output = function(remove_interactive) {\n",
       "    // Turn the data on the canvas into data in the output cell.\n",
       "    var width = this.canvas.width/mpl.ratio\n",
       "    var dataURL = this.canvas.toDataURL();\n",
       "    this.cell_info[1]['text/html'] = '<img src=\"' + dataURL + '\" width=\"' + width + '\">';\n",
       "}\n",
       "\n",
       "mpl.figure.prototype.updated_canvas_event = function() {\n",
       "    // Tell IPython that the notebook contents must change.\n",
       "    IPython.notebook.set_dirty(true);\n",
       "    this.send_message(\"ack\", {});\n",
       "    var fig = this;\n",
       "    // Wait a second, then push the new image to the DOM so\n",
       "    // that it is saved nicely (might be nice to debounce this).\n",
       "    setTimeout(function () { fig.push_to_output() }, 1000);\n",
       "}\n",
       "\n",
       "mpl.figure.prototype._init_toolbar = function() {\n",
       "    var fig = this;\n",
       "\n",
       "    var nav_element = $('<div/>')\n",
       "    nav_element.attr('style', 'width: 100%');\n",
       "    this.root.append(nav_element);\n",
       "\n",
       "    // Define a callback function for later on.\n",
       "    function toolbar_event(event) {\n",
       "        return fig.toolbar_button_onclick(event['data']);\n",
       "    }\n",
       "    function toolbar_mouse_event(event) {\n",
       "        return fig.toolbar_button_onmouseover(event['data']);\n",
       "    }\n",
       "\n",
       "    for(var toolbar_ind in mpl.toolbar_items){\n",
       "        var name = mpl.toolbar_items[toolbar_ind][0];\n",
       "        var tooltip = mpl.toolbar_items[toolbar_ind][1];\n",
       "        var image = mpl.toolbar_items[toolbar_ind][2];\n",
       "        var method_name = mpl.toolbar_items[toolbar_ind][3];\n",
       "\n",
       "        if (!name) { continue; };\n",
       "\n",
       "        var button = $('<button class=\"btn btn-default\" href=\"#\" title=\"' + name + '\"><i class=\"fa ' + image + ' fa-lg\"></i></button>');\n",
       "        button.click(method_name, toolbar_event);\n",
       "        button.mouseover(tooltip, toolbar_mouse_event);\n",
       "        nav_element.append(button);\n",
       "    }\n",
       "\n",
       "    // Add the status bar.\n",
       "    var status_bar = $('<span class=\"mpl-message\" style=\"text-align:right; float: right;\"/>');\n",
       "    nav_element.append(status_bar);\n",
       "    this.message = status_bar[0];\n",
       "\n",
       "    // Add the close button to the window.\n",
       "    var buttongrp = $('<div class=\"btn-group inline pull-right\"></div>');\n",
       "    var button = $('<button class=\"btn btn-mini btn-primary\" href=\"#\" title=\"Stop Interaction\"><i class=\"fa fa-power-off icon-remove icon-large\"></i></button>');\n",
       "    button.click(function (evt) { fig.handle_close(fig, {}); } );\n",
       "    button.mouseover('Stop Interaction', toolbar_mouse_event);\n",
       "    buttongrp.append(button);\n",
       "    var titlebar = this.root.find($('.ui-dialog-titlebar'));\n",
       "    titlebar.prepend(buttongrp);\n",
       "}\n",
       "\n",
       "mpl.figure.prototype._root_extra_style = function(el){\n",
       "    var fig = this\n",
       "    el.on(\"remove\", function(){\n",
       "\tfig.close_ws(fig, {});\n",
       "    });\n",
       "}\n",
       "\n",
       "mpl.figure.prototype._canvas_extra_style = function(el){\n",
       "    // this is important to make the div 'focusable\n",
       "    el.attr('tabindex', 0)\n",
       "    // reach out to IPython and tell the keyboard manager to turn it's self\n",
       "    // off when our div gets focus\n",
       "\n",
       "    // location in version 3\n",
       "    if (IPython.notebook.keyboard_manager) {\n",
       "        IPython.notebook.keyboard_manager.register_events(el);\n",
       "    }\n",
       "    else {\n",
       "        // location in version 2\n",
       "        IPython.keyboard_manager.register_events(el);\n",
       "    }\n",
       "\n",
       "}\n",
       "\n",
       "mpl.figure.prototype._key_event_extra = function(event, name) {\n",
       "    var manager = IPython.notebook.keyboard_manager;\n",
       "    if (!manager)\n",
       "        manager = IPython.keyboard_manager;\n",
       "\n",
       "    // Check for shift+enter\n",
       "    if (event.shiftKey && event.which == 13) {\n",
       "        this.canvas_div.blur();\n",
       "        // select the cell after this one\n",
       "        var index = IPython.notebook.find_cell_index(this.cell_info[0]);\n",
       "        IPython.notebook.select(index + 1);\n",
       "    }\n",
       "}\n",
       "\n",
       "mpl.figure.prototype.handle_save = function(fig, msg) {\n",
       "    fig.ondownload(fig, null);\n",
       "}\n",
       "\n",
       "\n",
       "mpl.find_output_cell = function(html_output) {\n",
       "    // Return the cell and output element which can be found *uniquely* in the notebook.\n",
       "    // Note - this is a bit hacky, but it is done because the \"notebook_saving.Notebook\"\n",
       "    // IPython event is triggered only after the cells have been serialised, which for\n",
       "    // our purposes (turning an active figure into a static one), is too late.\n",
       "    var cells = IPython.notebook.get_cells();\n",
       "    var ncells = cells.length;\n",
       "    for (var i=0; i<ncells; i++) {\n",
       "        var cell = cells[i];\n",
       "        if (cell.cell_type === 'code'){\n",
       "            for (var j=0; j<cell.output_area.outputs.length; j++) {\n",
       "                var data = cell.output_area.outputs[j];\n",
       "                if (data.data) {\n",
       "                    // IPython >= 3 moved mimebundle to data attribute of output\n",
       "                    data = data.data;\n",
       "                }\n",
       "                if (data['text/html'] == html_output) {\n",
       "                    return [cell, data, j];\n",
       "                }\n",
       "            }\n",
       "        }\n",
       "    }\n",
       "}\n",
       "\n",
       "// Register the function which deals with the matplotlib target/channel.\n",
       "// The kernel may be null if the page has been refreshed.\n",
       "if (IPython.notebook.kernel != null) {\n",
       "    IPython.notebook.kernel.comm_manager.register_target('matplotlib', mpl.mpl_figure_comm);\n",
       "}\n"
      ],
      "text/plain": [
       "<IPython.core.display.Javascript object>"
      ]
     },
     "metadata": {},
     "output_type": "display_data"
    },
    {
     "data": {
      "text/html": [
       "<img src=\"data:image/png;base64,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\" width=\"799.2307985463802\">"
      ],
      "text/plain": [
       "<IPython.core.display.HTML object>"
      ]
     },
     "metadata": {},
     "output_type": "display_data"
    },
    {
     "data": {
      "text/plain": [
       "<mpl_toolkits.mplot3d.art3d.Line3DCollection at 0x1487587f37d0>"
      ]
     },
     "execution_count": 17,
     "metadata": {},
     "output_type": "execute_result"
    }
   ],
   "source": [
    "E_check = []\n",
    "Z_check = []\n",
    "for i in range(E.shape[0]):\n",
    "    for j in range(E.shape[-1]):\n",
    "        x = [Z_A_full[i], dR_full[j]]\n",
    "        #print \"(%2d,%2d,%3.1f): %s\" % (Z_A_full[i], Z_B_full[i], dR_full[j], out_arr[i,i,j])\n",
    "        Z_check.append(x)\n",
    "        E_check.append(E[i,i,j])\n",
    "E_check = np.array(E_check)\n",
    "Z_check = np.array(Z_check)\n",
    "dZ1 = sorted(set(Z_check[:,0]))\n",
    "dR = sorted(set(Z_check[:,1]))\n",
    "Xp, Yp = np.meshgrid(dZ1, dR, indexing='ij')\n",
    "E_mesh = np.zeros(Xp.shape)\n",
    "for s, e in enumerate(E_check):\n",
    "    i = dZ1.index(Z_check[s][0])\n",
    "    j = dR.index(Z_check[s][1])\n",
    "    E_mesh[i,j] = e\n",
    "\n",
    "fig = plt.figure(figsize=(8,6))\n",
    "ax = fig.add_subplot(111, projection='3d')\n",
    "ax.plot_wireframe(Xp,Yp,E_mesh, color='0.5', linewidth=0.5)"
   ]
  },
  {
   "cell_type": "markdown",
   "metadata": {},
   "source": [
    "# N2 4D surface (Z1, Z2, R, N)"
   ]
  },
  {
   "cell_type": "markdown",
   "metadata": {},
   "source": [
    "## input generation"
   ]
  },
  {
   "cell_type": "markdown",
   "metadata": {},
   "source": [
    "## output extraction"
   ]
  },
  {
   "cell_type": "markdown",
   "metadata": {},
   "source": [
    "# Finite differece data\n",
    "\n",
    "## Full 4D finite difference"
   ]
  },
  {
   "cell_type": "code",
   "execution_count": 19,
   "metadata": {
    "collapsed": true
   },
   "outputs": [],
   "source": [
    "import itertools\n",
    "\n",
    "dZ = [-0.05, 0, 0.05]\n",
    "dR = [-0.1, 0, 0.1]\n",
    "dN = [-1, 0, 1]\n",
    "mols = []\n",
    "inps = []\n",
    "for dz1, dz2, dr, dn in itertools.product(dZ, dZ, dR, dN):\n",
    "    i, j, k, l = dZ.index(dz1), dZ.index(dz2), dR.index(dr), dN.index(dn)\n",
    "    #print i,j,k,l, dz1, dz2, dr, dn, dZ[i], dZ[j], dR[k], dN[l]\n",
    "    mol = qtk.Molecule()\n",
    "    mol.build([[7,0,0,0], [7,1.1+dr,0,0]])\n",
    "    new_Z = mol.Z + np.array([dz1, dz2])\n",
    "    mol.name = mol.name + '_%d%d%d%d' % (i,j,k,l)\n",
    "    if dn != 0:\n",
    "        mol.setChargeMultiplicity(dn, 2)\n",
    "    inp = qtk.QMInp(mol, nuclear_charges=new_Z , **qmsetting_production_ccsdt)\n",
    "    inps.append(inp)\n",
    "    mols.append(mol)"
   ]
  },
  {
   "cell_type": "code",
   "execution_count": 21,
   "metadata": {},
   "outputs": [
    {
     "name": "stdout",
     "output_type": "stream",
     "text": [
      "\u001b[96m\u001b[1mqmWriteAll:\u001b[0m compression completed \n"
     ]
    }
   ],
   "source": [
    "qtk.qmWriteAll(inps, 'N2_4D_diff_production', compress=True)"
   ]
  },
  {
   "cell_type": "code",
   "execution_count": null,
   "metadata": {
    "collapsed": true
   },
   "outputs": [],
   "source": [
    "outs = []\n",
    "for f in sorted(glob('N2_4D_diff_production/*/*.out')):\n",
    "    outs.append(qtk.QMOut(f, program='gaussian'))"
   ]
  },
  {
   "cell_type": "code",
   "execution_count": 17,
   "metadata": {
    "collapsed": true
   },
   "outputs": [],
   "source": [
    "for out in outs:\n",
    "    Et = 0\n",
    "    for k, v in out.energies.iteritems():\n",
    "        if k != 'Enn':\n",
    "            Et += v\n",
    "        else:\n",
    "            Et += out.molecule.nuclear_repulsion()\n",
    "    out.Et = Et"
   ]
  },
  {
   "cell_type": "code",
   "execution_count": 89,
   "metadata": {
    "collapsed": true
   },
   "outputs": [],
   "source": [
    "# E = np.zeros([3,3,3,3])\n",
    "# for out in outs:\n",
    "#     i,j,k,l = map(int, list(os.path.splitext(out.name)[0].split('_')[1]))\n",
    "#     E[i,j,k,l] = out.Et - out.nuclear_repulsion\n",
    "#E = np.array(E)\n",
    "#print E\n",
    "#np.savez('data_N2_ccsdt_wocharge.npz', E=E, dZ=dZ)"
   ]
  },
  {
   "cell_type": "markdown",
   "metadata": {},
   "source": [
    "full 4D does not converge with charged systems, use HOMO, LUMO derivatives to approximate derivatives\n",
    "\n",
    "## 3D finite difference"
   ]
  },
  {
   "cell_type": "markdown",
   "metadata": {},
   "source": [
    "## N2"
   ]
  },
  {
   "cell_type": "code",
   "execution_count": 15,
   "metadata": {
    "collapsed": true
   },
   "outputs": [],
   "source": [
    "import itertools\n",
    "dZ = [-0.05, 0, 0.05]\n",
    "dR = [-0.01, 0, 0.01]\n",
    "# dZ = np.linspace(-1, 1, endpoint=True, num=10).tolist()\n",
    "# dR = np.linspace(-0.2, 0.2, endpoint=True, num=10).tolist()\n",
    "mols = []\n",
    "inps = []\n",
    "for dz1, dz2, dr in itertools.product(dZ, dZ, dR):\n",
    "    i, j, k = dZ.index(dz1), dZ.index(dz2), dR.index(dr)\n",
    "    #print i,j,k,l, dz1, dz2, dr, dn, dZ[i], dZ[j], dR[k], dN[l]\n",
    "    mol = qtk.Molecule()\n",
    "    mol.build([[7,0,0,0], [7,1.1+dr,0,0]])\n",
    "    new_Z = mol.Z + np.array([dz1, dz2])\n",
    "    mol.name = mol.name + '_%d%d%d' % (i,j,k)\n",
    "#     if dn != 0:\n",
    "#         mol.setChargeMultiplicity(dn, 2)\n",
    "    inp = qtk.QMInp(mol, nuclear_charges=new_Z, save_density=True, **qmsetting_production_ccsdt)\n",
    "    inps.append(inp)\n",
    "    mols.append(mol)\n",
    "#name_root = 'N2_3D_diff_ccsdt'\n",
    "name_root = 'N2_3D_diff_production_dR01'"
   ]
  },
  {
   "cell_type": "code",
   "execution_count": 49,
   "metadata": {},
   "outputs": [
    {
     "name": "stdout",
     "output_type": "stream",
     "text": [
      "\u001b[96m\u001b[1mqmWriteAll:\u001b[0m compression completed \n"
     ]
    }
   ],
   "source": [
    "#qtk.qmWriteAll(inps, name_root, compress=True)"
   ]
  },
  {
   "cell_type": "code",
   "execution_count": 16,
   "metadata": {
    "collapsed": true
   },
   "outputs": [],
   "source": [
    "outs = []\n",
    "#qtk.setting.quiet=True\n",
    "for f in sorted(glob('%s/*/*.out' % name_root)):\n",
    "    outs.append(qtk.QMOut(f, program='gaussian'))\n",
    "#qtk.setting.quite=False"
   ]
  },
  {
   "cell_type": "markdown",
   "metadata": {},
   "source": [
    "# CO"
   ]
  },
  {
   "cell_type": "code",
   "execution_count": 4,
   "metadata": {
    "collapsed": true
   },
   "outputs": [],
   "source": [
    "import itertools\n",
    "dZ = [-0.05, 0, 0.05]\n",
    "dR = (np.array([-0.01, 0, 0.01]) / qtk.setting.a2b).tolist()\n",
    "# dZ = np.linspace(-1, 1, endpoint=True, num=10).tolist()\n",
    "# dR = np.linspace(-0.2, 0.2, endpoint=True, num=10).tolist()\n",
    "mols = []\n",
    "inps = []\n",
    "for dz1, dz2, dr in itertools.product(dZ, dZ, dR):\n",
    "    i, j, k = dZ.index(dz1), dZ.index(dz2), dR.index(dr)\n",
    "    #print i,j,k,l, dz1, dz2, dr, dn, dZ[i], dZ[j], dR[k], dN[l]\n",
    "    mol = qtk.Molecule()\n",
    "    mol.build([[6,0,0,0], [8,1.1+dr,0,0]])\n",
    "    new_Z = mol.Z + np.array([dz1, dz2])\n",
    "    mol.name = mol.name + '_%d%d%d' % (i,j,k)\n",
    "#     if dn != 0:\n",
    "#         mol.setChargeMultiplicity(dn, 2)\n",
    "    inp = qtk.QMInp(mol, nuclear_charges=new_Z, save_density=True, **qmsetting_production)\n",
    "    inps.append(inp)\n",
    "    mols.append(mol)\n",
    "name_root = 'CO_3D_diff_production_dR01a'"
   ]
  },
  {
   "cell_type": "code",
   "execution_count": 5,
   "metadata": {},
   "outputs": [
    {
     "name": "stdout",
     "output_type": "stream",
     "text": [
      "\u001b[96m\u001b[1mqmWriteAll:\u001b[0m compression completed \n"
     ]
    }
   ],
   "source": [
    "qtk.qmWriteAll(inps, name_root, compress=True)"
   ]
  },
  {
   "cell_type": "code",
   "execution_count": 6,
   "metadata": {},
   "outputs": [
    {
     "name": "stdout",
     "output_type": "stream",
     "text": [
      "\u001b[93mZ2n: atomic number 5.95 is not defined\u001b[0m\n",
      "\u001b[93mZ2n: atomic number 7.95 is not defined\u001b[0m\n",
      "\u001b[93mZ2n: atomic number 5.95 is not defined\u001b[0m\n",
      "\u001b[93mZ2n: atomic number 7.95 is not defined\u001b[0m\n",
      "\u001b[93mZ2n: atomic number 5.95 is not defined\u001b[0m\n",
      "\u001b[93mZ2n: atomic number 7.95 is not defined\u001b[0m\n",
      "\u001b[93mZ2n: atomic number 5.95 is not defined\u001b[0m\n",
      "\u001b[93mZ2n: atomic number 5.95 is not defined\u001b[0m\n",
      "\u001b[93mZ2n: atomic number 5.95 is not defined\u001b[0m\n",
      "\u001b[93mZ2n: atomic number 5.95 is not defined\u001b[0m\n",
      "\u001b[93mZ2n: atomic number 8.05 is not defined\u001b[0m\n",
      "\u001b[93mZ2n: atomic number 5.95 is not defined\u001b[0m\n",
      "\u001b[93mZ2n: atomic number 8.05 is not defined\u001b[0m\n",
      "\u001b[93mZ2n: atomic number 5.95 is not defined\u001b[0m\n",
      "\u001b[93mZ2n: atomic number 8.05 is not defined\u001b[0m\n",
      "\u001b[93mZ2n: atomic number 7.95 is not defined\u001b[0m\n",
      "\u001b[93mZ2n: atomic number 7.95 is not defined\u001b[0m\n",
      "\u001b[93mZ2n: atomic number 7.95 is not defined\u001b[0m\n",
      "\u001b[93mZ2n: atomic number 8.05 is not defined\u001b[0m\n",
      "\u001b[93mZ2n: atomic number 8.05 is not defined\u001b[0m\n",
      "\u001b[93mZ2n: atomic number 8.05 is not defined\u001b[0m\n",
      "\u001b[93mZ2n: atomic number 6.05 is not defined\u001b[0m\n",
      "\u001b[93mZ2n: atomic number 7.95 is not defined\u001b[0m\n",
      "\u001b[93mZ2n: atomic number 6.05 is not defined\u001b[0m\n",
      "\u001b[93mZ2n: atomic number 7.95 is not defined\u001b[0m\n",
      "\u001b[93mZ2n: atomic number 6.05 is not defined\u001b[0m\n",
      "\u001b[93mZ2n: atomic number 7.95 is not defined\u001b[0m\n",
      "\u001b[93mZ2n: atomic number 6.05 is not defined\u001b[0m\n",
      "\u001b[93mZ2n: atomic number 6.05 is not defined\u001b[0m\n",
      "\u001b[93mZ2n: atomic number 6.05 is not defined\u001b[0m\n",
      "\u001b[93mZ2n: atomic number 6.05 is not defined\u001b[0m\n",
      "\u001b[93mZ2n: atomic number 8.05 is not defined\u001b[0m\n",
      "\u001b[93mZ2n: atomic number 6.05 is not defined\u001b[0m\n",
      "\u001b[93mZ2n: atomic number 8.05 is not defined\u001b[0m\n",
      "\u001b[93mZ2n: atomic number 6.05 is not defined\u001b[0m\n",
      "\u001b[93mZ2n: atomic number 8.05 is not defined\u001b[0m\n"
     ]
    }
   ],
   "source": [
    "outs = []\n",
    "#qtk.setting.quiet=True\n",
    "for f in sorted(glob('%s/*/*.log' % name_root)):\n",
    "    outs.append(qtk.QMOut(f, program='gaussian'))\n",
    "#qtk.setting.quite=False"
   ]
  },
  {
   "cell_type": "code",
   "execution_count": 7,
   "metadata": {
    "collapsed": true
   },
   "outputs": [],
   "source": [
    "E = np.zeros([3,3,3])\n",
    "out_arr = np.zeros([3,3,3], dtype=object)\n",
    "for out in outs:\n",
    "    i,j,k = map(int, list(os.path.splitext(out.name)[0].split('_')[1]))\n",
    "    #print i,j,k, os.path.splitext(out.name)[0], out.energies\n",
    "    E[i,j,k] = out.Et - out.nuclear_repulsion\n",
    "    out_arr[i,j,k] = out\n",
    "#E = np.array(E)\n",
    "#print E\n",
    "#np.savez('data_N2_ccsdt_wocharge.npz', E=E, dZ=dZ)"
   ]
  },
  {
   "cell_type": "markdown",
   "metadata": {},
   "source": [
    "## BF"
   ]
  },
  {
   "cell_type": "code",
   "execution_count": 6,
   "metadata": {
    "collapsed": true
   },
   "outputs": [],
   "source": [
    "import itertools\n",
    "dZ = [-0.05, 0, 0.05]\n",
    "dR = (np.array([-0.01, 0, 0.01]) / qtk.setting.a2b).tolist()\n",
    "# dZ = np.linspace(-1, 1, endpoint=True, num=10).tolist()\n",
    "# dR = np.linspace(-0.2, 0.2, endpoint=True, num=10).tolist()\n",
    "mols = []\n",
    "inps = []\n",
    "for dz1, dz2, dr in itertools.product(dZ, dZ, dR):\n",
    "    i, j, k = dZ.index(dz1), dZ.index(dz2), dR.index(dr)\n",
    "    #print i,j,k,l, dz1, dz2, dr, dn, dZ[i], dZ[j], dR[k], dN[l]\n",
    "    mol = qtk.Molecule()\n",
    "    mol.build([[5,0,0,0], [9,1.3+dr,0,0]])\n",
    "    new_Z = mol.Z + np.array([dz1, dz2])\n",
    "    mol.name = mol.name + '_%d%d%d' % (i,j,k)\n",
    "#     if dn != 0:\n",
    "#         mol.setChargeMultiplicity(dn, 2)\n",
    "    inp = qtk.QMInp(mol, nuclear_charges=new_Z, save_density=True, **qmsetting_production)\n",
    "    inps.append(inp)\n",
    "    mols.append(mol)\n",
    "name_root = 'BF_3D_diff_production_dR01a'"
   ]
  },
  {
   "cell_type": "code",
   "execution_count": 7,
   "metadata": {},
   "outputs": [
    {
     "name": "stdout",
     "output_type": "stream",
     "text": [
      "\u001b[96m\u001b[1mqmWriteAll:\u001b[0m compression completed \n"
     ]
    }
   ],
   "source": [
    "qtk.qmWriteAll(inps, name_root, compress=True)"
   ]
  },
  {
   "cell_type": "code",
   "execution_count": 8,
   "metadata": {},
   "outputs": [
    {
     "name": "stdout",
     "output_type": "stream",
     "text": [
      "\u001b[93mZ2n: atomic number 4.95 is not defined\u001b[0m\n",
      "\u001b[93mZ2n: atomic number 8.95 is not defined\u001b[0m\n",
      "\u001b[93mZ2n: atomic number 4.95 is not defined\u001b[0m\n",
      "\u001b[93mZ2n: atomic number 8.95 is not defined\u001b[0m\n",
      "\u001b[93mZ2n: atomic number 4.95 is not defined\u001b[0m\n",
      "\u001b[93mZ2n: atomic number 8.95 is not defined\u001b[0m\n",
      "\u001b[93mZ2n: atomic number 4.95 is not defined\u001b[0m\n",
      "\u001b[93mZ2n: atomic number 4.95 is not defined\u001b[0m\n",
      "\u001b[93mZ2n: atomic number 4.95 is not defined\u001b[0m\n",
      "\u001b[93mZ2n: atomic number 4.95 is not defined\u001b[0m\n",
      "\u001b[93mZ2n: atomic number 9.05 is not defined\u001b[0m\n",
      "\u001b[93mZ2n: atomic number 4.95 is not defined\u001b[0m\n",
      "\u001b[93mZ2n: atomic number 9.05 is not defined\u001b[0m\n",
      "\u001b[93mZ2n: atomic number 4.95 is not defined\u001b[0m\n",
      "\u001b[93mZ2n: atomic number 9.05 is not defined\u001b[0m\n",
      "\u001b[93mZ2n: atomic number 8.95 is not defined\u001b[0m\n",
      "\u001b[93mZ2n: atomic number 8.95 is not defined\u001b[0m\n",
      "\u001b[93mZ2n: atomic number 8.95 is not defined\u001b[0m\n",
      "\u001b[93mZ2n: atomic number 9.05 is not defined\u001b[0m\n",
      "\u001b[93mZ2n: atomic number 9.05 is not defined\u001b[0m\n",
      "\u001b[93mZ2n: atomic number 9.05 is not defined\u001b[0m\n",
      "\u001b[93mZ2n: atomic number 5.05 is not defined\u001b[0m\n",
      "\u001b[93mZ2n: atomic number 8.95 is not defined\u001b[0m\n",
      "\u001b[93mZ2n: atomic number 5.05 is not defined\u001b[0m\n",
      "\u001b[93mZ2n: atomic number 8.95 is not defined\u001b[0m\n",
      "\u001b[93mZ2n: atomic number 5.05 is not defined\u001b[0m\n",
      "\u001b[93mZ2n: atomic number 8.95 is not defined\u001b[0m\n",
      "\u001b[93mZ2n: atomic number 5.05 is not defined\u001b[0m\n",
      "\u001b[93mZ2n: atomic number 5.05 is not defined\u001b[0m\n",
      "\u001b[93mZ2n: atomic number 5.05 is not defined\u001b[0m\n",
      "\u001b[93mZ2n: atomic number 5.05 is not defined\u001b[0m\n",
      "\u001b[93mZ2n: atomic number 9.05 is not defined\u001b[0m\n",
      "\u001b[93mZ2n: atomic number 5.05 is not defined\u001b[0m\n",
      "\u001b[93mZ2n: atomic number 9.05 is not defined\u001b[0m\n",
      "\u001b[93mZ2n: atomic number 5.05 is not defined\u001b[0m\n",
      "\u001b[93mZ2n: atomic number 9.05 is not defined\u001b[0m\n"
     ]
    }
   ],
   "source": [
    "outs = []\n",
    "#qtk.setting.quiet=True\n",
    "for f in sorted(glob('%s/*/*.log' % name_root)):\n",
    "    outs.append(qtk.QMOut(f, program='gaussian'))\n",
    "#qtk.setting.quite=False"
   ]
  },
  {
   "cell_type": "code",
   "execution_count": 13,
   "metadata": {
    "collapsed": true
   },
   "outputs": [],
   "source": [
    "E = np.zeros([3,3,3])\n",
    "out_arr = np.zeros([3,3,3], dtype=object)\n",
    "for out in outs:\n",
    "    i,j,k = map(int, list(os.path.splitext(out.name)[0].split('_')[1]))\n",
    "    #print i,j,k, os.path.splitext(out.name)[0], out.energies\n",
    "    E[i,j,k] = out.Et - out.nuclear_repulsion\n",
    "    out_arr[i,j,k] = out\n",
    "#E = np.array(E)\n",
    "#print E\n",
    "#np.savez('data_N2_ccsdt_wocharge.npz', E=E, dZ=dZ)\n",
    "dx = np.array([dZ[-1], dZ[-1], dR[-1]])"
   ]
  },
  {
   "cell_type": "code",
   "execution_count": 14,
   "metadata": {},
   "outputs": [
    {
     "data": {
      "text/plain": [
       "array([0.05      , 0.05      , 0.00529177])"
      ]
     },
     "execution_count": 14,
     "metadata": {},
     "output_type": "execute_result"
    }
   ],
   "source": [
    "dx"
   ]
  },
  {
   "cell_type": "code",
   "execution_count": 15,
   "metadata": {},
   "outputs": [
    {
     "name": "stdout",
     "output_type": "stream",
     "text": [
      "[2. 1. 1.]\n",
      "[1. 2. 1.]\n",
      "[1. 1. 2.]\n"
     ]
    },
    {
     "data": {
      "text/plain": [
       "(array([-11.352478  , -26.447658  ,  14.12311923]),\n",
       " array([[ -1.2368    ,   0.40773   ,   0.19322448],\n",
       "        [  0.40773   ,  -2.57176   ,  -0.20938164],\n",
       "        [  0.19322448,  -0.20938164, -20.23498071]]))"
      ]
     },
     "execution_count": 15,
     "metadata": {},
     "output_type": "execute_result"
    }
   ],
   "source": [
    "FD_2nd(E, dx)"
   ]
  },
  {
   "cell_type": "code",
   "execution_count": 9,
   "metadata": {
    "collapsed": true
   },
   "outputs": [],
   "source": [
    "homo_i = outs[0].molecule.ne() / 2 - 1\n",
    "lumo_i = homo_i + 1\n",
    "dx = [0.05, 0.05, 0.01 / qtk.setting.a2b]"
   ]
  },
  {
   "cell_type": "code",
   "execution_count": 19,
   "metadata": {
    "collapsed": true
   },
   "outputs": [],
   "source": [
    "homo_i = outs[0].molecule.ne() / 2 - 1\n",
    "lumo_i = homo_i + 1\n",
    "E_homo = np.zeros([3,3,3])\n",
    "E_lumo = np.zeros([3,3,3])\n",
    "for out in outs:\n",
    "    i,j,k = map(int, list(os.path.splitext(out.name)[0].split('_')[1]))\n",
    "    try:\n",
    "        E_homo[i,j,k] = out.mo_eigenvalues[homo_i]\n",
    "        E_lumo[i,j,k] = out.mo_eigenvalues[lumo_i]\n",
    "    except:\n",
    "        print \"failed for %d,%d,%d\" % (i,j,k)"
   ]
  },
  {
   "cell_type": "code",
   "execution_count": 20,
   "metadata": {
    "collapsed": true
   },
   "outputs": [],
   "source": [
    "E_dN = (E_homo + E_lumo) / 2"
   ]
  },
  {
   "cell_type": "code",
   "execution_count": 21,
   "metadata": {},
   "outputs": [
    {
     "name": "stdout",
     "output_type": "stream",
     "text": [
      "0.15230448935000002\n",
      "-0.47163264050000014\n",
      "-0.47163264050000014\n",
      "-0.22265153249999975\n"
     ]
    }
   ],
   "source": [
    "dNN = (E_lumo[1,1,1] - E_homo[1,1,1]) / 2\n",
    "print dNN\n",
    "\n",
    "dNz1 = (E_dN[2,1,1] - E_dN[0,1,1]) / (2*dx[0])\n",
    "print dNz1\n",
    "\n",
    "dNz2 = (E_dN[1,2,1] - E_dN[1,0,1]) / (2*dx[1])\n",
    "print dNz2\n",
    "\n",
    "dNr = (E_dN[1,1,2] - E_dN[1,1,0]) / (2*dx[2])\n",
    "print dNr"
   ]
  },
  {
   "cell_type": "code",
   "execution_count": 7,
   "metadata": {
    "collapsed": true
   },
   "outputs": [],
   "source": [
    "E = np.zeros([3,3,3])\n",
    "out_arr = np.zeros([3,3,3], dtype=object)\n",
    "for out in outs:\n",
    "    i,j,k = map(int, list(os.path.splitext(out.name)[0].split('_')[1]))\n",
    "    #print i,j,k, os.path.splitext(out.name)[0], out.energies\n",
    "    E[i,j,k] = out.Et - out.nuclear_repulsion\n",
    "    out_arr[i,j,k] = out\n",
    "#E = np.array(E)\n",
    "#print E\n",
    "#np.savez('data_N2_ccsdt_wocharge.npz', E=E, dZ=dZ)"
   ]
  },
  {
   "cell_type": "code",
   "execution_count": 11,
   "metadata": {},
   "outputs": [
    {
     "ename": "NameError",
     "evalue": "name 'dx' is not defined",
     "output_type": "error",
     "traceback": [
      "\u001b[0;31m---------------------------------------------------------------------------\u001b[0m",
      "\u001b[0;31mNameError\u001b[0m                                 Traceback (most recent call last)",
      "\u001b[0;32m<ipython-input-11-88c821528b1c>\u001b[0m in \u001b[0;36m<module>\u001b[0;34m()\u001b[0m\n\u001b[0;32m----> 1\u001b[0;31m \u001b[0mFD_2nd\u001b[0m\u001b[0;34m(\u001b[0m\u001b[0mE\u001b[0m\u001b[0;34m,\u001b[0m \u001b[0mdx\u001b[0m\u001b[0;34m)\u001b[0m\u001b[0;34m\u001b[0m\u001b[0m\n\u001b[0m",
      "\u001b[0;31mNameError\u001b[0m: name 'dx' is not defined"
     ]
    }
   ],
   "source": [
    "FD_2nd(E, dx)"
   ]
  },
  {
   "cell_type": "code",
   "execution_count": 1,
   "metadata": {},
   "outputs": [
    {
     "ename": "NameError",
     "evalue": "name 'E' is not defined",
     "output_type": "error",
     "traceback": [
      "\u001b[0;31m---------------------------------------------------------------------------\u001b[0m",
      "\u001b[0;31mNameError\u001b[0m                                 Traceback (most recent call last)",
      "\u001b[0;32m<ipython-input-1-66cfcbdbdbcf>\u001b[0m in \u001b[0;36m<module>\u001b[0;34m()\u001b[0m\n\u001b[0;32m----> 1\u001b[0;31m \u001b[0mdrr\u001b[0m \u001b[0;34m=\u001b[0m \u001b[0;34m(\u001b[0m\u001b[0mE\u001b[0m\u001b[0;34m[\u001b[0m\u001b[0;36m1\u001b[0m\u001b[0;34m,\u001b[0m\u001b[0;36m1\u001b[0m\u001b[0;34m,\u001b[0m\u001b[0;36m2\u001b[0m\u001b[0;34m]\u001b[0m \u001b[0;34m-\u001b[0m \u001b[0;36m2\u001b[0m \u001b[0;34m*\u001b[0m \u001b[0mE\u001b[0m\u001b[0;34m[\u001b[0m\u001b[0;36m1\u001b[0m\u001b[0;34m,\u001b[0m\u001b[0;36m1\u001b[0m\u001b[0;34m,\u001b[0m\u001b[0;36m1\u001b[0m\u001b[0;34m]\u001b[0m \u001b[0;34m+\u001b[0m \u001b[0mE\u001b[0m\u001b[0;34m[\u001b[0m\u001b[0;36m1\u001b[0m\u001b[0;34m,\u001b[0m\u001b[0;36m1\u001b[0m\u001b[0;34m,\u001b[0m\u001b[0;36m0\u001b[0m\u001b[0;34m]\u001b[0m\u001b[0;34m)\u001b[0m \u001b[0;34m/\u001b[0m \u001b[0;34m(\u001b[0m\u001b[0mdx\u001b[0m\u001b[0;34m[\u001b[0m\u001b[0;36m2\u001b[0m\u001b[0;34m]\u001b[0m \u001b[0;34m**\u001b[0m \u001b[0;36m2\u001b[0m\u001b[0;34m)\u001b[0m\u001b[0;34m\u001b[0m\u001b[0m\n\u001b[0m\u001b[1;32m      2\u001b[0m \u001b[0;32mprint\u001b[0m \u001b[0mdrr\u001b[0m\u001b[0;34m\u001b[0m\u001b[0m\n\u001b[1;32m      3\u001b[0m \u001b[0;32mfor\u001b[0m \u001b[0m_i\u001b[0m \u001b[0;32min\u001b[0m \u001b[0mrange\u001b[0m\u001b[0;34m(\u001b[0m\u001b[0;36m3\u001b[0m\u001b[0;34m)\u001b[0m\u001b[0;34m:\u001b[0m\u001b[0;34m\u001b[0m\u001b[0m\n\u001b[1;32m      4\u001b[0m     \u001b[0mi\u001b[0m \u001b[0;34m=\u001b[0m \u001b[0;36m2\u001b[0m \u001b[0;34m-\u001b[0m \u001b[0m_i\u001b[0m\u001b[0;34m\u001b[0m\u001b[0m\n\u001b[1;32m      5\u001b[0m     \u001b[0mout\u001b[0m \u001b[0;34m=\u001b[0m \u001b[0mout_arr\u001b[0m\u001b[0;34m[\u001b[0m\u001b[0;36m1\u001b[0m\u001b[0;34m,\u001b[0m\u001b[0;36m1\u001b[0m\u001b[0;34m,\u001b[0m\u001b[0mi\u001b[0m\u001b[0;34m]\u001b[0m\u001b[0;34m\u001b[0m\u001b[0m\n",
      "\u001b[0;31mNameError\u001b[0m: name 'E' is not defined"
     ]
    }
   ],
   "source": [
    "drr = (E[1,1,2] - 2 * E[1,1,1] + E[1,1,0]) / (dx[2] ** 2)\n",
    "print drr\n",
    "for _i in range(3):\n",
    "    i = 2 - _i\n",
    "    out = out_arr[1,1,i]\n",
    "    Ee1 = out.Et - out.nuclear_repulsion\n",
    "    Ee2 = 0\n",
    "    for key in ['Eee', 'Eext', 'Ekin', 'Ex']:\n",
    "        Ee2 += out.energies[key] \n",
    "    print E[1,1,i] - Ee1,\n",
    "    print E[1,1,i] - Ee2"
   ]
  },
  {
   "cell_type": "code",
   "execution_count": 63,
   "metadata": {},
   "outputs": [
    {
     "name": "stdout",
     "output_type": "stream",
     "text": [
      "-1.8775600000026311\n",
      "-1.8775600000026311\n",
      "-33.074930069290076\n",
      "0.5077700000015284 0.5127200000060839\n",
      "0.28070000000468553\n"
     ]
    }
   ],
   "source": [
    "dz1z1 = (E[2,1,1] - 2 * E[1,1,1] + E[0,1,1]) / dx[0] ** 2\n",
    "print dz1z1\n",
    "\n",
    "dz2z2 = (E[1,2,1] - 2 * E[1,1,1] + E[1,0,1]) / dx[1] ** 2\n",
    "print dz2z2\n",
    "\n",
    "drr = (E[1,1,2] - 2 * E[1,1,1] + E[1,1,0]) / dx[2] ** 2\n",
    "print drr\n",
    "\n",
    "dz1z2 = ((E[2,2,1] - E[0,2,1]) / (2*dx[0]) - (E[2,0,1] - E[0,0,1]) / (2*dx[0])) / (2*dx[1])\n",
    "dz1z2_1 = ((E[2,2,1] - E[1,2,1]) / dx[0] - (E[2,1,1] - E[1,1,1]) / dx[0]) / dx[1]\n",
    "print dz1z2, dz1z2_1\n",
    "dz1r = ((E[2,1,2] - E[0,1,2]) / (2*dx[0]) - (E[2,1,0] - E[0,1,0]) / (2*dx[0])) / (2*dx[2])\n",
    "print dz1r\n",
    "dz2r = ((E[1,2,2] - E[1,0,2]) / (2*dx[1]) - (E[1,2,0] - E[1,0,0]) / (2*dx[1])) / (2*dx[2])"
   ]
  },
  {
   "cell_type": "code",
   "execution_count": 64,
   "metadata": {},
   "outputs": [
    {
     "data": {
      "text/plain": [
       "array([-18.287127  , -18.287127  ,  21.34176654])"
      ]
     },
     "execution_count": 64,
     "metadata": {},
     "output_type": "execute_result"
    }
   ],
   "source": [
    "dr = (E[1,1,2] - E[1,1,0]) / (2 * dx[2])\n",
    "dz1 = (E[2,1,1] - E[0,1,1]) / (2 * dx[0])\n",
    "dz2 = (E[1,2,1] - E[1,0,1]) / (2 * dx[1])\n",
    "np.array([dz1, dz2, dr])"
   ]
  },
  {
   "cell_type": "code",
   "execution_count": 3,
   "metadata": {},
   "outputs": [
    {
     "ename": "NameError",
     "evalue": "name 'dz1z1' is not defined",
     "output_type": "error",
     "traceback": [
      "\u001b[0;31m---------------------------------------------------------------------------\u001b[0m",
      "\u001b[0;31mNameError\u001b[0m                                 Traceback (most recent call last)",
      "\u001b[0;32m<ipython-input-3-1904da3fd5e3>\u001b[0m in \u001b[0;36m<module>\u001b[0;34m()\u001b[0m\n\u001b[1;32m      1\u001b[0m H_3D = np.array([\n\u001b[0;32m----> 2\u001b[0;31m     \u001b[0;34m[\u001b[0m\u001b[0mdz1z1\u001b[0m\u001b[0;34m,\u001b[0m \u001b[0mdz1z2\u001b[0m\u001b[0;34m,\u001b[0m \u001b[0mdz1r\u001b[0m\u001b[0;34m]\u001b[0m\u001b[0;34m,\u001b[0m\u001b[0;34m\u001b[0m\u001b[0m\n\u001b[0m\u001b[1;32m      3\u001b[0m     \u001b[0;34m[\u001b[0m\u001b[0mdz1z2\u001b[0m\u001b[0;34m,\u001b[0m \u001b[0mdz2z2\u001b[0m\u001b[0;34m,\u001b[0m \u001b[0mdz2r\u001b[0m\u001b[0;34m]\u001b[0m\u001b[0;34m,\u001b[0m\u001b[0;34m\u001b[0m\u001b[0m\n\u001b[1;32m      4\u001b[0m     \u001b[0;34m[\u001b[0m\u001b[0mdz1r\u001b[0m\u001b[0;34m,\u001b[0m \u001b[0mdz2r\u001b[0m\u001b[0;34m,\u001b[0m \u001b[0mdrr\u001b[0m\u001b[0;34m]\u001b[0m\u001b[0;34m\u001b[0m\u001b[0m\n\u001b[1;32m      5\u001b[0m ])\n",
      "\u001b[0;31mNameError\u001b[0m: name 'dz1z1' is not defined"
     ]
    }
   ],
   "source": [
    "H_3D = np.array([\n",
    "    [dz1z1, dz1z2, dz1r],\n",
    "    [dz1z2, dz2z2, dz2r],\n",
    "    [dz1r, dz2r, drr]\n",
    "])\n",
    "H_3D"
   ]
  },
  {
   "cell_type": "code",
   "execution_count": 117,
   "metadata": {
    "collapsed": true
   },
   "outputs": [],
   "source": [
    "H_4D = np.array([\n",
    "    [dz1z1, dz1z2, dz1r, dNz1],\n",
    "    [dz1z2, dz2z2, dz2r, dNz2],\n",
    "    [dz1r, dz2r, drr, dNr],\n",
    "    [dNz1, dNz2, dNr, dNN]\n",
    "])"
   ]
  },
  {
   "cell_type": "code",
   "execution_count": 118,
   "metadata": {
    "collapsed": true
   },
   "outputs": [],
   "source": [
    "from matplotlib import pyplot as plt\n",
    "%matplotlib inline"
   ]
  },
  {
   "cell_type": "code",
   "execution_count": 119,
   "metadata": {},
   "outputs": [
    {
     "data": {
      "text/plain": [
       "(array([-33.0835641 ,  -2.38533   ,  -1.36482014]),\n",
       " array([[-8.85113848e-03, -7.07106781e-01,  7.07051382e-01],\n",
       "        [-8.85113848e-03,  7.07106781e-01,  7.07051382e-01],\n",
       "        [ 9.99921654e-01, -5.55111512e-17,  1.25174001e-02]]))"
      ]
     },
     "execution_count": 119,
     "metadata": {},
     "output_type": "execute_result"
    }
   ],
   "source": [
    "np.linalg.eigh(H_3D)"
   ]
  },
  {
   "cell_type": "code",
   "execution_count": 125,
   "metadata": {
    "collapsed": true
   },
   "outputs": [],
   "source": [
    "w, v = np.linalg.eigh(H_4D)"
   ]
  },
  {
   "cell_type": "code",
   "execution_count": 129,
   "metadata": {},
   "outputs": [
    {
     "name": "stdout",
     "output_type": "stream",
     "text": [
      "[-0.00875466 -0.00875466  0.99990255  0.00645014]\n",
      "[ 7.07106781e-01 -7.07106781e-01  1.11022302e-16  3.33066907e-16]\n",
      "[0.66139693 0.66139693 0.00930086 0.35358408]\n",
      "[-0.24995492 -0.24995492 -0.01041089  0.93538051]\n"
     ]
    }
   ],
   "source": [
    "for i in range(4):\n",
    "    print v[:,i]"
   ]
  },
  {
   "cell_type": "markdown",
   "metadata": {},
   "source": [
    "# H2 to Pb2"
   ]
  },
  {
   "cell_type": "code",
   "execution_count": 8,
   "metadata": {},
   "outputs": [
    {
     "data": {
      "text/plain": [
       "(2, 2, 2, 2)"
      ]
     },
     "execution_count": 8,
     "metadata": {},
     "output_type": "execute_result"
    }
   ],
   "source": [
    "i,j,k,l"
   ]
  },
  {
   "cell_type": "code",
   "execution_count": 1,
   "metadata": {},
   "outputs": [
    {
     "name": "stderr",
     "output_type": "stream",
     "text": [
      "/home/samio/local/miniconda2/lib/python2.7/site-packages/h5py/__init__.py:36: FutureWarning: Conversion of the second argument of issubdtype from `float` to `np.floating` is deprecated. In future, it will be treated as `np.float64 == np.dtype(float).type`.\n",
      "  from ._conv import register_converters as _register_converters\n"
     ]
    },
    {
     "name": "stdout",
     "output_type": "stream",
     "text": [
      "\u001b[93mmissing file: mov2asc\u001b[0m\n",
      "\u001b[93mplease modify /path/to/qctoolkit/setting.py and recompile.\u001b[0m\n"
     ]
    }
   ],
   "source": [
    "import qctoolkit as qtk\n",
    "with open('ano_gbasis_h-pb.txt') as f:\n",
    "#with open('sto2g_gbasis.txt') as f:\n",
    "    basis = f.readlines()"
   ]
  },
  {
   "cell_type": "code",
   "execution_count": 2,
   "metadata": {
    "collapsed": true
   },
   "outputs": [],
   "source": [
    "mol = qtk.Molecule()\n",
    "ZR = [[82, 0,0,0], [82, 3,0,0]]\n",
    "#ZR = [[1, 0,0,0], [1, 3,0,0]]\n",
    "mol.build(ZR)\n",
    "\n",
    "inp = qtk.QMInp(mol, program='gaussian', basis_set=basis)"
   ]
  },
  {
   "cell_type": "code",
   "execution_count": 48,
   "metadata": {
    "collapsed": true
   },
   "outputs": [],
   "source": [
    "#inp.run('Pb_test_2', overwrite=True)"
   ]
  },
  {
   "cell_type": "code",
   "execution_count": 4,
   "metadata": {},
   "outputs": [
    {
     "name": "stdout",
     "output_type": "stream",
     "text": [
      "%nproc=1\n",
      "# pbepbe/gen force int(grid=ultrafine) 6d 10f Scf(xqc, maxcycle=1000,verytight) nosymm IOp(2/12=3)\n",
      "\n",
      "Pb2\n",
      "\n",
      "0   1\n",
      "Pb   0.0000   0.0000   0.0000\n",
      "Pb   3.0000   0.0000   0.0000\n",
      "\n",
      "Pb     0 \n",
      "S   25   1.00\n",
      " 53286308.10000000           0.00123695       \n",
      " 12563091.60000000           0.00157486       \n",
      " 3649632.710000000           0.00411074       \n",
      " 1155667.460000000           0.00741927       \n",
      " 393662.3720000000           0.01505097       \n",
      " 141880.7120000000           0.02801240       \n",
      "  53715.8205000000           0.05327655       \n",
      "  21155.9239000000           0.09863867       \n",
      "   8592.0215100000           0.17847075       \n",
      "   3587.6991100000           0.28538789       \n",
      "   1543.1283500000           0.33478996       \n",
      "    682.7511080000           0.19360405       \n",
      "    310.8099220000           0.02521078       \n",
      "    147.3366870000           0.00188799       \n",
      "     72.0274889000          -0.00160778       \n",
      "     36.0688738000           0.00122738       \n",
      "     17.9146370000          -0.00086345       \n",
      "      8.7852393500           0.00053790       \n",
      "      4.2545960900          -0.00028475       \n",
      "      1.8741602900           0.00013154       \n",
      "      0.7852681400          -0.00005940       \n",
      "      0.2936902700           0.00002581       \n",
      "      0.1001445400          -0.00001347       \n",
      "      0.0400578100           0.00000718       \n",
      "      0.0160231200          -0.00000217       \n",
      "S   25   1.00\n",
      " 53286308.10000000          -0.00048674       \n",
      " 12563091.60000000          -0.00062104       \n",
      " 3649632.710000000          -0.00162401       \n",
      " 1155667.460000000          -0.00294566       \n",
      " 393662.3720000000          -0.00601857       \n",
      " 141880.7120000000          -0.01134671       \n",
      "  53715.8205000000          -0.02202650       \n",
      "  21155.9239000000          -0.04223383       \n",
      "   8592.0215100000          -0.08111529       \n",
      "   3587.6991100000          -0.14419831       \n",
      "   1543.1283500000          -0.19872440       \n",
      "    682.7511080000          -0.08446466       \n",
      "    310.8099220000           0.36402626       \n",
      "    147.3366870000           0.59060082       \n",
      "     72.0274889000           0.19706677       \n",
      "     36.0688738000           0.00850228       \n",
      "     17.9146370000          -0.00047110       \n",
      "      8.7852393500           0.00041879       \n",
      "      4.2545960900          -0.00039563       \n",
      "      1.8741602900           0.00020842       \n",
      "      0.7852681400          -0.00009306       \n",
      "      0.2936902700           0.00004285       \n",
      "      0.1001445400          -0.00002070       \n",
      "      0.0400578100           0.00001170       \n",
      "      0.0160231200          -0.00000352       \n",
      "S   25   1.00\n",
      " 53286308.10000000           0.00023426       \n",
      " 12563091.60000000           0.00029900       \n",
      " 3649632.710000000           0.00078215       \n",
      " 1155667.460000000           0.00141978       \n",
      " 393662.3720000000           0.00290457       \n",
      " 141880.7120000000           0.00548705       \n",
      "  53715.8205000000           0.01069073       \n",
      "  21155.9239000000           0.02061465       \n",
      "   8592.0215100000           0.04003113       \n",
      "   3587.6991100000           0.07249952       \n",
      "   1543.1283500000           0.10329430       \n",
      "    682.7511080000           0.03926337       \n",
      "    310.8099220000          -0.29109947       \n",
      "    147.3366870000          -0.64193206       \n",
      "     72.0274889000          -0.03270401       \n",
      "     36.0688738000           0.90179309       \n",
      "     17.9146370000           0.39332371       \n",
      "      8.7852393500           0.01011903       \n",
      "      4.2545960900           0.00495967       \n",
      "      1.8741602900          -0.00198593       \n",
      "      0.7852681400           0.00076978       \n",
      "      0.2936902700          -0.00035467       \n",
      "      0.1001445400           0.00015726       \n",
      "      0.0400578100          -0.00009306       \n",
      "      0.0160231200           0.00002774       \n",
      "S   25   1.00\n",
      " 53286308.10000000          -0.00011816       \n",
      " 12563091.60000000          -0.00015084       \n",
      " 3649632.710000000          -0.00039457       \n",
      " 1155667.460000000          -0.00071645       \n",
      " 393662.3720000000          -0.00146591       \n",
      " 141880.7120000000          -0.00277144       \n",
      "  53715.8205000000          -0.00540193       \n",
      "  21155.9239000000          -0.01043958       \n",
      "   8592.0215100000          -0.02030022       \n",
      "   3587.6991100000          -0.03701810       \n",
      "   1543.1283500000          -0.05295906       \n",
      "    682.7511080000          -0.01999612       \n",
      "    310.8099220000           0.16798550       \n",
      "    147.3366870000           0.39637478       \n",
      "     72.0274889000           0.00662576       \n",
      "     36.0688738000          -1.05948353       \n",
      "     17.9146370000          -0.40295351       \n",
      "      8.7852393500           1.08402897       \n",
      "      4.2545960900           0.48278158       \n",
      "      1.8741602900           0.00259362       \n",
      "      0.7852681400           0.00524871       \n",
      "      0.2936902700          -0.00185898       \n",
      "      0.1001445400           0.00118597       \n",
      "      0.0400578100          -0.00055806       \n",
      "      0.0160231200           0.00017278       \n",
      "S   25   1.00\n",
      " 53286308.10000000           0.00005300       \n",
      " 12563091.60000000           0.00006766       \n",
      " 3649632.710000000           0.00017700       \n",
      " 1155667.460000000           0.00032136       \n",
      " 393662.3720000000           0.00065775       \n",
      " 141880.7120000000           0.00124315       \n",
      "  53715.8205000000           0.00242534       \n",
      "  21155.9239000000           0.00468352       \n",
      "   8592.0215100000           0.00912901       \n",
      "   3587.6991100000           0.01662228       \n",
      "   1543.1283500000           0.02394591       \n",
      "    682.7511080000           0.00872058       \n",
      "    310.8099220000          -0.07714292       \n",
      "    147.3366870000          -0.18932743       \n",
      "     72.0274889000           0.00374478       \n",
      "     36.0688738000           0.57735939       \n",
      "     17.9146370000           0.24581970       \n",
      "      8.7852393500          -1.01302529       \n",
      "      4.2545960900          -0.60413479       \n",
      "      1.8741602900           1.08399948       \n",
      "      0.7852681400           0.51200330       \n",
      "      0.2936902700          -0.01498951       \n",
      "      0.1001445400           0.01263344       \n",
      "      0.0400578100          -0.00683447       \n",
      "      0.0160231200           0.00208151       \n",
      "S   25   1.00\n",
      " 53286308.10000000          -0.00001783       \n",
      " 12563091.60000000          -0.00002275       \n",
      " 3649632.710000000          -0.00005954       \n",
      " 1155667.460000000          -0.00010808       \n",
      " 393662.3720000000          -0.00022127       \n",
      " 141880.7120000000          -0.00041805       \n",
      "  53715.8205000000          -0.00081615       \n",
      "  21155.9239000000          -0.00157460       \n",
      "   8592.0215100000          -0.00307420       \n",
      "   3587.6991100000          -0.00558569       \n",
      "   1543.1283500000          -0.00808456       \n",
      "    682.7511080000          -0.00286615       \n",
      "    310.8099220000           0.02592346       \n",
      "    147.3366870000           0.06483622       \n",
      "     72.0274889000          -0.00270119       \n",
      "     36.0688738000          -0.19943491       \n",
      "     17.9146370000          -0.09313260       \n",
      "      8.7852393500           0.40377013       \n",
      "      4.2545960900           0.24341460       \n",
      "      1.8741602900          -0.61913807       \n",
      "      0.7852681400          -0.49040584       \n",
      "      0.2936902700           0.66592448       \n",
      "      0.1001445400           0.69950064       \n",
      "      0.0400578100          -0.01205948       \n",
      "      0.0160231200           0.02089964       \n",
      "S   25   1.00\n",
      " 53286308.10000000           0.00002871       \n",
      " 12563091.60000000           0.00003666       \n",
      " 3649632.710000000           0.00009587       \n",
      " 1155667.460000000           0.00017417       \n",
      " 393662.3720000000           0.00035613       \n",
      " 141880.7120000000           0.00067425       \n",
      "  53715.8205000000           0.00131187       \n",
      "  21155.9239000000           0.00254495       \n",
      "   8592.0215100000           0.00492733       \n",
      "   3587.6991100000           0.00907353       \n",
      "   1543.1283500000           0.01281819       \n",
      "    682.7511080000           0.00521329       \n",
      "    310.8099220000          -0.04363057       \n",
      "    147.3366870000          -0.10066234       \n",
      "     72.0274889000          -0.00591430       \n",
      "     36.0688738000           0.35439295       \n",
      "     17.9146370000           0.09952041       \n",
      "      8.7852393500          -0.61726772       \n",
      "      4.2545960900          -0.58900263       \n",
      "      1.8741602900           1.89916324       \n",
      "      0.7852681400          -0.51217441       \n",
      "      0.2936902700          -1.67821821       \n",
      "      0.1001445400           1.12522169       \n",
      "      0.0400578100           0.29708789       \n",
      "      0.0160231200           0.03191154       \n",
      "S   25   1.00\n",
      " 53286308.10000000          -0.00003665       \n",
      " 12563091.60000000          -0.00004678       \n",
      " 3649632.710000000          -0.00012238       \n",
      " 1155667.460000000          -0.00022222       \n",
      " 393662.3720000000          -0.00045476       \n",
      " 141880.7120000000          -0.00085987       \n",
      "  53715.8205000000          -0.00167675       \n",
      "  21155.9239000000          -0.00324157       \n",
      "   8592.0215100000          -0.00631157       \n",
      "   3587.6991100000          -0.01152345       \n",
      "   1543.1283500000          -0.01655581       \n",
      "    682.7511080000          -0.00613688       \n",
      "    310.8099220000           0.05459062       \n",
      "    147.3366870000           0.13379470       \n",
      "     72.0274889000          -0.00416507       \n",
      "     36.0688738000          -0.44699982       \n",
      "     17.9146370000          -0.16061609       \n",
      "      8.7852393500           0.96432029       \n",
      "      4.2545960900           0.69208262       \n",
      "      1.8741602900          -3.64413767       \n",
      "      0.7852681400           4.04503515       \n",
      "      0.2936902700          -1.62825585       \n",
      "      0.1001445400          -1.06052259       \n",
      "      0.0400578100           1.53764292       \n",
      "      0.0160231200          -0.14236833       \n",
      "S   25   1.00\n",
      " 53286308.10000000           0.00003875       \n",
      " 12563091.60000000           0.00004927       \n",
      " 3649632.710000000           0.00012969       \n",
      " 1155667.460000000           0.00023331       \n",
      " 393662.3720000000           0.00048480       \n",
      " 141880.7120000000           0.00089368       \n",
      "  53715.8205000000           0.00181689       \n",
      "  21155.9239000000           0.00328459       \n",
      "   8592.0215100000           0.00708330       \n",
      "   3587.6991100000           0.01096930       \n",
      "   1543.1283500000           0.02097677       \n",
      "    682.7511080000          -0.00332194       \n",
      "    310.8099220000          -0.03074179       \n",
      "    147.3366870000          -0.21713666       \n",
      "     72.0274889000           0.19002153       \n",
      "     36.0688738000           0.09785217       \n",
      "     17.9146370000           0.95134698       \n",
      "      8.7852393500          -2.70241156       \n",
      "      4.2545960900           1.90374503       \n",
      "      1.8741602900           1.44659180       \n",
      "      0.7852681400          -4.10147431       \n",
      "      0.2936902700           4.84335144       \n",
      "      0.1001445400          -4.56588749       \n",
      "      0.0400578100           2.63607428       \n",
      "      0.0160231200          -0.24677807       \n",
      "S   25   1.00\n",
      " 53286308.10000000          -0.00007554       \n",
      " 12563091.60000000          -0.00009573       \n",
      " 3649632.710000000          -0.00025337       \n",
      " 1155667.460000000          -0.00045198       \n",
      " 393662.3720000000          -0.00095237       \n",
      " 141880.7120000000          -0.00171497       \n",
      "  53715.8205000000          -0.00362185       \n",
      "  21155.9239000000          -0.00615096       \n",
      "   8592.0215100000          -0.01455084       \n",
      "   3587.6991100000          -0.01924567       \n",
      "   1543.1283500000          -0.04714054       \n",
      "    682.7511080000           0.02390007       \n",
      "    310.8099220000           0.01416899       \n",
      "    147.3366870000           0.56395932       \n",
      "     72.0274889000          -0.72393417       \n",
      "     36.0688738000           0.43835534       \n",
      "     17.9146370000          -3.19963121       \n",
      "      8.7852393500           9.15238324       \n",
      "      4.2545960900         -12.06113464       \n",
      "      1.8741602900           9.84566581       \n",
      "      0.7852681400          -6.01810140       \n",
      "      0.2936902700           2.91951641       \n",
      "      0.1001445400          -0.95411233       \n",
      "      0.0400578100          -0.53399464       \n",
      "      0.0160231200           0.81133562       \n",
      "S   25   1.00\n",
      " 53286308.10000000           0.00004082       \n",
      " 12563091.60000000           0.00005219       \n",
      " 3649632.710000000           0.00013619       \n",
      " 1155667.460000000           0.00024826       \n",
      " 393662.3720000000           0.00050495       \n",
      " 141880.7120000000           0.00096477       \n",
      "  53715.8205000000           0.00185094       \n",
      "  21155.9239000000           0.00367490       \n",
      "   8592.0215100000           0.00688281       \n",
      "   3587.6991100000           0.01338877       \n",
      "   1543.1283500000           0.01719381       \n",
      "    682.7511080000           0.01083776       \n",
      "    310.8099220000          -0.07658288       \n",
      "    147.3366870000          -0.13481287       \n",
      "     72.0274889000          -0.01823188       \n",
      "     36.0688738000           0.76062934       \n",
      "     17.9146370000          -0.26236550       \n",
      "      8.7852393500          -2.19267238       \n",
      "      4.2545960900           4.21126613       \n",
      "      1.8741602900          -4.42449942       \n",
      "      0.7852681400           3.75867401       \n",
      "      0.2936902700          -3.31980409       \n",
      "      0.1001445400           4.11343211       \n",
      "      0.0400578100          -4.73445385       \n",
      "      0.0160231200           2.70163170       \n",
      "P   22   1.00\n",
      " 18424232.60000000           0.00003414       \n",
      " 3401762.550000000           0.00008940       \n",
      " 789635.4750000000           0.00026121       \n",
      " 211624.2280000000           0.00072244       \n",
      "  63404.1081000000           0.00205044       \n",
      "  20924.9750000000           0.00593936       \n",
      "   7562.8489800000           0.01738611       \n",
      "   2974.2190100000           0.04974683       \n",
      "   1257.7878100000           0.12980023       \n",
      "    563.3720440000           0.27467623       \n",
      "    263.9091290000           0.38902530       \n",
      "    127.7845750000           0.27401713       \n",
      "     61.9403223000           0.06050755       \n",
      "     31.2051312000           0.00006060       \n",
      "     15.5810598000           0.00067349       \n",
      "      7.6522069100          -0.00042115       \n",
      "      3.6955296800           0.00016156       \n",
      "      1.6340977500          -0.00006057       \n",
      "      0.6924560600           0.00002478       \n",
      "      0.1895173600          -0.00000694       \n",
      "      0.0591510800           0.00000359       \n",
      "      0.0236604300          -0.00000145       \n",
      "P   22   1.00\n",
      " 18424232.60000000          -0.00001767       \n",
      " 3401762.550000000          -0.00004632       \n",
      " 789635.4750000000          -0.00013557       \n",
      " 211624.2280000000          -0.00037590       \n",
      "  63404.1081000000          -0.00107188       \n",
      "  20924.9750000000          -0.00312306       \n",
      "   7562.8489800000          -0.00924858       \n",
      "   2974.2190100000          -0.02691427       \n",
      "   1257.7878100000          -0.07263240       \n",
      "    563.3720440000          -0.16091426       \n",
      "    263.9091290000          -0.23702841       \n",
      "    127.7845750000          -0.06384611       \n",
      "     61.9403223000           0.43743794       \n",
      "     31.2051312000           0.53808139       \n",
      "     15.5810598000           0.14564127       \n",
      "      7.6522069100           0.00602902       \n",
      "      3.6955296800           0.00040611       \n",
      "      1.6340977500          -0.00013246       \n",
      "      0.6924560600          -0.00000688       \n",
      "      0.1895173600          -0.00000146       \n",
      "      0.0591510800           0.00000086       \n",
      "      0.0236604300          -0.00000025       \n",
      "P   22   1.00\n",
      " 18424232.60000000           0.00000888       \n",
      " 3401762.550000000           0.00002328       \n",
      " 789635.4750000000           0.00006815       \n",
      " 211624.2280000000           0.00018911       \n",
      "  63404.1081000000           0.00053971       \n",
      "  20924.9750000000           0.00157533       \n",
      "   7562.8489800000           0.00467580       \n",
      "   2974.2190100000           0.01367161       \n",
      "   1257.7878100000           0.03717380       \n",
      "    563.3720440000           0.08343390       \n",
      "    263.9091290000           0.12389402       \n",
      "    127.7845750000           0.01389920       \n",
      "     61.9403223000          -0.35207749       \n",
      "     31.2051312000          -0.44046655       \n",
      "     15.5810598000           0.30973638       \n",
      "      7.6522069100           0.71976402       \n",
      "      3.6955296800           0.22185722       \n",
      "      1.6340977500           0.00652641       \n",
      "      0.6924560600           0.00095703       \n",
      "      0.1895173600          -0.00022087       \n",
      "      0.0591510800           0.00010185       \n",
      "      0.0236604300          -0.00004199       \n",
      "P   22   1.00\n",
      " 18424232.60000000          -0.00000373       \n",
      " 3401762.550000000          -0.00000977       \n",
      " 789635.4750000000          -0.00002861       \n",
      " 211624.2280000000          -0.00007946       \n",
      "  63404.1081000000          -0.00022650       \n",
      "  20924.9750000000          -0.00066285       \n",
      "   7562.8489800000          -0.00196222       \n",
      "   2974.2190100000          -0.00576790       \n",
      "   1257.7878100000          -0.01562655       \n",
      "    563.3720440000          -0.03543257       \n",
      "    263.9091290000          -0.05206461       \n",
      "    127.7845750000          -0.00492015       \n",
      "     61.9403223000           0.16726207       \n",
      "     31.2051312000           0.19818397       \n",
      "     15.5810598000          -0.20174350       \n",
      "      7.6522069100          -0.55228446       \n",
      "      3.6955296800           0.07636253       \n",
      "      1.6340977500           0.76310201       \n",
      "      0.6924560600           0.34357529       \n",
      "      0.1895173600           0.01422586       \n",
      "      0.0591510800          -0.00193939       \n",
      "      0.0236604300           0.00068665       \n",
      "P   22   1.00\n",
      " 18424232.60000000           0.00000094       \n",
      " 3401762.550000000           0.00000247       \n",
      " 789635.4750000000           0.00000723       \n",
      " 211624.2280000000           0.00002007       \n",
      "  63404.1081000000           0.00005726       \n",
      "  20924.9750000000           0.00016738       \n",
      "   7562.8489800000           0.00049650       \n",
      "   2974.2190100000           0.00145580       \n",
      "   1257.7878100000           0.00395894       \n",
      "    563.3720440000           0.00893803       \n",
      "    263.9091290000           0.01324649       \n",
      "    127.7845750000           0.00097527       \n",
      "     61.9403223000          -0.04245236       \n",
      "     31.2051312000          -0.05192693       \n",
      "     15.5810598000           0.05703470       \n",
      "      7.6522069100           0.14769082       \n",
      "      3.6955296800          -0.02589337       \n",
      "      1.6340977500          -0.29782993       \n",
      "      0.6924560600          -0.06780262       \n",
      "      0.1895173600           0.58671328       \n",
      "      0.0591510800           0.51965396       \n",
      "      0.0236604300           0.04494101       \n",
      "P   22   1.00\n",
      " 18424232.60000000          -0.00000183       \n",
      " 3401762.550000000          -0.00000479       \n",
      " 789635.4750000000          -0.00001406       \n",
      " 211624.2280000000          -0.00003886       \n",
      "  63404.1081000000          -0.00011168       \n",
      "  20924.9750000000          -0.00032268       \n",
      "   7562.8489800000          -0.00097283       \n",
      "   2974.2190100000          -0.00279297       \n",
      "   1257.7878100000          -0.00779885       \n",
      "    563.3720440000          -0.01701024       \n",
      "    263.9091290000          -0.02671883       \n",
      "    127.7845750000           0.00069373       \n",
      "     61.9403223000           0.07662064       \n",
      "     31.2051312000           0.11638706       \n",
      "     15.5810598000          -0.14444722       \n",
      "      7.6522069100          -0.24452304       \n",
      "      3.6955296800          -0.03553464       \n",
      "      1.6340977500           0.96585543       \n",
      "      0.6924560600          -0.68012762       \n",
      "      0.1895173600          -0.76348286       \n",
      "      0.0591510800           0.71137136       \n",
      "      0.0236604300           0.31076488       \n",
      "P   22   1.00\n",
      " 18424232.60000000           0.00000230       \n",
      " 3401762.550000000           0.00000602       \n",
      " 789635.4750000000           0.00001763       \n",
      " 211624.2280000000           0.00004893       \n",
      "  63404.1081000000           0.00013972       \n",
      "  20924.9750000000           0.00040793       \n",
      "   7562.8489800000           0.00121192       \n",
      "   2974.2190100000           0.00354840       \n",
      "   1257.7878100000           0.00966788       \n",
      "    563.3720440000           0.02180330       \n",
      "    263.9091290000           0.03241892       \n",
      "    127.7845750000           0.00203990       \n",
      "     61.9403223000          -0.10517535       \n",
      "     31.2051312000          -0.13053718       \n",
      "     15.5810598000           0.15542871       \n",
      "      7.6522069100           0.40014777       \n",
      "      3.6955296800          -0.13448201       \n",
      "      1.6340977500          -1.28451843       \n",
      "      0.6924560600           1.64980243       \n",
      "      0.1895173600          -0.62926107       \n",
      "      0.0591510800          -0.62100997       \n",
      "      0.0236604300           1.05151713       \n",
      "P   22   1.00\n",
      " 18424232.60000000          -0.00000269       \n",
      " 3401762.550000000          -0.00000711       \n",
      " 789635.4750000000          -0.00002053       \n",
      " 211624.2280000000          -0.00005849       \n",
      "  63404.1081000000          -0.00015969       \n",
      "  20924.9750000000          -0.00049945       \n",
      "   7562.8489800000          -0.00134478       \n",
      "   2974.2190100000          -0.00447071       \n",
      "   1257.7878100000          -0.01036391       \n",
      "    563.3720440000          -0.02880567       \n",
      "    263.9091290000          -0.02930363       \n",
      "    127.7845750000          -0.02484149       \n",
      "     61.9403223000           0.18411846       \n",
      "     31.2051312000           0.02547816       \n",
      "     15.5810598000           0.06145623       \n",
      "      7.6522069100          -1.03494326       \n",
      "      3.6955296800           1.28298445       \n",
      "      1.6340977500           0.08496119       \n",
      "      0.6924560600          -1.23065869       \n",
      "      0.1895173600           1.68811105       \n",
      "      0.0591510800          -2.09507944       \n",
      "      0.0236604300           1.38560338       \n",
      "P   22   1.00\n",
      " 18424232.60000000           0.00000525       \n",
      " 3401762.550000000           0.00001392       \n",
      " 789635.4750000000           0.00003989       \n",
      " 211624.2280000000           0.00011518       \n",
      "  63404.1081000000           0.00030723       \n",
      "  20924.9750000000           0.00099537       \n",
      "   7562.8489800000           0.00254648       \n",
      "   2974.2190100000           0.00903411       \n",
      "   1257.7878100000           0.01926752       \n",
      "    563.3720440000           0.05949390       \n",
      "    263.9091290000           0.04891279       \n",
      "    127.7845750000           0.06912600       \n",
      "     61.9403223000          -0.43154913       \n",
      "     31.2051312000           0.08873797       \n",
      "     15.5810598000          -0.33525025       \n",
      "      7.6522069100           2.86786609       \n",
      "      3.6955296800          -5.15761520       \n",
      "      1.6340977500           4.71108730       \n",
      "      0.6924560600          -2.63006579       \n",
      "      0.1895173600           1.21646097       \n",
      "      0.0591510800          -0.90846044       \n",
      "      0.0236604300           0.46739707       \n",
      "P   22   1.00\n",
      " 18424232.60000000          -0.00001043       \n",
      " 3401762.550000000          -0.00002611       \n",
      " 789635.4750000000          -0.00008315       \n",
      " 211624.2280000000          -0.00019751       \n",
      "  63404.1081000000          -0.00072544       \n",
      "  20924.9750000000          -0.00139315       \n",
      "   7562.8489800000          -0.00718360       \n",
      "   2974.2190100000          -0.00948245       \n",
      "   1257.7878100000          -0.06557958       \n",
      "    563.3720440000          -0.03085587       \n",
      "    263.9091290000          -0.34610902       \n",
      "    127.7845750000           0.51845737       \n",
      "     61.9403223000          -0.60233890       \n",
      "     31.2051312000           3.18885144       \n",
      "     15.5810598000          -7.24053139       \n",
      "      7.6522069100           8.42467087       \n",
      "      3.6955296800          -5.98069818       \n",
      "      1.6340977500           2.97008326       \n",
      "      0.6924560600          -1.13829531       \n",
      "      0.1895173600           0.36526670       \n",
      "      0.0591510800          -0.20758710       \n",
      "      0.0236604300           0.09027875       \n",
      "D   16   1.00\n",
      "   8592.0215100000           0.00040890       \n",
      "   3587.6991100000           0.00119020       \n",
      "   1543.1283500000           0.00597589       \n",
      "    682.7511080000           0.02488366       \n",
      "    310.8099220000           0.08869422       \n",
      "    147.3366870000           0.23084856       \n",
      "     72.0274889000           0.38973807       \n",
      "     36.0688738000           0.34749776       \n",
      "     17.9146370000           0.11991727       \n",
      "      8.7852393500           0.00894465       \n",
      "      4.2545960900           0.00109102       \n",
      "      1.8741602900          -0.00029202       \n",
      "      0.7852681400           0.00014233       \n",
      "      0.2936902700          -0.00006671       \n",
      "      0.1174761000           0.00003346       \n",
      "      0.0469904400          -0.00001137       \n",
      "D   16   1.00\n",
      "   8592.0215100000          -0.00021696       \n",
      "   3587.6991100000          -0.00062668       \n",
      "   1543.1283500000          -0.00319589       \n",
      "    682.7511080000          -0.01331531       \n",
      "    310.8099220000          -0.04852422       \n",
      "    147.3366870000          -0.12752669       \n",
      "     72.0274889000          -0.21053244       \n",
      "     36.0688738000          -0.10321119       \n",
      "     17.9146370000           0.30045810       \n",
      "      8.7852393500           0.53519083       \n",
      "      4.2545960900           0.28035468       \n",
      "      1.8741602900           0.03428407       \n",
      "      0.7852681400          -0.00070454       \n",
      "      0.2936902700           0.00046693       \n",
      "      0.1174761000          -0.00021970       \n",
      "      0.0469904400           0.00007140       \n",
      "D   16   1.00\n",
      "   8592.0215100000           0.00007517       \n",
      "   3587.6991100000           0.00021249       \n",
      "   1543.1283500000           0.00110947       \n",
      "    682.7511080000           0.00455679       \n",
      "    310.8099220000           0.01686670       \n",
      "    147.3366870000           0.04393162       \n",
      "     72.0274889000           0.07330273       \n",
      "     36.0688738000           0.02616450       \n",
      "     17.9146370000          -0.13262793       \n",
      "      8.7852393500          -0.23853521       \n",
      "      4.2545960900           0.00392215       \n",
      "      1.8741602900           0.44941441       \n",
      "      0.7852681400           0.51310733       \n",
      "      0.2936902700           0.19445270       \n",
      "      0.1174761000           0.00156654       \n",
      "      0.0469904400           0.00477721       \n",
      "D   16   1.00\n",
      "   8592.0215100000          -0.00006157       \n",
      "   3587.6991100000          -0.00017722       \n",
      "   1543.1283500000          -0.00090889       \n",
      "    682.7511080000          -0.00378237       \n",
      "    310.8099220000          -0.01388142       \n",
      "    147.3366870000          -0.03653595       \n",
      "     72.0274889000          -0.05979092       \n",
      "     36.0688738000          -0.02026420       \n",
      "     17.9146370000           0.12063284       \n",
      "      8.7852393500           0.19186061       \n",
      "      4.2545960900          -0.03164308       \n",
      "      1.8741602900          -0.56319016       \n",
      "      0.7852681400          -0.04967208       \n",
      "      0.2936902700           0.64110765       \n",
      "      0.1174761000           0.33303599       \n",
      "      0.0469904400           0.10088583       \n",
      "D   16   1.00\n",
      "   8592.0215100000           0.00008155       \n",
      "   3587.6991100000           0.00022534       \n",
      "   1543.1283500000           0.00120547       \n",
      "    682.7511080000           0.00487620       \n",
      "    310.8099220000           0.01833340       \n",
      "    147.3366870000           0.04734596       \n",
      "     72.0274889000           0.07871048       \n",
      "     36.0688738000           0.01904425       \n",
      "     17.9146370000          -0.16372465       \n",
      "      8.7852393500          -0.25227517       \n",
      "      4.2545960900           0.12925800       \n",
      "      1.8741602900           0.86052389       \n",
      "      0.7852681400          -0.78383333       \n",
      "      0.2936902700          -0.38240806       \n",
      "      0.1174761000           0.67051385       \n",
      "      0.0469904400           0.30820885       \n",
      "D   16   1.00\n",
      "   8592.0215100000          -0.00009776       \n",
      "   3587.6991100000          -0.00019085       \n",
      "   1543.1283500000          -0.00145334       \n",
      "    682.7511080000          -0.00468631       \n",
      "    310.8099220000          -0.02115970       \n",
      "    147.3366870000          -0.04645824       \n",
      "     72.0274889000          -0.09423954       \n",
      "     36.0688738000           0.01241114       \n",
      "     17.9146370000           0.13452173       \n",
      "      8.7852393500           0.36934392       \n",
      "      4.2545960900          -0.47543457       \n",
      "      1.8741602900          -0.56571165       \n",
      "      0.7852681400           1.32683895       \n",
      "      0.2936902700          -0.99500931       \n",
      "      0.1174761000          -0.16175655       \n",
      "      0.0469904400           0.83819548       \n",
      "D   16   1.00\n",
      "   8592.0215100000           0.00016416       \n",
      "   3587.6991100000           0.00015103       \n",
      "   1543.1283500000           0.00245645       \n",
      "    682.7511080000           0.00539370       \n",
      "    310.8099220000           0.03374376       \n",
      "    147.3366870000           0.05592039       \n",
      "     72.0274889000           0.15774639       \n",
      "     36.0688738000          -0.09476608       \n",
      "     17.9146370000          -0.08165368       \n",
      "      8.7852393500          -0.76854968       \n",
      "      4.2545960900           1.53504936       \n",
      "      1.8741602900          -0.87468434       \n",
      "      0.7852681400          -0.34588624       \n",
      "      0.2936902700           1.36821260       \n",
      "      0.1174761000          -1.80719077       \n",
      "      0.0469904400           1.15478534       \n",
      "D   16   1.00\n",
      "   8592.0215100000          -0.00021431       \n",
      "   3587.6991100000          -0.00037292       \n",
      "   1543.1283500000          -0.00319545       \n",
      "    682.7511080000          -0.00967433       \n",
      "    310.8099220000          -0.04644752       \n",
      "    147.3366870000          -0.09833276       \n",
      "     72.0274889000          -0.19594038       \n",
      "     36.0688738000           0.09881067       \n",
      "     17.9146370000           0.34003600       \n",
      "      8.7852393500           0.65955740       \n",
      "      4.2545960900          -2.30247320       \n",
      "      1.8741602900           2.79987080       \n",
      "      0.7852681400          -2.36426838       \n",
      "      0.2936902700           1.88760966       \n",
      "      0.1174761000          -1.45289902       \n",
      "      0.0469904400           0.68782951       \n",
      "D   16   1.00\n",
      "   8592.0215100000           0.00019144       \n",
      "   3587.6991100000           0.00223402       \n",
      "   1543.1283500000           0.00274160       \n",
      "    682.7511080000           0.03691242       \n",
      "    310.8099220000           0.06816253       \n",
      "    147.3366870000           0.35939093       \n",
      "     72.0274889000           0.04880081       \n",
      "     36.0688738000           0.23806900       \n",
      "     17.9146370000          -2.53082321       \n",
      "      8.7852393500           4.18976305       \n",
      "      4.2545960900          -3.56337325       \n",
      "      1.8741602900           2.09732840       \n",
      "      0.7852681400          -1.09652241       \n",
      "      0.2936902700           0.59623215       \n",
      "      0.1174761000          -0.35308047       \n",
      "      0.0469904400           0.13990530       \n",
      "F   12   1.00\n",
      "    563.3720440000           0.00131126       \n",
      "    263.9091290000           0.00493631       \n",
      "    127.7845750000           0.02554367       \n",
      "     61.9403223000           0.08393917       \n",
      "     31.2051312000           0.20408090       \n",
      "     15.5810598000           0.34168780       \n",
      "      7.6522069100           0.36301359       \n",
      "      3.6955296800           0.22994208       \n",
      "      1.6340977500           0.06754503       \n",
      "      0.6536391000           0.00273639       \n",
      "      0.2614556400           0.00084678       \n",
      "      0.1045822600          -0.00028569       \n",
      "F   12   1.00\n",
      "    563.3720440000          -0.00043796       \n",
      "    263.9091290000          -0.00170130       \n",
      "    127.7845750000          -0.00860004       \n",
      "     61.9403223000          -0.02865201       \n",
      "     31.2051312000          -0.07029351       \n",
      "     15.5810598000          -0.12287210       \n",
      "      7.6522069100          -0.11915906       \n",
      "      3.6955296800           0.02548930       \n",
      "      1.6340977500           0.52813717       \n",
      "      0.6536391000           0.50927823       \n",
      "      0.2614556400           0.08068653       \n",
      "      0.1045822600           0.01304026       \n",
      "F   12   1.00\n",
      "    563.3720440000           0.00041596       \n",
      "    263.9091290000           0.00102735       \n",
      "    127.7845750000           0.00771206       \n",
      "     61.9403223000           0.01968406       \n",
      "     31.2051312000           0.06444361       \n",
      "     15.5810598000           0.09950158       \n",
      "      7.6522069100           0.14425435       \n",
      "      3.6955296800          -0.13201259       \n",
      "      1.6340977500          -0.65245102       \n",
      "      0.6536391000           0.33257095       \n",
      "      0.2614556400           0.60860181       \n",
      "      0.1045822600           0.16839369       \n",
      "F   12   1.00\n",
      "    563.3720440000          -0.00064370       \n",
      "    263.9091290000           0.00012595       \n",
      "    127.7845750000          -0.01052757       \n",
      "     61.9403223000          -0.00914982       \n",
      "     31.2051312000          -0.08808362       \n",
      "     15.5810598000          -0.07172325       \n",
      "      7.6522069100          -0.27378815       \n",
      "      3.6955296800           0.45330561       \n",
      "      1.6340977500           0.48741165       \n",
      "      0.6536391000          -1.06897046       \n",
      "      0.2614556400           0.46841644       \n",
      "      0.1045822600           0.53595013       \n",
      "F   12   1.00\n",
      "    563.3720440000           0.00107999       \n",
      "    263.9091290000          -0.00248010       \n",
      "    127.7845750000           0.01562202       \n",
      "     61.9403223000          -0.01225833       \n",
      "     31.2051312000           0.13521718       \n",
      "     15.5810598000           0.01525273       \n",
      "      7.6522069100           0.52932104       \n",
      "      3.6955296800          -1.24852569       \n",
      "      1.6340977500           0.72126997       \n",
      "      0.6536391000           0.32886945       \n",
      "      0.2614556400          -1.12215360       \n",
      "      0.1045822600           1.04134674       \n",
      "F   12   1.00\n",
      "    563.3720440000          -0.00044517       \n",
      "    263.9091290000           0.00090369       \n",
      "    127.7845750000          -0.00566776       \n",
      "     61.9403223000           0.00269986       \n",
      "     31.2051312000          -0.09887286       \n",
      "     15.5810598000          -0.19282906       \n",
      "      7.6522069100          -0.39553003       \n",
      "      3.6955296800           1.66952246       \n",
      "      1.6340977500          -1.97906349       \n",
      "      0.6536391000           1.72205442       \n",
      "      0.2614556400          -1.39848633       \n",
      "      0.1045822600           0.77580848       \n",
      "F   12   1.00\n",
      "    563.3720440000           0.00749111       \n",
      "    263.9091290000          -0.01892966       \n",
      "    127.7845750000           0.11871245       \n",
      "     61.9403223000          -0.14336707       \n",
      "     31.2051312000           0.39253405       \n",
      "     15.5810598000          -2.15384332       \n",
      "      7.6522069100           3.36476752       \n",
      "      3.6955296800          -2.52897784       \n",
      "      1.6340977500           1.30796058       \n",
      "      0.6536391000          -0.66236049       \n",
      "      0.2614556400           0.35904651       \n",
      "      0.1045822600          -0.14861391       \n",
      "F   12   1.00\n",
      "    563.3720440000          -0.01637577       \n",
      "    263.9091290000          -0.09012404       \n",
      "    127.7845750000          -0.35839710       \n",
      "     61.9403223000          -0.42421978       \n",
      "     31.2051312000          -0.60545211       \n",
      "     15.5810598000           1.30440184       \n",
      "      7.6522069100          -0.69365310       \n",
      "      3.6955296800           0.28479409       \n",
      "      1.6340977500          -0.12809445       \n",
      "      0.6536391000           0.05311910       \n",
      "      0.2614556400          -0.02536956       \n",
      "      0.1045822600           0.01002609       \n",
      "G   4   1.00\n",
      "      1.5367950000           0.73375702       \n",
      "      0.6147180000           0.34637236       \n",
      "      0.2458870000           0.07732871       \n",
      "      0.0983550000          -0.00309530       \n",
      "G   4   1.00\n",
      "      1.5367950000          -0.84479582       \n",
      "      0.6147180000           0.81472166       \n",
      "      0.2458870000           0.35489829       \n",
      "      0.0983550000           0.04881040       \n",
      "G   4   1.00\n",
      "      1.5367950000           0.61247340       \n",
      "      0.6147180000          -1.24461062       \n",
      "      0.2458870000           1.14949094       \n",
      "      0.0983550000           0.07540884       \n",
      "G   4   1.00\n",
      "      1.5367950000          -0.18999482       \n",
      "      0.6147180000           0.56267459       \n",
      "      0.2458870000          -1.09368521       \n",
      "      0.0983550000           1.28655632       \n",
      "****\n",
      "\n",
      "\n"
     ]
    },
    {
     "data": {
      "text/plain": [
       "<qctoolkit.QM.general_io.InpContent at 0x2b6c4ee44e90>"
      ]
     },
     "execution_count": 4,
     "metadata": {},
     "output_type": "execute_result"
    }
   ],
   "source": [
    "inp.write()"
   ]
  },
  {
   "cell_type": "code",
   "execution_count": 5,
   "metadata": {},
   "outputs": [
    {
     "data": {
      "text/plain": [
       "82.0"
      ]
     },
     "execution_count": 5,
     "metadata": {},
     "output_type": "execute_result"
    }
   ],
   "source": [
    "qtk.n2Z('Pb')"
   ]
  },
  {
   "cell_type": "code",
   "execution_count": 85,
   "metadata": {},
   "outputs": [
    {
     "data": {
      "text/plain": [
       "3.0"
      ]
     },
     "execution_count": 85,
     "metadata": {},
     "output_type": "execute_result"
    }
   ],
   "source": [
    "np.round(3.2)"
   ]
  }
 ],
 "metadata": {
  "kernelspec": {
   "display_name": "Python 2",
   "language": "python",
   "name": "python2"
  },
  "language_info": {
   "codemirror_mode": {
    "name": "ipython",
    "version": 2
   },
   "file_extension": ".py",
   "mimetype": "text/x-python",
   "name": "python",
   "nbconvert_exporter": "python",
   "pygments_lexer": "ipython2",
   "version": "2.7.14"
  }
 },
 "nbformat": 4,
 "nbformat_minor": 2
}
