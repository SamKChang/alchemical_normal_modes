{
 "cells": [
  {
   "cell_type": "code",
   "execution_count": 1,
   "metadata": {},
   "outputs": [
    {
     "name": "stdout",
     "output_type": "stream",
     "text": [
      "\u001b[93mmissing file: mov2asc\u001b[0m\n",
      "\u001b[93mplease modify /path/to/qctoolkit/setting.py and recompile.\u001b[0m\n"
     ]
    },
    {
     "name": "stderr",
     "output_type": "stream",
     "text": [
      "/home/samio/local/miniconda2/lib/python2.7/site-packages/h5py/__init__.py:36: FutureWarning: Conversion of the second argument of issubdtype from `float` to `np.floating` is deprecated. In future, it will be treated as `np.float64 == np.dtype(float).type`.\n",
      "  from ._conv import register_converters as _register_converters\n"
     ]
    }
   ],
   "source": [
    "import qctoolkit as qtk\n",
    "from matplotlib import pyplot as plt\n",
    "import matplotlib as mpl\n",
    "import numpy as np\n",
    "from copy import deepcopy\n",
    "import horton as ht\n",
    "from mpl_toolkits.mplot3d import Axes3D\n",
    "from scipy.interpolate import UnivariateSpline\n",
    "from glob import glob\n",
    "import os\n",
    "from scipy.interpolate import spline\n",
    "from scipy.interpolate import interp2d\n",
    "\n",
    "#Note inline and notebook is contradicting to each other\n",
    "%matplotlib inline"
   ]
  },
  {
   "cell_type": "code",
   "execution_count": null,
   "metadata": {
    "collapsed": true
   },
   "outputs": [],
   "source": [
    "%%capture\n",
    "from analysis_plots import get_zz_coord"
   ]
  },
  {
   "cell_type": "code",
   "execution_count": 9,
   "metadata": {
    "collapsed": true
   },
   "outputs": [],
   "source": [
    "data_pbe_HAl = np.load('gaussian_N2_pbe_H-Al.npz')\n",
    "En = data_pbe_HAl['E_neutral']\n",
    "Xn = data_pbe_HAl['X_neutral']\n",
    "dx = data_pbe_HAl['dx']\n",
    "g_list, h_list = data_pbe_HAl['g_list'][:,:2], data_pbe_HAl['h_list'][:,:2,:2]"
   ]
  },
  {
   "cell_type": "code",
   "execution_count": 15,
   "metadata": {},
   "outputs": [
    {
     "name": "stdout",
     "output_type": "stream",
     "text": [
      "[ 0.70710678 -0.70710678] [0.70710678 0.70710678]\n",
      "[-0.44225225  0.89689071] [-0.89689071 -0.44225225]\n",
      "[-0.30590564  0.95206184] [-0.95206184 -0.30590564]\n",
      "[-0.22475245  0.9744159 ] [-0.9744159  -0.22475245]\n",
      "[-0.89033775  0.45530066] [-0.45530066 -0.89033775]\n",
      "[-0.92631367  0.37675321] [-0.37675321 -0.92631367]\n",
      "[-0.82103319  0.57088046] [-0.57088046 -0.82103319]\n"
     ]
    }
   ],
   "source": [
    "for h in h_list:\n",
    "    w, v = np.linalg.eigh(h)\n",
    "    print v[:,0], v[:,1]"
   ]
  },
  {
   "cell_type": "code",
   "execution_count": 16,
   "metadata": {},
   "outputs": [
    {
     "ename": "NameError",
     "evalue": "name 'Xn_meshes' is not defined",
     "output_type": "error",
     "traceback": [
      "\u001b[0;31m---------------------------------------------------------------------------\u001b[0m",
      "\u001b[0;31mNameError\u001b[0m                                 Traceback (most recent call last)",
      "\u001b[0;32m<ipython-input-16-6090695c8aea>\u001b[0m in \u001b[0;36m<module>\u001b[0;34m()\u001b[0m\n\u001b[1;32m      6\u001b[0m     \u001b[0;32melse\u001b[0m\u001b[0;34m:\u001b[0m\u001b[0;34m\u001b[0m\u001b[0m\n\u001b[1;32m      7\u001b[0m         \u001b[0;32mreturn\u001b[0m \u001b[0mnp\u001b[0m\u001b[0;34m.\u001b[0m\u001b[0mhstack\u001b[0m\u001b[0;34m(\u001b[0m\u001b[0;34m[\u001b[0m\u001b[0mZ_coord\u001b[0m\u001b[0;34m,\u001b[0m \u001b[0;34m(\u001b[0m\u001b[0mnp\u001b[0m\u001b[0;34m.\u001b[0m\u001b[0mones\u001b[0m\u001b[0;34m(\u001b[0m\u001b[0mlen\u001b[0m\u001b[0;34m(\u001b[0m\u001b[0mZ_coord\u001b[0m\u001b[0;34m)\u001b[0m\u001b[0;34m)\u001b[0m \u001b[0;34m*\u001b[0m \u001b[0mdR\u001b[0m\u001b[0;34m)\u001b[0m\u001b[0;34m[\u001b[0m\u001b[0;34m:\u001b[0m\u001b[0;34m,\u001b[0m\u001b[0mnp\u001b[0m\u001b[0;34m.\u001b[0m\u001b[0mnewaxis\u001b[0m\u001b[0;34m]\u001b[0m\u001b[0;34m]\u001b[0m\u001b[0;34m)\u001b[0m\u001b[0;34m\u001b[0m\u001b[0m\n\u001b[0;32m----> 8\u001b[0;31m \u001b[0mget_zz_coord\u001b[0m\u001b[0;34m(\u001b[0m\u001b[0mXn_meshes\u001b[0m\u001b[0;34m,\u001b[0m \u001b[0;36m0\u001b[0m\u001b[0;34m)\u001b[0m\u001b[0;34m\u001b[0m\u001b[0m\n\u001b[0m",
      "\u001b[0;31mNameError\u001b[0m: name 'Xn_meshes' is not defined"
     ]
    }
   ],
   "source": [
    "def get_zz_coord(X_meshes, dz=0, dR=None):\n",
    "    dZ = X_meshes[1][0,:,0] - (7-dz)\n",
    "    Z_coord = np.asarray(zip(dZ, (dZ-2*dz)[::-1]))\n",
    "    if dR is None:\n",
    "        return Z_coord\n",
    "    else:\n",
    "        return np.hstack([Z_coord, (np.ones(len(Z_coord)) * dR)[:,np.newaxis]])\n",
    "get_zz_coord(Xn_meshes, 0)"
   ]
  },
  {
   "cell_type": "code",
   "execution_count": null,
   "metadata": {
    "collapsed": true
   },
   "outputs": [],
   "source": []
  }
 ],
 "metadata": {
  "kernelspec": {
   "display_name": "Python 2",
   "language": "python",
   "name": "python2"
  },
  "language_info": {
   "codemirror_mode": {
    "name": "ipython",
    "version": 2
   },
   "file_extension": ".py",
   "mimetype": "text/x-python",
   "name": "python",
   "nbconvert_exporter": "python",
   "pygments_lexer": "ipython2",
   "version": "2.7.13"
  }
 },
 "nbformat": 4,
 "nbformat_minor": 2
}
