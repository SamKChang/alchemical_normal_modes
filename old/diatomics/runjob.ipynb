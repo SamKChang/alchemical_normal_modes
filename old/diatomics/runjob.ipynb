{
 "cells": [
  {
   "cell_type": "code",
   "execution_count": 25,
   "metadata": {
    "collapsed": false
   },
   "outputs": [
    {
     "name": "stdout",
     "output_type": "stream",
     "text": [
      "N2-d2.480: nwchem\n",
      "N2-d2.790: nwchem\n",
      "N2-d3.100: nwchem\n",
      "N2-d3.410: nwchem\n",
      "N2-d3.720: nwchem\n",
      "N2-d4.030: nwchem\n",
      "N2-d4.340: nwchem\n",
      "N2-d4.650: nwchem\n",
      "N2-d4.960: nwchem\n",
      "N2-d5.270: nwchem\n",
      "N2-d5.580: nwchem\n",
      "N2-d5.890: nwchem\n",
      "N2-d6.200: nwchem\n",
      "CO-d2.576: nwchem\n",
      "CO-d2.898: nwchem\n",
      "CO-d3.220: nwchem\n",
      "CO-d3.542: nwchem\n",
      "CO-d3.864: nwchem\n",
      "CO-d4.186: nwchem\n",
      "CO-d4.508: nwchem\n",
      "CO-d4.830: nwchem\n",
      "CO-d5.152: nwchem\n",
      "CO-d5.474: nwchem\n",
      "CO-d5.796: nwchem\n",
      "CO-d6.118: nwchem\n",
      "CO-d6.440: nwchem\n",
      "BF-d1.176: nwchem\n",
      "BF-d1.323: nwchem\n",
      "BF-d1.470: nwchem\n",
      "BF-d1.617: nwchem\n",
      "BF-d1.764: nwchem\n",
      "BF-d1.911: nwchem\n",
      "BF-d2.058: nwchem\n",
      "BF-d2.205: nwchem\n",
      "BF-d2.352: nwchem\n",
      "BF-d2.499: nwchem\n",
      "BF-d2.646: nwchem\n",
      "BF-d2.793: nwchem\n",
      "BF-d2.940: nwchem\n",
      "NeBe-d1.232: nwchem\n",
      "NeBe-d1.386: nwchem\n",
      "NeBe-d1.540: nwchem\n",
      "NeBe-d1.694: nwchem\n",
      "NeBe-d1.848: nwchem\n",
      "NeBe-d2.002: nwchem\n",
      "NeBe-d2.156: nwchem\n",
      "NeBe-d2.310: nwchem\n",
      "NeBe-d2.464: nwchem\n",
      "NeBe-d2.618: nwchem\n",
      "NeBe-d2.772: nwchem\n",
      "NeBe-d2.926: nwchem\n",
      "NeBe-d3.080: nwchem\n",
      "NaLi-d3.272: nwchem\n",
      "NaLi-d3.681: nwchem\n",
      "NaLi-d4.090: nwchem\n",
      "NaLi-d4.499: nwchem\n",
      "NaLi-d4.908: nwchem\n",
      "NaLi-d5.317: nwchem\n",
      "NaLi-d5.726: nwchem\n",
      "NaLi-d6.135: nwchem\n",
      "NaLi-d6.544: nwchem\n",
      "NaLi-d6.953: nwchem\n",
      "NaLi-d7.362: nwchem\n",
      "NaLi-d7.771: nwchem\n",
      "NaLi-d8.180: nwchem\n",
      "HeMg-d2.504: nwchem\n",
      "HeMg-d2.817: nwchem\n",
      "HeMg-d3.130: nwchem\n",
      "HeMg-d3.443: nwchem\n",
      "HeMg-d3.756: nwchem\n",
      "HeMg-d4.069: nwchem\n",
      "HeMg-d4.382: nwchem\n",
      "HeMg-d4.695: nwchem\n",
      "HeMg-d5.008: nwchem\n",
      "HeMg-d5.321: nwchem\n",
      "HeMg-d5.634: nwchem\n",
      "HeMg-d5.947: nwchem\n",
      "HeMg-d6.260: nwchem\n",
      "AlH-d0.960: nwchem\n",
      "AlH-d1.080: nwchem\n",
      "AlH-d1.200: nwchem\n",
      "AlH-d1.320: nwchem\n",
      "AlH-d1.440: nwchem\n",
      "AlH-d1.560: nwchem\n",
      "AlH-d1.680: nwchem\n",
      "AlH-d1.800: nwchem\n",
      "AlH-d1.920: nwchem\n",
      "AlH-d2.040: nwchem\n",
      "AlH-d2.160: nwchem\n",
      "AlH-d2.280: nwchem\n",
      "AlH-d2.400: nwchem\n",
      "Si-d0.000: nwchem\n"
     ]
    }
   ],
   "source": [
    "import qctoolkit as qtk\n",
    "import numpy as np\n",
    "\n",
    "qmsetting = {\n",
    "    'program': 'nwchem',\n",
    "    'basis_set': 'def2-tzvp',\n",
    "    'theory': 'pbe0',\n",
    "}\n",
    "\n",
    "Z1 = range(7, 15)\n",
    "Z2 = range(8)\n",
    "Z2.reverse()\n",
    "\n",
    "A1 = [qtk.element[z] for z in Z1]\n",
    "A2 = [qtk.element[z] for z in Z2]\n",
    "\n",
    "d_list = []\n",
    "n_list = []\n",
    "for i in range(len(A1)):\n",
    "    a = A1[i]\n",
    "    b = A2[i]\n",
    "    if a.eleaffin < b.eleaffin:\n",
    "        name = a.symbol + b.symbol\n",
    "    elif b.eleaffin < a.eleaffin:\n",
    "        name = b.symbol + a.symbol\n",
    "    else:\n",
    "        if b.eleneg < a.eleneg:\n",
    "            name = b.symbol + a.symbol\n",
    "        elif a.eleneg < b.eleneg:\n",
    "            name = a.symbol + b.symbol\n",
    "        else:\n",
    "            name = a.symbol + str(2)\n",
    "    n_list.append(name)\n",
    "    d_list.append(a.vdwrad + b.vdwrad)\n",
    "\n",
    "inps = []\n",
    "for i in range(len(n_list)):\n",
    "    name_root = n_list[i]\n",
    "    if A2[i].number > 0:\n",
    "        for d in np.linspace(0.8, 2, 13):\n",
    "            l = d_list[i]*d\n",
    "        \n",
    "            R = [[0, 0, 0], [l, 0, 0]]\n",
    "            Z = [a.number for a in [A1[i], A2[i]]]\n",
    "            mol = qtk.Molecule()\n",
    "            mol.name = name_root + '-d%5.3f' % l\n",
    "            mol.addAtoms(Z, R)\n",
    "            inps.append(qtk.QMInp(mol, **qmsetting))\n",
    "    else:\n",
    "        R = [0,0,0]\n",
    "        Z = A1[i].number\n",
    "        mol = qtk.Molecule()\n",
    "        mol.name = name_root + '-d%5.3f' % 0\n",
    "        mol.addAtoms(Z, R)\n",
    "        inps.append(qtk.QMInp(mol, **qmsetting))\n",
    "        \n",
    "\n",
    "for inp in inps:\n",
    "    print inp\n",
    "    "
   ]
  },
  {
   "cell_type": "code",
   "execution_count": 3,
   "metadata": {
    "collapsed": false
   },
   "outputs": [
    {
     "data": {
      "text/plain": [
       "0.0"
      ]
     },
     "execution_count": 3,
     "metadata": {},
     "output_type": "execute_result"
    }
   ],
   "source": [
    "qtk.element[0].vdwrad"
   ]
  },
  {
   "cell_type": "code",
   "execution_count": 12,
   "metadata": {
    "collapsed": false
   },
   "outputs": [
    {
     "data": {
      "text/plain": [
       "7"
      ]
     },
     "execution_count": 12,
     "metadata": {},
     "output_type": "execute_result"
    }
   ],
   "source": [
    "A1[0].number"
   ]
  },
  {
   "cell_type": "code",
   "execution_count": null,
   "metadata": {
    "collapsed": true
   },
   "outputs": [],
   "source": []
  }
 ],
 "metadata": {
  "kernelspec": {
   "display_name": "Python 2",
   "language": "python",
   "name": "python2"
  },
  "language_info": {
   "codemirror_mode": {
    "name": "ipython",
    "version": 2
   },
   "file_extension": ".py",
   "mimetype": "text/x-python",
   "name": "python",
   "nbconvert_exporter": "python",
   "pygments_lexer": "ipython2",
   "version": "2.7.6"
  }
 },
 "nbformat": 4,
 "nbformat_minor": 0
}
